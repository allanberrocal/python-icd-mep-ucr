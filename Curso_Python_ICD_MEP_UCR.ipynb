{
  "cells": [
    {
      "cell_type": "markdown",
      "metadata": {
        "id": "dReFpuEVPgsv"
      },
      "source": [
        "# Parte 1 - Presentación"
      ]
    },
    {
      "cell_type": "markdown",
      "metadata": {
        "id": "-LCh-xlXPgsz"
      },
      "source": [
        "\n",
        "<img src=\"https://drive.google.com/uc?export=view&id=1k09KTfBxbdFVjI53XLJAzFMxc9wJ59Eo\" alt=\"Intro\" style=\"height: 100px; width:100px;\"/>\n"
      ]
    },
    {
      "cell_type": "markdown",
      "metadata": {
        "id": "5M7bWoJwPgs0"
      },
      "source": [
        "\n",
        "# Descripción\n",
        "\n",
        "### Motivación\n",
        "\n",
        "Este es un curso introductorio para el lenguaje de programación Python creado como parte del proyecto de __Acción Social ED-3582__ de la __Escuela de Ciencias de la Computación e Informática__ de la __Universidad de Costa Rica__. En este proyecto colaboran Instituto Costarricense sobre Drogas (ICD) y el Ministerio de Educaicón Pública (MEP).\n",
        "\n",
        "\n",
        "Este es un curso introductorio para el lenguaje de programación `Python`. Para participar en este curso, no es necesario tener conocimiento previo en ningún lenguaje de programación.\n",
        "\n",
        "El curso se llevará a cabo mediante varias sesiones virtuales sincrónicas. En cada sesión se presentarán diversos temas sobre el lenguaje de programación `Python`. El curso es 100% práctico y se espera que todas las personas estudiantes realicen las actividades que están preparadas para cada sesión. Es necesario tener una computadora con acceso a internet para sacar el máximo provecho al curso.\n",
        "\n",
        "### Docentes del curso:\n",
        "\n",
        "- Dra. Kryscia Ramírez Benavides\n",
        "- Dr. Luis Quesada Quirós\n",
        "- M.Sc. Maureen Murillo Rivera\n",
        "- Dr. Allan Berrocal Rojas\n",
        "\n",
        "### Créditos\n",
        "\n",
        "Esta presentación utiliza algunos materiales disponibles en internet que fueron desarrollados por las siguientes personas. Se hace mención en general a los siguientes cursos:\n",
        "- [Curso básico de Python - Sergio Paredes](https://github.com/sergioparedesv/curso-basico-python)\n",
        "- [Python para principiantes - Lorena Ceballos](https://github.com/LceballosE/Python-para-Principiantes)\n",
        "- [Introducción a Python - Insituto Humai, Argentina](https://github.com/institutohumai/cursos-python/tree/master/Introduccion)\n",
        "\n",
        "\n",
        "### Otros recursos de consulta\n",
        "\n",
        "- [Python para principiantes](https://uniwebsidad.com/libros/python)\n",
        "- [Algoritmos de Programación con Python](https://uniwebsidad.com/libros/algoritmos-python)\n",
        "---"
      ]
    },
    {
      "cell_type": "markdown",
      "metadata": {
        "id": "icvURzHDPgs1"
      },
      "source": [
        "## Agenda\n",
        "\n",
        "__Bloque 1__\n",
        "\n",
        "1. Preparación del entorno de desarrollo\n",
        "1. Introducción al lenguaje de programación\n",
        "1. Variables y tipos de datos\n",
        "\n",
        "__Bloque 2__\n",
        "1. Estructuras de datos: Listas\n",
        "1. Estructuras de control: condicionales y ciclos\n",
        "1. Operaciones aritméticas y lógicas\n",
        "\n",
        "__Bloque 3__\n",
        "1. Procesamiento de cadenas de texto\n",
        "1. Entradas y salidas\n",
        "1. Funciones\n",
        "\n",
        "__Bloque 4__\n",
        "1. Depuración y manejos de errores\n",
        "1. Uso de bibliotecas\n",
        "\n",
        "__Bloque 5__\n",
        "1. Ejercicios prácticos\n",
        "1. Resolución de problemas\n",
        "1. Asignación de retos finales\n",
        "\n",
        "__Bloque 6__\n",
        "1. Presentación de resultados\n",
        "1. Cierre del curso\n",
        "\n",
        "---\n"
      ]
    },
    {
      "cell_type": "markdown",
      "metadata": {
        "id": "pQoQC87APgs1"
      },
      "source": [
        "# Parte 2 - El lenguaje de programación\n",
        "---"
      ]
    },
    {
      "cell_type": "markdown",
      "metadata": {
        "id": "1oSm3JTEPgs1"
      },
      "source": [
        "## Introducción"
      ]
    },
    {
      "cell_type": "markdown",
      "metadata": {
        "id": "7iCcHvOlPgs2"
      },
      "source": [
        "Para conocer un poco de la historia de `Python` puede consultar [esta página](https://es.wikipedia.org/wiki/Historia_de_Python). La creación del lenguaje de le atribuye a [Guido van Rossum](https://es.wikipedia.org/wiki/Guido_van_Rossum) un informático Holandés.\n",
        "\n",
        "Algunas características de `Python`\n",
        "- Es un lenguaje de programación interpretado. Es decir el código de un programa escrito en `Python` no es compilado sino que es leído o interpretado por otro programa (intérprete de `Python`) que se encarga de producir las instrucciones de más bajo nivel que debe realizar el computador.\n",
        "- Es dinámicamente tipado. Es decir, las variables pueden tomar valores de distintos tipos.\n",
        "- Como lenguaje pasó por la versión 1.x, 2.x, y actualmente se encuentra en la versión 3.10.x.\n",
        "- Es uno de los lenguajes de programación más utilizados en la actualidad para diversas aplicaciones.\n",
        "\n",
        "Se puede encontrar más información sobre el lenguaje en su página oficial [python.org](https://www.python.org/).\n",
        "\n",
        "Para propósitos de aprendizaje, puede utilizar este intérprete de `Python` que se encuentra el línea [Programiz.com](https://www.programiz.com/python-programming/online-compiler/)"
      ]
    },
    {
      "cell_type": "markdown",
      "metadata": {
        "id": "9LnLhPbmPgs2"
      },
      "source": [
        "## Reglas de Python\n",
        "- Evitar espacios blancos extras\n",
        "- Comentarios en una línea (#Comentario de una línea)\n",
        "- Comentarios en múltiples líneas  (\"\"\"Comentario multilínea líneas\"\"\")\n",
        "- Identación: La identación es un término que hace referencia en darle jerarquía al código."
      ]
    },
    {
      "cell_type": "markdown",
      "metadata": {
        "id": "hy7B1qIRPgs2"
      },
      "source": [
        "## Primer programa\n",
        "\n",
        "En la celda de abajo escriba lo siguiente:\n",
        "\n",
        "``print(\"Hola mundo\")``\n",
        "\n",
        "Luego dar clic en el ícono para ejecutar la celda."
      ]
    },
    {
      "cell_type": "code",
      "execution_count": null,
      "metadata": {
        "id": "RNilwMzaPgs3"
      },
      "outputs": [],
      "source": [
        "print(\"Hola Mundo\")"
      ]
    },
    {
      "cell_type": "code",
      "execution_count": null,
      "metadata": {
        "id": "-Ra1vRLpPgs5"
      },
      "outputs": [],
      "source": [
        "a = 5\n",
        "b = 4\n",
        "resultado = a+b\n",
        "print(resultado)"
      ]
    },
    {
      "cell_type": "markdown",
      "metadata": {
        "id": "Y1gnyjZNPgs5"
      },
      "source": [
        "<div class=\"alert alert-success\" role=\"alert\">\n",
        "  Perfecto, es hora de saludar a alguien, en mi caso a <b>Ana</b>\n",
        "</div>"
      ]
    },
    {
      "cell_type": "code",
      "execution_count": null,
      "metadata": {
        "id": "XD83RSK0Pgs5"
      },
      "outputs": [],
      "source": []
    },
    {
      "cell_type": "markdown",
      "metadata": {
        "id": "dpET680LPgs6"
      },
      "source": [
        "## Ejemplo"
      ]
    },
    {
      "cell_type": "code",
      "execution_count": null,
      "metadata": {
        "id": "JCEi098dPgs6"
      },
      "outputs": [],
      "source": [
        "print(\"Hola Ana\") # Perfecto, da clic en Run y observa lo que ocurre."
      ]
    },
    {
      "cell_type": "markdown",
      "metadata": {
        "id": "ZyVehXqDPgs6"
      },
      "source": [
        "¿Por qué el contenido del (#Perfecto, haz clic en Run y observa lo que ocurre.) no aparece en la salida?\n",
        "\n",
        "Naturalmente los comentarios son solo para los programadores, los usuarios finales no pueden verlos."
      ]
    },
    {
      "cell_type": "code",
      "execution_count": null,
      "metadata": {
        "id": "j1w02_AwPgs6"
      },
      "outputs": [],
      "source": [
        "print(\"Hola Alberto\")\n",
        "'''Pero este sí?, realmente no aparece para el usuario final, solo para el programador'''"
      ]
    },
    {
      "cell_type": "markdown",
      "metadata": {
        "id": "Aacyc4ljPgs6"
      },
      "source": [
        "<div  id=\"d\" class=\"jumbotron jumbotron-fluid\">\n",
        "  <div class=\"container\">\n",
        "    <h5 class=\"display-4\">Operaciones aritméticas básicas</h5>\n",
        "      <p class=\"lead\">En las celdas de abajo, escriba en cada una operaciones que corresponde, luego presione<b> (shift+enter)</b> para ejecutar el script, o bien haga clic en el botón de ejecutar la celda.</p>\n",
        "  </div>\n",
        "</div>"
      ]
    },
    {
      "cell_type": "markdown",
      "metadata": {
        "id": "jhUngQurPgs6"
      },
      "source": [
        "<p class=\"lead\">1. Suma (2+2) </p>"
      ]
    },
    {
      "cell_type": "code",
      "execution_count": null,
      "metadata": {
        "id": "CRmwDBauPgs7"
      },
      "outputs": [],
      "source": [
        "a = 2\n",
        "b = 2\n",
        "resultado = a + b\n",
        "print(resultado)"
      ]
    },
    {
      "cell_type": "markdown",
      "metadata": {
        "id": "5CKpvBxCPgs7"
      },
      "source": [
        "<p class=\"lead\">2. Resta (2-2) </p>"
      ]
    },
    {
      "cell_type": "code",
      "execution_count": null,
      "metadata": {
        "id": "H9ftQ5MZPgs7"
      },
      "outputs": [],
      "source": [
        "a = 2\n",
        "b = 2\n",
        "resultado = a - b\n",
        "print(resultado)"
      ]
    },
    {
      "cell_type": "markdown",
      "metadata": {
        "id": "J2ksyDfmPgs7"
      },
      "source": [
        "<p class=\"lead\">3. Multiplicación (2*3) </p>"
      ]
    },
    {
      "cell_type": "code",
      "execution_count": null,
      "metadata": {
        "id": "tsW-w7G0Pgs7"
      },
      "outputs": [],
      "source": [
        "a = 2\n",
        "b = 3\n",
        "resultado = a * b\n",
        "print(resultado)"
      ]
    },
    {
      "cell_type": "markdown",
      "metadata": {
        "id": "558fFOg8Pgs8"
      },
      "source": [
        "<p class=\"lead\">4. Divisiones (2/2) </p>"
      ]
    },
    {
      "cell_type": "code",
      "execution_count": null,
      "metadata": {
        "id": "q0ktbfVpPgs8"
      },
      "outputs": [],
      "source": [
        "a = 2\n",
        "b = 2\n",
        "resultado = a / b\n",
        "print(resultado)"
      ]
    },
    {
      "cell_type": "markdown",
      "metadata": {
        "id": "A-C2AvhhPgs8"
      },
      "source": [
        "<p class=\"lead\">5. Potencia (2**3) </p>"
      ]
    },
    {
      "cell_type": "code",
      "execution_count": null,
      "metadata": {
        "id": "9nDSPdhJPgs8"
      },
      "outputs": [],
      "source": [
        "a = 2\n",
        "b = 3\n",
        "resultado = a ** b\n",
        "print(resultado)"
      ]
    },
    {
      "cell_type": "markdown",
      "metadata": {
        "id": "8U5yNx-6Pgs8"
      },
      "source": [
        "<p class=\"lead\">6. Raiz (4**(1/2)) </p>"
      ]
    },
    {
      "cell_type": "code",
      "execution_count": null,
      "metadata": {
        "id": "5wLUVCysPgs9"
      },
      "outputs": [],
      "source": [
        "a = 4\n",
        "b = 1/2\n",
        "resultado = a ** b\n",
        "print(resultado)"
      ]
    },
    {
      "cell_type": "markdown",
      "metadata": {
        "id": "-y4FBwMfPgs9"
      },
      "source": [
        "<p class=\"lead\">7. Operaciones: 2+5*3 </p>"
      ]
    },
    {
      "cell_type": "code",
      "execution_count": null,
      "metadata": {
        "id": "ufsdXFVhPgs9"
      },
      "outputs": [],
      "source": [
        "a = 2\n",
        "b = 5\n",
        "c = 3\n",
        "resultado = a + b *c\n",
        "print(resultado)"
      ]
    },
    {
      "cell_type": "markdown",
      "metadata": {
        "id": "cngXM-OhPgs9"
      },
      "source": [
        "<p class=\"lead\">8. Operaciones: 2+2**4 </p>"
      ]
    },
    {
      "cell_type": "code",
      "execution_count": null,
      "metadata": {
        "id": "TVYsaap3Pgs9"
      },
      "outputs": [],
      "source": [
        "a = 2\n",
        "b = 2\n",
        "c = 4\n",
        "resultado = a + b **c\n",
        "print(resultado)"
      ]
    },
    {
      "cell_type": "markdown",
      "metadata": {
        "id": "lXDtmM1JPgs9"
      },
      "source": [
        "Si nota que las operaciones dan resultados que no esperaba, no se preocupe. No es un error de Python.\n",
        "Se nos enseña a hacer operaciones de derecha a izquierda, pero en realidad las operaciones van de más complejas a menos\n",
        "complejas. Por eso resuelve primero las potencias o raíces, luego multiplicaciones y finalmente las sumas y restas."
      ]
    },
    {
      "cell_type": "markdown",
      "metadata": {
        "id": "gBTv73cLPgs-"
      },
      "source": [
        "# Parte 3 - Variables y tipos de datos\n",
        "---"
      ]
    },
    {
      "cell_type": "markdown",
      "metadata": {
        "id": "25EafR4kPgs-"
      },
      "source": [
        "## Definición\n",
        "\n",
        "En los lenguajes de programacón, una variable le permite hacer referencia a un valor con un nombre.\n",
        "Por ejemplo\n",
        "\n",
        "`x = 5`\n",
        "\n",
        "Ahora puede utilizar el nombre de la variable, `x` en lugar del valor real, `5`. Recuerde, el símbolo `=` en `Python` significa asignación, No prueba igualdad.\n"
      ]
    },
    {
      "cell_type": "markdown",
      "metadata": {
        "id": "I7qtfdxmPgs-"
      },
      "source": [
        "## ¿Por qué variables?\n",
        "\n",
        "Imagine un programa para calcular el IMC (índice de masa corporal) de una persona. Este indicador se calcula a partir de las variables altura y peso. Si desea calcular el IMC para varias personas, simplemente puede cambiar el valor de las variables peso y altura y volver a realizar el cálculo. El IMC cambia en consecuencia, porque el valor del peso variable también ha cambiado."
      ]
    },
    {
      "cell_type": "code",
      "execution_count": null,
      "metadata": {
        "id": "paOmmJyYPgs-"
      },
      "outputs": [],
      "source": [
        "altura = 180.5\n",
        "peso = 69.7\n",
        "\n",
        "imc = peso / altura *2\n",
        "\n",
        "print(imc)\n",
        "\n",
        "print(peso / altura *2)\n",
        "\n",
        "\n",
        "primerNombre = \"Allan\""
      ]
    },
    {
      "cell_type": "markdown",
      "metadata": {
        "id": "DTB2e0ZYPgtD"
      },
      "source": [
        "## Nombres de variables\n",
        "\n",
        "Se recomienda utilizar nombres descriptivos y en minúsculas. Para nombres compuestos, es usual separar las palabras por guiones bajos (por ejemplo, `primer_nombre`), o juntar palabras utilizando mayúsculas para la primera letra de la segunda palabra en adelante (por ejemplo, `primerNombre`).\n",
        "\n",
        "En `Python` los nombres de variables no pueden comenzar con números, ni con muchos símbolos especiales como `/&*()#!>` entre otros. El uso de guión bajo `_` sí es permitido.\n",
        "\n",
        "Antes y después del signo `=` debe haber un (1) solo un espacio en blanco. Por ejemplo:\n",
        "\n",
        "`primerNombre = Marta`\n",
        "\n",
        "Los lenguajes de programación tienen restricciones en cuanto al nombre que puede tener una variable. A esto se le conoce como palabras reservadas, es decir, son reservadas para el lenguaje. Si se utilizan como nombres de variables el programa genera un error. En `Python`, algunas de estas palabras son las siguientes:\n",
        "\n",
        "```\n",
        "and\n",
        "continue\n",
        "else\n",
        "for\n",
        "import\n",
        "not\n",
        "raise\n",
        "assert\n",
        "def\n",
        "except\n",
        "from\n",
        "in\n",
        "or\n",
        "return\n",
        "break\n",
        "del\n",
        "exec\n",
        "global\n",
        "is\n",
        "pass\n",
        "try\n",
        "class\n",
        "elif\n",
        "finally\n",
        "if\n",
        "lambda\n",
        "print\n",
        "```\n",
        "\n",
        "Intente utilizar una palabra reservada como nombre de una variable."
      ]
    },
    {
      "cell_type": "code",
      "execution_count": null,
      "metadata": {
        "id": "Shlc4uJbPgtD"
      },
      "outputs": [],
      "source": [
        "class = 2"
      ]
    },
    {
      "cell_type": "markdown",
      "metadata": {
        "id": "dy3PDBwUPgtE"
      },
      "source": [
        "Note que las palabras reservadas generalmente cambian de color cuando estamos escribiendo código fuente en un editor de texto que reconoce el lenguaje de programación.\n",
        "\n",
        "La variable anterior `class` está en verde, pero la siguiente no lo está. Eso nos ayuda a saber si un nombre es un palabra reservada del lenguaje."
      ]
    },
    {
      "cell_type": "code",
      "execution_count": null,
      "metadata": {
        "id": "CK13frF1PgtE"
      },
      "outputs": [],
      "source": [
        "clase = 2"
      ]
    },
    {
      "cell_type": "markdown",
      "metadata": {
        "id": "RVBXNbpDPgtE"
      },
      "source": [
        "## Tipos de variables\n",
        "\n",
        "Existen distintos tipos de variables. El tipo de una variable nos da una idea de los posibles valores que esta puede tomar. Veamos algunas.\n",
        "\n",
        "- `int`: entero\n",
        "- `float`: punto flotante\n",
        "- `str`: cadena de caracteres\n",
        "- `bool`: booleano, 0, 1, True o False\n",
        "\n",
        "Y estructuras de datos, como:\n",
        "\n",
        "- `list`: lista de elementos (de cualquier tipo, incluida otra lista)\n",
        "- `dict`: \"diccionario\", conjunto de pares llave:valor\n",
        "\n",
        "Algunos ejemplos:"
      ]
    },
    {
      "cell_type": "code",
      "execution_count": null,
      "metadata": {
        "id": "km-Aq6iQPgtE"
      },
      "outputs": [],
      "source": [
        "edad = 40\n",
        "peso = 3.4\n",
        "saludo ='Hola mundo!'\n",
        "condicion = True"
      ]
    },
    {
      "cell_type": "markdown",
      "metadata": {
        "id": "V3hegd8CPgtE"
      },
      "source": [
        "A continuación utilice la función `print(X)` para imprimir el contenido de las variables que creó anteriormente."
      ]
    },
    {
      "cell_type": "code",
      "execution_count": null,
      "metadata": {
        "id": "CbYm6LxuPgtE"
      },
      "outputs": [],
      "source": [
        "# imprimir distintos tipos de variables\n",
        "\n",
        "mascota = \"gato\"\n",
        "print(mascota)"
      ]
    },
    {
      "cell_type": "markdown",
      "metadata": {
        "id": "_rPFjYb2PgtF"
      },
      "source": [
        "La función `type()` nos permite conocer el tipo de una variable. Ejemplo:"
      ]
    },
    {
      "cell_type": "code",
      "execution_count": null,
      "metadata": {
        "id": "YPc6OSa-PgtF"
      },
      "outputs": [],
      "source": [
        "type(peso)"
      ]
    },
    {
      "cell_type": "markdown",
      "metadata": {
        "id": "rxKLxl3NPgtF"
      },
      "source": [
        "A continuación utilice la función `type(X)` para imprimir el tipo de las variables que creó anteriormente."
      ]
    },
    {
      "cell_type": "code",
      "execution_count": null,
      "metadata": {
        "id": "PxeGkb_dPgtF"
      },
      "outputs": [],
      "source": []
    },
    {
      "cell_type": "markdown",
      "metadata": {
        "id": "8LPEAvXSPgtF"
      },
      "source": [
        "## Conversión de variables\n",
        "\n",
        "Algunas variables pueden cambiar de tipo. A esto le llamamos convertir una variable de su tipo original a otro tipo destino. Veamos ejemplos"
      ]
    },
    {
      "cell_type": "code",
      "execution_count": null,
      "metadata": {
        "id": "8-qrKZb1PgtF"
      },
      "outputs": [],
      "source": [
        "edad = 20         # tipo int e.g. años\n",
        "peso = 65.8       # tipo float e.g. kilogramos\n",
        "mes = \"agosto\"    # tipo string e.g. mes\n",
        "esDeNoche = False # tipo bool"
      ]
    },
    {
      "cell_type": "code",
      "execution_count": null,
      "metadata": {
        "id": "lnlsI9NoPgtG"
      },
      "outputs": [],
      "source": [
        "type(edad)"
      ]
    },
    {
      "cell_type": "markdown",
      "metadata": {
        "id": "NVOrcO7FPgtG"
      },
      "source": [
        "Es posible cambiar el tipo de una variable. Por ejemplo, convertir una una variable `float` a `int`, etc.\n",
        "El lenjuage dispone de ciertas funciones para realizar la conversión. Algunos ejemplos:\n",
        "\n",
        "- `int()` Convierte a entero\n",
        "- `float()` Convierte a flotante\n",
        "- `str()` Convierte a string\n",
        "\n"
      ]
    },
    {
      "cell_type": "code",
      "execution_count": null,
      "metadata": {
        "id": "pADtQuzlPgtG"
      },
      "outputs": [],
      "source": [
        "edad = float(edad)\n",
        "type(edad)"
      ]
    },
    {
      "cell_type": "code",
      "execution_count": null,
      "metadata": {
        "id": "uZvqZ5TnPgtG"
      },
      "outputs": [],
      "source": [
        "peso = int(peso)\n",
        "type(peso)"
      ]
    },
    {
      "cell_type": "code",
      "execution_count": null,
      "metadata": {
        "id": "HfoufrgAPgtH"
      },
      "outputs": [],
      "source": [
        "mes = str(edad)\n",
        "type(mes)"
      ]
    },
    {
      "cell_type": "markdown",
      "metadata": {
        "id": "afOW1OwBPgtH"
      },
      "source": [
        "Note que ahora la variable `peso` es de tipo `int`, por ende, no puede almacenar un número con decimales. Anteriormente la variable `peso` tenía el valor `65.8`. Imprima la variable `peso` después de convertirla a `int` y note como su valor a cambiado."
      ]
    },
    {
      "cell_type": "code",
      "execution_count": null,
      "metadata": {
        "id": "7fqsDaLMPgtH"
      },
      "outputs": [],
      "source": [
        "print(peso)"
      ]
    },
    {
      "cell_type": "markdown",
      "metadata": {
        "id": "DOWPkqGgPgtH"
      },
      "source": [
        "En programación se debe tener cuidado con la transformación de variables para evitar errores en los programas."
      ]
    },
    {
      "cell_type": "markdown",
      "metadata": {
        "id": "B1CzeLrJPgtH"
      },
      "source": [
        "La siguiente función de conversión se comporta de manera especial.\n",
        "\n",
        "- `bool()`\n",
        "\n",
        "Por ejemplo, en esta línea\n",
        "\n",
        "`edad = bool(edad)`\n",
        "\n",
        "Convierte la variable `edad` a tipo `bool`.\n",
        "\n",
        "Y en esta línea\n",
        "\n",
        "`bool(edad)`\n",
        "\n",
        "Examina el valor de la variable `edad` y retorna `False` si su valor es cero, y retorna `True` en cualquier otros caso.\n",
        "\n"
      ]
    },
    {
      "cell_type": "code",
      "execution_count": null,
      "metadata": {
        "id": "MG5acfiJPgtI"
      },
      "outputs": [],
      "source": [
        "bool(edad)"
      ]
    },
    {
      "cell_type": "code",
      "execution_count": null,
      "metadata": {
        "id": "n_m8X0XPPgtI"
      },
      "outputs": [],
      "source": [
        "x = 10\n",
        "if ( 1 < x < 5):\n",
        "  print(\"Sí\")\n",
        "else:\n",
        "  print(\"No\")"
      ]
    },
    {
      "cell_type": "markdown",
      "metadata": {
        "id": "zomJ8chQPgtI"
      },
      "source": [
        "# Parte 4 - Estructuras de datos: Listas\n",
        "---"
      ]
    },
    {
      "cell_type": "markdown",
      "metadata": {
        "id": "Xbh0TAepPgtI"
      },
      "source": [
        "Las listas en Python son un tipo contenedor, compuesto, que se usan para almacenar conjuntos de elementos relacionados del mismo tipo o de tipos distintos.\n",
        "\n",
        "Las lista son mutables, ya que permiten modificar los datos una vez creados. Su característica principal reside en que el orden de sus elementos se mantiene en todo momento. Las listas usan corchetes (`[]`) para encerrar a sus elementos, y comas (`,`) para separarlos."
      ]
    },
    {
      "cell_type": "code",
      "execution_count": null,
      "metadata": {
        "id": "HdDxFLgePgtI"
      },
      "outputs": [],
      "source": [
        "# Lista que almacena elementos del mismo tipo: strings\n",
        "mi_lista_strings = ['uno', 'dos', 'tres']\n",
        "print(mi_lista_strings)\n",
        "\n",
        "# Lista que almacena elementos de diferentes tipos: un string, un entero y un flotante\n",
        "mi_lista = ['uno', 2, 3.14159]\n",
        "print(mi_lista)"
      ]
    },
    {
      "cell_type": "markdown",
      "metadata": {
        "id": "9-zg8X7vPgtI"
      },
      "source": [
        "Las listas también se pueden crear usando el constructor de la clase, `list(iterable)`. En este caso, el constructor crea una lista cuyos elementos son los mismos y están en el mismo orden que los ítems del iterable. El objeto iterable puede ser o una secuencia, un contenedor que soporte la iteración o un objeto iterador.\n",
        "\n",
        "Por ejemplo, el tipo `str` también es un tipo secuencia. Si pasamos un string al constructor `list()` creará una lista cuyos elementos son cada uno de los caracteres de la cadena:"
      ]
    },
    {
      "cell_type": "code",
      "execution_count": null,
      "metadata": {
        "id": "25ydC-6yPgtJ"
      },
      "outputs": [],
      "source": [
        "vocales = list('aeiou')\n",
        "vocales"
      ]
    },
    {
      "cell_type": "markdown",
      "metadata": {
        "id": "OZcgPw3iPgtJ"
      },
      "source": [
        "Además, se puede crear una lista vacía con dos alternativas:"
      ]
    },
    {
      "cell_type": "code",
      "execution_count": null,
      "metadata": {
        "id": "SVxY-GDAPgtJ"
      },
      "outputs": [],
      "source": [
        "lista_1 = []  # Opción 1\n",
        "lista_2 = list()  # Opción 2"
      ]
    },
    {
      "cell_type": "markdown",
      "metadata": {
        "id": "gY8ens7JPgtJ"
      },
      "source": [
        "## Acceder a los elementos de una lista\n",
        "\n",
        "A las listas se acceden por su número de índice:"
      ]
    },
    {
      "cell_type": "code",
      "execution_count": null,
      "metadata": {
        "id": "sXVSirIMPgtJ"
      },
      "outputs": [],
      "source": [
        "print(mi_lista_strings[:]) # Imprime toda la lista\n",
        "print(mi_lista_strings[0]) # Salida: 'uno'\n",
        "\n",
        "print(mi_lista[:]) # Imprime toda la lista\n",
        "print(mi_lista[2]) # Devuelve: 3.14159"
      ]
    },
    {
      "cell_type": "markdown",
      "metadata": {
        "id": "pmLTErp7PgtJ"
      },
      "source": [
        "Si se intenta acceder a un índice que está fuera del rango de la lista, el intérprete lanzará la excepción `IndexError`. De igual modo, si se utiliza un índice que no es un número entero, se lanzará la excepción `TypeError`:"
      ]
    },
    {
      "cell_type": "code",
      "execution_count": null,
      "metadata": {
        "id": "ZalqYXzYPgtK"
      },
      "outputs": [],
      "source": [
        "lista = [1, 2, 3]  # Los índices válidos son 0, 1 y 2\n",
        "lista[8]"
      ]
    },
    {
      "cell_type": "code",
      "execution_count": null,
      "metadata": {
        "id": "3aMOrrqQPgtK"
      },
      "outputs": [],
      "source": [
        "lista[1.0]"
      ]
    },
    {
      "cell_type": "markdown",
      "metadata": {
        "id": "ysJGPJ3LPgtK"
      },
      "source": [
        "**Acceso a los elementos usando un índice negativo**\n",
        "\n",
        "En Python está permitido usar índices negativos para acceder a los elementos de una secuencia. En este caso, el índice -1 hace referencia al último elemento de la secuencia, el -2 al penúltimo y así, sucesivamente:"
      ]
    },
    {
      "cell_type": "code",
      "execution_count": null,
      "metadata": {
        "id": "PPRtGKLKPgtK"
      },
      "outputs": [],
      "source": [
        "vocales = ['a', 'e', 'i', 'o', 'u']\n",
        "print(vocales[-1]) # Imprime 'u'\n",
        "print(vocales[-4]) # Imprime 'e'"
      ]
    },
    {
      "cell_type": "markdown",
      "metadata": {
        "id": "Jo_5DtRIPgtL"
      },
      "source": [
        "**Acceso a un subconjunto de elementos**\n",
        "\n",
        "También es posible acceder a un subconjunto de elementos de una lista utilizando rangos en los índices. Esto es usando el operador `[:]`:"
      ]
    },
    {
      "cell_type": "code",
      "execution_count": null,
      "metadata": {
        "id": "ylPwqy7XPgtM"
      },
      "outputs": [],
      "source": [
        "print(vocales[2:3])  # Elementos desde el índice 2 hasta el índice 3-1: ['i']\n",
        "print(vocales[2:4])  # Elementos desde el 2 hasta el índice 4-1: ['i', 'o']\n",
        "print(vocales[:])  # Todos los elementos: ['a', 'e', 'i', 'o', 'u']\n",
        "print(vocales[1:])  # Elementos desde el índice 1: ['e', 'i', 'o', 'u']\n",
        "print(vocales[:3])  # Elementos hasta el índice 3-1: ['a', 'e', 'i']"
      ]
    },
    {
      "cell_type": "markdown",
      "metadata": {
        "id": "nWmBIPrSPgtM"
      },
      "source": [
        "También es posible acceder a los elementos de una lista indicando un paso con el operador `[::]`:"
      ]
    },
    {
      "cell_type": "code",
      "execution_count": null,
      "metadata": {
        "id": "3ZsA24sXPgtM"
      },
      "outputs": [],
      "source": [
        "letras = ['a', 'b', 'c', 'd', 'e', 'f', 'g', 'h', 'i', 'j', 'k']\n",
        "print(letras[::2]) # Acceso a los elementos de 2 en 2: ['a', 'c', 'e', 'g', 'i', 'k']\n",
        "print(letras[1:5:2]) # Elementos del índice 1 al 4 de 2 en 2: ['b', 'd']\n",
        "print(letras[1:8:3]) # Elementos del índice 1 al 7 de 3 en 3: ['b', 'e', 'h']"
      ]
    },
    {
      "cell_type": "markdown",
      "metadata": {
        "id": "H_27BysrPgtM"
      },
      "source": [
        "## Recorrer una lista\n",
        "\n",
        "Se puede usar el bucle `for` para recorrer los elementos de una secuencia, como se muestra a continuación:"
      ]
    },
    {
      "cell_type": "code",
      "execution_count": null,
      "metadata": {
        "id": "PWsi3rxYPgtN"
      },
      "outputs": [],
      "source": [
        "colores = ['azul', 'blanco', 'negro']\n",
        "\n",
        "for color in colores:\n",
        "        print(color)"
      ]
    },
    {
      "cell_type": "markdown",
      "metadata": {
        "id": "0BCCgitfPgtN"
      },
      "source": [
        "## Añadir elementos a una lista\n",
        "\n",
        "Las listas son secuencias mutables, es decir, sus elementos pueden ser modificados (se pueden añadir nuevos ítems, actualizar o eliminar).\n",
        "\n",
        "Para añadir un nuevo elemento a una lista se utiliza el método `append()` y para añadir varios elementos, el método `extend()`:"
      ]
    },
    {
      "cell_type": "code",
      "execution_count": null,
      "metadata": {
        "id": "P9oR3vRtPgtN"
      },
      "outputs": [],
      "source": [
        "vocales = ['a']\n",
        "\n",
        "vocales.append('e')  # Añade un elemento\n",
        "print(vocales[:])\n",
        "\n",
        "vocales.extend(['i', 'o', 'u'])  # Añade un grupo de elementos\n",
        "print(vocales[:])"
      ]
    },
    {
      "cell_type": "markdown",
      "metadata": {
        "id": "vMjs48fGPgtO"
      },
      "source": [
        "También es posible añadir un elemento en una posición concreta de una lista con el método `insert(índice, elemento)`. Los elementos cuyo índice sea mayor a índice se desplazan una posición a la derecha:"
      ]
    },
    {
      "cell_type": "code",
      "execution_count": null,
      "metadata": {
        "id": "sF2XqzxlPgtO"
      },
      "outputs": [],
      "source": [
        "vocales = ['a', 'e', 'u']\n",
        "print(vocales[:])\n",
        "vocales.insert(2, 'i')\n",
        "vocales.insert(3, 'o')\n",
        "print(vocales[:])"
      ]
    },
    {
      "cell_type": "markdown",
      "metadata": {
        "id": "0usZqGDvPgtO"
      },
      "source": [
        "**Concatenar listas**\n",
        "\n",
        "Dos listas pueden concatenarse en una de sola mediante el signo más (`+`). El resultado es una nueva lista con los elementos de las dos listas en el mismo orden de la concatenación:\n"
      ]
    },
    {
      "cell_type": "code",
      "execution_count": null,
      "metadata": {
        "id": "qqlbSGjaPgtO"
      },
      "outputs": [],
      "source": [
        "lista_1 = [1, 2, 3]\n",
        "lista_2 = [4, 5, 6]\n",
        "numeros = lista_1 + lista_2\n",
        "print(numeros[:])"
      ]
    },
    {
      "cell_type": "markdown",
      "metadata": {
        "id": "9sfleKr0PgtP"
      },
      "source": [
        "**Replicar listas**\n",
        "\n",
        "Otra operación que admiten las listas es la de réplica, que se realiza mediante el signo de multiplicación (`*`). Esta operación es equivalente a concatenarle a una lista sus mismos elementos *n* veces:"
      ]
    },
    {
      "cell_type": "code",
      "execution_count": null,
      "metadata": {
        "id": "sNaO9n5sPgtP"
      },
      "outputs": [],
      "source": [
        "numeros = [1, 2, 3]\n",
        "numeros *= 3\n",
        "print(numeros[:])"
      ]
    },
    {
      "cell_type": "markdown",
      "metadata": {
        "id": "zDawoaRoPgtP"
      },
      "source": [
        "## Modificar elementos de una lista\n",
        "\n",
        "Es posible modificar un elemento de una lista con el operador de asignación `=`, Para ello, lo único que se necesita conocer es el índice del elemento que se quiere modificar o el rango de índices:"
      ]
    },
    {
      "cell_type": "code",
      "execution_count": null,
      "metadata": {
        "id": "8_3bRH-APgtP"
      },
      "outputs": [],
      "source": [
        "vocales = ['o', 'o', 'o', 'o', 'u']\n",
        "print(vocales)\n",
        "\n",
        "# Actualiza el elemento del índice 0\n",
        "vocales[0] = 'a'\n",
        "print(vocales[:])\n",
        "\n",
        "# Actualiza los elementos entre las posiciones 1 y 2\n",
        "vocales[1:3] = ['e', 'i']\n",
        "print(vocales[:])"
      ]
    },
    {
      "cell_type": "markdown",
      "metadata": {
        "id": "GTEKvhEiPgtP"
      },
      "source": [
        "## Eliminar elementos de una lista\n",
        "\n",
        "Se puede eliminar un elemento de una lista de varias formas.\n",
        "\n",
        "Con la sentencia `del` se puede eliminar un elemento a partir de su índice:"
      ]
    },
    {
      "cell_type": "code",
      "execution_count": null,
      "metadata": {
        "id": "t6OaxUA1PgtQ"
      },
      "outputs": [],
      "source": [
        "# Elimina el elemento del índice 1\n",
        "vocales = ['a', 'e', 'i', 'o', 'u']\n",
        "print(vocales)\n",
        "del vocales[1]\n",
        "print(vocales[:])\n",
        "\n",
        "# Elimina los elementos con índices 2 y 3\n",
        "vocales = ['a', 'e', 'i', 'o', 'u']\n",
        "del vocales[2:4]\n",
        "print(vocales[:])\n",
        "\n",
        "# Elimina todos los elementos\n",
        "del vocales[:]\n",
        "print(vocales[:])"
      ]
    },
    {
      "cell_type": "markdown",
      "metadata": {
        "id": "zLwF8Pa7PgtQ"
      },
      "source": [
        "Otros métodos que se pueden usar son `remove()` y `pop([i])`:\n",
        "*   **Método `remove()`.** Elimina la primera ocurrencia que se encuentre del elemento en una lista.\n",
        "*   **Método `pop([i])`.** Obtiene el elemento cuyo índice sea igual a *i* y lo elimina de la lista. Si no se especifica ningún índice, recupera y elimina el último elemento."
      ]
    },
    {
      "cell_type": "code",
      "execution_count": null,
      "metadata": {
        "id": "ZgSp3lHdPgtQ"
      },
      "outputs": [],
      "source": [
        "letras = ['aa', 'b', 'k', 'a', 'v']\n",
        "print(letras)\n",
        "\n",
        "# Elimina la primera ocurrencia del carácter a\n",
        "letras.remove('a')\n",
        "print(letras[:])\n",
        "\n",
        "# Obtiene y elimina el segundo elemento\n",
        "letra = letras.pop(1)\n",
        "print(letras[:])\n",
        "\n",
        "# Obtiene y elimina el último elemento\n",
        "letras.pop()\n",
        "print(letras[:])"
      ]
    },
    {
      "cell_type": "markdown",
      "metadata": {
        "id": "LpbkilOwPgtQ"
      },
      "source": [
        "Finalmente, es posible eliminar todos los elementos de una lista a través del método `clear()`:"
      ]
    },
    {
      "cell_type": "code",
      "execution_count": null,
      "metadata": {
        "id": "Zlso92v0PgtQ"
      },
      "outputs": [],
      "source": [
        "letras = ['a', 'b', 'c']\n",
        "letras.clear()\n",
        "print(letras[:])"
      ]
    },
    {
      "cell_type": "markdown",
      "metadata": {
        "id": "ZR26WYeePgtR"
      },
      "source": [
        "El código anterior sería equivalente a `del letras[:]`."
      ]
    },
    {
      "cell_type": "markdown",
      "metadata": {
        "id": "fOx3Hn_cPgtR"
      },
      "source": [
        "## Obtener la longitud de una lista\n",
        "\n",
        "Como cualquier tipo secuencia, para conocer la longitud de una lista en Python se hace uso de la función `len()`. Esta función devuelve el número de elementos de una lista:\n"
      ]
    },
    {
      "cell_type": "code",
      "execution_count": null,
      "metadata": {
        "id": "tDjhj_CZPgtR"
      },
      "outputs": [],
      "source": [
        "vocales = ['a', 'e', 'i', 'o', 'u']\n",
        "len(vocales)"
      ]
    },
    {
      "cell_type": "markdown",
      "metadata": {
        "id": "yAtbKIRKPgtR"
      },
      "source": [
        "Además, se tiene el método `count(elemento)` que devuelve el número de ocurrencias del elemento en la lista:"
      ]
    },
    {
      "cell_type": "code",
      "execution_count": null,
      "metadata": {
        "id": "1yX42P95PgtS"
      },
      "outputs": [],
      "source": [
        "letras = ['a','b','a','b','c','a','b','c','d']\n",
        "letras.count('c') # Cuenta las veces que está el elemento 'a' en la lista"
      ]
    },
    {
      "cell_type": "markdown",
      "metadata": {
        "id": "xm3XLQPLPgtS"
      },
      "source": [
        "## Encontrar elementos de una lista\n",
        "\n",
        "Para saber si un elemento está contenido en una lista, se utiliza el operador de pertenencia `in`:"
      ]
    },
    {
      "cell_type": "code",
      "execution_count": null,
      "metadata": {
        "id": "PEz-o3lnPgtS"
      },
      "outputs": [],
      "source": [
        "vocales = ['a', 'e', 'i', 'o', 'u']\n",
        "if 'a' in vocales:\n",
        "  print('Sí')\n",
        "\n",
        "if 'b' in vocales:\n",
        "  print('Sí')\n",
        "else:\n",
        "  print('No')"
      ]
    },
    {
      "cell_type": "markdown",
      "metadata": {
        "id": "_86XZuZ_PgtT"
      },
      "source": [
        "## Ordenar una lista\n",
        "\n",
        "Las listas son secuencias ordenadas. Esto quiere decir que sus elementos siempre se devuelven en el mismo orden en que fueron añadidos.\n",
        "\n",
        "No obstante, es posible ordenar los elementos de una lista con el método `sort()`, el cual ordena los elementos de la lista utilizando únicamente el operador < y modifica la lista actual (no se obtiene una nueva lista):"
      ]
    },
    {
      "cell_type": "code",
      "execution_count": null,
      "metadata": {
        "id": "AhlYaPCnPgtT"
      },
      "outputs": [],
      "source": [
        "# Lista desordenada de números enteros\n",
        "numeros = [3, 5, 2, 6, 1, 7, 4]\n",
        "vocales = ['a', 'e', 'i', 'o', 'u']\n",
        "# Identidad del objeto numeros\n",
        "print(id(vocales))\n",
        "print(numeros[:])\n",
        "\n",
        "# Identidad del objeto numeros\n",
        "print(id(numeros))\n",
        "\n",
        "# Se llama al método sort() para ordenar los elementos de la lista\n",
        "numeros.sort()\n",
        "print(numeros[:])\n",
        "\n",
        "# Se comprueba que la identidad del objeto numeros es la misma\n",
        "print(id(numeros))"
      ]
    },
    {
      "cell_type": "markdown",
      "metadata": {
        "id": "DmFUxKNFPgtT"
      },
      "source": [
        "Por su parte, se tiene el método `reverse()` invierte el orden de los elementos de una lista. Este método es equivalente a aplicar `lista[::-1]`."
      ]
    },
    {
      "cell_type": "code",
      "execution_count": null,
      "metadata": {
        "id": "Xmxj5QUrPgtT"
      },
      "outputs": [],
      "source": [
        "# Lista de números enteros ordenda ascendente\n",
        "numeros = [1, 2, 3, 4, 5, 6, 7]\n",
        "print(numeros[:])\n",
        "\n",
        "# Lista de números enteros ordenada descendente, con método reverse\n",
        "numeros.reverse()\n",
        "print(numeros[:])\n",
        "\n",
        "# Lista de números enteros ordenada descendente, con lista[::-1]\n",
        "numeros = [1, 2, 3, 4, 5, 6, 7]\n",
        "print(numeros[::-1])"
      ]
    },
    {
      "cell_type": "markdown",
      "metadata": {
        "id": "llQb70ePPgtU"
      },
      "source": [
        "## Otros métodos de las listas\n",
        "\n",
        "Python ofrece varios métodos integradas que se pueden aplicar a las listas.\n",
        "\n",
        "Se tienen los métodos `min()` y `max()` que devuelven respectivamente el valor mínimo y el valor máximo de la lista:"
      ]
    },
    {
      "cell_type": "code",
      "execution_count": null,
      "metadata": {
        "id": "I78vDoYkPgtU"
      },
      "outputs": [],
      "source": [
        "lista = [4, 2, 0, 1, 3]\n",
        "print(\"Lista =\", lista[:])\n",
        "\n",
        "minimo = min(lista)\n",
        "print(\"Elemento mínimo \", minimo)\n",
        "\n",
        "maximo = max(lista)\n",
        "print(\"Elemento máximo \", maximo)"
      ]
    },
    {
      "cell_type": "markdown",
      "metadata": {
        "id": "KLMTBwLhPgtU"
      },
      "source": [
        "Otro método es `copy()`, el cual devuelve una copia de la lista:"
      ]
    },
    {
      "cell_type": "code",
      "execution_count": null,
      "metadata": {
        "id": "pfXXq50dPgtU"
      },
      "outputs": [],
      "source": [
        "print(\"Lista =\", lista.copy())"
      ]
    },
    {
      "cell_type": "markdown",
      "metadata": {
        "id": "-SWPCCtxPgtV"
      },
      "source": [
        "# Parte 5 - Estructuras de control: condicionales y ciclos\n",
        "---"
      ]
    },
    {
      "cell_type": "markdown",
      "metadata": {
        "id": "KzkBt0acPgtV"
      },
      "source": [
        "Una estructura de control, es un bloque de código que permite agrupar instrucciones de manera controlada. Se pueden distinguir tres tipos básicos de control de flujo:\n",
        "\n",
        "*   Secuencial\n",
        "*   Selección (Selectivas) (Condicionales)\n",
        "*   Repetición (Repetitivas) (Ciclos )\n",
        "\n",
        "## Secuencial\n",
        "\n",
        "En el control secuencial las instrucciones se ejecutan de manera secuencial desde el inicio hasta el fin del programa.\n",
        "\n",
        "<img src=\"https://drive.google.com/uc?export=view&id=1I5qwzIPMlSsCy9YDaT9hBCaWOJPeg6Ap\" alt=\"Secuencial\" height=\"500px\" width=\"150px\" aling=\"middle\" />"
      ]
    },
    {
      "cell_type": "markdown",
      "metadata": {
        "id": "eeVoyrqiPgtV"
      },
      "source": [
        "## Selección (condicionales)\n",
        "\n",
        "En el control de selección se tiene una condición que puede ser falsa o verdadera, dependiendo de esto se ejecutará uno u otro bloque de instrucciones.\n",
        "\n",
        "<img src=\"https://drive.google.com/uc?export=view&id=15zvQglTNi_84o8Sk-JrsbVEKHBz0fSA5\" alt=\"Selectiva\" height=\"500px\" width=\"350px\" aling=\"middle\" />\n",
        "\n",
        "Estrcturas de control condicionales:\n",
        "\n",
        "*   Si-entonces (if-then)\n",
        "*   Si-entonces-sino (if-then-else)\n",
        "*   En el caso de (switch-case)\n",
        "\n",
        "Estas estructuras de control permiten evaluar si una o más condiciones se cumplen, para decir qué acción se va a ejecutar. La evaluación de condiciones, solo puede arrojar 1 de 2 resultados: **verdadero** o **falso** (`True` o `False`).\n",
        "\n",
        "Para describir la evaluación a realizar sobre una condición, se utilizan **operadores relacionales** (o de comparación):\n",
        "\n",
        "<img src=\"https://drive.google.com/uc?export=view&id=1mIuVHIbQNErG42WcrCrn7kxzw5GI5vvI\" alt=\"Operadores Relacionales\" height=\"320px\" width=\"400px\" aling=\"middle\" />\n",
        "\n",
        "Y para evaluar más de una condición simultáneamente, se utilizan **operadores lógicos**:\n",
        "\n",
        "<img src=\"https://drive.google.com/uc?export=view&id=1VuE5CTb0t599boV1BFtHJ2tCVD15d6r0\" alt=\"Operadores Lógicos\" height=\"350px\" width=\"450px\" aling=\"middle\" />\n",
        "\n",
        "Las estructuras de control de flujo condicionales, en Python, se definen mediante el uso de tres palabras claves reservadas del lenguaje: `if` (si), `elif` (sino, si) y `else` (sino).\n",
        "\n"
      ]
    },
    {
      "cell_type": "markdown",
      "metadata": {
        "id": "in0PLVpHPgtV"
      },
      "source": [
        "### Estructura de control de selección `if-elif-else`\n",
        "\n",
        "El condicional `if-elif-else` es una estructura de control de selección que sirve para tomar decisiones, basándose en la evaluación de condiciones y/o comparaciones, en el flujo del programa.\n",
        "\n",
        "Ejemplo con `if`:"
      ]
    },
    {
      "cell_type": "code",
      "execution_count": null,
      "metadata": {
        "id": "1bVXqNCHPgtV"
      },
      "outputs": [],
      "source": [
        "# Cumple la condición\n",
        "semaforo = \"verde\"\n",
        "if semaforo == \"verde\":\n",
        "    print(\"Cruzar la calle\")\n",
        "\n",
        "# No cumple la condición\n",
        "semaforo = \"rojo\"\n",
        "if semaforo == \"verde\":\n",
        "    print(\"Cruzar la calle\")\n",
        "print(semaforo)"
      ]
    },
    {
      "cell_type": "markdown",
      "metadata": {
        "id": "wUvoeUCOPgtV"
      },
      "source": [
        "Ejemplo con `if-else`:"
      ]
    },
    {
      "cell_type": "code",
      "execution_count": null,
      "metadata": {
        "id": "fH5Sx-SKPgtV"
      },
      "outputs": [],
      "source": [
        "semaforo = \"verde\"\n",
        "if semaforo == \"verde\":\n",
        "    print(\"Cruzar la calle\") # Cumple la condición\n",
        "else:\n",
        "    print(\"No cruzar la calle\") # No cumple la condición\n",
        "\n",
        "semaforo = \"rojo\"\n",
        "if semaforo == \"verde\":\n",
        "    print(\"Cruzar la calle\") # Cumple la condición\n",
        "else:\n",
        "    print(\"No cruzar la calle\") # No cumple la condición"
      ]
    },
    {
      "cell_type": "markdown",
      "metadata": {
        "id": "2vGgr1OlPgtW"
      },
      "source": [
        "Ejemplo con `if-elif-else`:"
      ]
    },
    {
      "cell_type": "code",
      "execution_count": null,
      "metadata": {
        "id": "PXQlEMdNPgtW"
      },
      "outputs": [],
      "source": [
        "a = 30\n",
        "b = 30\n",
        "\n",
        "if a > b:\n",
        "    print(\"a es mayor que b\")\n",
        "elif a < b:\n",
        "    print(\"a es menor que b\")\n",
        "else:\n",
        "    print(\"a es igual a b\")"
      ]
    },
    {
      "cell_type": "markdown",
      "metadata": {
        "id": "xHfOcUCFPgtW"
      },
      "source": [
        "## Repetición (ciclos)\n",
        "\n",
        "En el control de repetición, un bloque de instrucciones se ejecuta de manera repetitiva mientras una condición sea verdadera, en caso contrario el flujo de ejecución se pasará a otro conjunto de instrucciones.\n",
        "\n",
        "<img src=\"https://drive.google.com/uc?export=view&id=1E5FBNhM39hYyNopPokzQRNeeG-hSD7g-\" alt=\"Repetitiva\" height=\"600px\" width=\"200px\" aling=\"middle\" />\n",
        "\n",
        "Estructuras de control cíclicas:\n",
        "\n",
        "*   Mientras (while)\n",
        "*   Hasta que (do-while)\n",
        "*   Número de veces (for)\n",
        "\n",
        "A diferencia de las estructuras de control condicionales, las iterativas (también llamadas cíclicas o bucles), nos permiten ejecutar un mismo código, de manera repetida, mientras se cumpla una condición.\n",
        "\n",
        "En Python se dispone de dos estructuras cíclicas el bucle `while` y el bucle `for`."
      ]
    },
    {
      "cell_type": "markdown",
      "metadata": {
        "id": "yQPcYKaVPgtW"
      },
      "source": [
        "### Estructura de control de repetición `while`\n",
        "\n",
        "Este bucle se encarga de ejecutar una misma acción \"mientras que\" una determinada condición se cumpla.\n",
        "\n",
        "La sintaxis de `while` es:"
      ]
    },
    {
      "cell_type": "code",
      "execution_count": null,
      "metadata": {
        "id": "ufqO7lW-PgtW"
      },
      "outputs": [],
      "source": [
        "while cond:\n",
        "    # Hacer algo ..."
      ]
    },
    {
      "cell_type": "markdown",
      "metadata": {
        "id": "fyIug-ZpPgtW"
      },
      "source": [
        "Donde `cond` es un valor de tipo booleano que usualmente resulta de realizar una comparación; mientras `cond` sea un valor booleano `True` entonces el bloque de instrucciones contenidas en while se ejecutarán.\n",
        "\n",
        "Ejemplo: Mientras que año sea menor o igual a 2022, imprimir la frase \"Informes del Año XXXX\"."
      ]
    },
    {
      "cell_type": "code",
      "execution_count": null,
      "metadata": {
        "id": "x8HmnvZJPgtX"
      },
      "outputs": [],
      "source": [
        "anio = 2000\n",
        "while anio <= 2022:\n",
        "    print(\"Informes del Año\", str(anio))\n",
        "    anio += 1 # Incrementa el año por cada iteración"
      ]
    },
    {
      "cell_type": "markdown",
      "metadata": {
        "id": "OfSzFaacPgtX"
      },
      "source": [
        "**Atención**\n",
        "\n",
        "¿Qué sucede si el valor que condiciona la iteración no es numérico y no puede incrementarse?\n",
        "\n",
        "En ese caso, se puede utilizar una estructura de control condicional, anidada dentro del bucle, y frenar la ejecución cuando el condicional deje de cumplirse, con la palabra clave reservada `break`:"
      ]
    },
    {
      "cell_type": "code",
      "execution_count": null,
      "metadata": {
        "id": "mvtoXDvPPgtX"
      },
      "outputs": [],
      "source": [
        "while True:\n",
        "    nombre = input(\"Indique su nombre: \")\n",
        "    if nombre:\n",
        "      print(\"Mi nombre es:\", nombre)\n",
        "      break"
      ]
    },
    {
      "cell_type": "markdown",
      "metadata": {
        "id": "eu4z9OcuPgtX"
      },
      "source": [
        "Las instrucciones anteriores, incluye un condicional anidado que verifica si la variable nombre es verdadera (solo será verdadera si el usuario ingresaea un texto en pantalla cuando el nombre le es solicitado). Si es verdadera, el bucle imprime el nombre y para (`break`). Sino, seguirá ejecutándose hasta que el usuario, ingrese un texto en pantalla.\n",
        "\n",
        "Aunque es menos común y poco práctico, con `while` podríamos iterar, como con `for`, sobre una secuencia:"
      ]
    },
    {
      "cell_type": "code",
      "execution_count": null,
      "metadata": {
        "id": "OhjBEDAKPgtX"
      },
      "outputs": [],
      "source": [
        "nombre = \"Pablo\"\n",
        "k = 0\n",
        "while k < len(nombre):\n",
        "    print(nombre[k])\n",
        "    k += 1"
      ]
    },
    {
      "cell_type": "markdown",
      "metadata": {
        "id": "hqgnsWOFPgtX"
      },
      "source": [
        "### Estructura de control de repetición `for`\n",
        "\n",
        "Este bucle es una estructura de control de repetición, en la cual se conocen *a priori* el número de iteraciones a realizar. En Python, el ciclo `for` recorre una secuencia y en la *k-ésima* iteración la variable de ciclo adopta el valor del elemento en la *k-ésima* posición del iterable. O sea, permite iterar sobre una variable compleja, del tipo lista o tupla.\n",
        "\n",
        "La sintaxis de `for` es:"
      ]
    },
    {
      "cell_type": "code",
      "execution_count": null,
      "metadata": {
        "id": "Y75fBJ2JPgtY"
      },
      "outputs": [],
      "source": [
        "for var in secuencia:\n",
        "    # Hacer algo ..."
      ]
    },
    {
      "cell_type": "markdown",
      "metadata": {
        "id": "HGQyFqzEPgtY"
      },
      "source": [
        "Donde `var` es la variable de ciclo o variable de control y `secuencia` la secuencia de valores que deberá iterarse. Es necesario remarcar la importancia de los dos puntos al final de esta primera línea y en indentar el bloque de código subsecuente que definirá el cuerpo del ciclo `for`.\n",
        "\n",
        "Por ejemplo, se quiere recorrer una lista de números e imprimirlos:"
      ]
    },
    {
      "cell_type": "code",
      "execution_count": null,
      "metadata": {
        "id": "fBnig0aCPgtY"
      },
      "outputs": [],
      "source": [
        "numeros = [18,50,90,-20,100,80,37]\n",
        "for n in numeros:\n",
        "    print(n)"
      ]
    },
    {
      "cell_type": "markdown",
      "metadata": {
        "id": "AJlpTPd3PgtY"
      },
      "source": [
        "Observar que en cada iteración la variable de ciclo `n` adopta el valor de cada uno de los elementos de la lista `numeros`.\n",
        "\n",
        "Como ya se mencionó, en Python la variable de ciclo no necesariamente adopta valores numéricos enteros secuenciales, si no valores dentro de una secuencia. Esta secuencia podría ser también una cadena de caracteres, por ejemplo:"
      ]
    },
    {
      "cell_type": "code",
      "execution_count": null,
      "metadata": {
        "id": "00EmWxvFPgtY"
      },
      "outputs": [],
      "source": [
        "palabra = \"Python\"\n",
        "for letra in palabra:\n",
        "    print(letra)"
      ]
    },
    {
      "cell_type": "markdown",
      "metadata": {
        "id": "tHwUV2q8PgtZ"
      },
      "source": [
        "Dentro de un ciclo `for` se puede colocar cualquier otra instrucción de control de flujo. Un caso muy común es el de incluir otro ciclo `for`, algo que habitualmente se denota como *ciclos anidados*.\n",
        "\n",
        "Por ejemplo, se requieren mostrar por consola todos los elementos de algunas listas contenidas dentro de otra lista principal, en ese caso se hace necesario primero iterar sobre la lista principal y enseguida hacerlo sobre las listas contenidas:"
      ]
    },
    {
      "cell_type": "code",
      "execution_count": null,
      "metadata": {
        "id": "e5zGg20TPgtZ"
      },
      "outputs": [],
      "source": [
        "matriz = [[-5,2,0], [9,5,6], [1,7,15]]\n",
        "for fila in matriz:\n",
        "    for elemento in fila:\n",
        "        print(elemento)"
      ]
    },
    {
      "cell_type": "markdown",
      "metadata": {
        "id": "s4ZSPOE-PgtZ"
      },
      "source": [
        "# Parte 6 - Operaciones aritméticas y lógicas\n",
        "---"
      ]
    },
    {
      "cell_type": "markdown",
      "metadata": {
        "id": "3B7b2jeMPgtZ"
      },
      "source": [
        "## Operadores aritméticos\n",
        "\n",
        "Adicional a las operaciones aritméticas básicas usadas en la Parte 1 (suma, resta, multiplicación, división, etc.), hay otros operadores que también pueden ser útiles para responder ciertos problemas.\n",
        "\n",
        "\n"
      ]
    },
    {
      "cell_type": "code",
      "execution_count": null,
      "metadata": {
        "id": "Xj0NtoDOPgtZ"
      },
      "outputs": [],
      "source": [
        "#Calcular el módulo (residuo de una división entera)\n",
        "a = 10%3\n",
        "print (a)"
      ]
    },
    {
      "cell_type": "code",
      "execution_count": null,
      "metadata": {
        "id": "9-Gp6AemPgtZ"
      },
      "outputs": [],
      "source": [
        "#Calcular xˆn (forma 1)\n",
        "a = 2**2\n",
        "print (a)"
      ]
    },
    {
      "cell_type": "code",
      "execution_count": null,
      "metadata": {
        "id": "TmCt5NP9Pgta"
      },
      "outputs": [],
      "source": [
        "#Calcular resultado entero de una división\n",
        "\n",
        "a = 15//2\n",
        "print (a)"
      ]
    },
    {
      "cell_type": "markdown",
      "metadata": {
        "id": "jXSLza3_Pgta"
      },
      "source": [
        "Los operadores conocidos hasta ahora pueden usarse con el operador de asignación para simplificar las instrucciones.\n",
        "\n",
        "Se usa de la siguiente forma:\n",
        "\n",
        "variable [operador]= valor\n",
        "\n",
        "Aquí se aplica el operador a la variable involucrada. Por ejemplo,\n",
        "\n",
        "**a += 5**\n",
        "\n",
        "es equivalente a la instrucción\n",
        "\n",
        "a = a + 5\n"
      ]
    },
    {
      "cell_type": "code",
      "execution_count": null,
      "metadata": {
        "id": "JOV3Hpq_Pgta"
      },
      "outputs": [],
      "source": [
        "#Ejemplo\n",
        "\n",
        "a = 10\n",
        "a /= 2 # --> a = a / 2\n",
        "\n",
        "print (a)"
      ]
    },
    {
      "cell_type": "markdown",
      "metadata": {
        "id": "XC_IDgg_Pgta"
      },
      "source": [
        "## Uso de bibliotecas\n",
        "\n",
        "También pueden usarse bibliotecas para hacer cálculos artiméticos más complejos.\n",
        "\n",
        "Tres bibliotecas comunes son math y numpy.\n",
        "\n",
        "Debe considerar que muchas de estas funciones tienen limitaciones. Por ejemplo, la función sqrt (para calcular la raíz cuadrada) solo aceptar números positivos como argumento."
      ]
    },
    {
      "cell_type": "code",
      "execution_count": null,
      "metadata": {
        "id": "TzJpIb4VPgta"
      },
      "outputs": [],
      "source": [
        "#Distintas formas de calcular raíz cuadrada\n",
        "\n",
        "#Cargar bibliotecas\n",
        "import math as ma\n",
        "import numpy as np\n",
        "\n",
        "a = ma.sqrt (4)\n",
        "print (a)\n",
        "\n",
        "#No necesariamente hay que guardar en una variable el resultado si lo único que queremos es imprimir el resultado en pantalla.\n",
        "print (np.sqrt (4))"
      ]
    },
    {
      "cell_type": "markdown",
      "metadata": {
        "id": "lQ3e_v4GPgtb"
      },
      "source": [
        "Otras operaciones incluidas en las bibliotecas pueden ser consultadas en la documentación oficial. Por ejemplo, la lista completa de las funciones de math puede consultarse [aquí](https://docs.python.org/es/3/library/math.html)."
      ]
    },
    {
      "cell_type": "code",
      "execution_count": null,
      "metadata": {
        "id": "1zo00r2vPgtb"
      },
      "outputs": [],
      "source": [
        "#Ejemplos de funciones\n",
        "#Recordar que si la biblioteca no ha sido cargada, debe hacerse en este momento.\n",
        "\n",
        "#Valor absoluto\n",
        "print (ma.fabs(-5))\n",
        "\n",
        "#Parte entera de un número flotante - función piso\n",
        "print (ma.floor(5.9))\n",
        "\n",
        "#Siguiente número entero más próximo a un flotante - función techo\n",
        "print (ma.ceil (3.4))"
      ]
    },
    {
      "cell_type": "code",
      "execution_count": null,
      "metadata": {
        "id": "vAnznkHUPgtb"
      },
      "outputs": [],
      "source": [
        "#Ejemplos de funciones trigonométricas\n",
        "\n",
        "#Retorna el arcocoseno en radianes\n",
        "print (ma.acos(0.03))\n",
        "\n",
        "#Retorna el seno en radiones\n",
        "print (ma.sin(0.2))\n"
      ]
    },
    {
      "cell_type": "code",
      "execution_count": null,
      "metadata": {
        "id": "YYS0dWYDPgtb"
      },
      "outputs": [],
      "source": [
        "#También pueden usarse las bibliotecas para obtener valores de números especiales\n",
        "\n",
        "#Aproximación de pi\n",
        "print (ma.pi)\n",
        "\n",
        "#Aproximación de e\n",
        "print (ma.e)"
      ]
    },
    {
      "cell_type": "markdown",
      "metadata": {
        "id": "bl47tGlPPgtb"
      },
      "source": [
        "Al hacer invocar funciones que realizan operaciones matemáticas hay que considerar el tipo de datos que devuelven.\n",
        "\n",
        "Existen funciones para hacer conversión entre tipos. Por ejemplo:\n",
        "\n",
        "\n",
        "* int() Convierte a entero\n",
        "* float() Convierte a flotante\n",
        "* bool() Devuelve False si es cero y True en el resto\n",
        "* str() Convierte a string\n",
        "\n",
        "\n"
      ]
    },
    {
      "cell_type": "code",
      "execution_count": null,
      "metadata": {
        "id": "x5acWyaqPgtb"
      },
      "outputs": [],
      "source": [
        "#Ejemplo de conversión de tipos\n",
        "\n",
        "#Si calculamos el seno de 0.1 y lo imprimimos no hay problema\n",
        "a = 0.1\n",
        "print(ma.sin(a))\n",
        "\n",
        "\n"
      ]
    },
    {
      "cell_type": "code",
      "execution_count": null,
      "metadata": {
        "id": "5GQeS4a_Pgtb"
      },
      "outputs": [],
      "source": [
        "#... pero si intentamos ponerle una etiqueta, dará errores\n",
        "\n",
        "print (\"El seno de \" + a + \" es \" + ma.sin(a))"
      ]
    },
    {
      "cell_type": "code",
      "execution_count": null,
      "metadata": {
        "id": "0VBrLDmkPgtb"
      },
      "outputs": [],
      "source": [
        "#... Para corregir el error basta con hacer la conversión a cadenas (strings) usando str\n",
        "print (\"El seno de \" + str(a) + \" es \" + str(ma.sin(a)))"
      ]
    },
    {
      "cell_type": "markdown",
      "metadata": {
        "id": "hNepEW5wPgtc"
      },
      "source": [
        "## Operadores lógicos\n",
        "\n",
        "Además de los operadores aritméticos (y las funciones trigonométricas), se pueden usar operadores lógicos. Estos se usan para tomar decisiones basados en múltiples condiciones.\n",
        "\n",
        "Los operadores son:\n",
        "\n",
        "* and: si ambas condiciones son verdaderas devuelve un Verdadero (True), sino devuelve Falso (False).\n",
        "* or: si al menos una de las condiciones es verdadera devuelve un Verdadero (True), sino devuelve Falso (False).\n",
        "* not: niega la condición (Verdadero lo convierte en Falso y viceversa)\n",
        "\n",
        "Usualmente se usan con intrucciones como el *if*, mencionado anteriormente.\n"
      ]
    },
    {
      "cell_type": "code",
      "execution_count": null,
      "metadata": {
        "id": "ZXUJCGKUPgtc"
      },
      "outputs": [],
      "source": [
        "#Ejemplo con \"and\"\n",
        "\n",
        "a = 5\n",
        "b = 0\n",
        "c = 10\n",
        "\n",
        "if (a < c) and (b < c):\n",
        "  print (\"Ambas condiciones son verdaderas\")\n",
        "else:\n",
        "  print (\"Al menos una de las condiciones es falsa\")"
      ]
    },
    {
      "cell_type": "code",
      "execution_count": null,
      "metadata": {
        "id": "daiXkRvZPgtc"
      },
      "outputs": [],
      "source": [
        "#Ejemplo con \"or\"\n",
        "\n",
        "a = 5\n",
        "b = 0\n",
        "c = 10\n",
        "\n",
        "if (a < c) or (b < c):\n",
        "  print (\"Ambas condiciones son verdaderas\")\n",
        "else:\n",
        "  print (\"Al menos una de las condiciones es falsa\")\n",
        "\n",
        "#Note que el resultado es igual al anterior"
      ]
    },
    {
      "cell_type": "code",
      "execution_count": null,
      "metadata": {
        "id": "0VKEa6CePgtc"
      },
      "outputs": [],
      "source": [
        "#Ejemplo con \"and\"\n",
        "\n",
        "a = 5\n",
        "b = 0\n",
        "c = 10\n",
        "\n",
        "if (a > c) and (b < c):\n",
        "  print (\"Ambas condiciones son verdaderas\")\n",
        "else:\n",
        "  print (\"Al menos una de las condiciones es falsa\")"
      ]
    },
    {
      "cell_type": "markdown",
      "metadata": {
        "id": "LmARLc__Pgtc"
      },
      "source": [
        "## Ejercicio\n",
        "\n",
        "Suponga que deseamos hacer un programa que indique el porcentaje que una persona debe pagar de impuestos sobre su salario.\n",
        "\n",
        "Los porcentajes de impuestos según el monto son:\n",
        "\n",
        "* Hasta ₡ 863.000,00 --> No paga impuestos\n",
        "\n",
        "* De ₡ 863.000,00 a ₡1.267.000,00 --> 10%\n",
        "\n",
        "* De ₡ 1.267.000,00 a ₡ 2.223.000,00 --> 15%\n",
        "\n",
        "* De ₡ 2.223.000,00 a ₡ 4.445.000,00 --> 20%\n",
        "\n",
        "* Sobre el exceso de ₡ 4.445.000,00 --> 25%\n",
        "\n",
        "Usando las instrucciones vistas hasta el momento, utilice el siguiente espacio para programar lo solicitado."
      ]
    },
    {
      "cell_type": "code",
      "execution_count": null,
      "metadata": {
        "id": "BlQ7z5wQPgtc"
      },
      "outputs": [],
      "source": [
        "#Programa su ejercicio aquí\n",
        "\n",
        "#Puede suponer la siguiente variable:\n",
        "salario = 760000.0\n",
        "\n",
        "#Agregar su código a partir de aquí..."
      ]
    },
    {
      "cell_type": "markdown",
      "metadata": {
        "id": "lfHm5twePgtd"
      },
      "source": [
        "\n",
        "# Parte 7 - Procesamiento de cadenas de texto\n",
        "---"
      ]
    },
    {
      "cell_type": "markdown",
      "metadata": {
        "id": "CRpuqMOePgtd"
      },
      "source": [
        "## Introducción\n",
        "\n",
        "Procesar una cadena de texto (*strings*) en Python puede realizarse de múltiples formas. Aquí vamos a hacer un repaso por una de esas formas.\n",
        "\n",
        "Para representar cadenas de texto se pueden usar tanto comillas simples, como comillas dobles:\n",
        "\n",
        "* 'hola'\n",
        "* \"hola\"\n",
        "\n",
        "También pueden definirse cadenas de más de una línea usando triple comilla simple:\n",
        "\n",
        "'''hola\n",
        "\n",
        "de nuevo'''\n",
        "\n"
      ]
    },
    {
      "cell_type": "code",
      "execution_count": null,
      "metadata": {
        "id": "WRZimpsAPgtd"
      },
      "outputs": [],
      "source": [
        "#Asignación de cadenas de caracteres a variables\n",
        "a = \"hola\"\n",
        "b = \"mundo\"\n",
        "\n",
        "print (a+b)\n",
        "\n",
        "a = '''uno,\n",
        "dos,\n",
        "tres,\n",
        "...'''\n",
        "\n",
        "print (a)"
      ]
    },
    {
      "cell_type": "code",
      "execution_count": null,
      "metadata": {
        "id": "f2JaEKy9Pgtd"
      },
      "outputs": [],
      "source": [
        "#Conocer si una subcadena está presente en una cadena\n",
        "\n",
        "a = \"La casa es roja y el portón azul.\"\n",
        "\n",
        "#Forma 1:\n",
        "print(\"roja\" in a)\n",
        "\n",
        "#Forma 2:\n",
        "if \"roja\" in a:\n",
        "  print(\"Sí, la palabra 'roja' está en la frase.\")\n",
        "\n",
        "if \"verde\" not in a:\n",
        "  print(\"Sí, la palabra 'verde' NO está en la frase.\")"
      ]
    },
    {
      "cell_type": "markdown",
      "metadata": {
        "id": "XtzTZSbJPgte"
      },
      "source": [
        "Las cadenas de caracteres se representan internamente en Python como listas (las mismas que se mencionaron en la Parte 5)."
      ]
    },
    {
      "cell_type": "code",
      "execution_count": null,
      "metadata": {
        "id": "VWSRtoiOPgte"
      },
      "outputs": [],
      "source": [
        "#Ejemplo para obtener nos caracteres entre el 2 y el 6 (comenzando a contar en cero)\n",
        "a = \"Hola mundo!\"\n",
        "print(a[2:6])"
      ]
    },
    {
      "cell_type": "code",
      "execution_count": null,
      "metadata": {
        "id": "EWLfkZq-Pgte"
      },
      "outputs": [],
      "source": [
        "#Ejemplo para obtener todos los caracteres desde el inicio hasta el sexto\n",
        "a = \"Hola mundo!\"\n",
        "print(a[:6])\n",
        "\n",
        "#Ejemplo para obtener desde el segundo caracter hasta el final\n",
        "print(a[2:])"
      ]
    },
    {
      "cell_type": "markdown",
      "metadata": {
        "id": "vaADm9RbPgte"
      },
      "source": [
        "## Funciones\n",
        "\n",
        "Se pueden invocar distintas funciones para transformar las cadenas de caracteres. Una lista detallada con más funciones puede encontrarla [aquí](https://www.w3schools.com/python/python_strings_methods.asp)"
      ]
    },
    {
      "cell_type": "code",
      "execution_count": null,
      "metadata": {
        "id": "resM33fvPgte"
      },
      "outputs": [],
      "source": [
        "#Convertir todo a minúscula\n",
        "a = \"Hola Mundo!\"\n",
        "print(a.lower())\n",
        "\n",
        "#Note que la variable \"a\" no fue modificada. Si la volvemos a imprimir, las mayúsculas siguen existiendo\n",
        "print(a)\n",
        "\n",
        "#Esto cambiaría la variable a minúscula\n",
        "a = a.lower()\n",
        "print(a)"
      ]
    },
    {
      "cell_type": "code",
      "execution_count": null,
      "metadata": {
        "id": "Pt_VcP6zPgtf"
      },
      "outputs": [],
      "source": [
        "#Convertir a mayúscula\n",
        "a = \"Hola mundo!\"\n",
        "print(a.upper())\n",
        "\n",
        "#Estas funciones se pueden combinar con las facilidades de listas que mencionamos anteriormente\n",
        "print(a[:6].upper())\n",
        "print(a[:3] + a[3:9].upper())\n",
        "#Convertir a mayúscula solo la primera letra\n",
        "a = \"hoy es miércoles.\"\n",
        "print(a.capitalize())"
      ]
    },
    {
      "cell_type": "code",
      "execution_count": null,
      "metadata": {
        "id": "625NQK5jPgtf"
      },
      "outputs": [],
      "source": [
        "#La función strip elimina espacios al inicio de una cadena\n",
        "a = \"      Hola mundo! \"\n",
        "print(a)\n",
        "print(a.strip())"
      ]
    },
    {
      "cell_type": "code",
      "execution_count": null,
      "metadata": {
        "id": "nZr6tJlePgtf"
      },
      "outputs": [],
      "source": [
        "#Reemplazo de subcadenas dentro de otra\n",
        "\n",
        "a = \"Hola mundo!\"\n",
        "print(a.replace(\"Hola\", \"Hello\"))"
      ]
    },
    {
      "cell_type": "code",
      "execution_count": null,
      "metadata": {
        "id": "UXRMZi4vPgtf"
      },
      "outputs": [],
      "source": [
        "#Puede separarse la cadena de caracteres en una lista de palabras, usando un separador definido por el programador.\n",
        "\n",
        "a = \"La casa es roja y el portón azul.\"\n",
        "print(a.split(\" \")) # Si no se agrega ningún parámetro, por omisión será el espacio en blanco"
      ]
    },
    {
      "cell_type": "markdown",
      "metadata": {
        "id": "z6VwuGn1Pgtf"
      },
      "source": [
        "No es posible combinar variables de tipo numérico con cadenas de caracteres (tal y como lo hemos descrito)."
      ]
    },
    {
      "cell_type": "code",
      "execution_count": null,
      "metadata": {
        "id": "DC8J46NCPgtg"
      },
      "outputs": [],
      "source": [
        "dia = 21\n",
        "\n",
        "#frase = \"hoy es miércoles \" + dia #esta línea produce un error.\n",
        "\n",
        "#podemos arreglarla usando la función de conversión que mencionamos antes (str)\n",
        "frase = \"hoy es miércoles \" + str(dia)\n",
        "print(frase)"
      ]
    },
    {
      "cell_type": "code",
      "execution_count": null,
      "metadata": {
        "id": "2yCfwD5RPgtg"
      },
      "outputs": [],
      "source": [
        "#... pero también podemos usar la función format\n",
        "día = 21\n",
        "mes = \"octubre\"\n",
        "año = 2022\n",
        "frase = \"Hoy es miércoles {} de {} del año {}.\"\n",
        "\n",
        "print(frase.format(día,mes,año))"
      ]
    },
    {
      "cell_type": "markdown",
      "metadata": {
        "id": "2vZl6GfcPgtg"
      },
      "source": [
        "dadfasdfasdfa"
      ]
    },
    {
      "cell_type": "code",
      "execution_count": null,
      "metadata": {
        "id": "N8BRP6xIPgtg"
      },
      "outputs": [],
      "source": []
    },
    {
      "cell_type": "code",
      "execution_count": null,
      "metadata": {
        "id": "SrUuJ-o2Pgth"
      },
      "outputs": [],
      "source": [
        "#Uso de caracteres especiales: al igual que en otros lenguajes de programación, se pueden \"escapar\" caracteres especiales.\n",
        "\n",
        "#frase = \"Qué \"bonita\" fiesta!\" #si deseo entrecomillar \"bonita\" así me da error\n",
        "\n",
        "#Para solucionarlo podemos escapar las comillas\n",
        "frase = \"Qué \\\"bonita\\\" fiesta!\"\n",
        "print(frase)\n",
        "\n",
        "#Un caracter múy útil es el cambio de línea \\n\n",
        "print(\"Inicio\\n\" + frase + \"\\nFin\")"
      ]
    },
    {
      "cell_type": "markdown",
      "metadata": {
        "id": "3Bsy8hdIPgth"
      },
      "source": [
        "## Ejercicio\n",
        "\n",
        "Usando las operaciones, instrucciones y funciones de cadenas de caracteres que vimos, haga lo siguiente\n",
        "* guarde en una variable su nombre completo con apellidos, todo en minúscula,\n",
        "* cambie la primera letra de cada palabra a mayúscula,\n",
        "* imprima su nombre.\n",
        "\n",
        "Ejemplo, si la variable es\n",
        "\n",
        "nombre = \"maría soto aguilar\"\n",
        "\n",
        "Después de ejecutar las instrucciones apropiadas deberá imprimirse:\n",
        "\n",
        "\"María Soto Aguilar\""
      ]
    },
    {
      "cell_type": "code",
      "execution_count": null,
      "metadata": {
        "id": "7r6LwVJiPgth"
      },
      "outputs": [],
      "source": [
        "\n",
        "nombre = \"...\"\n",
        "\n",
        "#Su código aquí\n",
        "\n",
        "\n",
        "print(nombre)"
      ]
    },
    {
      "cell_type": "markdown",
      "metadata": {
        "id": "R3JdjvTOPgth"
      },
      "source": [
        "# Parte 8 - Entradas y salidas\n",
        "---"
      ]
    },
    {
      "cell_type": "markdown",
      "metadata": {
        "id": "IMOej9ZjPgth"
      },
      "source": [
        "\n",
        "\n",
        "Para solicitar datos al usuario se utiliza la función input.\n",
        "\n",
        "Para mostrar datos en consola se usa print, la función que hemos venido usando en esta práctica."
      ]
    },
    {
      "cell_type": "code",
      "execution_count": null,
      "metadata": {
        "id": "2wu79IYgPgth"
      },
      "outputs": [],
      "source": [
        "nombre = input (\"Escriba su nombre: \")\n",
        "número = input (\"Digite su número favorito: \")\n",
        "\n",
        "print (\"Su nombre es \" + nombre + \" y su número favorito es el \" + número)"
      ]
    },
    {
      "cell_type": "code",
      "execution_count": null,
      "metadata": {
        "id": "wx53oM5pPgth"
      },
      "outputs": [],
      "source": [
        "#... también puede usarse la función format que aprendimos antes\n",
        "nombre = input (\"Escriba su nombre: \")\n",
        "número = input (\"Digite su número favorito: \")\n",
        "\n",
        "frase = \"Su nombre es {} y su número favorito es el {}\"\n",
        "\n",
        "print (frase.format(nombre, número))\n"
      ]
    },
    {
      "cell_type": "code",
      "execution_count": null,
      "metadata": {
        "id": "eR97eM0kPgti"
      },
      "outputs": [],
      "source": [
        "#Forma alternativa de armar la frase usando format\n",
        "nombre = input (\"Escriba su nombre: \")\n",
        "número = input (\"Digite su número favorito: \")\n",
        "\n",
        "frase = \"Su nombre es {nom} y su número favorito es el {num}\".format(nom = nombre, num = número)\n",
        "\n",
        "print (frase)"
      ]
    },
    {
      "cell_type": "code",
      "execution_count": null,
      "metadata": {
        "id": "qvH21ZizPgti"
      },
      "outputs": [],
      "source": [
        "#format puede usarse también para el formato de los números\n",
        "\n",
        "#Por definición, cualquier valor que se lea usando input, siempre será una cadena de caracteres\n",
        "#Si se desea almacenar como número, se debe usar la función que convierta al tipo de número respectivo.\n",
        "precio = float(input (\"Digite un monto entero: \"))\n",
        "\n",
        "#Una vez que se ha definido como número, se puede formatear para que, por ejemplo, se imprima con dos valores decimales.\n",
        "print (\"El monto es {p:.2f}\".format(p=precio))"
      ]
    },
    {
      "cell_type": "code",
      "execution_count": null,
      "metadata": {
        "id": "ziz8Gyy1Pgti"
      },
      "outputs": [],
      "source": [
        "#Es posible leer valores para varias variables usando input\n",
        "\n",
        "nombre, apellido = input(\"Digite su nombre y apellido: \").split() #la separación entre variables siempre será el espacio\n",
        "print (\"Soy {} {}\".format(nombre, apellido))"
      ]
    },
    {
      "cell_type": "code",
      "execution_count": null,
      "metadata": {
        "id": "eIE68jqFPgti"
      },
      "outputs": [],
      "source": [
        "#Con print también se pueden imprimir varias variables usando un separador definido por el programador\n",
        "\n",
        "nombre, apellido = input(\"Digite su nombre y apellido: \").split() #la separación entre variables siempre será el espacio\n",
        "print (nombre, apellido, sep=\"*\")"
      ]
    },
    {
      "cell_type": "code",
      "execution_count": null,
      "metadata": {
        "id": "ChYiKFDNPgti"
      },
      "outputs": [],
      "source": [
        "#Es posible escribir texto justificándolo a la derecha, izquierda o centro respecto a una cantidad específica de\n",
        "#caracteres (20 en este ejemplo)\n",
        "\n",
        "nombre = input (\"Digite su nombre: \")\n",
        "\n",
        "#\\n agrega un cambio de línea\n",
        "print(\"Justificación a la izquierda\\n\", nombre.ljust(20, \"*\"))\n",
        "print(\"Justificación a la derecha\\n\", nombre.rjust(20, \"*\"))\n",
        "print(\"justificación centrada\\n\", nombre.center(20, \"*\"))"
      ]
    },
    {
      "cell_type": "markdown",
      "metadata": {
        "id": "mIPj3xWaPgti"
      },
      "source": [
        "# Parte 9 - Funciones\n",
        "---"
      ]
    },
    {
      "cell_type": "markdown",
      "metadata": {
        "id": "P0y1V_8UPgtj"
      },
      "source": [
        "## Definición\n",
        "\n",
        "Una función es una estructura que permite agrupar código.\n",
        "\n",
        "Algunos beneficios de usar funciones:\n",
        "1. Evitar repetición de trozos de código en el programa.\n",
        "1. Reutilizar el código de las funciones para distintas situaciones.\n",
        "1. Estandarizar el programa haciendo funciones pequeñas con tareas muy específicas.\n",
        "\n",
        "La estructura de una función sera :\n",
        "\n",
        "- nombre de función\n",
        "- parámetros\n",
        "- valor de retorno\n",
        "\n",
        "```\n",
        "def nombre_de_funcion(parametros):\n",
        "    valor_retorno = procedimiento(parametros)\n",
        "    return valor_retorno\n",
        "\n",
        "```"
      ]
    },
    {
      "cell_type": "markdown",
      "metadata": {
        "id": "EvVu9ZgUPgtj"
      },
      "source": [
        "## Declaración de una función\n",
        "\n",
        "Para declarar la función seguimos la estructura base que ya estudiamos. En este ambiente de `Notebooks` es necesario ejecutar la celda de código para instanciar la nueva función antes de poder utilizarla."
      ]
    },
    {
      "cell_type": "code",
      "execution_count": null,
      "metadata": {
        "id": "2MbZyYsvPgtj"
      },
      "outputs": [],
      "source": [
        "def mi_tercera_funcion():\n",
        "    print (\"Hola Mundo desde una función\")\n"
      ]
    },
    {
      "cell_type": "markdown",
      "metadata": {
        "id": "tYbiGqW0Pgtk"
      },
      "source": [
        "Para utilizar la nueva función en nuestros programas solo debemos invocarla."
      ]
    },
    {
      "cell_type": "code",
      "execution_count": null,
      "metadata": {
        "id": "R0uz-9vvPgtk"
      },
      "outputs": [],
      "source": [
        "mi_tercera_funcion()"
      ]
    },
    {
      "cell_type": "markdown",
      "metadata": {
        "id": "jZyMwNcUPgtk"
      },
      "source": [
        "**Atención**\n",
        "\n",
        "¿Qué ocurre si invocamos una función antes de instanciarla?"
      ]
    },
    {
      "cell_type": "code",
      "execution_count": null,
      "metadata": {
        "id": "KwBfKpkoPgtk"
      },
      "outputs": [],
      "source": [
        "def mi_segunda_funcion():\n",
        "    print (\"Hola Mundo desde una función!\")\n",
        "\n",
        "\n",
        "mi_segunda_funcion()\n",
        "\n"
      ]
    },
    {
      "cell_type": "markdown",
      "metadata": {
        "id": "usek9zzMPgtk"
      },
      "source": [
        "## Argumentos y parámetros\n",
        "\n",
        "En la definición de una función, los valores que se reciben se denominan **parámetros**, pero durante la llamada los valores que se envían se denominan **argumentos**.\n",
        "\n",
        "Muchas veces estos términos se usan de manera intercambiable, pero es importante conocer la diferencia.\n",
        "\n",
        "Un parámetro es una variable en la definición de una función. Es sólamente un símbolo y por eso no tiene un valor concreto.\n",
        "\n",
        "Un argumento en cambio es un valor que se le pasa a la función en la invocación. Poro decirlo de este modo, un argumento llena el campo que tiene reservado para él un parámetro.\n",
        "\n",
        "```\n",
        "def sumar(x,y):     # x, y son parámetros\n",
        "  return x+y\n",
        "\n",
        "sumar(5,8)          # 5, 8 son argumentos\n",
        "```\n",
        "Veamos un ejemplo de una función parametrizable."
      ]
    },
    {
      "cell_type": "code",
      "execution_count": null,
      "metadata": {
        "id": "-ksePwzqPgtk"
      },
      "outputs": [],
      "source": [
        "def presentarse(nombre):\n",
        "    print(\"Hola! Soy {} y me siento feliz con el curso de hoy.\".format(nombre))\n",
        "\n",
        "presentarse(\"Ana\")"
      ]
    },
    {
      "cell_type": "markdown",
      "metadata": {
        "id": "XQKmDJHfPgtl"
      },
      "source": [
        "Y esta función la podemos utilizar con distintos argumentos."
      ]
    },
    {
      "cell_type": "code",
      "execution_count": null,
      "metadata": {
        "id": "zdAONOsLPgtl"
      },
      "outputs": [],
      "source": [
        "presentarse(\"Ronny\")"
      ]
    },
    {
      "cell_type": "markdown",
      "metadata": {
        "id": "iw8UGNoWPgtl"
      },
      "source": [
        "Las funciones pueden tener múltiples parámetros. En este caso los separamos por comas."
      ]
    },
    {
      "cell_type": "code",
      "execution_count": null,
      "metadata": {
        "id": "Tj5s00hNPgtl"
      },
      "outputs": [],
      "source": [
        "def presentarse(nombre, estado):\n",
        "    print(\"Hola! Soy {} y me siento {} con el curso de hoy.\".format(nombre, estado))\n",
        "\n",
        "presentarse(\"Ana\", \"feliz\")\n",
        "presentarse(\"Ronny\", \"motivado\")"
      ]
    },
    {
      "cell_type": "markdown",
      "metadata": {
        "id": "RkV2KFB5Pgtl"
      },
      "source": [
        "Ejemplo de una función para calcular el volúmen de un cilindro."
      ]
    },
    {
      "cell_type": "code",
      "execution_count": null,
      "metadata": {
        "id": "WSuNGNUtPgtl"
      },
      "outputs": [],
      "source": [
        "import math\n",
        "\n",
        "def volumenCilindro(radio, altura):\n",
        "  return math.pi * (pow(radio,2)) * altura\n",
        "\n",
        "print (volumenCilindro(1,1))\n",
        "print (volumenCilindro(1,10))\n",
        "print (volumenCilindro(10,1))"
      ]
    },
    {
      "cell_type": "markdown",
      "metadata": {
        "id": "Ss0vtvjCPgtm"
      },
      "source": [
        "Naturalmente, se puede invocar una función y guardar el resutado en una variable para posteriormente utilizar dicha variable en otra operación."
      ]
    },
    {
      "cell_type": "code",
      "execution_count": null,
      "metadata": {
        "id": "T_FmyfclPgtm"
      },
      "outputs": [],
      "source": [
        "volumen1 = volumenCilindro(3,5)\n",
        "volumen2 = volumenCilindro(7,10)\n",
        "\n",
        "print(\"El volumen total que tenemos es: \", str(math.floor(volumen1 + volumen2)))"
      ]
    },
    {
      "cell_type": "markdown",
      "metadata": {
        "id": "LRUBix0PPgtm"
      },
      "source": [
        "## Alcance o ámbito de las variables\n",
        "\n",
        "En `Python` (y en general también en otros lenguajes de programación), las variables se encuentran confinadas dentro de un espacio. El término en inglés es _scope_ y en castellano se puede traducir como ámbito o alcance.\n",
        "\n",
        "Hay dos tipos de alcance, **global** y **local**."
      ]
    },
    {
      "cell_type": "markdown",
      "metadata": {
        "id": "gr5ZKzb3Pgtm"
      },
      "source": [
        "Una variable **global** se puede invocar en cualqueir parte del programa. Es decir, se puede invocar incluso desde adentro de muchas funciones."
      ]
    },
    {
      "cell_type": "code",
      "execution_count": null,
      "metadata": {
        "id": "Opz_NIotPgtm"
      },
      "outputs": [],
      "source": [
        "varGlobal = \"Esta es una variable global\"\n",
        "\n",
        "def funcion1():     # declaración\n",
        "    print(varGlobal)\n",
        "\n",
        "funcion1()          # invocación\n",
        "\n",
        "def funcion2():     # declaración\n",
        "    print(varGlobal)\n",
        "\n",
        "funcion2()          # invocación\n",
        "\n",
        "\n",
        "print(varGlobal)            # uso de la variable global"
      ]
    },
    {
      "cell_type": "markdown",
      "metadata": {
        "id": "IuC_IkWKPgtm"
      },
      "source": [
        "Una variable **local** únicamente existe dentro del cuerpo de la función donde esta se declara.\n",
        "\n"
      ]
    },
    {
      "cell_type": "code",
      "execution_count": null,
      "metadata": {
        "id": "pKgxTYH4Pgtn"
      },
      "outputs": [],
      "source": [
        "def funcion():\n",
        "  varLocal = \"Esta es una variable local\"\n",
        "  print(varLocal)\n",
        "\n",
        "funcion()\n"
      ]
    },
    {
      "cell_type": "markdown",
      "metadata": {
        "id": "7e70lmnBPgtn"
      },
      "source": [
        "Si se invoca una variable local fuera de la función donde esta se declaró el sistema genera un error."
      ]
    },
    {
      "cell_type": "code",
      "execution_count": null,
      "metadata": {
        "id": "qVmjRpzCPgtn"
      },
      "outputs": [],
      "source": [
        "print(varLocal)"
      ]
    },
    {
      "cell_type": "markdown",
      "metadata": {
        "id": "9UxmS_AGPgtn"
      },
      "source": [
        "Se puede crear una variable **local** con el mismo nombre de una variable **global**, pero `Python; lo verá como 2 variables distintas."
      ]
    },
    {
      "cell_type": "code",
      "execution_count": null,
      "metadata": {
        "id": "wltR2chwPgtn"
      },
      "outputs": [],
      "source": [
        "miVariable = \"Esta es una variable global\"\n",
        "\n",
        "def funcion():\n",
        "  miVariable = \"Esta es una variable local\"\n",
        "  print(miVariable)\n",
        "\n",
        "funcion()             # utilizará la variable local\n",
        "\n",
        "print(miVariable)     # utilizará la variable global"
      ]
    },
    {
      "cell_type": "markdown",
      "metadata": {
        "id": "GrKSRzVYPgto"
      },
      "source": [
        "🚫 Lo siguiente **NO** es una buena práctica de programación. 🚫\n",
        "\n",
        "Pero algunos lenguajes de programación permiten utilizar una variable global dentro del ámbito de una función.\n",
        "\n",
        "No se lo recomendamos pero en `Python` esto se puede hacer con la palabra reservada **`global`**"
      ]
    },
    {
      "cell_type": "code",
      "execution_count": null,
      "metadata": {
        "id": "H81DBM7KPgto"
      },
      "outputs": [],
      "source": [
        "def funcion():\n",
        "    global var\n",
        "    var = 'Esta es una variable local que asignamos como global'\n",
        "\n",
        "funcion()\n",
        "\n",
        "print(var)"
      ]
    },
    {
      "cell_type": "markdown",
      "metadata": {
        "id": "TYPX2QIbPgto"
      },
      "source": [
        "De la misma manera una función puede cambiar el valor de una variable que había sido declarada como global."
      ]
    },
    {
      "cell_type": "code",
      "execution_count": null,
      "metadata": {
        "id": "WPZOALZPPgto"
      },
      "outputs": [],
      "source": [
        "var = \"Esta es una variable global\"\n",
        "\n",
        "def funcion():\n",
        "    global var\n",
        "    var = 'Ahora es una variable local'\n",
        "    print(var)\n",
        "\n",
        "print(var)\n",
        "\n",
        "funcion()\n",
        "\n",
        "print(var)"
      ]
    },
    {
      "cell_type": "markdown",
      "metadata": {
        "id": "hy72F3RePgto"
      },
      "source": [
        "## Documentación de funciones\n",
        "\n",
        "Consiste en crear documentación, es decir, una explicación de aquello que hace una función. En algunos casos, es importante agregar más detalles que indiquen cómo es que la función realiza su tarea. Otras veces no es tan necesario si la función es considerada como simple.\n",
        "\n",
        "Para documentar en `Python` se utiliza el llamado `DOCSTRING` que consiste en cadenas texto literal que se colocan justo después de la definición de una función. Veamos un ejempo."
      ]
    },
    {
      "cell_type": "code",
      "execution_count": null,
      "metadata": {
        "id": "cW9wW8YsPgto"
      },
      "outputs": [],
      "source": [
        "def raiz_cuadrada(n):\n",
        "    '''Recibe un número n, retorna la raíz cuadrada de n'''\n",
        "    return n**2"
      ]
    },
    {
      "cell_type": "code",
      "execution_count": null,
      "metadata": {
        "id": "dephPenCPgtp"
      },
      "outputs": [],
      "source": [
        "def area_rectangulo(ancho,alto):\n",
        "    '''(number, number)-> number\n",
        "    Devuelve el área del réctangulo al pasarle su ancho y su alto\n",
        "    '''\n",
        "    area=ancho*alto\n",
        "    return area"
      ]
    },
    {
      "cell_type": "code",
      "execution_count": null,
      "metadata": {
        "id": "fegIBTUCPgtp"
      },
      "outputs": [],
      "source": [
        "help(raiz_cuadrada)\n",
        "help(area_rectangulo)"
      ]
    },
    {
      "cell_type": "markdown",
      "metadata": {
        "id": "Qd__xAt-Pgtp"
      },
      "source": [
        "La documentación puede ser más detallada según se necesite. Por ejemplo, puede incluir una descripción y ejemplos de uso de la función."
      ]
    },
    {
      "cell_type": "code",
      "execution_count": null,
      "metadata": {
        "id": "EGnsAqZZPgtp"
      },
      "outputs": [],
      "source": [
        "def area_rectangulo(ancho,alto):\n",
        "    '''(number, number)-> number #Type Contract\n",
        "    Devuelve el área del réctangulo al pasarle su ancho y su alto\n",
        "    >>>area_rectangulo(5,7)\n",
        "    35\n",
        "    >>>area_rectangulo(3.5, 5.7)\n",
        "    19.95\n",
        "    '''\n",
        "    area=ancho*alto\n",
        "    return area"
      ]
    },
    {
      "cell_type": "code",
      "execution_count": null,
      "metadata": {
        "id": "pS3DNZDgPgtp"
      },
      "outputs": [],
      "source": [
        "help(area_rectangulo)"
      ]
    },
    {
      "cell_type": "markdown",
      "metadata": {
        "id": "n6VoNsPcPgtp"
      },
      "source": [
        "## Ejercicios\n",
        "\n",
        "Como práctica le recomendamos hacer estos ejercicios con funciones."
      ]
    },
    {
      "cell_type": "markdown",
      "metadata": {
        "id": "HQPRqnJDPgtp"
      },
      "source": [
        "1. Teoréma de Pitágoras. Cree una función `hipotenusa` que calcule la medida de la hipotenusa de un triángulo rectángulo recibiendo el valor de los dos catetos.\n"
      ]
    },
    {
      "cell_type": "code",
      "execution_count": null,
      "metadata": {
        "id": "wZb5Gl4PPgtp"
      },
      "outputs": [],
      "source": [
        "import math\n",
        "\n",
        "def hipotenusa(cateto1, cateto2):\n",
        "\n",
        "print (hipotenusa(10,10))"
      ]
    },
    {
      "cell_type": "markdown",
      "metadata": {
        "id": "59YAot6kPgtq"
      },
      "source": [
        "2. Email válido o inválido. Cree una función que capture el **email** de alguien, y buscando el carácter **\"@\"** identifique si la dirección es válida o no."
      ]
    },
    {
      "cell_type": "code",
      "execution_count": null,
      "metadata": {
        "id": "_EpFRnoePgtq"
      },
      "outputs": [],
      "source": [
        "def validarEmail(email):\n",
        "  if \"@\" in email:\n",
        "    print(\"Correo válido\")\n",
        "    valido = True\n",
        "  else:\n",
        "    print(\"Correo inválido\")\n",
        "    valido = False\n",
        "  return valido     # su código aquí\n",
        "\n",
        "email = input(\"Escriba su email: \")\n",
        "validarEmail(email)"
      ]
    },
    {
      "cell_type": "markdown",
      "metadata": {
        "id": "McKMUVFCPgtq"
      },
      "source": [
        "3. Las siguientes son distancias aproximadas entre el planeta tierra y otros planetas del sistema solar. Cree una función que pregunte al usuario cuál distancia quiere conocer y le imprima el dato como respuesta. Si el usuario pregunta por un planeta no conocido la respuesta es algo como `\"Lo siento, no tengo ese planeta en la base de datos.\"`\n",
        "\n",
        "|Planeta | Distancia (Km)\n",
        "---|---\n",
        "mercurio| 91.690.000\n",
        "venus | 42.000.000\n",
        "marte | 69.000.000\n",
        "júpiter | 591.000.000\n",
        "saturno |1.200.000.000\n",
        "\n"
      ]
    },
    {
      "cell_type": "code",
      "execution_count": null,
      "metadata": {
        "id": "ogRzdg3lPgtq"
      },
      "outputs": [],
      "source": [
        "def distanciaConLaTierra():\n",
        "  distancia = 0\n",
        "  planeta = \"\"                # haga que el usuario ingrese el nombre del planeta\n",
        "  # su código aquí\n",
        "\n",
        "  return distancia\n",
        "\n",
        "distanciaConLaTierra()"
      ]
    },
    {
      "cell_type": "markdown",
      "metadata": {
        "id": "jS-g6grEPgtq"
      },
      "source": [
        "# Parte 10 - Depuración y manejos de errores\n",
        "---\n",
        "\n",
        "\n",
        "En un programa podemos encontrar al menos tres tipos de errores:\n",
        "1. **Errores de sintaxis**: Son los más fáciles de encontrar, ya que ocurren cuando escribimos mal alguna palabra del programa, como escribir mal un nombre reservado (e.g. `fore` en vez de `for`\n",
        ", o `fi` en vez e `if`, etc.) Normalmente el intérprete del programa en `Pyhton` lo detectará y nos presenta un error de tipo _`SyntaxError`_.\n",
        "1. **Errores semánticos**: Estos normalmente ocurren cuando estamos desarrollando el programa. Quizá el programa inicia y termina sin generar ningún mensaje de error, pero no produce el resultado que se espera. Por ejemplo, utilizamos un algoritmo incorrecto, omitimos alguna línea de código, cambiamos el valor de una variable equivocadamente, etc.\n",
        "1. **Errores de ejecución**: Este tipo de error es muy diverso. Básicamente incluye cualquier error que no es de los anteriores y que se evidencia, solamente, cuando el programa está en ejecución. Por ejemplo, en la siguiente operación de división,  $$resultado = \\frac{dividendo}{divisor}$$ si el valor de la variable `divisor` es igual a `0`, el sistema produce un error el tiempo de ejecución y se detiene. Otro caso podría ocurrir al acceder al décimo elemento de una lista que tiene solo 5 elementos."
      ]
    },
    {
      "cell_type": "markdown",
      "metadata": {
        "id": "Y1TUB-ESPgtq"
      },
      "source": [
        "Los errores del primer tipo **Sintaxis** son fáciles de encontrar, ya que mientras estén presentes el programa normalmente no corre, es decir, ni tal siquiera lo podemos ejecutar.\n",
        "\n",
        "Los erroes **Semánticos** también suelen ser fáciles de detectar, ya que basta con correr el programa con un conjunto de entradas y validar que se produzca la salida esperada.\n",
        "\n",
        "Los errores de **ejecución**, sin embargo, debemos manejarlos mediante otras estrategias. Veamos algunas."
      ]
    },
    {
      "cell_type": "markdown",
      "metadata": {
        "id": "NndhfH3KPgtr"
      },
      "source": [
        "## Manejo de Excepciones\n",
        "\n",
        "Los errores de ejecución son llamados comúnmente excepciones. Ocurren si dentro de una función surge una excepción y la función no la maneja, la excepción se propaga hacia la función que la invocó, si esta otra tampoco la maneja, la excepción continua propagándose hasta llegar a la función inicial del programa y si esta tampoco la maneja se interrumpe la ejecución del programa."
      ]
    },
    {
      "cell_type": "markdown",
      "metadata": {
        "id": "MOgWrt8fPgtr"
      },
      "source": [
        "En el caso de `Python`, el manejo de excepciones se hace mediante los bloques que utilizan las sentencias `try` y `except`."
      ]
    },
    {
      "cell_type": "code",
      "execution_count": null,
      "metadata": {
        "id": "TuBVyHinPgtr"
      },
      "outputs": [],
      "source": [
        "dividendo = 100\n",
        "divisor = 0\n",
        "\n",
        "try:\n",
        " cociente = dividendo / divisor\n",
        " print(cociente)\n",
        "except:\n",
        " print(\"No se permite la división por cero\")"
      ]
    },
    {
      "cell_type": "markdown",
      "metadata": {
        "id": "LQev_dY1Pgtr"
      },
      "source": [
        "Dado que dentro de un mismo bloque `try` pueden producirse excepciones de distinto tipo, es posible utilizar varios bloques `except`, cada uno para capturar un tipo distinto de excepción"
      ]
    },
    {
      "cell_type": "markdown",
      "metadata": {
        "id": "xglfs8q6Pgtr"
      },
      "source": [
        "\n",
        "\n",
        "```\n",
        "try:\n",
        "    # aquí ponemos el código que puede lanzar excepciones\n",
        "except IOError:\n",
        "    # entrará aquí en caso que se haya producido\n",
        "    # una excepción IOError\n",
        "except ZeroDivisionError:\n",
        "    # entrará aquí en caso que se haya producido\n",
        "    # una excepción ZeroDivisionError\n",
        "\n",
        "```\n",
        "\n"
      ]
    },
    {
      "cell_type": "code",
      "execution_count": null,
      "metadata": {
        "id": "bHV7hSAmPgtr"
      },
      "outputs": [],
      "source": [
        "try:\n",
        "  # Posible error de ES\n",
        "  archivo = open(\"miarchivo.txt\")\n",
        "\n",
        "  # Posible error de división por cero\n",
        "  dividendo = 100\n",
        "  divisor = 0\n",
        "  cociente = dividendo / divisor\n",
        "except IOError:\n",
        "  print(\"Error de entrada/salida.\")\n",
        "except ZeroDivisionError:\n",
        "  # entrará aquí en caso que se haya producido\n",
        "  # una excepción ZeroDivisionError\n",
        "  print(\"No se permite la división por cero\")"
      ]
    },
    {
      "cell_type": "markdown",
      "metadata": {
        "id": "y9nK_BcMPgts"
      },
      "source": [
        "## Validación de entradas\n",
        "\n",
        "Las validaciones son técnicas que permiten asegurar que los valores con los que se vaya a operar estén dentro de determinado dominio.\n",
        "\n",
        "Estas técnicas son particularmente importantes al momento de utilizar entradas del usuario o de un archivo (o entradas externas en general) en nuestro código, y también se las utiliza para comprobar precondiciones. Al uso intensivo de estas técnicas se lo suele llamar programación defensiva."
      ]
    },
    {
      "cell_type": "markdown",
      "metadata": {
        "id": "jTMuvwqGPgts"
      },
      "source": [
        "A modo de ejemplo, la siguiente función realiza una división para calcular el costo unitario de un producto.\n"
      ]
    },
    {
      "cell_type": "code",
      "execution_count": null,
      "metadata": {
        "id": "ePjvGv7JPgts"
      },
      "outputs": [],
      "source": [
        "def costo_unitario(costo_total, cantidad_productos):\n",
        "  return costo_total / cantidad_productos;\n"
      ]
    },
    {
      "cell_type": "markdown",
      "metadata": {
        "id": "wr5JsKqXPgts"
      },
      "source": [
        "El siguiente llamado se realiza con éxito."
      ]
    },
    {
      "cell_type": "code",
      "execution_count": null,
      "metadata": {
        "id": "Vj1Hg299Pgts"
      },
      "outputs": [],
      "source": [
        "costo = 100000\n",
        "productos = 10\n",
        "\n",
        "print(\"El costo unitario es de: \", str(costo_unitario(costo, productos)))"
      ]
    },
    {
      "cell_type": "markdown",
      "metadata": {
        "id": "Z2YXHXOUPgts"
      },
      "source": [
        "El siguiente llamado genera un error."
      ]
    },
    {
      "cell_type": "code",
      "execution_count": null,
      "metadata": {
        "id": "e31OSxSVPgtt"
      },
      "outputs": [],
      "source": [
        "costo = 100000\n",
        "productos = 0\n",
        "\n",
        "print(\"El costo unitario es de: \", str(costo_unitario(costo, productos)))"
      ]
    },
    {
      "cell_type": "markdown",
      "metadata": {
        "id": "mbq-5YH_Pgtt"
      },
      "source": [
        "Utilizamos la función `assert` para validar que el argumento es mayor que cero. Si esto no ocurre, la ejecución se detiene y se le muesta al usuario el mensaje informativo para que corrija la condición que va a generar un error."
      ]
    },
    {
      "cell_type": "code",
      "execution_count": null,
      "metadata": {
        "id": "DGB3odb5Pgtu"
      },
      "outputs": [],
      "source": [
        "def costo_unitario(costo_total, cantidad_productos):\n",
        "  assert cantidad_productos > 0, \"cantidad_productos debe ser mayor que 0\"\n",
        "  return costo_total / cantidad_productos;"
      ]
    },
    {
      "cell_type": "code",
      "execution_count": null,
      "metadata": {
        "id": "nEhVhJJwPgtu"
      },
      "outputs": [],
      "source": [
        "costo = 100000\n",
        "productos = 0\n",
        "\n",
        "print(\"El costo unitario es de: \", str(costo_unitario(costo, productos)))"
      ]
    },
    {
      "cell_type": "markdown",
      "metadata": {
        "id": "0ixACq5fPgtv"
      },
      "source": [
        "Esta otra función requiere que el usuario ingrese un número entero. Genera un error si el valor ingresado no es un número entero `int(valor)` fallaría en ese caso."
      ]
    },
    {
      "cell_type": "code",
      "execution_count": null,
      "metadata": {
        "id": "ClEpsHOIPgtv"
      },
      "outputs": [],
      "source": [
        "def lee_entero():\n",
        "    \"\"\" Solicita un valor entero y lo devuelve.\n",
        "        Si el valor ingresado no es entero, lanza una excepción. \"\"\"\n",
        "    valor = input(\"Ingrese un número entero: \")\n",
        "    return int(valor)"
      ]
    },
    {
      "cell_type": "code",
      "execution_count": null,
      "metadata": {
        "id": "FcMUtuAoPgtv"
      },
      "outputs": [],
      "source": [
        "lee_entero()"
      ]
    },
    {
      "cell_type": "markdown",
      "metadata": {
        "id": "fYIzscfvPgtv"
      },
      "source": [
        "Esta otra versión corrije el problema, ya que genera un error si el valor ingresado es incorrecto. Además, le da al usuario la posibilidad de volver a ingresar el valor, en este caso 2 veces.\n",
        "\n",
        "> Indented block\n",
        "\n"
      ]
    },
    {
      "cell_type": "code",
      "execution_count": null,
      "metadata": {
        "id": "RxzrKFiJPgtv"
      },
      "outputs": [],
      "source": [
        "def lee_entero():\n",
        "    \"\"\" Solicita un valor entero y lo devuelve.\n",
        "        Si el valor ingresado no es entero, da 2 intentos para ingresarlo\n",
        "        correctamente, y de no ser así, lanza una excepción. \"\"\"\n",
        "    intentos = 0\n",
        "    while intentos < 2:\n",
        "        valor = input(\"Ingrese un número entero: \")\n",
        "        try:\n",
        "            valor = int(valor)\n",
        "            return valor\n",
        "        except ValueError:\n",
        "            intentos += 1\n",
        "    raise ValueError(\"Valor incorrecto ingresado en 2 intentos\")"
      ]
    },
    {
      "cell_type": "code",
      "execution_count": null,
      "metadata": {
        "id": "mCUJig3CPgtv"
      },
      "outputs": [],
      "source": [
        "lee_entero()"
      ]
    },
    {
      "cell_type": "markdown",
      "metadata": {
        "id": "pegE7zz_Pgtw"
      },
      "source": []
    },
    {
      "cell_type": "markdown",
      "metadata": {
        "id": "eV4Dv3MXPgtw"
      },
      "source": [
        "# Parte 11 - Uso de Bibliotecas\n",
        "---"
      ]
    },
    {
      "cell_type": "markdown",
      "metadata": {
        "id": "F3B5XcLiPgtw"
      },
      "source": [
        "Recordemos que una biblioteca es como una colección de herramientas y funciones que otras personas han creado y compartido para ayudar a los programadores a realizar tareas específicas de manera más fácil y eficiente. También existen bibliotecas que son parte del *core* de Python (como `math`).\n",
        "\n",
        "**¿Cómo o cuándo uso una biblioteca?**\n",
        "\n",
        "Imagine que está armando un rompecabezas. Normalmente, tendría que construir cada pieza por tu cuenta, pero con una biblioteca de Python, ya tiene muchas piezas predefinidas que puede usar directamente. Cada pieza de la biblioteca tiene una función específica y está diseñada para hacer una tarea particular. Por ejemplo, hay piezas para hacer cálculos matemáticos, manejar fechas y horarios, conectarse a bases de datos, leer archivos, crear gráficos y mucho más.\n",
        "\n",
        "La biblioteca está llena de ***funciones*** (las mismas que hemos mencionado en clases anteriores) y herramientas que ahorran tiempo y esfuerzo. En lugar de escribir todo el código desde cero, puede simplemente importar la biblioteca en su programa y usar esas funciones predefinidas para hacer lo que necesita. Es como tener un conjunto de herramientas listas para usar en su caja de herramientas.\n",
        "\n",
        "Además, las bibliotecas de Python a menudo vienen con documentación que explica cómo usar cada función y proporciona ejemplos de código. Esto ayuda a las personas principiantes a comprender cómo aplicar esas funciones en sus propios programas.\n"
      ]
    },
    {
      "cell_type": "markdown",
      "metadata": {
        "id": "lQdGUoF-Pgtw"
      },
      "source": [
        "### Ejemplo\n",
        "\n",
        "Supongamos que necesitamos ayudar que una persona que fue operada en los ojos y por tanto no podrá leer por un tiempo. Supongamos también que tenemos una forma de obtener los mensajes de texto que le mandan sus familiares y estos menssajes quedan guardados en una lista.\n",
        "\n",
        "Entonces necesitamos una biblioteca que tenga funciones que nos permitan convertir texto en audio. Si buscamos en internet, una de esas bibliotecas es `gTTS`.\n",
        "\n",
        "Por experiencia, sabemos que la mayoría de estas bibliotecas no está instalada en nuestro entorno de desarrollo (Google Colab en este caso). Hay varias formas de verificar eso."
      ]
    },
    {
      "cell_type": "code",
      "execution_count": null,
      "metadata": {
        "id": "Za7YFBYhPgtw"
      },
      "outputs": [],
      "source": [
        "#Forma 1\n",
        "try:\n",
        "    import gtts\n",
        "except ImportError:\n",
        "    # Que hacer si el módulo no se puede importar\n",
        "    print(\"Biblioteca no está instalada\")"
      ]
    },
    {
      "cell_type": "code",
      "execution_count": null,
      "metadata": {
        "id": "rTvabFKnPgtw"
      },
      "outputs": [],
      "source": [
        "#Forma 2\n",
        "!pip show gtts"
      ]
    },
    {
      "cell_type": "markdown",
      "metadata": {
        "id": "wpEEDzutPgtx"
      },
      "source": [
        "Nota: pip es una herramienta que permite instalar y administrar bibliotecas o paquetes de Python de manera sencilla. La forma de usar la herramienta en Google Colab es escribiendo `!pip`, seguido de las instrucciones necesarias.\n",
        "\n",
        "Por ejemplo, para instalar la biblioteca gTTS:"
      ]
    },
    {
      "cell_type": "code",
      "execution_count": null,
      "metadata": {
        "id": "2pq-xEQdPgtx"
      },
      "outputs": [],
      "source": [
        "!pip install gTTS"
      ]
    },
    {
      "cell_type": "markdown",
      "metadata": {
        "id": "3t2LZxPCPgtx"
      },
      "source": [
        "Una vez instalada la biblioteca y revisada la [documentación](https://gtts.readthedocs.io/en/latest/module.html) (usualmente podemos buscar como hacer un *hola mundo*), entonces hacemos una prueba sencilla."
      ]
    },
    {
      "cell_type": "code",
      "execution_count": null,
      "metadata": {
        "id": "-naFWybLPgtx"
      },
      "outputs": [],
      "source": [
        "import gtts as gt\n",
        "\n",
        "texto = \"Hola. Este es un ejemplo.\" # texto que queremos que se transforme en audio\n",
        "idioma = \"es\" #código del idioma (ver documentación para más códigos)\n",
        "\n",
        "audio = gt.gTTS(text=texto, lang=idioma) #crea el audio\n",
        "\n",
        "audio.save(\"ejemplo.mp3\") #guarda el audio en el entorno virtual de Colab\n"
      ]
    },
    {
      "cell_type": "markdown",
      "metadata": {
        "id": "GKfGBUapPgtx"
      },
      "source": [
        "## Ejercicio\n",
        "\n",
        "Dado el ejemplo de uso anterior de la biblioteca, escriba un programa que convierta una lista de textos en audios.\n",
        "\n",
        "Puede preguntarse antes:\n",
        "- ¿Debería hacer una función?\n",
        "\n",
        "\n",
        "> - Si sí, ¿cuál o cuáles serían sus parámetros?, ¿devuelve algo?\n",
        "- Si no, ¿por qué no debería ser función?\n",
        "\n"
      ]
    },
    {
      "cell_type": "code",
      "execution_count": null,
      "metadata": {
        "id": "JF1TwjBvPgtx"
      },
      "outputs": [],
      "source": [
        "from google.colab import files\n",
        "\n",
        "files.download('ejemplo.mp3')"
      ]
    },
    {
      "cell_type": "code",
      "execution_count": null,
      "metadata": {
        "id": "iA5RrdAqPgtx"
      },
      "outputs": [],
      "source": []
    },
    {
      "cell_type": "markdown",
      "metadata": {
        "id": "LxR8l5hqPgty"
      },
      "source": [
        "# Parte 12 - Resolución de Problemas\n",
        "---\n",
        "\n",
        "En esta parte vamos a conocer algunos  principios que podremos aplicar cuando nos enfrentamos a problemas de programación.\n",
        "\n",
        "Cualquier problema de programación representa un reto. Cuando estamos aprendiendo a programar, es normal sentirse un poco abrumado(a) sino sabemos cómo comenzar a resolver un problema.\n",
        "\n",
        "Esta situación nos va a ocurrir a todos(as) en mayor o menor medida y no es motivo para desalentarse. Incluso personas experimentadas pueden sentirse abrumadas cuando se enfrentan a un problema nuevo.\n"
      ]
    },
    {
      "cell_type": "markdown",
      "metadata": {
        "id": "_y0oC8WOPgty"
      },
      "source": [
        "## Resolución de problemas con `Python`\n",
        "\n",
        "Esta sección se basa en material del sitio web [Python Wife](https://pythonwife.com/problem-solving-in-python/).\n",
        "\n",
        "\n",
        "La resolución de problemas es el proceso de identificar un problema, crear un **algoritmo** para resolverlo y, por último, aplicar el algoritmo para desarrollar un programa informático.\n",
        "\n",
        "Un **algoritmo** es un proceso o conjunto de reglas que deben seguirse al realizar cálculos u otras operaciones de resolución de problemas. Es simplemente un conjunto de pasos para realizar una determinada tarea.\n",
        "\n",
        "Vamos a estudiar 5 pasos muy útiles para la resolución eficiente de problemas. Estos pasos son\n",
        "\n",
        "1. Comprender el problema\n",
        "1. Explorar ejemplos\n",
        "1. Descomponer el problema\n",
        "1. Solución o simplificación\n",
        "1. Revisión y mejoras\n"
      ]
    },
    {
      "cell_type": "markdown",
      "metadata": {
        "id": "IK1yU92cPgty"
      },
      "source": [
        "### Paso 1 - Comprender el problema\n",
        "\n",
        "Primero tenemos que examinar de cerca el lenguaje de la pregunta y luego seguir adelante. Las siguientes preguntas pueden ser útiles para comprender el problema planteado.\n",
        "\n",
        "1. ¿Se puede formular el problema con nuestras propias palabras?\n",
        "1. ¿Cuáles son las entradas necesarias para el problema?\n",
        "1. ¿Cuáles son los resultados del problema?\n",
        "1. ¿Pueden determinarse los resultados a partir de las entradas? En otras palabras, ¿tenemos información suficiente para resolver el problema?\n",
        "1. ¿Cómo deberían etiquetarse los datos importantes?\n"
      ]
    },
    {
      "cell_type": "markdown",
      "metadata": {
        "id": "oltbZwEGPgty"
      },
      "source": [
        "**Ejemplo**:\n",
        "\n",
        "Escriba una función que tome dos números y devuelva su suma.\n",
        "\n",
        "- ¿Se puede plantear el problema con nuestras propias palabras?\n",
        "\n",
        "  ```Implementar la suma```\n",
        "\n",
        "- ¿Cuáles son las entradas necesarias para el problema?\n",
        "\n",
        "  ```Entero, flotante, etc.```\n",
        "\n",
        "- ¿Cuáles son las salidas del problema?\n",
        "\n",
        "  ```Entero, flotante, etc.```\n",
        "\n",
        "- ¿Se pueden determinar las salidas a partir de las entradas? En otras palabras, ¿tenemos suficiente información para resolver el problema?\n",
        "\n",
        "  ```Sí```\n",
        "\n",
        "- ¿Cómo deben etiquetarse los datos importantes?\n",
        "\n",
        "  ```Añadir, Sumar```"
      ]
    },
    {
      "cell_type": "markdown",
      "metadata": {
        "id": "_2VlZRA3Pgty"
      },
      "source": [
        "### Paso 2 - Explorar Ejemplos\n",
        "\n",
        "Una vez comprendido el problema, podemos buscar varios ejemplos relacionados con él. Los ejemplos deben abarcar todas las situaciones que pueden darse durante la aplicación.\n",
        "\n",
        "- Empiece con ejemplos sencillos.\n",
        "- Continúe con ejemplos más complejos.\n",
        "- Explora ejemplos con entradas vacías.\n",
        "- Explore ejemplos con entradas no válidas.\n"
      ]
    },
    {
      "cell_type": "markdown",
      "metadata": {
        "id": "e2He83RhPgty"
      },
      "source": [
        "**Ejemplo** : Escriba una función `charCount(cadena)` que tome una cadena como entrada y devuelva la cuenta de cada carácter.\n",
        "\n",
        "*Empezar con ejemplos simples*\n",
        "\n",
        "```\n",
        "charCount(\"bbbb\")\n",
        "# {b: 4}\n",
        "charCount(\"hola\")\n",
        "# {h: 1, o: 1, l: 1, a: 1}\n",
        "```\n",
        "\n",
        "*Pasar a ejemplos más complejos*\n",
        "```\n",
        "charCount(\"Me llamo Raquel\")\n",
        "# ???\n",
        "```\n",
        "\n",
        "*Explorar ejemplos con entradas vacías*\n",
        "```\n",
        "charCount(\"\")\n",
        "# ???\n",
        "```\n",
        "\n",
        "*Explorar ejemplos con entradas no válidas*\n",
        "```\n",
        "charCount(10)\n",
        "# ???\n",
        "```"
      ]
    },
    {
      "cell_type": "markdown",
      "metadata": {
        "id": "lLMhBNDnPgty"
      },
      "source": [
        "### Paso 3 - Descomponer el Problema en Partes\n",
        "\n",
        "Después de explorar ejemplos relacionados con el problema, tenemos que descomponerlo. Antes de la implementación, escribimos los pasos que hay que dar para resolver la cuestión.\n",
        "\n",
        "**Ejemplo** : Escribe una función que tome una cadena como entrada y devuelva la cuenta de cada carácter. Es decir, el número de veces que aparece cada caracter en la cadena.\n",
        "\n"
      ]
    },
    {
      "cell_type": "code",
      "execution_count": null,
      "metadata": {
        "id": "THHsmmCRPgty"
      },
      "outputs": [],
      "source": [
        "def contarCaracteres(cadenaTexto):\n",
        "  # Declara un objeto para retornar al final de la función\n",
        "  # Recorre la cadena de texto ingresada\n",
        "      # Si el carácter es una letra y está en nuestro objeto, añade uno al valor\n",
        "      # Si el char es una letra y no está en nuestro objeto\n",
        "      # añade esa letra a nuestro objeto con el valor de uno\n",
        "  # Retorne el objeto"
      ]
    },
    {
      "cell_type": "markdown",
      "metadata": {
        "id": "gQ0Edw4JPgtz"
      },
      "source": [
        "### Paso 4 - Solución o Simplificación\n",
        "\n",
        "Una vez que hemos establecido los pasos para resolver el problema, intentamos encontrar la solución a la pregunta. Si no se puede encontrar la solución, se intenta simplificar el problema.\n",
        "\n",
        "Los pasos para simplificar un problema son los siguientes:\n",
        "\n",
        "1. Encontrar la dificultad central\n",
        "1. Ignorar temporalmente la dificultad\n",
        "1. Escribir una solución simplificada\n",
        "1. Luego incorporar esa dificultad\n",
        "\n",
        "**Ejemplo** : Escribe una función que tome una cadena como entrada y devuelva la cuenta de cada carácter. Es decir, el número de veces que aparece cada caracter en la cadena."
      ]
    },
    {
      "cell_type": "code",
      "execution_count": null,
      "metadata": {
        "id": "f2QFC5eCPgtz"
      },
      "outputs": [],
      "source": [
        "def contarCaracteres1(cadenaTexto):\n",
        "  # Declara un objeto para retornar al final de la función\n",
        "  resultado = {}\n",
        "  # Recorre la cadena\n",
        "  for char in cadenaTexto:\n",
        "    # Si el carácter es una letra y está en nuestro objeto, añade uno al valor\n",
        "    if char in resultado:\n",
        "      resultado[char] += 1\n",
        "    # Si el carácter es una letra y no está en nuestro objeto,\n",
        "    # añade esa letra a nuestro objeto con el valor de uno\n",
        "    else:\n",
        "      resultado[char] = 1\n",
        "  # Devuelve el objeto\n",
        "  return resultado"
      ]
    },
    {
      "cell_type": "markdown",
      "metadata": {
        "id": "Zk9HGG9lPgtz"
      },
      "source": [
        "Hagamos una prueba de la función"
      ]
    },
    {
      "cell_type": "code",
      "execution_count": null,
      "metadata": {
        "id": "Tqa_Zy8-Pgtz"
      },
      "outputs": [],
      "source": [
        "print(contarCaracteres1(\"hola\"))"
      ]
    },
    {
      "cell_type": "markdown",
      "metadata": {
        "id": "zkObDOHfPgtz"
      },
      "source": [
        "Debería darnos una salida como esta:\n",
        "\n",
        "```\n",
        "#Salida\n",
        "{'h': 1, 'o': 1, 'l': 1, 'a': 1}\n",
        "```"
      ]
    },
    {
      "cell_type": "markdown",
      "metadata": {
        "id": "hcOSDPQtPgt0"
      },
      "source": [
        "### Paso 5 - Revisión y Mejoras\n",
        "\n",
        "En la jerga de la programación, el proceso de revisión y mejora del código se le conoce con el término `Refactorización`\n",
        "\n",
        "Ya que hemos completado la implementación del problema, ahora revisamos el código y lo refactorizamos si es necesario. Refactorizar el código es un paso importante para mejorar la calidad de un programa.\n",
        "\n",
        "Las siguientes preguntas pueden ser útiles al revisar el código y refactorizarlo:\n",
        "\n",
        "1. ¿Podemos comprobar el resultado?\n",
        "1. ¿Podemos obtener el resultado de otra manera?\n",
        "1. ¿Podemos entenderlo de un vistazo?\n",
        "1. ¿Podemos utilizar el resultado o el método para algún otro problema?\n",
        "1. ¿Se puede mejorar el rendimiento de la solución?\n",
        "1. ¿Cómo resuelven el problema otras personas?"
      ]
    },
    {
      "cell_type": "markdown",
      "metadata": {
        "id": "fnNNsh4tPgt0"
      },
      "source": [
        "**Ejemplo** : Escribe una función que tome una cadena como entrada y devuelva la cuenta de cada carácter. Es decir, el número de veces que aparece cada caracter en la cadena.\n"
      ]
    },
    {
      "cell_type": "code",
      "execution_count": null,
      "metadata": {
        "id": "wfIX4y1sPgt0"
      },
      "outputs": [],
      "source": [
        "def contarCaracteres2(cadenaTexto):\n",
        "  # Declara un objeto para retornar al final de la función\n",
        "  resultado = {}\n",
        "  # Recorre la cadena\n",
        "  for i in cadenaTexto.lower():\n",
        "    # Si el carácter es una letra minúscula y está en nuestro objeto, añade uno al valor\n",
        "    if isinstance(i, str) and not(i.isspace()):\n",
        "      if i in resultado:\n",
        "          resultado[i] += 1\n",
        "    # Si el carácter es una letra minúscula y no está en nuestro objeto,\n",
        "    # añade ese carácter a nuestro objeto con el valor de uno\n",
        "      else:\n",
        "        resultado[i] = 1\n",
        "  # Devuelve el objeto\n",
        "  return resultado"
      ]
    },
    {
      "cell_type": "markdown",
      "metadata": {
        "id": "IyOFRz7kPgt0"
      },
      "source": [
        "Probemos la nueva función"
      ]
    },
    {
      "cell_type": "code",
      "execution_count": null,
      "metadata": {
        "id": "2isK7SATPgt0"
      },
      "outputs": [],
      "source": [
        "print(contarCaracteres2(\"hola mundo\"))"
      ]
    },
    {
      "cell_type": "markdown",
      "metadata": {
        "id": "TlYS7Tx0Pgt0"
      },
      "source": [
        "Debería darnos una salida como esta:\n",
        "\n",
        "```\n",
        "#Salida\n",
        "{'h': 1, 'o': 2, 'l': 1, 'a': 1, 'm': 1, 'u': 1, 'n': 1, 'd': 1}\n",
        "\n",
        "```"
      ]
    },
    {
      "cell_type": "markdown",
      "metadata": {
        "id": "q-VqB7ehPgt0"
      },
      "source": [
        "Pero además esta función evita contar caractéres en blanco como `\" \"` lo cual es conveniente cuando hay más de una palabra en la cadena de texto."
      ]
    },
    {
      "cell_type": "markdown",
      "metadata": {
        "id": "fj1b10vZPgt1"
      },
      "source": [
        "# Parte 13 - Ejercicios Prácticos\n",
        "---\n",
        "Algunos ejemplos de programación en `Python`\n",
        "https://aprendeconalf.es/docencia/python/ejercicios/\n"
      ]
    },
    {
      "cell_type": "markdown",
      "metadata": {
        "id": "KOyjvVjSPgt1"
      },
      "source": [
        "# Parte 14 - Asignación de retos\n",
        "---\n",
        "\n",
        "\n",
        "Pendiente\n"
      ]
    },
    {
      "cell_type": "markdown",
      "metadata": {
        "id": "YJkGCGWQPgt1"
      },
      "source": []
    },
    {
      "cell_type": "markdown",
      "metadata": {
        "id": "kCtKav-QPgt1"
      },
      "source": [
        "# Parte 15 - Ejercicios - Presentación de Resultados\n",
        "---\n",
        "En la clase de hoy estaremos trabajando con los ejercicios del cuaderno número 6. Por favor unirse a cualquiera de las salas de trabajo."
      ]
    },
    {
      "cell_type": "markdown",
      "metadata": {
        "id": "8cp3D7iOPgt1"
      },
      "source": [
        "## Ejercicio 1\n",
        "Escribir una función a la que se le pase una cadena `nombre` y muestre por pantalla el saludo ¡hola `nombre`!"
      ]
    },
    {
      "cell_type": "code",
      "execution_count": null,
      "metadata": {
        "id": "mf-jZf3hPgt2"
      },
      "outputs": [],
      "source": [
        "def greet():\n",
        "    \"\"\"Función que muestra un saludo por pantalla.\n",
        "    Parámetros\n",
        "    nombre: Nombre del usuario\n",
        "    Devuelve el saludo ¡Hola nombre!.\n",
        "    \"\"\"\n",
        "\n",
        "greet('Alf')\n",
        "greet('Python')"
      ]
    },
    {
      "cell_type": "markdown",
      "metadata": {
        "id": "Ff_EyFxCPgt2"
      },
      "source": [
        "## Ejercicio 2\n",
        "Escribir una función que calcule el área de un círculo y otra que calcule el volumen de un cilindro usando la primera función."
      ]
    },
    {
      "cell_type": "code",
      "execution_count": null,
      "metadata": {
        "id": "n9NKjwjePgt2"
      },
      "outputs": [],
      "source": [
        "import math\n",
        "\n",
        "def circle_area(radius):\n",
        "  \"\"\"Función que calcula el area de un círculo.\n",
        "  Parámetros\n",
        "  radius: Es el radio del círculo.\n",
        "  Devuelve el área del círculo de radio radius.\n",
        "  \"\"\"\n",
        "  return math.pi * pow(radius,2)\n",
        "\n",
        "def cilinder_volume(radius, high):\n",
        "    \"\"\"Función que calcula el volumen de un cilindro.\n",
        "    Parámetros\n",
        "    radius: Es el radio de la base del cilindro.\n",
        "    high: Es la altura del cilindro.\n",
        "    Devuelve el volumen del clindro de radio radius y altura high.\n",
        "    \"\"\"\n",
        "\n",
        "print(circle_area(1))\n",
        "print(cilinder_volume(3,5))"
      ]
    },
    {
      "cell_type": "code",
      "execution_count": null,
      "metadata": {
        "id": "FsGsgG9KPgt2"
      },
      "outputs": [],
      "source": []
    },
    {
      "cell_type": "markdown",
      "metadata": {
        "id": "VD2wTHwjPgt2"
      },
      "source": [
        "## Ejercicio 3\n",
        "Escribir una función que reciba una muestra de números en una lista y devuelva su media."
      ]
    },
    {
      "cell_type": "code",
      "execution_count": null,
      "metadata": {
        "id": "RXKfSPMgPgt2"
      },
      "outputs": [],
      "source": [
        "def mean(sample):\n",
        "    \"\"\"Función que calcula la media de una muestra de números.\n",
        "    Parámetros\n",
        "    sample: Es una lista de números\n",
        "    Devuelve la media de los números en sample.\n",
        "    \"\"\"\n",
        "\n",
        "print(mean([1, 2, 3, 4, 5]))\n",
        "print(mean([2.3, 5.7, 6.8, 9.7, 12.1, 15.6]))"
      ]
    },
    {
      "cell_type": "markdown",
      "metadata": {
        "id": "9xPmnZwVPgt2"
      },
      "source": [
        "## Ejercicio 4\n",
        "Escribir una función que convierta un número decimal a string y otra que convierta un string a decimal."
      ]
    },
    {
      "cell_type": "code",
      "execution_count": null,
      "metadata": {
        "id": "pCAeyKAKPgt3"
      },
      "outputs": [],
      "source": [
        "def to_decimal(n):\n",
        "    \"\"\"Función que convierte un string en decimal.\n",
        "    Parámetros:\n",
        "        - n: Es un string.\n",
        "    Devuelve:\n",
        "        El número decimal correspondiente a n.\n",
        "    \"\"\"\n",
        "\n",
        "def to_string(n):\n",
        "    \"\"\"Función que convierte un número decimal a string.\n",
        "    Parámetros:\n",
        "        - n: Es un número entero.\n",
        "    Devuelve:\n",
        "        El string correspondiente a n.\n",
        "    \"\"\"\n",
        "\n",
        "print(to_decimal('10110'))\n",
        "print(to_string(22))\n",
        "print(to_decimal(to_string(22)))\n",
        "print(to_string(to_decimal('10110')))"
      ]
    },
    {
      "cell_type": "markdown",
      "metadata": {
        "id": "FNzrgXHpPgt3"
      },
      "source": [
        "## Ejercicio 5\n",
        "\n",
        "Dado el ejemplo de uso anterior de la biblioteca, escriba un programa que convierta una lista de textos en audios.\n",
        "\n",
        "Puede preguntarse antes:\n",
        "- ¿Debería hacer una función?\n",
        "\n",
        "\n",
        "> - Si sí, ¿cuál o cuáles serían sus parámetros?, ¿devuelve algo?\n",
        "- Si no, ¿por qué no debería ser función?"
      ]
    },
    {
      "cell_type": "code",
      "execution_count": null,
      "metadata": {
        "id": "jUJ9MMLaPgt3"
      },
      "outputs": [],
      "source": [
        "from google.colab import files\n",
        "\n",
        "files.download('ejemplo.mp3')"
      ]
    },
    {
      "cell_type": "markdown",
      "metadata": {
        "id": "hLJn2-eSPgt3"
      },
      "source": [
        "## Ejercicio 6 (depuración)\n",
        "Corregir los errores sintácticos del siguiente programa:"
      ]
    },
    {
      "cell_type": "code",
      "execution_count": null,
      "metadata": {
        "id": "Tpfpwe5ZPgt3"
      },
      "outputs": [],
      "source": [
        "contraseña = input('Introduce la contraseña: \")\n",
        "if contraseña in ['sesamo'):\n",
        "  print('Pasa')\n",
        "else\n",
        "  print('No pasa')"
      ]
    },
    {
      "cell_type": "markdown",
      "metadata": {
        "id": "rTGr5vx3Pgt3"
      },
      "source": [
        "## Ejercicio 7 (depuración)\n",
        "Detectar y corregir los errores del siguiente programa que aplica el iva a una factura:"
      ]
    },
    {
      "cell_type": "code",
      "execution_count": null,
      "metadata": {
        "id": "pPIh5Q3SPgt4"
      },
      "outputs": [],
      "source": [
        "base = input('Introduce la base imponible de la factura: ')\n",
        "print(aplica_iva(base, iva))\n",
        "\n",
        "def aplica_iva(base, iva = 21):\n",
        "  base = base * iva\n",
        "  return base"
      ]
    },
    {
      "cell_type": "markdown",
      "metadata": {
        "id": "UJcHgcyOPgt4"
      },
      "source": [
        "# Parte 16 - Cierre del curso\n",
        "---\n",
        "¡Esperamos hayan disfrutado y aprendido del curso!"
      ]
    }
  ],
  "metadata": {
    "colab": {
      "provenance": [],
      "toc_visible": true
    },
    "kernelspec": {
      "display_name": "Python 3",
      "name": "python3"
    },
    "language_info": {
      "name": "python"
    }
  },
  "nbformat": 4,
  "nbformat_minor": 0
}