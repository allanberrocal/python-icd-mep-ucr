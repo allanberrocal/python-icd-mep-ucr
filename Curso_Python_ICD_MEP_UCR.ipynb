{
  "cells": [
    {
      "cell_type": "markdown",
      "metadata": {
        "id": "9Alxl7eFYpN1"
      },
      "source": [
        "# Presentación"
      ]
    },
    {
      "cell_type": "markdown",
      "metadata": {
        "id": "ua3KeboKaQ30"
      },
      "source": [
        "<img src=\"https://drive.google.com/uc?export=view&id=1k09KTfBxbdFVjI53XLJAzFMxc9wJ59Eo\" alt=\"Intro\" style=\"height: 100px; width:100px;\"/>\n",
        "\n"
      ]
    },
    {
      "cell_type": "markdown",
      "metadata": {
        "id": "wduphuUWf4fV"
      },
      "source": [
        "\n",
        "# Descripción\n",
        "\n",
        "### Motivación\n",
        "\n",
        "Este es un curso introductorio para el lenguaje de programación `Python` creado como parte del proyecto de Acción Social de Universidad de Costa Rica llamado \"__ED-3582 Promoviendo el uso de herramientas tecnológicas como apoyo para la sociedad en colegios de zonas vulnerabilizadas__\".\n",
        "\n",
        "El curso se desarrolla de manera virtual combinando clases sincrónicas y trabajo individual extra clase. En cada sesión se presentarán diversos temas sobre el lenguaje de programación `Python` y se asignarán temas para lectura y estudio individual de las personas participantes. El curso es 100% práctico y se espera que todas las personas participantes realicen las actividades que están preparadas para cada sesión.\n",
        "\n",
        "Es necesario tener una computadora con acceso a internet y una cuenta de Google para sacar el máximo provecho al curso.\n",
        "\n",
        "\n",
        "\n",
        "### Docentes del curso:\n",
        "\n",
        "- Dra. Kryscia Ramírez Benavides\n",
        "- Dr. Luis Quesada Quirós\n",
        "- M.Sc. Maureen Murillo Rivera\n",
        "- Dr. Allan Berrocal Rojas\n",
        "\n",
        "Todos(as) docentes de la Escuela de Ciencias de la Computación e Informática de la Universidad de Costa Rica.\n",
        "\n",
        "### Créditos\n",
        "\n",
        "Esta presentación utiliza algunos materiales disponibles en internet que fueron desarrollados por las siguientes personas. Se hace mención en general a los siguientes cursos:\n",
        "- [Curso básico de Python - Sergio Paredes](https://github.com/sergioparedesv/curso-basico-python)\n",
        "- [Python para principiantes - Lorena Ceballos](https://github.com/LceballosE/Python-para-Principiantes)\n",
        "- [Introducción a Python - Insituto Humai, Argentina](https://github.com/institutohumai/cursos-python/tree/master/Introduccion)\n",
        "- Con aportes valiosos de estudiantes del TCU-780: Mauricio Delgado Leandro y Hansel Solís Ramírez\n",
        "\n",
        "### Otros recursos de consulta\n",
        "\n",
        "- [Python para principiantes](https://uniwebsidad.com/libros/python)\n",
        "- [Algoritmos de Programación con Python](https://uniwebsidad.com/libros/algoritmos-python)\n",
        "---"
      ]
    },
    {
      "cell_type": "markdown",
      "metadata": {
        "id": "UY6MfICPf4fW"
      },
      "source": [
        "## Agenda\n",
        "\n",
        "__Parte 1__\n",
        "\n",
        "1. Preparación del entorno de desarrollo\n",
        "1. Introducción al lenguaje de programación\n",
        "1. Variables y tipos de datos\n",
        "\n",
        "__Parte 2__\n",
        "1. Operaciones aritméticas y lógicas\n",
        "1. Procesamiento de cadenas de texto\n",
        "1. Entradas y salidas\n",
        "\n",
        "__Parte 3__\n",
        "1. Estructuras de control: condicionales y ciclos\n",
        "1. Estructuras de datos: Listas\n",
        "1. Lectura y escritura de archivos\n",
        "\n",
        "__Parte 4__\n",
        "1. Funciones\n",
        "1. Uso de bibliotecas\n",
        "1. Depuración y manejos de errores\n",
        "\n",
        "__Parte 5__\n",
        "1. Manipulación de datos\n",
        "1. Gráficos y visualización\n",
        "1. Resolución de problemas\n",
        "\n",
        "__Parte 6__\n",
        "1. Ejercicios prácticos\n",
        "1. Cierre del curso\n",
        "---\n"
      ]
    },
    {
      "cell_type": "markdown",
      "source": [
        "# Parte 1.1 - Entorno de trabajo\n",
        "---\n",
        "\n",
        "## Google Collab\n",
        "\n",
        "Conoceremos algunos aspecto básicos sobre esta herramienta antes de comenzar el curso."
      ],
      "metadata": {
        "id": "YCSOC0KqyioD"
      }
    },
    {
      "cell_type": "markdown",
      "metadata": {
        "id": "_yUeefYQf4fZ"
      },
      "source": [
        "# Parte 1.2 - El lenguaje de programación\n",
        "---"
      ]
    },
    {
      "cell_type": "markdown",
      "metadata": {
        "id": "GDLOwrOty-vf"
      },
      "source": [
        "## Introducción"
      ]
    },
    {
      "cell_type": "markdown",
      "metadata": {
        "id": "CTT2dnnOf4fa",
        "jupyter": {
          "source_hidden": true
        }
      },
      "source": [
        "Para conocer un poco de la historia de `Python` puede consultar [esta página](https://es.wikipedia.org/wiki/Historia_de_Python). La creación del lenguaje se le atribuye a [Guido van Rossum](https://es.wikipedia.org/wiki/Guido_van_Rossum) un informático Holandés.\n",
        "\n",
        "Algunas características de `Python`\n",
        "- Es un lenguaje de programación interpretado. Es decir el código de un programa escrito en `Python` no es compilado sino que es leído o interpretado por otro programa (intérprete de `Python`) que se encarga de producir las instrucciones de más bajo nivel que debe realizar el computador.\n",
        "- Es dinámicamente tipado. Es decir, las variables pueden tomar valores de distintos tipos.\n",
        "- Como lenguaje pasó por la versión 1.x, 2.x, y actualmente se encuentra en la versión 3.10.x.\n",
        "- Es uno de los lenguajes de programación más utilizados en la actualidad para diversas aplicaciones.\n",
        "\n",
        "Se puede encontrar más información sobre el lenguaje en su página oficial [python.org](https://www.python.org/).\n",
        "\n",
        "Para propósitos de aprendizaje, puede utilizar este intérprete de `Python` que se encuentra el línea [Programiz.com](https://www.programiz.com/python-programming/online-compiler/)"
      ]
    },
    {
      "cell_type": "markdown",
      "metadata": {
        "id": "RH5MiZ5tf4fb",
        "jupyter": {
          "source_hidden": true
        }
      },
      "source": [
        "## Reglas de Python\n",
        "- Evitar espacios blancos extras\n",
        "- Comentarios en una línea (#Comentario de una línea)\n",
        "- Comentarios en múltiples líneas  (\"\"\"Comentario multilínea líneas\"\"\")\n",
        "- Identación: La identación es un término que hace referencia en darle jerarquía al código."
      ]
    },
    {
      "cell_type": "markdown",
      "metadata": {
        "id": "sPlonvj8f4ff",
        "jupyter": {
          "source_hidden": true
        }
      },
      "source": [
        "## Primer programa\n",
        "\n",
        "En la celda de abajo escriba lo siguiente:\n",
        "\n",
        "``print(\"Hola mundo\")``\n",
        "\n",
        "Luego dar clic en el ícono para ejecutar la celda."
      ]
    },
    {
      "cell_type": "code",
      "execution_count": null,
      "metadata": {
        "colab": {
          "base_uri": "https://localhost:8080/"
        },
        "id": "D1jr2M4uf4fh",
        "jupyter": {
          "source_hidden": true
        },
        "outputId": "b3d6b66d-4936-4853-8aef-96e33060080d"
      },
      "outputs": [
        {
          "name": "stdout",
          "output_type": "stream",
          "text": [
            "Hola Mundo\n"
          ]
        }
      ],
      "source": [
        "print(\"Hola Mundo\")"
      ]
    },
    {
      "cell_type": "code",
      "execution_count": null,
      "metadata": {
        "id": "EWIbdeOqf4fj",
        "jupyter": {
          "source_hidden": true
        }
      },
      "outputs": [],
      "source": [
        "a = 5\n",
        "b = 4\n",
        "resultado = a+b\n",
        "print(resultado)"
      ]
    },
    {
      "cell_type": "markdown",
      "metadata": {
        "id": "tz9cBZUpdLVZ",
        "jupyter": {
          "source_hidden": true
        }
      },
      "source": [
        "<div class=\"alert alert-success\" role=\"alert\">\n",
        "  Perfecto, es hora de saludar a alguien, en mi caso a <b>Ana</b>\n",
        "</div>"
      ]
    },
    {
      "cell_type": "markdown",
      "metadata": {
        "id": "goKOjBHrdLVZ",
        "jupyter": {
          "source_hidden": true
        }
      },
      "source": [
        "## Ejemplo"
      ]
    },
    {
      "cell_type": "code",
      "execution_count": null,
      "metadata": {
        "id": "pv1fbTl-UvDI",
        "jupyter": {
          "source_hidden": true
        }
      },
      "outputs": [],
      "source": [
        "print(\"Hola Ana\") # Perfecto, da clic en Run y observa lo que ocurre."
      ]
    },
    {
      "cell_type": "markdown",
      "metadata": {
        "id": "zv6W5q21UvDT",
        "jupyter": {
          "source_hidden": true
        }
      },
      "source": [
        "¿Por qué el contenido del (#Perfecto, haz clic en Run y observa lo que ocurre.) no aparece en la salida?\n",
        "\n",
        "Naturalmente los comentarios son solo para los programadores, los usuarios finales no pueden verlos."
      ]
    },
    {
      "cell_type": "code",
      "execution_count": null,
      "metadata": {
        "id": "I0iYP0rAUvDT",
        "jupyter": {
          "source_hidden": true
        },
        "outputId": "a6bafcec-27c3-401c-d342-2fd3968dd6f4",
        "colab": {
          "base_uri": "https://localhost:8080/",
          "height": 54
        }
      },
      "outputs": [
        {
          "output_type": "stream",
          "name": "stdout",
          "text": [
            "Hola Alberto\n"
          ]
        },
        {
          "output_type": "execute_result",
          "data": {
            "text/plain": [
              "'Pero este sí?, realmente no aparece para el usuario final, solo para el programador'"
            ],
            "application/vnd.google.colaboratory.intrinsic+json": {
              "type": "string"
            }
          },
          "metadata": {},
          "execution_count": 1
        }
      ],
      "source": [
        "print(\"Hola Alberto\")\n",
        "'''Pero este sí?, realmente no aparece para el usuario final, solo para el programador'''"
      ]
    },
    {
      "cell_type": "markdown",
      "metadata": {
        "id": "U6-p9NF0UvDU",
        "jupyter": {
          "source_hidden": true
        }
      },
      "source": [
        "## Operaciones aritméticas básicas\n",
        "\n",
        "En las celdas de abajo, escriba en cada una operaciones que corresponde, luego presione<b> (shift+enter)</b> para ejecutar el script, o bien haga clic en el botón de ejecutar la celda.\n"
      ]
    },
    {
      "cell_type": "markdown",
      "metadata": {
        "id": "XBbmYlNbUvDU",
        "jupyter": {
          "source_hidden": true
        }
      },
      "source": [
        "<p class=\"lead\">1. Suma (2+2) </p>"
      ]
    },
    {
      "cell_type": "code",
      "execution_count": null,
      "metadata": {
        "id": "UvtP4o2HUvDU",
        "jupyter": {
          "source_hidden": true
        }
      },
      "outputs": [],
      "source": []
    },
    {
      "cell_type": "markdown",
      "metadata": {
        "id": "qDbIK1vvUvDU",
        "jupyter": {
          "source_hidden": true
        }
      },
      "source": [
        "<p class=\"lead\">2. Resta (2-2) </p>"
      ]
    },
    {
      "cell_type": "code",
      "execution_count": null,
      "metadata": {
        "id": "7iVAqe9gUvDU",
        "jupyter": {
          "source_hidden": true
        }
      },
      "outputs": [],
      "source": []
    },
    {
      "cell_type": "markdown",
      "metadata": {
        "id": "54zDxfTaUvDV",
        "jupyter": {
          "source_hidden": true
        }
      },
      "source": [
        "<p class=\"lead\">3. Multiplicación (2*3) </p>"
      ]
    },
    {
      "cell_type": "code",
      "execution_count": null,
      "metadata": {
        "id": "ns_O4LvzUvDV",
        "jupyter": {
          "source_hidden": true
        }
      },
      "outputs": [],
      "source": []
    },
    {
      "cell_type": "markdown",
      "metadata": {
        "id": "6DjCqtrqUvDV",
        "jupyter": {
          "source_hidden": true
        }
      },
      "source": [
        "<p class=\"lead\">4. Divisiones (2/2) </p>"
      ]
    },
    {
      "cell_type": "code",
      "execution_count": null,
      "metadata": {
        "id": "LVdod_vsUvDV",
        "jupyter": {
          "source_hidden": true
        }
      },
      "outputs": [],
      "source": []
    },
    {
      "cell_type": "markdown",
      "metadata": {
        "id": "N-2lIQSOUvDW",
        "jupyter": {
          "source_hidden": true
        }
      },
      "source": [
        "<p class=\"lead\">5. Potencia (2**3) </p>"
      ]
    },
    {
      "cell_type": "code",
      "execution_count": null,
      "metadata": {
        "id": "Nr5SAGOxUvDW",
        "jupyter": {
          "source_hidden": true
        }
      },
      "outputs": [],
      "source": []
    },
    {
      "cell_type": "markdown",
      "metadata": {
        "id": "PQ6uISbyUvDW",
        "jupyter": {
          "source_hidden": true
        }
      },
      "source": [
        "<p class=\"lead\">6. Raiz (4**(1/2)) </p>"
      ]
    },
    {
      "cell_type": "code",
      "execution_count": null,
      "metadata": {
        "id": "5Z3PRKg4UvDW",
        "jupyter": {
          "source_hidden": true
        }
      },
      "outputs": [],
      "source": []
    },
    {
      "cell_type": "markdown",
      "metadata": {
        "id": "9ZbGRFxCUvDW",
        "jupyter": {
          "source_hidden": true
        }
      },
      "source": [
        "<p class=\"lead\">7. Operaciones: 2+5*3 </p>"
      ]
    },
    {
      "cell_type": "code",
      "execution_count": null,
      "metadata": {
        "id": "zsFTGw-xUvDW",
        "jupyter": {
          "source_hidden": true
        }
      },
      "outputs": [],
      "source": []
    },
    {
      "cell_type": "markdown",
      "metadata": {
        "id": "gN-_1oeyUvDX",
        "jupyter": {
          "source_hidden": true
        }
      },
      "source": [
        "<p class=\"lead\">8. Operaciones: 2+2**4 </p>"
      ]
    },
    {
      "cell_type": "code",
      "execution_count": null,
      "metadata": {
        "id": "DnGpSoVpUvDX",
        "jupyter": {
          "source_hidden": true
        }
      },
      "outputs": [],
      "source": []
    },
    {
      "cell_type": "markdown",
      "metadata": {
        "id": "pbSHkpMuUvDX",
        "jupyter": {
          "source_hidden": true
        }
      },
      "source": [
        "Si nota que las operaciones dan resultados que no esperaba, no se preocupe. No es un error de Python.\n",
        "Se nos enseña a hacer operaciones de derecha a izquierda, pero en realidad las operaciones van de más complejas a menos\n",
        "complejas. Por eso resuelve primero las potencias o raíces, luego multiplicaciones y finalmente las sumas y restas."
      ]
    },
    {
      "cell_type": "markdown",
      "metadata": {
        "id": "v7imx2DLf4fp"
      },
      "source": [
        "# Parte 1.3 - Variables y tipos de datos\n",
        "---"
      ]
    },
    {
      "cell_type": "markdown",
      "metadata": {
        "id": "4XlHHk6mzViT"
      },
      "source": [
        "## Definición\n",
        "\n",
        "En los lenguajes de programacón, una variable le permite hacer referencia a un valor con un nombre.\n",
        "Por ejemplo\n",
        "\n",
        "`x = 5`\n",
        "\n",
        "Ahora puede utilizar el nombre de la variable, `x` en lugar del valor real, `5`. Recuerde, el símbolo `=` en `Python` significa asignación, No prueba igualdad.\n"
      ]
    },
    {
      "cell_type": "markdown",
      "metadata": {
        "id": "G2R-FZIMf4fp"
      },
      "source": [
        "## ¿Por qué variables?\n",
        "\n",
        "Imagine un programa para calcular el IMC (índice de masa corporal) de una persona. Este indicador se calcula a partir de las variables altura y peso. Si desea calcular el IMC para varias personas, simplemente puede cambiar el valor de las variables peso y altura y volver a realizar el cálculo. El IMC cambia en consecuencia, porque el valor del peso variable también ha cambiado."
      ]
    },
    {
      "cell_type": "code",
      "execution_count": null,
      "metadata": {
        "colab": {
          "base_uri": "https://localhost:8080/"
        },
        "id": "wkNap12mf4fp",
        "outputId": "c51b51a7-b34f-416b-ec36-4b9103a18e4c"
      },
      "outputs": [
        {
          "output_type": "stream",
          "name": "stdout",
          "text": [
            "0.20205882352941176\n",
            "0.808235294117647\n"
          ]
        }
      ],
      "source": [
        "altura = 170\n",
        "peso = 68.7\n",
        "imc = peso / altura *2\n",
        "\n",
        "print(imc)\n",
        "\n",
        "print(peso / altura *2)"
      ]
    },
    {
      "cell_type": "markdown",
      "metadata": {
        "id": "2UigBKJ5f4fq"
      },
      "source": [
        "## Nombres de variables\n",
        "\n",
        "Se recomienda utilizar nombres descriptivos y en minúsculas. Para nombres compuestos, es usual separar las palabras por guiones bajos (por ejemplo, `primer_nombre`), o juntar palabras utilizando mayúsculas para la primera letra de la segunda palabra en adelante (por ejemplo, `primerNombre`).\n",
        "\n",
        "En `Python` los nombres de variables no pueden comenzar con números, ni con muchos símbolos especiales como `/&*()#!>` entre otros. El uso de guión bajo `_` sí es permitido.\n",
        "\n",
        "Antes y después del signo `=` debe haber un (1) solo un espacio en blanco. Por ejemplo:\n",
        "\n",
        "`primerNombre = Marta`\n",
        "\n",
        "Los lenguajes de programación tienen restricciones en cuanto al nombre que puede tener una variable. A esto se le conoce como palabras reservadas, es decir, son reservadas para el lenguaje. Si se utilizan como nombres de variables el programa genera un error. En `Python`, algunas de estas palabras son las siguientes:\n",
        "\n",
        "```\n",
        "and\n",
        "continue\n",
        "else\n",
        "for\n",
        "import\n",
        "not\n",
        "raise\n",
        "assert\n",
        "def\n",
        "except\n",
        "from\n",
        "in\n",
        "or\n",
        "return\n",
        "break\n",
        "del\n",
        "exec\n",
        "global\n",
        "is\n",
        "pass\n",
        "try\n",
        "class\n",
        "elif\n",
        "finally\n",
        "if\n",
        "lambda\n",
        "print\n",
        "```\n",
        "\n",
        "Intente utilizar una palabra reservada como nombre de una variable."
      ]
    },
    {
      "cell_type": "code",
      "execution_count": null,
      "metadata": {
        "colab": {
          "base_uri": "https://localhost:8080/",
          "height": 131
        },
        "id": "H-B8GyNlf4fq",
        "outputId": "cc6f1394-47d4-48db-90bb-bc6ab7e722a3"
      },
      "outputs": [
        {
          "ename": "SyntaxError",
          "evalue": "ignored",
          "output_type": "error",
          "traceback": [
            "\u001b[0;36m  File \u001b[0;32m\"<ipython-input-2-ed55d338b5c6>\"\u001b[0;36m, line \u001b[0;32m1\u001b[0m\n\u001b[0;31m    class = 2\u001b[0m\n\u001b[0m          ^\u001b[0m\n\u001b[0;31mSyntaxError\u001b[0m\u001b[0;31m:\u001b[0m invalid syntax\n"
          ]
        }
      ],
      "source": [
        "class = 2"
      ]
    },
    {
      "cell_type": "markdown",
      "metadata": {
        "id": "L_QsE_e6f4fq"
      },
      "source": [
        "Note que las palabras reservadas generalmente cambian de color cuando estamos escribiendo código fuente en un editor de texto que reconoce el lenguaje de programación.\n",
        "\n",
        "La variable anterior `class` está en verde, pero la siguiente no lo está. Eso nos ayuda a saber si un nombre es un palabra reservada del lenguaje."
      ]
    },
    {
      "cell_type": "code",
      "execution_count": null,
      "metadata": {
        "id": "_ffV5UIyf4fq"
      },
      "outputs": [],
      "source": [
        "clase = 2"
      ]
    },
    {
      "cell_type": "markdown",
      "metadata": {
        "id": "vHPnesFcf4fq"
      },
      "source": [
        "## Tipos de variables\n",
        "\n",
        "Existen distintos tipos de variables. El tipo de una variable nos da una idea de los posibles valores que esta puede tomar. Veamos algunas.\n",
        "\n",
        "- `int`: entero\n",
        "- `float`: punto flotante\n",
        "- `str`: cadena de caracteres\n",
        "- `bool`: booleano, 0, 1, True o False\n",
        "\n",
        "Y estructuras de datos, como:\n",
        "\n",
        "- `list`: lista de elementos (de cualquier tipo, incluida otra lista)\n",
        "- `dict`: \"diccionario\", conjunto de pares llave:valor\n",
        "\n",
        "Algunos ejemplos:"
      ]
    },
    {
      "cell_type": "code",
      "execution_count": null,
      "metadata": {
        "id": "rA03p4Pcf4fq"
      },
      "outputs": [],
      "source": [
        "edad = 40\n",
        "peso = 3.4\n",
        "saludo ='Hola mundo!'\n",
        "condicion = True\n",
        "\n",
        "print(variableInt)"
      ]
    },
    {
      "cell_type": "markdown",
      "metadata": {
        "id": "u2my6qXYf4fr"
      },
      "source": [
        "A continuación utilice la función `print(X)` para imprimir el contenido de las variables que creó anteriormente."
      ]
    },
    {
      "cell_type": "code",
      "execution_count": null,
      "metadata": {
        "colab": {
          "base_uri": "https://localhost:8080/",
          "height": 184
        },
        "id": "zIcHxmeRf4fr",
        "outputId": "cbd7bbe8-684e-4df4-a1e3-3a38b8a49b4d"
      },
      "outputs": [
        {
          "ename": "NameError",
          "evalue": "ignored",
          "output_type": "error",
          "traceback": [
            "\u001b[0;31m---------------------------------------------------------------------------\u001b[0m",
            "\u001b[0;31mNameError\u001b[0m                                 Traceback (most recent call last)",
            "\u001b[0;32m<ipython-input-3-53fde12f7ccb>\u001b[0m in \u001b[0;36m<cell line: 2>\u001b[0;34m()\u001b[0m\n\u001b[1;32m      1\u001b[0m \u001b[0;31m# imprimir distintos tipos de variables\u001b[0m\u001b[0;34m\u001b[0m\u001b[0;34m\u001b[0m\u001b[0m\n\u001b[0;32m----> 2\u001b[0;31m \u001b[0mprint\u001b[0m\u001b[0;34m(\u001b[0m\u001b[0medad\u001b[0m\u001b[0;34m)\u001b[0m\u001b[0;34m\u001b[0m\u001b[0;34m\u001b[0m\u001b[0m\n\u001b[0m",
            "\u001b[0;31mNameError\u001b[0m: name 'edad' is not defined"
          ]
        }
      ],
      "source": [
        "# imprimir distintos tipos de variables\n",
        "print(edad)"
      ]
    },
    {
      "cell_type": "markdown",
      "metadata": {
        "id": "HFYzdXwFf4fr"
      },
      "source": [
        "La función `type()` nos permite conocer el tipo de una variable. Ejemplo:"
      ]
    },
    {
      "cell_type": "code",
      "execution_count": null,
      "metadata": {
        "id": "Ixtb5-T8f4fy"
      },
      "outputs": [],
      "source": [
        "type(saludo)"
      ]
    },
    {
      "cell_type": "markdown",
      "metadata": {
        "id": "HaGJ2oDWf4fz"
      },
      "source": [
        "A continuación utilice la función `type(X)` para imprimir el tipo de las variables que creó anteriormente."
      ]
    },
    {
      "cell_type": "code",
      "execution_count": null,
      "metadata": {
        "id": "mkfzP35Lf4fz"
      },
      "outputs": [],
      "source": []
    },
    {
      "cell_type": "markdown",
      "metadata": {
        "id": "o37BedFaf4fz"
      },
      "source": [
        "## Conversión de variables\n",
        "\n",
        "Algunas variables pueden cambiar de tipo. A esto le llamamos convertir una variable de su tipo original a otro tipo destino. Veamos ejemplos"
      ]
    },
    {
      "cell_type": "code",
      "execution_count": null,
      "metadata": {
        "id": "R80N5HuRf4fz"
      },
      "outputs": [],
      "source": [
        "edad = 20         # tipo int e.g. años\n",
        "peso = 65.8       # tipo float e.g. kilogramos\n",
        "mes = \"agosto\"    # tipo string e.g. mes\n",
        "esDeNoche = False # tipo bool"
      ]
    },
    {
      "cell_type": "code",
      "execution_count": null,
      "metadata": {
        "id": "0MsrDnFAf4fz"
      },
      "outputs": [],
      "source": [
        "type(edad)"
      ]
    },
    {
      "cell_type": "markdown",
      "metadata": {
        "id": "Xe5rFXAhf4f0"
      },
      "source": [
        "Es posible cambiar el tipo de una variable. Por ejemplo, convertir una una variable `float` a `int`, etc.\n",
        "El lenjuage dispone de ciertas funciones para realizar la conversión. Algunos ejemplos:\n",
        "\n",
        "- `int()` Convierte a entero\n",
        "- `float()` Convierte a flotante\n",
        "- `str()` Convierte a string\n",
        "\n"
      ]
    },
    {
      "cell_type": "code",
      "execution_count": null,
      "metadata": {
        "id": "k6PE2-0Ff4f0"
      },
      "outputs": [],
      "source": [
        "edad = float(edad)\n",
        "type(edad)"
      ]
    },
    {
      "cell_type": "code",
      "execution_count": null,
      "metadata": {
        "id": "KZe-0juif4f0"
      },
      "outputs": [],
      "source": [
        "peso = int(peso)\n",
        "type(peso)"
      ]
    },
    {
      "cell_type": "code",
      "execution_count": null,
      "metadata": {
        "id": "1DvQ9A-tf4f0"
      },
      "outputs": [],
      "source": [
        "mes = str(edad)\n",
        "type(mes)"
      ]
    },
    {
      "cell_type": "markdown",
      "metadata": {
        "id": "JPFxPa-zf4f1"
      },
      "source": [
        "Note que ahora la variable `peso` es de tipo `int`, por ende, no puede almacenar un número con decimales. Anteriormente la variable `peso` tenía el valor `65.8`. Imprima la variable `peso` después de convertirla a `int` y note como su valor a cambiado."
      ]
    },
    {
      "cell_type": "code",
      "execution_count": null,
      "metadata": {
        "id": "DUCTBDrVf4f1"
      },
      "outputs": [],
      "source": [
        "print(peso)"
      ]
    },
    {
      "cell_type": "markdown",
      "metadata": {
        "id": "YnYaL_VQf4f1"
      },
      "source": [
        "En programación se debe tener cuidado con la transformación de variables para evitar errores en los programas."
      ]
    },
    {
      "cell_type": "markdown",
      "metadata": {
        "id": "l_gKs2qif4f1"
      },
      "source": [
        "La siguiente función de conversión se comporta de manera especial.\n",
        "\n",
        "- `bool()`\n",
        "\n",
        "Por ejemplo, en esta línea\n",
        "\n",
        "`edad = bool(edad)`\n",
        "\n",
        "Convierte la variable `edad` a tipo `bool`.\n",
        "\n",
        "Y en esta línea\n",
        "\n",
        "`bool(edad)`\n",
        "\n",
        "Examina el valor de la variable `edad` y retorna `False` si su valor es cero, y retorna `True` en cualquier otros caso.\n",
        "\n"
      ]
    },
    {
      "cell_type": "code",
      "execution_count": null,
      "metadata": {
        "id": "K7E3tP3zf4f1"
      },
      "outputs": [],
      "source": [
        "bool(edad)"
      ]
    },
    {
      "cell_type": "markdown",
      "metadata": {
        "id": "U1A8kj8Lf4f2"
      },
      "source": [
        "# Parte 2.1 - Operaciones aritméticas y lógicas\n",
        "---"
      ]
    },
    {
      "cell_type": "markdown",
      "metadata": {
        "id": "sqEeIE_f9GFP"
      },
      "source": [
        "## Operadores aritméticos\n",
        "\n",
        "Adicional a las operaciones aritméticas básicas usadas en la Parte 1 (suma, resta, multiplicación, división, etc.), hay otros operadores que también pueden ser útiles para responder ciertos problemas.\n",
        "\n",
        "\n"
      ]
    },
    {
      "cell_type": "code",
      "execution_count": null,
      "metadata": {
        "colab": {
          "base_uri": "https://localhost:8080/"
        },
        "id": "fzG_lQFu-vEz",
        "outputId": "e8ecfa24-005f-41ea-9600-5c3178d7e4f3"
      },
      "outputs": [
        {
          "name": "stdout",
          "output_type": "stream",
          "text": [
            "1\n"
          ]
        }
      ],
      "source": [
        "#Calcular el módulo (residuo de una división entera)\n",
        "a = 10%3\n",
        "print (a)"
      ]
    },
    {
      "cell_type": "code",
      "execution_count": null,
      "metadata": {
        "id": "HsqJUoFQ-FAm"
      },
      "outputs": [],
      "source": [
        "#Calcular xˆn (forma 1)\n",
        "a = 2**2\n",
        "print (a)"
      ]
    },
    {
      "cell_type": "code",
      "execution_count": null,
      "metadata": {
        "id": "eN1x4ST4gN0a"
      },
      "outputs": [],
      "source": [
        "#Calcular resultado entero de una división\n",
        "\n",
        "a = 15//2\n",
        "print (a)"
      ]
    },
    {
      "cell_type": "markdown",
      "metadata": {
        "id": "9Hx6pa4FhYMP"
      },
      "source": [
        "Los operadores conocidos hasta ahora pueden usarse con el operador de asignación para simplificar las instrucciones.\n",
        "\n",
        "Se usa de la siguiente forma:\n",
        "\n",
        "variable [operador]= valor\n",
        "\n",
        "Aquí se aplica el operador a la variable involucrada. Por ejemplo,\n",
        "\n",
        "**a += 5**\n",
        "\n",
        "es equivalente a la instrucción\n",
        "\n",
        "a = a + 5\n"
      ]
    },
    {
      "cell_type": "code",
      "execution_count": null,
      "metadata": {
        "id": "GH--a5dZhXQQ"
      },
      "outputs": [],
      "source": [
        "#Ejemplo\n",
        "\n",
        "a = 10\n",
        "a /= 2 # --> a = a / 2\n",
        "\n",
        "print (a)"
      ]
    },
    {
      "cell_type": "markdown",
      "metadata": {
        "id": "0AhlNuLe_aGt"
      },
      "source": [
        "## Uso de bibliotecas\n",
        "\n",
        "También pueden usarse bibliotecas para hacer cálculos artiméticos más complejos.\n",
        "\n",
        "Tres bibliotecas comunes son math y numpy.\n",
        "\n",
        "Debe considerar que muchas de estas funciones tienen limitaciones. Por ejemplo, la función sqrt (para calcular la raíz cuadrada) solo aceptar números positivos como argumento."
      ]
    },
    {
      "cell_type": "code",
      "execution_count": null,
      "metadata": {
        "id": "9rYMeHitAIQ7"
      },
      "outputs": [],
      "source": [
        "#Distintas formas de calcular raíz cuadrada\n",
        "\n",
        "#Cargar bibliotecas\n",
        "import math as ma\n",
        "import numpy as np\n",
        "\n",
        "a = ma.sqrt (4)\n",
        "print (a)\n",
        "\n",
        "#No necesariamente hay que guardar en una variable el resultado si lo único que queremos es imprimir el resultado en pantalla.\n",
        "print (np.sqrt (4))"
      ]
    },
    {
      "cell_type": "markdown",
      "metadata": {
        "id": "0GZwro0qBOzx"
      },
      "source": [
        "Otras operaciones incluidas en las bibliotecas pueden ser consultadas en la documentación oficial. Por ejemplo, la lista completa de las funciones de math puede consultarse [aquí](https://docs.python.org/es/3/library/math.html)."
      ]
    },
    {
      "cell_type": "code",
      "execution_count": null,
      "metadata": {
        "id": "Fx65D2SvBOIw"
      },
      "outputs": [],
      "source": [
        "#Ejemplos de funciones\n",
        "#Recordar que si la biblioteca no ha sido cargada, debe hacerse en este momento.\n",
        "\n",
        "#Valor absoluto\n",
        "print (ma.fabs(-5))\n",
        "\n",
        "#Parte entera de un número flotante - función piso\n",
        "print (ma.floor(5.9))\n",
        "\n",
        "#Siguiente número entero más próximo a un flotante - función techo\n",
        "print (ma.ceil (3.4))"
      ]
    },
    {
      "cell_type": "code",
      "execution_count": null,
      "metadata": {
        "id": "gnHlSF4cTwz2"
      },
      "outputs": [],
      "source": [
        "#Ejemplos de funciones trigonométricas\n",
        "\n",
        "#Retorna el arcocoseno en radianes\n",
        "print (ma.acos(0.03))\n",
        "\n",
        "#Retorna el seno en radiones\n",
        "print (ma.sin(0.2))\n"
      ]
    },
    {
      "cell_type": "code",
      "execution_count": null,
      "metadata": {
        "id": "soEEeY1sW_k2"
      },
      "outputs": [],
      "source": [
        "#También pueden usarse las bibliotecas para obtener valores de números especiales\n",
        "\n",
        "#Aproximación de pi\n",
        "print (ma.pi)\n",
        "\n",
        "#Aproximación de e\n",
        "print (ma.e)"
      ]
    },
    {
      "cell_type": "markdown",
      "metadata": {
        "id": "8RnYysUVX5MI"
      },
      "source": [
        "Al hacer invocar funciones que realizan operaciones matemáticas hay que considerar el tipo de datos que devuelven.\n",
        "\n",
        "Existen funciones para hacer conversión entre tipos. Por ejemplo:\n",
        "\n",
        "\n",
        "* int() Convierte a entero\n",
        "* float() Convierte a flotante\n",
        "* bool() Devuelve False si es cero y True en el resto\n",
        "* str() Convierte a string\n",
        "\n",
        "\n"
      ]
    },
    {
      "cell_type": "code",
      "execution_count": null,
      "metadata": {
        "id": "48_FbWmcb__6"
      },
      "outputs": [],
      "source": [
        "#Ejemplo de conversión de tipos\n",
        "\n",
        "#Si calculamos el seno de 0.1 y lo imprimimos no hay problema\n",
        "a = 0.1\n",
        "print(ma.sin(a))\n",
        "\n",
        "\n"
      ]
    },
    {
      "cell_type": "code",
      "execution_count": null,
      "metadata": {
        "id": "ORxu8UIUeKTS"
      },
      "outputs": [],
      "source": [
        "#... pero si intentamos ponerle una etiqueta, dará errores\n",
        "\n",
        "print (\"El seno de \" + a + \" es \" + ma.sin(a))"
      ]
    },
    {
      "cell_type": "code",
      "execution_count": null,
      "metadata": {
        "id": "DjNNVpdregti"
      },
      "outputs": [],
      "source": [
        "#... Para corregir el error basta con hacer la conversión a cadenas (strings) usando str\n",
        "print (\"El seno de \" + str(a) + \" es \" + str(ma.sin(a)))"
      ]
    },
    {
      "cell_type": "markdown",
      "metadata": {
        "id": "PWnSMyg7k1LH"
      },
      "source": [
        "## Operadores lógicos\n",
        "\n",
        "Además de los operadores aritméticos (y las funciones trigonométricas), se pueden usar operadores lógicos. Estos se usan para tomar decisiones basados en múltiples condiciones.\n",
        "\n",
        "Los operadores son:\n",
        "\n",
        "* and: si ambas condiciones son verdaderas devuelve un Verdadero (True), sino devuelve Falso (False).\n",
        "* or: si al menos una de las condiciones es verdadera devuelve un Verdadero (True), sino devuelve Falso (False).\n",
        "* not: niega la condición (Verdadero lo convierte en Falso y viceversa)\n",
        "\n",
        "Usualmente se usan con intrucciones como el *if*, mencionado anteriormente.\n"
      ]
    },
    {
      "cell_type": "code",
      "execution_count": null,
      "metadata": {
        "id": "LQCMlwVtmxLY"
      },
      "outputs": [],
      "source": [
        "#Ejemplo con \"and\"\n",
        "\n",
        "a = 5\n",
        "b = 0\n",
        "c = 10\n",
        "\n",
        "if (a < c) and (b < c):\n",
        "  print (\"Ambas condiciones son verdaderas\")\n",
        "else:\n",
        "  print (\"Al menos una de las condiciones es falsa\")"
      ]
    },
    {
      "cell_type": "code",
      "execution_count": null,
      "metadata": {
        "id": "1o7qgn3WngUu"
      },
      "outputs": [],
      "source": [
        "#Ejemplo con \"or\"\n",
        "\n",
        "a = 5\n",
        "b = 0\n",
        "c = 10\n",
        "\n",
        "if (a < c) or (b < c):\n",
        "  print (\"Ambas condiciones son verdaderas\")\n",
        "else:\n",
        "  print (\"Al menos una de las condiciones es falsa\")\n",
        "\n",
        "#Note que el resultado es igual al anterior"
      ]
    },
    {
      "cell_type": "code",
      "execution_count": null,
      "metadata": {
        "id": "rM3LqhgTntwj"
      },
      "outputs": [],
      "source": [
        "#Ejemplo con \"and\"\n",
        "\n",
        "a = 5\n",
        "b = 0\n",
        "c = 10\n",
        "\n",
        "if (a > c) and (b < c):\n",
        "  print (\"Ambas condiciones son verdaderas\")\n",
        "else:\n",
        "  print (\"Al menos una de las condiciones es falsa\")"
      ]
    },
    {
      "cell_type": "markdown",
      "metadata": {
        "id": "SxuLHuZgofUc"
      },
      "source": [
        "## Ejercicio\n",
        "\n",
        "Suponga que deseamos hacer un programa que indique el porcentaje que una persona debe pagar de impuestos sobre su salario.\n",
        "\n",
        "Los porcentajes de impuestos según el monto son:\n",
        "\n",
        "* Hasta ₡ 863.000,00 --> No paga impuestos\n",
        "\n",
        "* De ₡ 863.000,00 a ₡1.267.000,00 --> 10%\n",
        "\n",
        "* De ₡ 1.267.000,00 a ₡ 2.223.000,00 --> 15%\n",
        "\n",
        "* De ₡ 2.223.000,00 a ₡ 4.445.000,00 --> 20%\n",
        "\n",
        "* Sobre el exceso de ₡ 4.445.000,00 --> 25%\n",
        "\n",
        "Usando las instrucciones vistas hasta el momento, utilice el siguiente espacio para programar lo solicitado.  "
      ]
    },
    {
      "cell_type": "code",
      "execution_count": null,
      "metadata": {
        "id": "gtelwFfEq2gh"
      },
      "outputs": [],
      "source": [
        "#Programa su ejercicio aquí\n",
        "\n",
        "#Puede suponer la siguiente variable:\n",
        "salario = 760000.0\n",
        "\n",
        "#Agregar su código a partir de aquí..."
      ]
    },
    {
      "cell_type": "markdown",
      "metadata": {
        "id": "O-MDNx6OXuZc"
      },
      "source": [
        "\n",
        "# Parte 2.2 - Procesamiento de cadenas de texto\n",
        "---"
      ]
    },
    {
      "cell_type": "markdown",
      "metadata": {
        "id": "k88wCK796sHx"
      },
      "source": [
        "## Introducción\n",
        "\n",
        "Procesar una cadena de texto (*strings*) en Python puede realizarse de múltiples formas. Aquí vamos a hacer un repaso por una de esas formas.\n",
        "\n",
        "Para representar cadenas de texto se pueden usar tanto comillas simples, como comillas dobles:\n",
        "\n",
        "* 'hola'\n",
        "* \"hola\"\n",
        "\n",
        "También pueden definirse cadenas de más de una línea usando triple comilla simple:\n",
        "\n",
        "'''hola\n",
        "\n",
        "de nuevo'''\n",
        "\n"
      ]
    },
    {
      "cell_type": "code",
      "execution_count": null,
      "metadata": {
        "id": "3VHZrGOQ71-X"
      },
      "outputs": [],
      "source": [
        "#Asignación de cadenas de caracteres a variables\n",
        "a = \"hola\"\n",
        "b = \"mundo\"\n",
        "\n",
        "print (a+b)\n",
        "\n",
        "a = '''uno,\n",
        "dos,\n",
        "tres,\n",
        "...'''\n",
        "\n",
        "print (a)"
      ]
    },
    {
      "cell_type": "code",
      "execution_count": null,
      "metadata": {
        "id": "TzICPDvN73X0"
      },
      "outputs": [],
      "source": [
        "#Conocer si una subcadena está presente en una cadena\n",
        "\n",
        "a = \"La casa es roja y el portón azul.\"\n",
        "\n",
        "#Forma 1:\n",
        "print(\"roja\" in a)\n",
        "\n",
        "#Forma 2:\n",
        "if \"roja\" in a:\n",
        "  print(\"Sí, la palabra 'roja' está en la frase.\")\n",
        "\n",
        "if \"verde\" not in a:\n",
        "  print(\"Sí, la palabra 'verde' NO está en la frase.\")"
      ]
    },
    {
      "cell_type": "markdown",
      "metadata": {
        "id": "oiU5O0eK90Lz"
      },
      "source": [
        "Las cadenas de caracteres se representan internamente en Python como listas (las mismas que se mencionaron en la Parte 5)."
      ]
    },
    {
      "cell_type": "code",
      "execution_count": null,
      "metadata": {
        "id": "1BUAFfPv9rsb"
      },
      "outputs": [],
      "source": [
        "#Ejemplo para obtener nos caracteres entre el 2 y el 6 (comenzando a contar en cero)\n",
        "a = \"Hola mundo!\"\n",
        "print(a[2:6])"
      ]
    },
    {
      "cell_type": "code",
      "execution_count": null,
      "metadata": {
        "id": "fQjE_cIO-Z3C"
      },
      "outputs": [],
      "source": [
        "#Ejemplo para obtener todos los caracteres desde el inicio hasta el sexto\n",
        "a = \"Hola mundo!\"\n",
        "print(a[:6])\n",
        "\n",
        "#Ejemplo para obtener desde el segundo caracter hasta el final\n",
        "print(a[2:])"
      ]
    },
    {
      "cell_type": "markdown",
      "metadata": {
        "id": "ueQPw8Jt-5Wm"
      },
      "source": [
        "## Funciones\n",
        "\n",
        "Se pueden invocar distintas funciones para transformar las cadenas de caracteres. Una lista detallada con más funciones puede encontrarla [aquí](https://www.w3schools.com/python/python_strings_methods.asp)"
      ]
    },
    {
      "cell_type": "code",
      "execution_count": null,
      "metadata": {
        "id": "M8-jdvd9_yK6"
      },
      "outputs": [],
      "source": [
        "#Convertir todo a minúscula\n",
        "a = \"Hola Mundo!\"\n",
        "print(a.lower())\n",
        "\n",
        "#Note que la variable \"a\" no fue modificada. Si la volvemos a imprimir, las mayúsculas siguen existiendo\n",
        "print(a)\n",
        "\n",
        "#Esto cambiaría la variable a minúscula\n",
        "a = a.lower()\n",
        "print(a)"
      ]
    },
    {
      "cell_type": "code",
      "execution_count": null,
      "metadata": {
        "id": "v_BIQoeXAVMu"
      },
      "outputs": [],
      "source": [
        "#Convertir a mayúscula\n",
        "a = \"Hola mundo!\"\n",
        "print(a.upper())\n",
        "\n",
        "#Estas funciones se pueden combinar con las facilidades de listas que mencionamos anteriormente\n",
        "print(a[:6].upper())\n",
        "\n",
        "#Convertir a mayúscula solo la primera letra\n",
        "a = \"hoy es miércoles.\"\n",
        "print(a.capitalize())"
      ]
    },
    {
      "cell_type": "code",
      "execution_count": null,
      "metadata": {
        "id": "58QkCTGyAw5-"
      },
      "outputs": [],
      "source": [
        "#La función strip elimina espacios al inicio de una cadena\n",
        "a = \"      Hola mundo! \"\n",
        "print(a)\n",
        "print(a.strip())"
      ]
    },
    {
      "cell_type": "code",
      "execution_count": null,
      "metadata": {
        "id": "aS7sFq8yBP85"
      },
      "outputs": [],
      "source": [
        "#Reemplazo de subcadenas dentro de otra\n",
        "\n",
        "a = \"Hola mundo!\"\n",
        "print(a.replace(\"Hola\", \"Hello\"))"
      ]
    },
    {
      "cell_type": "code",
      "execution_count": null,
      "metadata": {
        "id": "yE9AXN_aBjNe"
      },
      "outputs": [],
      "source": [
        "#Puede separarse la cadena de caracteres en una lista de palabras, usando un separador definido por el programador.\n",
        "\n",
        "a = \"La casa es roja y el portón azul.\"\n",
        "print(a.split(\" \")) # Si no se agrega ningún parámetro, por omisión será el espacio en blanco"
      ]
    },
    {
      "cell_type": "markdown",
      "metadata": {
        "id": "5ArlkcDOCJ7O"
      },
      "source": [
        "No es posible combinar variables de tipo numérico con cadenas de caracteres (tal y como lo hemos descrito)."
      ]
    },
    {
      "cell_type": "code",
      "execution_count": null,
      "metadata": {
        "id": "c2Vff8tBCVx5"
      },
      "outputs": [],
      "source": [
        "dia = 21\n",
        "\n",
        "#frase = \"hoy es miércoles \" + dia #esta línea produce un error.\n",
        "\n",
        "#podemos arreglarla usando la función de conversión que mencionamos antes (str)\n",
        "frase = \"hoy es miércoles \" + str(dia)\n",
        "print(frase)"
      ]
    },
    {
      "cell_type": "code",
      "execution_count": null,
      "metadata": {
        "id": "k093T7kNC50F"
      },
      "outputs": [],
      "source": [
        "#... pero también podemos usar la función format\n",
        "día = 21\n",
        "mes = \"octubre\"\n",
        "año = 2022\n",
        "frase = \"Hoy es miércoles {} de {} del año {}.\"\n",
        "\n",
        "print(frase.format(día,mes,año))"
      ]
    },
    {
      "cell_type": "code",
      "execution_count": null,
      "metadata": {
        "id": "aj8v1KXTDtOi"
      },
      "outputs": [],
      "source": [
        "#Uso de caracteres especiales: al igual que en otros lenguajes de programación, se pueden \"escapar\" caracteres especiales.\n",
        "\n",
        "#frase = \"Qué \"bonita\" fiesta!\" #si deseo entrecomillar \"bonita\" así me da error\n",
        "\n",
        "#Para solucionarlo podemos escapar las comillas\n",
        "frase = \"Qué \\\"bonita\\\" fiesta!\"\n",
        "print(frase)\n",
        "\n",
        "#Un caracter múy útil es el cambio de línea \\n\n",
        "print(\"Inicio\\n\" + frase + \"\\nFin\")"
      ]
    },
    {
      "cell_type": "markdown",
      "metadata": {
        "id": "oKNIjE6FGUQn"
      },
      "source": [
        "## Ejercicio\n",
        "\n",
        "Usando las operaciones, instrucciones y funciones de cadenas de caracteres que vimos, haga lo siguiente\n",
        "* guarde en una variable su nombre completo con apellidos, todo en minúscula,\n",
        "* cambie la primera letra de cada palabra a mayúscula,\n",
        "* imprima su nombre.\n",
        "\n",
        "Ejemplo, si la variable es\n",
        "\n",
        "nombre = \"maría soto aguilar\"\n",
        "\n",
        "Después de ejecutar las instrucciones apropiadas deberá imprimirse:\n",
        "\n",
        "\"María Soto Aguilar\""
      ]
    },
    {
      "cell_type": "code",
      "execution_count": null,
      "metadata": {
        "id": "Hsi5kOxYIsCR"
      },
      "outputs": [],
      "source": [
        "\n",
        "nombre = \"...\"\n",
        "\n",
        "#Su código aquí\n",
        "\n",
        "\n",
        "print(nombre)"
      ]
    },
    {
      "cell_type": "markdown",
      "metadata": {
        "id": "BCgMyEAVf4f2"
      },
      "source": [
        "# Parte 2.3 - Entradas y salidas\n",
        "---"
      ]
    },
    {
      "cell_type": "markdown",
      "metadata": {
        "id": "r4CV5MPULMjm"
      },
      "source": [
        "\n",
        "\n",
        "Para solicitar datos al usuario se utiliza la función input.\n",
        "\n",
        "Para mostrar datos en consola se usa print, la función que hemos venido usando en esta práctica."
      ]
    },
    {
      "cell_type": "code",
      "execution_count": 6,
      "metadata": {
        "colab": {
          "base_uri": "https://localhost:8080/"
        },
        "id": "cMH7_n4-LVKb",
        "outputId": "8e2615bd-c2de-4091-bc40-65afd82d81ea"
      },
      "outputs": [
        {
          "output_type": "stream",
          "name": "stdout",
          "text": [
            "Escriba su nombre: Allan\n",
            "Digite su número favorito: Verde\n",
            "Su nombre es Allan y su número favorito es el Verde\n"
          ]
        }
      ],
      "source": [
        "nombre = input (\"Escriba su nombre: \")\n",
        "número = input (\"Digite su número favorito: \")\n",
        "\n",
        "print (\"Su nombre es \" + nombre + \" y su número favorito es el \" + número)"
      ]
    },
    {
      "cell_type": "code",
      "execution_count": 7,
      "metadata": {
        "id": "-X3ASZ73MlAV",
        "colab": {
          "base_uri": "https://localhost:8080/"
        },
        "outputId": "e8d8179e-fcde-49b5-8894-ec7687d4259a"
      },
      "outputs": [
        {
          "output_type": "stream",
          "name": "stdout",
          "text": [
            "Escriba su nombre: Allan\n",
            "Digite su número favorito: verde\n",
            "Su nombre es Allan y su número favorito es el verde\n"
          ]
        }
      ],
      "source": [
        "#... también puede usarse la función format que aprendimos antes\n",
        "nombre = input (\"Escriba su nombre: \")\n",
        "número = input (\"Digite su número favorito: \")\n",
        "\n",
        "frase = \"Su nombre es {} y su número favorito es el {}\"\n",
        "\n",
        "print (frase.format(nombre, número))\n"
      ]
    },
    {
      "cell_type": "code",
      "execution_count": null,
      "metadata": {
        "id": "BWwphXVeNVzB"
      },
      "outputs": [],
      "source": [
        "#Forma alternativa de armar la frase usando format\n",
        "nombre = input (\"Escriba su nombre: \")\n",
        "número = input (\"Digite su número favorito: \")\n",
        "\n",
        "frase = \"Su nombre es {nom} y su número favorito es el {num}\".format(nom = nombre, num = número)\n",
        "\n",
        "print (frase)"
      ]
    },
    {
      "cell_type": "code",
      "execution_count": null,
      "metadata": {
        "id": "fVMb6CieOk6J"
      },
      "outputs": [],
      "source": [
        "#format puede usarse también para el formato de los números\n",
        "\n",
        "#Por definición, cualquier valor que se lea usando input, siempre será una cadena de caracteres\n",
        "#Si se desea almacenar como número, se debe usar la función que convierta al tipo de número respectivo.\n",
        "precio = float(input (\"Digite un monto entero: \"))\n",
        "\n",
        "#Una vez que se ha definido como número, se puede formatear para que, por ejemplo, se imprima con dos valores decimales.\n",
        "print (\"El monto es {p:.2f}\".format(p=precio))"
      ]
    },
    {
      "cell_type": "code",
      "execution_count": null,
      "metadata": {
        "id": "AJZg9AHdQOGJ"
      },
      "outputs": [],
      "source": [
        "#Es posible leer valores para varias variables usando input\n",
        "\n",
        "nombre, apellido = input(\"Digite su nombre y apellido: \").split() #la separación entre variables siempre será el espacio\n",
        "print (\"Soy {} {}\".format(nombre, apellido))"
      ]
    },
    {
      "cell_type": "code",
      "execution_count": null,
      "metadata": {
        "id": "wSchk_uVReAm"
      },
      "outputs": [],
      "source": [
        "#Con print también se pueden imprimir varias variables usando un separador definido por el programador\n",
        "\n",
        "nombre, apellido = input(\"Digite su nombre y apellido: \").split() #la separación entre variables siempre será el espacio\n",
        "print (nombre, apellido, sep=\"*\")"
      ]
    },
    {
      "cell_type": "code",
      "execution_count": null,
      "metadata": {
        "id": "IhRL1BAnSCpg"
      },
      "outputs": [],
      "source": [
        "#Es posible escribir texto justificándolo a la derecha, izquierda o centro respecto a una cantidad específica de\n",
        "#caracteres (20 en este ejemplo)\n",
        "\n",
        "nombre = input (\"Digite su nombre: \")\n",
        "\n",
        "#\\n agrega un cambio de línea\n",
        "print(\"Justificación a la izquierda\\n\", nombre.ljust(20, \"*\"))\n",
        "print(\"Justificación a la derecha\\n\", nombre.rjust(20, \"*\"))\n",
        "print(\"justificación centrada\\n\", nombre.center(20, \"*\"))"
      ]
    },
    {
      "cell_type": "markdown",
      "source": [],
      "metadata": {
        "id": "dQnhvx43T9A_"
      }
    },
    {
      "cell_type": "markdown",
      "metadata": {
        "id": "YeoaLfa9f4f2"
      },
      "source": [
        "# Parte 3.1 - Estructuras de control: condicionales y ciclos\n",
        "---"
      ]
    },
    {
      "cell_type": "markdown",
      "metadata": {
        "id": "qDAmhJ4i-U79"
      },
      "source": [
        "Una estructura de control, es un bloque de código que permite agrupar instrucciones de manera controlada. Se pueden distinguir tres tipos básicos de control de flujo:\n",
        "\n",
        "*   Secuencial\n",
        "*   Selección (Selectivas) (Condicionales)\n",
        "*   Repetición (Repetitivas) (Ciclos )\n",
        "\n",
        "## Secuencial\n",
        "\n",
        "En el control secuencial las instrucciones se ejecutan de manera secuencial desde el inicio hasta el fin del programa.\n",
        "\n",
        "<img src=\"https://drive.google.com/uc?export=view&id=1I5qwzIPMlSsCy9YDaT9hBCaWOJPeg6Ap\" alt=\"Secuencial\" height=\"500px\" width=\"150px\" aling=\"middle\" />"
      ]
    },
    {
      "cell_type": "markdown",
      "metadata": {
        "id": "TDw5mL8S_Ltk"
      },
      "source": [
        "## Selección (condicionales)\n",
        "\n",
        "En el control de selección se tiene una condición que puede ser falsa o verdadera, dependiendo de esto se ejecutará uno u otro bloque de instrucciones.\n",
        "\n",
        "<img src=\"https://drive.google.com/uc?export=view&id=15zvQglTNi_84o8Sk-JrsbVEKHBz0fSA5\" alt=\"Selectiva\" height=\"500px\" width=\"350px\" aling=\"middle\" />\n",
        "\n",
        "Estrcturas de control condicionales:\n",
        "\n",
        "*   Si-entonces (if-then)\n",
        "*   Si-entonces-sino (if-then-else)\n",
        "*   En el caso de (switch-case)\n",
        "\n",
        "Estas estructuras de control permiten evaluar si una o más condiciones se cumplen, para decir qué acción se va a ejecutar. La evaluación de condiciones, solo puede arrojar 1 de 2 resultados: **verdadero** o **falso** (`True` o `False`).\n",
        "\n",
        "Para describir la evaluación a realizar sobre una condición, se utilizan **operadores relacionales** (o de comparación):\n",
        "\n",
        "<img src=\"https://drive.google.com/uc?export=view&id=1mIuVHIbQNErG42WcrCrn7kxzw5GI5vvI\" alt=\"Operadores Relacionales\" height=\"320px\" width=\"400px\" aling=\"middle\" />\n",
        "\n",
        "Y para evaluar más de una condición simultáneamente, se utilizan **operadores lógicos**:\n",
        "\n",
        "<img src=\"https://drive.google.com/uc?export=view&id=1VuE5CTb0t599boV1BFtHJ2tCVD15d6r0\" alt=\"Operadores Lógicos\" height=\"350px\" width=\"450px\" aling=\"middle\" />\n",
        "\n",
        "Las estructuras de control de flujo condicionales, en Python, se definen mediante el uso de tres palabras claves reservadas del lenguaje: `if` (si), `elif` (sino, si) y `else` (sino).\n",
        "\n"
      ]
    },
    {
      "cell_type": "markdown",
      "metadata": {
        "id": "QfAVgeC2A7Oi"
      },
      "source": [
        "### Estructura de control de selección `if-elif-else`\n",
        "\n",
        "El condicional `if-elif-else` es una estructura de control de selección que sirve para tomar decisiones, basándose en la evaluación de condiciones y/o comparaciones, en el flujo del programa.\n",
        "\n",
        "Ejemplo con `if`:"
      ]
    },
    {
      "cell_type": "code",
      "execution_count": null,
      "metadata": {
        "colab": {
          "base_uri": "https://localhost:8080/"
        },
        "id": "fMN59pxlEvcq",
        "outputId": "e424df00-7d9d-4c43-b375-e8a167da6e12"
      },
      "outputs": [
        {
          "name": "stdout",
          "output_type": "stream",
          "text": [
            "Cruzar la calle\n",
            "rojo\n"
          ]
        }
      ],
      "source": [
        "# Cumple la condición\n",
        "semaforo = \"verde\"\n",
        "if semaforo == \"verde\":\n",
        "    print(\"Cruzar la calle\")\n",
        "\n",
        "# No cumple la condición\n",
        "semaforo = \"rojo\"\n",
        "if semaforo == \"verde\":\n",
        "    print(\"Cruzar la calle\")\n",
        "print(semaforo)"
      ]
    },
    {
      "cell_type": "markdown",
      "metadata": {
        "id": "jC-XBOhtFeSt"
      },
      "source": [
        "Ejemplo con `if-else`:"
      ]
    },
    {
      "cell_type": "code",
      "execution_count": null,
      "metadata": {
        "colab": {
          "base_uri": "https://localhost:8080/"
        },
        "id": "COgWfE_mF_zA",
        "outputId": "2301ab13-d042-4d1a-f557-4a88b67f8341"
      },
      "outputs": [
        {
          "name": "stdout",
          "output_type": "stream",
          "text": [
            "Cruzar la calle\n",
            "No cruzar la calle\n"
          ]
        }
      ],
      "source": [
        "semaforo = \"verde\"\n",
        "if semaforo == \"verde\":\n",
        "    print(\"Cruzar la calle\") # Cumple la condición\n",
        "else:\n",
        "    print(\"No cruzar la calle\") # No cumple la condición\n",
        "\n",
        "semaforo = \"rojo\"\n",
        "if semaforo == \"verde\":\n",
        "    print(\"Cruzar la calle\") # Cumple la condición\n",
        "else:\n",
        "    print(\"No cruzar la calle\") # No cumple la condición"
      ]
    },
    {
      "cell_type": "markdown",
      "metadata": {
        "id": "QsbX9X0KGXU8"
      },
      "source": [
        "Ejemplo con `if-elif-else`:"
      ]
    },
    {
      "cell_type": "code",
      "execution_count": null,
      "metadata": {
        "colab": {
          "base_uri": "https://localhost:8080/"
        },
        "id": "O_rNyRC_GfpZ",
        "outputId": "7acd7a46-80bd-427c-e739-b23e5595de04"
      },
      "outputs": [
        {
          "output_type": "stream",
          "name": "stdout",
          "text": [
            "a es igual a b\n"
          ]
        }
      ],
      "source": [
        "a = 30\n",
        "b = 30\n",
        "\n",
        "if a > b:\n",
        "    print(\"a es mayor que b\")\n",
        "elif a < b:\n",
        "    print(\"a es menor que b\")\n",
        "else:\n",
        "    print(\"a es igual a b\")"
      ]
    },
    {
      "cell_type": "code",
      "source": [
        "a = True\n",
        "b = False\n",
        "\n",
        "b ^ b"
      ],
      "metadata": {
        "colab": {
          "base_uri": "https://localhost:8080/"
        },
        "id": "RYA9TyAv4F8f",
        "outputId": "1b0233a4-a384-4a2f-e06e-490f3e7c0273"
      },
      "execution_count": null,
      "outputs": [
        {
          "output_type": "execute_result",
          "data": {
            "text/plain": [
              "False"
            ]
          },
          "metadata": {},
          "execution_count": 14
        }
      ]
    },
    {
      "cell_type": "code",
      "source": [
        "a = 10 < 20\n",
        "b = 20 > 30\n",
        "\n",
        "a ^ b"
      ],
      "metadata": {
        "colab": {
          "base_uri": "https://localhost:8080/"
        },
        "id": "lMvyLBj46QsS",
        "outputId": "7b74e974-6357-4e24-a8f6-b7b9bf363e88"
      },
      "execution_count": null,
      "outputs": [
        {
          "output_type": "execute_result",
          "data": {
            "text/plain": [
              "True"
            ]
          },
          "metadata": {},
          "execution_count": 25
        }
      ]
    },
    {
      "cell_type": "markdown",
      "metadata": {
        "id": "gy7oUOIi_Ow0"
      },
      "source": [
        "## Repetición (ciclos)\n",
        "\n",
        "En el control de repetición, un bloque de instrucciones se ejecuta de manera repetitiva mientras una condición sea verdadera, en caso contrario el flujo de ejecución se pasará a otro conjunto de instrucciones.\n",
        "\n",
        "<img src=\"https://drive.google.com/uc?export=view&id=1E5FBNhM39hYyNopPokzQRNeeG-hSD7g-\" alt=\"Repetitiva\" height=\"600px\" width=\"200px\" aling=\"middle\" />\n",
        "\n",
        "Estructuras de control cíclicas:\n",
        "\n",
        "*   Mientras (while)\n",
        "*   Hasta que (do-while)\n",
        "*   Número de veces (for)\n",
        "\n",
        "A diferencia de las estructuras de control condicionales, las iterativas (también llamadas cíclicas o bucles), nos permiten ejecutar un mismo código, de manera repetida, mientras se cumpla una condición.\n",
        "\n",
        "En Python se dispone de dos estructuras cíclicas el bucle `while` y el bucle `for`."
      ]
    },
    {
      "cell_type": "markdown",
      "metadata": {
        "id": "yFmU7QtoHZ4o"
      },
      "source": [
        "### Estructura de control de repetición `while`\n",
        "\n",
        "Este bucle se encarga de ejecutar una misma acción \"mientras que\" una determinada condición se cumpla.\n",
        "\n",
        "La sintaxis de `while` es:"
      ]
    },
    {
      "cell_type": "code",
      "execution_count": null,
      "metadata": {
        "id": "fHz0omIwKPQO"
      },
      "outputs": [],
      "source": [
        "while cond:\n",
        "    # Hacer algo ..."
      ]
    },
    {
      "cell_type": "markdown",
      "metadata": {
        "id": "9qoglD8tKUkW"
      },
      "source": [
        "Donde `cond` es un valor de tipo booleano que usualmente resulta de realizar una comparación; mientras `cond` sea un valor booleano `True` entonces el bloque de instrucciones contenidas en while se ejecutarán.\n",
        "\n",
        "Ejemplo: Mientras que año sea menor o igual a 2022, imprimir la frase \"Informes del Año XXXX\"."
      ]
    },
    {
      "cell_type": "code",
      "execution_count": null,
      "metadata": {
        "colab": {
          "base_uri": "https://localhost:8080/"
        },
        "id": "yjNrvqH5H-H8",
        "outputId": "b79f1189-0013-42e2-f643-a5987fb2b2b7"
      },
      "outputs": [
        {
          "name": "stdout",
          "output_type": "stream",
          "text": [
            "Informes del Año 2000\n",
            "Informes del Año 2001\n",
            "Informes del Año 2002\n",
            "Informes del Año 2003\n",
            "Informes del Año 2004\n",
            "Informes del Año 2005\n",
            "Informes del Año 2006\n",
            "Informes del Año 2007\n",
            "Informes del Año 2008\n",
            "Informes del Año 2009\n",
            "Informes del Año 2010\n",
            "Informes del Año 2011\n",
            "Informes del Año 2012\n",
            "Informes del Año 2013\n",
            "Informes del Año 2014\n",
            "Informes del Año 2015\n",
            "Informes del Año 2016\n",
            "Informes del Año 2017\n",
            "Informes del Año 2018\n",
            "Informes del Año 2019\n",
            "Informes del Año 2020\n",
            "Informes del Año 2021\n",
            "Informes del Año 2022\n"
          ]
        }
      ],
      "source": [
        "anio = 2000\n",
        "while anio <= 2022:\n",
        "    print(\"Informes del Año\", str(anio))\n",
        "    anio += 1 # Incrementa el año por cada iteración"
      ]
    },
    {
      "cell_type": "markdown",
      "metadata": {
        "id": "M1DZW1XoIImx"
      },
      "source": [
        "**Atención**\n",
        "\n",
        "¿Qué sucede si el valor que condiciona la iteración no es numérico y no puede incrementarse?\n",
        "\n",
        "En ese caso, se puede utilizar una estructura de control condicional, anidada dentro del bucle, y frenar la ejecución cuando el condicional deje de cumplirse, con la palabra clave reservada `break`:"
      ]
    },
    {
      "cell_type": "code",
      "execution_count": null,
      "metadata": {
        "colab": {
          "base_uri": "https://localhost:8080/"
        },
        "id": "QFVq1Ae_Id5X",
        "outputId": "90e85ebe-f7a5-4f43-bb56-c6f770ecf270"
      },
      "outputs": [
        {
          "name": "stdout",
          "output_type": "stream",
          "text": [
            "Indique su nombre: \n",
            "Indique su nombre: Ana\n",
            "Mi nombre es: Ana\n"
          ]
        }
      ],
      "source": [
        "while True:\n",
        "    nombre = input(\"Indique su nombre: \")\n",
        "    if nombre:\n",
        "      print(\"Mi nombre es:\", nombre)\n",
        "      break"
      ]
    },
    {
      "cell_type": "markdown",
      "metadata": {
        "id": "Bde37l1VJQMH"
      },
      "source": [
        "Las instrucciones anteriores, incluye un condicional anidado que verifica si la variable nombre es verdadera (solo será verdadera si el usuario ingresaea un texto en pantalla cuando el nombre le es solicitado). Si es verdadera, el bucle imprime el nombre y para (`break`). Sino, seguirá ejecutándose hasta que el usuario, ingrese un texto en pantalla.\n",
        "\n",
        "Aunque es menos común y poco práctico, con `while` podríamos iterar, como con `for`, sobre una secuencia:"
      ]
    },
    {
      "cell_type": "code",
      "execution_count": null,
      "metadata": {
        "id": "QNT1dQlMK7ut"
      },
      "outputs": [],
      "source": [
        "nombre = \"Pablo\"\n",
        "k = 0\n",
        "while k < len(nombre):\n",
        "    print(nombre[k])\n",
        "    k += 1"
      ]
    },
    {
      "cell_type": "markdown",
      "metadata": {
        "id": "DiHLSbrPJg6H"
      },
      "source": [
        "### Estructura de control de repetición `for`\n",
        "\n",
        "Este bucle es una estructura de control de repetición, en la cual se conocen *a priori* el número de iteraciones a realizar. En Python, el ciclo `for` recorre una secuencia y en la *k-ésima* iteración la variable de ciclo adopta el valor del elemento en la *k-ésima* posición del iterable. O sea, permite iterar sobre una variable compleja, del tipo lista o tupla.\n",
        "\n",
        "La sintaxis de `for` es:"
      ]
    },
    {
      "cell_type": "code",
      "execution_count": null,
      "metadata": {
        "id": "mX_ZYz0QLZBl"
      },
      "outputs": [],
      "source": [
        "for var in secuencia:\n",
        "    # Hacer algo ..."
      ]
    },
    {
      "cell_type": "markdown",
      "metadata": {
        "id": "YpYz268RLb_o"
      },
      "source": [
        "Donde `var` es la variable de ciclo o variable de control y `secuencia` la secuencia de valores que deberá iterarse. Es necesario remarcar la importancia de los dos puntos al final de esta primera línea y en indentar el bloque de código subsecuente que definirá el cuerpo del ciclo `for`.\n",
        "\n",
        "Por ejemplo, se quiere recorrer una lista de números e imprimirlos:"
      ]
    },
    {
      "cell_type": "code",
      "execution_count": null,
      "metadata": {
        "id": "hA72pqoRLvS9"
      },
      "outputs": [],
      "source": [
        "numeros = [18,50,90,-20,100,80,37]\n",
        "for n in numeros:\n",
        "    print(n)"
      ]
    },
    {
      "cell_type": "markdown",
      "metadata": {
        "id": "-oJaTsbEL1Kb"
      },
      "source": [
        "Observar que en cada iteración la variable de ciclo `n` adopta el valor de cada uno de los elementos de la lista `numeros`.\n",
        "\n",
        "Como ya se mencionó, en Python la variable de ciclo no necesariamente adopta valores numéricos enteros secuenciales, si no valores dentro de una secuencia. Esta secuencia podría ser también una cadena de caracteres, por ejemplo:"
      ]
    },
    {
      "cell_type": "code",
      "execution_count": null,
      "metadata": {
        "id": "3gEZrou8L9oN"
      },
      "outputs": [],
      "source": [
        "palabra = \"Python\"\n",
        "for letra in palabra:\n",
        "    print(letra)"
      ]
    },
    {
      "cell_type": "markdown",
      "metadata": {
        "id": "tprTXNsLMJIm"
      },
      "source": [
        "Dentro de un ciclo `for` se puede colocar cualquier otra instrucción de control de flujo. Un caso muy común es el de incluir otro ciclo `for`, algo que habitualmente se denota como *ciclos anidados*.\n",
        "\n",
        "Por ejemplo, se requieren mostrar por consola todos los elementos de algunas listas contenidas dentro de otra lista principal, en ese caso se hace necesario primero iterar sobre la lista principal y enseguida hacerlo sobre las listas contenidas:"
      ]
    },
    {
      "cell_type": "code",
      "execution_count": null,
      "metadata": {
        "id": "JF9d11mZMXeT",
        "colab": {
          "base_uri": "https://localhost:8080/"
        },
        "outputId": "ed625fc7-0551-4337-c521-b4161491cb93"
      },
      "outputs": [
        {
          "output_type": "stream",
          "name": "stdout",
          "text": [
            "5  2  0  \n",
            "9  5  6  \n",
            "1  7  15  \n"
          ]
        }
      ],
      "source": [
        "matriz = [[5,2,0], [9,5,6], [1,7,15]]\n",
        "for fila in matriz:\n",
        "    for elemento in fila:\n",
        "        print(elemento, \" \", end='')\n",
        "    print()\n"
      ]
    },
    {
      "cell_type": "markdown",
      "metadata": {
        "id": "grgXFzLef4f2"
      },
      "source": [
        "# Parte 3.2 - Estructuras de datos: Listas\n",
        "---"
      ]
    },
    {
      "cell_type": "markdown",
      "metadata": {
        "id": "PQwq1n7bhbxp"
      },
      "source": [
        "Las listas en Python son un tipo contenedor, compuesto, que se usan para almacenar conjuntos de elementos relacionados del mismo tipo o de tipos distintos.\n",
        "\n",
        "Las lista son mutables, ya que permiten modificar los datos una vez creados. Su característica principal reside en que el orden de sus elementos se mantiene en todo momento. Las listas usan corchetes (`[]`) para encerrar a sus elementos, y comas (`,`) para separarlos."
      ]
    },
    {
      "cell_type": "code",
      "execution_count": null,
      "metadata": {
        "colab": {
          "base_uri": "https://localhost:8080/"
        },
        "id": "gdGq8dgGLKFA",
        "outputId": "ca38b0f4-3c5e-44d9-e5be-c139618e70cc"
      },
      "outputs": [
        {
          "name": "stdout",
          "output_type": "stream",
          "text": [
            "['uno', 'dos', 'tres']\n",
            "['uno', 2, 3.14159]\n"
          ]
        }
      ],
      "source": [
        "# Lista que almacena elementos del mismo tipo: strings\n",
        "mi_lista_strings = ['uno', 'dos', 'tres']\n",
        "print(mi_lista_strings)\n",
        "\n",
        "# Lista que almacena elementos de diferentes tipos: un string, un entero y un flotante\n",
        "mi_lista = ['uno', 2, 3.14159]\n",
        "print(mi_lista)"
      ]
    },
    {
      "cell_type": "markdown",
      "metadata": {
        "id": "MR4OqDGkT9Ko"
      },
      "source": [
        "Las listas también se pueden crear usando el constructor de la clase, `list(iterable)`. En este caso, el constructor crea una lista cuyos elementos son los mismos y están en el mismo orden que los ítems del iterable. El objeto iterable puede ser o una secuencia, un contenedor que soporte la iteración o un objeto iterador.\n",
        "\n",
        "Por ejemplo, el tipo `str` también es un tipo secuencia. Si pasamos un string al constructor `list()` creará una lista cuyos elementos son cada uno de los caracteres de la cadena:"
      ]
    },
    {
      "cell_type": "code",
      "execution_count": null,
      "metadata": {
        "colab": {
          "base_uri": "https://localhost:8080/"
        },
        "id": "VlZ_19kLUNpZ",
        "outputId": "bbb9f5fb-443b-4439-ec70-1e807f127484"
      },
      "outputs": [
        {
          "data": {
            "text/plain": [
              "['a', 'e', 'i', 'o', 'u']"
            ]
          },
          "execution_count": 9,
          "metadata": {},
          "output_type": "execute_result"
        }
      ],
      "source": [
        "vocales = list('aeiou')\n",
        "vocales"
      ]
    },
    {
      "cell_type": "markdown",
      "metadata": {
        "id": "ZJooehRuU0Yr"
      },
      "source": [
        "Además, se puede crear una lista vacía con dos alternativas:"
      ]
    },
    {
      "cell_type": "code",
      "execution_count": null,
      "metadata": {
        "id": "JoWn5jw0U-db"
      },
      "outputs": [],
      "source": [
        "lista_1 = []  # Opción 1\n",
        "lista_2 = list()  # Opción 2"
      ]
    },
    {
      "cell_type": "markdown",
      "metadata": {
        "id": "tyoglIu_VQWi"
      },
      "source": [
        "## Acceder a los elementos de una lista\n",
        "\n",
        "A las listas se acceden por su número de índice:"
      ]
    },
    {
      "cell_type": "code",
      "execution_count": null,
      "metadata": {
        "colab": {
          "base_uri": "https://localhost:8080/"
        },
        "id": "nIvMzj0ZMATZ",
        "outputId": "e6e8b4f4-3970-4611-b5ba-e70b7e3b2959"
      },
      "outputs": [
        {
          "name": "stdout",
          "output_type": "stream",
          "text": [
            "['uno', 'dos', 'tres']\n",
            "uno\n",
            "['uno', 2, 3.14159]\n",
            "3.14159\n"
          ]
        }
      ],
      "source": [
        "print(mi_lista_strings[:]) # Imprime toda la lista\n",
        "print(mi_lista_strings[0]) # Salida: 'uno'\n",
        "\n",
        "print(mi_lista[:]) # Imprime toda la lista\n",
        "print(mi_lista[2]) # Devuelve: 3.14159"
      ]
    },
    {
      "cell_type": "markdown",
      "metadata": {
        "id": "wCX7UrhzVdTg"
      },
      "source": [
        "Si se intenta acceder a un índice que está fuera del rango de la lista, el intérprete lanzará la excepción `IndexError`. De igual modo, si se utiliza un índice que no es un número entero, se lanzará la excepción `TypeError`:"
      ]
    },
    {
      "cell_type": "code",
      "execution_count": null,
      "metadata": {
        "colab": {
          "base_uri": "https://localhost:8080/",
          "height": 186
        },
        "id": "6fgrcbSBV9tT",
        "outputId": "c691d510-3756-4280-b2bf-82d1d4451a21"
      },
      "outputs": [
        {
          "ename": "IndexError",
          "evalue": "ignored",
          "output_type": "error",
          "traceback": [
            "\u001b[0;31m---------------------------------------------------------------------------\u001b[0m",
            "\u001b[0;31mIndexError\u001b[0m                                Traceback (most recent call last)",
            "\u001b[0;32m<ipython-input-12-3cba9a049cf3>\u001b[0m in \u001b[0;36m<module>\u001b[0;34m\u001b[0m\n\u001b[1;32m      1\u001b[0m \u001b[0mlista\u001b[0m \u001b[0;34m=\u001b[0m \u001b[0;34m[\u001b[0m\u001b[0;36m1\u001b[0m\u001b[0;34m,\u001b[0m \u001b[0;36m2\u001b[0m\u001b[0;34m,\u001b[0m \u001b[0;36m3\u001b[0m\u001b[0;34m]\u001b[0m  \u001b[0;31m# Los índices válidos son 0, 1 y 2\u001b[0m\u001b[0;34m\u001b[0m\u001b[0;34m\u001b[0m\u001b[0m\n\u001b[0;32m----> 2\u001b[0;31m \u001b[0mlista\u001b[0m\u001b[0;34m[\u001b[0m\u001b[0;36m8\u001b[0m\u001b[0;34m]\u001b[0m\u001b[0;34m\u001b[0m\u001b[0;34m\u001b[0m\u001b[0m\n\u001b[0m",
            "\u001b[0;31mIndexError\u001b[0m: list index out of range"
          ]
        }
      ],
      "source": [
        "lista = [1, 2, 3]  # Los índices válidos son 0, 1 y 2\n",
        "lista[8]"
      ]
    },
    {
      "cell_type": "code",
      "execution_count": null,
      "metadata": {
        "colab": {
          "base_uri": "https://localhost:8080/",
          "height": 168
        },
        "id": "CxWFm5wYWRPY",
        "outputId": "63b6ede2-c736-4a0b-df03-5545ae852bf8"
      },
      "outputs": [
        {
          "ename": "TypeError",
          "evalue": "ignored",
          "output_type": "error",
          "traceback": [
            "\u001b[0;31m---------------------------------------------------------------------------\u001b[0m",
            "\u001b[0;31mTypeError\u001b[0m                                 Traceback (most recent call last)",
            "\u001b[0;32m<ipython-input-13-cae7f0237812>\u001b[0m in \u001b[0;36m<module>\u001b[0;34m\u001b[0m\n\u001b[0;32m----> 1\u001b[0;31m \u001b[0mlista\u001b[0m\u001b[0;34m[\u001b[0m\u001b[0;36m1.0\u001b[0m\u001b[0;34m]\u001b[0m\u001b[0;34m\u001b[0m\u001b[0;34m\u001b[0m\u001b[0m\n\u001b[0m",
            "\u001b[0;31mTypeError\u001b[0m: list indices must be integers or slices, not float"
          ]
        }
      ],
      "source": [
        "lista[1.0]"
      ]
    },
    {
      "cell_type": "markdown",
      "metadata": {
        "id": "BgqDIwGnWWwJ"
      },
      "source": [
        "**Acceso a los elementos usando un índice negativo**\n",
        "\n",
        "En Python está permitido usar índices negativos para acceder a los elementos de una secuencia. En este caso, el índice -1 hace referencia al último elemento de la secuencia, el -2 al penúltimo y así, sucesivamente:"
      ]
    },
    {
      "cell_type": "code",
      "execution_count": null,
      "metadata": {
        "colab": {
          "base_uri": "https://localhost:8080/"
        },
        "id": "5RG-dF-7WnDg",
        "outputId": "eaf709d2-a147-4eef-c9bd-d1f1fcf4fe33"
      },
      "outputs": [
        {
          "name": "stdout",
          "output_type": "stream",
          "text": [
            "u\n",
            "e\n"
          ]
        }
      ],
      "source": [
        "vocales = ['a', 'e', 'i', 'o', 'u']\n",
        "print(vocales[-1]) # Imprime 'u'\n",
        "print(vocales[-4]) # Imprime 'e'"
      ]
    },
    {
      "cell_type": "code",
      "source": [
        "nombre = \"Pedro\"\n",
        "edad = 20\n",
        "provincia = \"Alajuela\"\n",
        "print(nombre,edad,provincia)"
      ],
      "metadata": {
        "colab": {
          "base_uri": "https://localhost:8080/"
        },
        "id": "5SsXZqktuyLZ",
        "outputId": "8d3fa4ca-92ff-4be6-a481-4fbc306660f1"
      },
      "execution_count": null,
      "outputs": [
        {
          "output_type": "stream",
          "name": "stdout",
          "text": [
            "Pedro 20 Alajuela\n"
          ]
        }
      ]
    },
    {
      "cell_type": "code",
      "source": [],
      "metadata": {
        "colab": {
          "base_uri": "https://localhost:8080/"
        },
        "id": "v-1JGLi230IV",
        "outputId": "1cf4710c-adc5-4035-fca9-413da101cd73"
      },
      "execution_count": null,
      "outputs": [
        {
          "output_type": "execute_result",
          "data": {
            "text/plain": [
              "1"
            ]
          },
          "metadata": {},
          "execution_count": 5
        }
      ]
    },
    {
      "cell_type": "markdown",
      "metadata": {
        "id": "F8L1JJvoW4Jp"
      },
      "source": [
        "**Acceso a un subconjunto de elementos**\n",
        "\n",
        "También es posible acceder a un subconjunto de elementos de una lista utilizando rangos en los índices. Esto es usando el operador `[:]`:"
      ]
    },
    {
      "cell_type": "code",
      "execution_count": null,
      "metadata": {
        "colab": {
          "base_uri": "https://localhost:8080/"
        },
        "id": "flToxU_HWp2B",
        "outputId": "a94e2182-aad9-4b54-c260-6682f36690b0"
      },
      "outputs": [
        {
          "name": "stdout",
          "output_type": "stream",
          "text": [
            "['i']\n",
            "['i', 'o']\n",
            "['a', 'e', 'i', 'o', 'u']\n",
            "['e', 'i', 'o', 'u']\n",
            "['a', 'e', 'i']\n"
          ]
        }
      ],
      "source": [
        "print(vocales[2:3])  # Elementos desde el índice 2 hasta el índice 3-1: ['i']\n",
        "print(vocales[2:4])  # Elementos desde el 2 hasta el índice 4-1: ['i', 'o']\n",
        "print(vocales[:])  # Todos los elementos: ['a', 'e', 'i', 'o', 'u']\n",
        "print(vocales[1:])  # Elementos desde el índice 1: ['e', 'i', 'o', 'u']\n",
        "print(vocales[:3])  # Elementos hasta el índice 3-1: ['a', 'e', 'i']"
      ]
    },
    {
      "cell_type": "markdown",
      "metadata": {
        "id": "Ul7351yDbNqF"
      },
      "source": [
        "También es posible acceder a los elementos de una lista indicando un paso con el operador `[::]`:"
      ]
    },
    {
      "cell_type": "code",
      "execution_count": null,
      "metadata": {
        "colab": {
          "base_uri": "https://localhost:8080/"
        },
        "id": "ygN5yod8bRdV",
        "outputId": "42522045-e6c7-4d21-e1e6-8ddb78796c16"
      },
      "outputs": [
        {
          "name": "stdout",
          "output_type": "stream",
          "text": [
            "['a', 'c', 'e', 'g', 'i', 'k']\n",
            "['b', 'd']\n",
            "['b', 'e', 'h']\n"
          ]
        }
      ],
      "source": [
        "letras = ['a', 'b', 'c', 'd', 'e', 'f', 'g', 'h', 'i', 'j', 'k']\n",
        "print(letras[::2]) # Acceso a los elementos de 2 en 2: ['a', 'c', 'e', 'g', 'i', 'k']\n",
        "print(letras[1:5:2]) # Elementos del índice 1 al 4 de 2 en 2: ['b', 'd']\n",
        "print(letras[1:8:3]) # Elementos del índice 1 al 7 de 3 en 3: ['b', 'e', 'h']"
      ]
    },
    {
      "cell_type": "markdown",
      "metadata": {
        "id": "cRTiYjmtbQQF"
      },
      "source": [
        "## Recorrer una lista\n",
        "\n",
        "Se puede usar el bucle `for` para recorrer los elementos de una secuencia, como se muestra a continuación:"
      ]
    },
    {
      "cell_type": "code",
      "execution_count": null,
      "metadata": {
        "colab": {
          "base_uri": "https://localhost:8080/"
        },
        "id": "6Ru-zjJ6cYkV",
        "outputId": "5c1e3af1-b9d6-460a-9854-0d4d698cc595"
      },
      "outputs": [
        {
          "name": "stdout",
          "output_type": "stream",
          "text": [
            "azul\n",
            "blanco\n",
            "negro\n"
          ]
        }
      ],
      "source": [
        "colores = ['azul', 'blanco', 'negro']\n",
        "\n",
        "for color in colores:\n",
        "        print(color)"
      ]
    },
    {
      "cell_type": "markdown",
      "metadata": {
        "id": "mkS-JjHSciFd"
      },
      "source": [
        "## Añadir elementos a una lista\n",
        "\n",
        "Las listas son secuencias mutables, es decir, sus elementos pueden ser modificados (se pueden añadir nuevos ítems, actualizar o eliminar).\n",
        "\n",
        "Para añadir un nuevo elemento a una lista se utiliza el método `append()` y para añadir varios elementos, el método `extend()`:"
      ]
    },
    {
      "cell_type": "code",
      "execution_count": null,
      "metadata": {
        "colab": {
          "base_uri": "https://localhost:8080/"
        },
        "id": "lUpVQmITc1zm",
        "outputId": "64a29758-4e0d-41aa-ce97-c910f581dcf6"
      },
      "outputs": [
        {
          "name": "stdout",
          "output_type": "stream",
          "text": [
            "['a', 'e']\n",
            "['a', 'e', 'i', 'o', 'u']\n"
          ]
        }
      ],
      "source": [
        "vocales = ['a']\n",
        "\n",
        "vocales.append('e')  # Añade un elemento\n",
        "print(vocales[:])\n",
        "\n",
        "vocales.extend(['i', 'o', 'u'])  # Añade un grupo de elementos\n",
        "print(vocales[:])"
      ]
    },
    {
      "cell_type": "markdown",
      "metadata": {
        "id": "gSuYuShReX4s"
      },
      "source": [
        "También es posible añadir un elemento en una posición concreta de una lista con el método `insert(índice, elemento)`. Los elementos cuyo índice sea mayor a índice se desplazan una posición a la derecha:"
      ]
    },
    {
      "cell_type": "code",
      "execution_count": null,
      "metadata": {
        "colab": {
          "base_uri": "https://localhost:8080/"
        },
        "id": "J1rYCRMfelhj",
        "outputId": "2c0f2c8e-b19f-4160-a9b6-b11a00c8273c"
      },
      "outputs": [
        {
          "name": "stdout",
          "output_type": "stream",
          "text": [
            "['a', 'e', 'u']\n",
            "['a', 'e', 'i', 'o', 'u']\n"
          ]
        }
      ],
      "source": [
        "vocales = ['a', 'e', 'u']\n",
        "print(vocales[:])\n",
        "vocales.insert(2, 'i')\n",
        "vocales.insert(3, 'o')\n",
        "print(vocales[:])"
      ]
    },
    {
      "cell_type": "markdown",
      "metadata": {
        "id": "F2sxSCL_dMDF"
      },
      "source": [
        "**Concatenar listas**\n",
        "\n",
        "Dos listas pueden concatenarse en una de sola mediante el signo más (`+`). El resultado es una nueva lista con los elementos de las dos listas en el mismo orden de la concatenación:\n"
      ]
    },
    {
      "cell_type": "code",
      "execution_count": null,
      "metadata": {
        "colab": {
          "base_uri": "https://localhost:8080/"
        },
        "id": "bp6BWoGEdLs9",
        "outputId": "02797d03-e254-4fef-ff69-854d9b62e37b"
      },
      "outputs": [
        {
          "name": "stdout",
          "output_type": "stream",
          "text": [
            "[1, 2, 3, 4, 5, 6]\n"
          ]
        }
      ],
      "source": [
        "lista_1 = [1, 2, 3]\n",
        "lista_2 = [4, 5, 6]\n",
        "numeros = lista_1 + lista_2\n",
        "print(numeros[:])"
      ]
    },
    {
      "cell_type": "markdown",
      "metadata": {
        "id": "ybG3B9Txdt4-"
      },
      "source": [
        "**Replicar listas**\n",
        "\n",
        "Otra operación que admiten las listas es la de réplica, que se realiza mediante el signo de multiplicación (`*`). Esta operación es equivalente a concatenarle a una lista sus mismos elementos *n* veces:"
      ]
    },
    {
      "cell_type": "code",
      "execution_count": null,
      "metadata": {
        "colab": {
          "base_uri": "https://localhost:8080/"
        },
        "id": "i7DWP0bJeGUk",
        "outputId": "b05f7d00-f5b8-497d-ab48-70619fa72c20"
      },
      "outputs": [
        {
          "name": "stdout",
          "output_type": "stream",
          "text": [
            "[1, 2, 3, 1, 2, 3, 1, 2, 3]\n"
          ]
        }
      ],
      "source": [
        "numeros = [1, 2, 3]\n",
        "numeros *= 3\n",
        "print(numeros[:])"
      ]
    },
    {
      "cell_type": "markdown",
      "metadata": {
        "id": "PRYzz9OSe9t1"
      },
      "source": [
        "## Modificar elementos de una lista\n",
        "\n",
        "Es posible modificar un elemento de una lista con el operador de asignación `=`, Para ello, lo único que se necesita conocer es el índice del elemento que se quiere modificar o el rango de índices:"
      ]
    },
    {
      "cell_type": "code",
      "execution_count": null,
      "metadata": {
        "colab": {
          "base_uri": "https://localhost:8080/"
        },
        "id": "T9PlS60XeXX3",
        "outputId": "37f6e065-1f85-4696-f6f1-73a0ea276965"
      },
      "outputs": [
        {
          "name": "stdout",
          "output_type": "stream",
          "text": [
            "['o', 'o', 'o', 'o', 'u']\n",
            "['a', 'o', 'o', 'o', 'u']\n",
            "['a', 'e', 'i', 'o', 'u']\n"
          ]
        }
      ],
      "source": [
        "vocales = ['o', 'o', 'o', 'o', 'u']\n",
        "print(vocales)\n",
        "\n",
        "# Actualiza el elemento del índice 0\n",
        "vocales[0] = 'a'\n",
        "print(vocales[:])\n",
        "\n",
        "# Actualiza los elementos entre las posiciones 1 y 2\n",
        "vocales[1:3] = ['e', 'i']\n",
        "print(vocales[:])"
      ]
    },
    {
      "cell_type": "markdown",
      "metadata": {
        "id": "1vJ3Fo0KfhVb"
      },
      "source": [
        "## Eliminar elementos de una lista\n",
        "\n",
        "Se puede eliminar un elemento de una lista de varias formas.\n",
        "\n",
        "Con la sentencia `del` se puede eliminar un elemento a partir de su índice:"
      ]
    },
    {
      "cell_type": "code",
      "execution_count": null,
      "metadata": {
        "colab": {
          "base_uri": "https://localhost:8080/"
        },
        "id": "OVe8sI1Ufv1d",
        "outputId": "07c5b68d-548e-491a-b182-d0e9036d6b6b"
      },
      "outputs": [
        {
          "name": "stdout",
          "output_type": "stream",
          "text": [
            "['a', 'e', 'i', 'o', 'u']\n",
            "['a', 'i', 'o', 'u']\n",
            "['a', 'e', 'u']\n",
            "[]\n"
          ]
        }
      ],
      "source": [
        "# Elimina el elemento del índice 1\n",
        "vocales = ['a', 'e', 'i', 'o', 'u']\n",
        "print(vocales)\n",
        "del vocales[1]\n",
        "print(vocales[:])\n",
        "\n",
        "# Elimina los elementos con índices 2 y 3\n",
        "vocales = ['a', 'e', 'i', 'o', 'u']\n",
        "del vocales[2:4]\n",
        "print(vocales[:])\n",
        "\n",
        "# Elimina todos los elementos\n",
        "del vocales[:]\n",
        "print(vocales[:])"
      ]
    },
    {
      "cell_type": "markdown",
      "metadata": {
        "id": "Tr2BGPcHgir1"
      },
      "source": [
        "Otros métodos que se pueden usar son `remove()` y `pop([i])`:\n",
        "*   **Método `remove()`.** Elimina la primera ocurrencia que se encuentre del elemento en una lista.\n",
        "*   **Método `pop([i])`.** Obtiene el elemento cuyo índice sea igual a *i* y lo elimina de la lista. Si no se especifica ningún índice, recupera y elimina el último elemento."
      ]
    },
    {
      "cell_type": "code",
      "execution_count": null,
      "metadata": {
        "colab": {
          "base_uri": "https://localhost:8080/"
        },
        "id": "J0_yS4rNgjZ8",
        "outputId": "fb2d75d3-33d3-4925-8749-47ae65eba0be"
      },
      "outputs": [
        {
          "name": "stdout",
          "output_type": "stream",
          "text": [
            "['aa', 'b', 'k', 'a', 'v']\n",
            "['aa', 'b', 'k', 'v']\n",
            "['aa', 'k', 'v']\n",
            "['aa', 'k']\n"
          ]
        }
      ],
      "source": [
        "letras = ['aa', 'b', 'k', 'a', 'v']\n",
        "print(letras)\n",
        "\n",
        "# Elimina la primera ocurrencia del carácter a\n",
        "letras.remove('a')\n",
        "print(letras[:])\n",
        "\n",
        "# Obtiene y elimina el segundo elemento\n",
        "letra = letras.pop(1)\n",
        "print(letras[:])\n",
        "\n",
        "# Obtiene y elimina el último elemento\n",
        "letras.pop()\n",
        "print(letras[:])"
      ]
    },
    {
      "cell_type": "markdown",
      "metadata": {
        "id": "UEcM56rBhm4r"
      },
      "source": [
        "Finalmente, es posible eliminar todos los elementos de una lista a través del método `clear()`:"
      ]
    },
    {
      "cell_type": "code",
      "execution_count": null,
      "metadata": {
        "colab": {
          "base_uri": "https://localhost:8080/"
        },
        "id": "7MTpnecchp7T",
        "outputId": "5d857ddf-17bd-4be9-fddf-73c252d57a30"
      },
      "outputs": [
        {
          "name": "stdout",
          "output_type": "stream",
          "text": [
            "[]\n"
          ]
        }
      ],
      "source": [
        "letras = ['a', 'b', 'c']\n",
        "letras.clear()\n",
        "print(letras[:])"
      ]
    },
    {
      "cell_type": "markdown",
      "metadata": {
        "id": "x3dH6EfJh1MK"
      },
      "source": [
        "El código anterior sería equivalente a `del letras[:]`."
      ]
    },
    {
      "cell_type": "markdown",
      "metadata": {
        "id": "-_gZQUtqh_vq"
      },
      "source": [
        "## Obtener la longitud de una lista\n",
        "\n",
        "Como cualquier tipo secuencia, para conocer la longitud de una lista en Python se hace uso de la función `len()`. Esta función devuelve el número de elementos de una lista:\n"
      ]
    },
    {
      "cell_type": "code",
      "execution_count": null,
      "metadata": {
        "colab": {
          "base_uri": "https://localhost:8080/"
        },
        "id": "dYcag15xiHMZ",
        "outputId": "7fd9f01d-eb27-4851-b1ea-dcef7def6298"
      },
      "outputs": [
        {
          "data": {
            "text/plain": [
              "5"
            ]
          },
          "execution_count": 30,
          "metadata": {},
          "output_type": "execute_result"
        }
      ],
      "source": [
        "vocales = ['a', 'e', 'i', 'o', 'u']\n",
        "len(vocales)"
      ]
    },
    {
      "cell_type": "markdown",
      "metadata": {
        "id": "2AmIle9Dmpfo"
      },
      "source": [
        "Además, se tiene el método `count(elemento)` que devuelve el número de ocurrencias del elemento en la lista:"
      ]
    },
    {
      "cell_type": "code",
      "execution_count": null,
      "metadata": {
        "colab": {
          "base_uri": "https://localhost:8080/"
        },
        "id": "yDpCFeoKm6zk",
        "outputId": "8505cf9e-00d6-4dd5-b0a9-30f51ba27e7b"
      },
      "outputs": [
        {
          "data": {
            "text/plain": [
              "2"
            ]
          },
          "execution_count": 33,
          "metadata": {},
          "output_type": "execute_result"
        }
      ],
      "source": [
        "letras = ['a','b','a','b','c','a','b','c','d']\n",
        "letras.count('c') # Cuenta las veces que está el elemento 'a' en la lista"
      ]
    },
    {
      "cell_type": "markdown",
      "metadata": {
        "id": "z_YhRVg5iT5Z"
      },
      "source": [
        "## Encontrar elementos de una lista\n",
        "\n",
        "Para saber si un elemento está contenido en una lista, se utiliza el operador de pertenencia `in`:"
      ]
    },
    {
      "cell_type": "code",
      "execution_count": null,
      "metadata": {
        "colab": {
          "base_uri": "https://localhost:8080/"
        },
        "id": "u_6GPanmidYU",
        "outputId": "5997398d-b5b7-4fe5-f051-1b54f89d1f21"
      },
      "outputs": [
        {
          "name": "stdout",
          "output_type": "stream",
          "text": [
            "Sí\n",
            "No\n"
          ]
        }
      ],
      "source": [
        "vocales = ['a', 'e', 'i', 'o', 'u']\n",
        "if 'a' in vocales:\n",
        "  print('Sí')\n",
        "\n",
        "if 'b' in vocales:\n",
        "  print('Sí')\n",
        "else:\n",
        "  print('No')"
      ]
    },
    {
      "cell_type": "markdown",
      "metadata": {
        "id": "DCMr5fA-kbmQ"
      },
      "source": [
        "## Ordenar una lista\n",
        "\n",
        "Las listas son secuencias ordenadas. Esto quiere decir que sus elementos siempre se devuelven en el mismo orden en que fueron añadidos.\n",
        "\n",
        "No obstante, es posible ordenar los elementos de una lista con el método `sort()`, el cual ordena los elementos de la lista utilizando únicamente el operador < y modifica la lista actual (no se obtiene una nueva lista):"
      ]
    },
    {
      "cell_type": "code",
      "execution_count": null,
      "metadata": {
        "colab": {
          "base_uri": "https://localhost:8080/"
        },
        "id": "jtl9p54qkvWD",
        "outputId": "03969774-7185-4f38-881e-73220b62f6c0"
      },
      "outputs": [
        {
          "name": "stdout",
          "output_type": "stream",
          "text": [
            "139691460226176\n",
            "[3, 5, 2, 6, 1, 7, 4]\n",
            "139691460788464\n",
            "[1, 2, 3, 4, 5, 6, 7]\n",
            "139691460788464\n"
          ]
        }
      ],
      "source": [
        "# Lista desordenada de números enteros\n",
        "numeros = [3, 5, 2, 6, 1, 7, 4]\n",
        "vocales = ['a', 'e', 'i', 'o', 'u']\n",
        "# Identidad del objeto numeros\n",
        "print(id(vocales))\n",
        "print(numeros[:])\n",
        "\n",
        "# Identidad del objeto numeros\n",
        "print(id(numeros))\n",
        "\n",
        "# Se llama al método sort() para ordenar los elementos de la lista\n",
        "numeros.sort()\n",
        "print(numeros[:])\n",
        "\n",
        "# Se comprueba que la identidad del objeto numeros es la misma\n",
        "print(id(numeros))"
      ]
    },
    {
      "cell_type": "markdown",
      "metadata": {
        "id": "khGJNmoklTYx"
      },
      "source": [
        "Por su parte, se tiene el método `reverse()` invierte el orden de los elementos de una lista. Este método es equivalente a aplicar `lista[::-1]`."
      ]
    },
    {
      "cell_type": "code",
      "execution_count": null,
      "metadata": {
        "colab": {
          "base_uri": "https://localhost:8080/"
        },
        "id": "A1D_9Eb_lgc3",
        "outputId": "85705d25-a285-4345-a422-e04f8613cbc1"
      },
      "outputs": [
        {
          "name": "stdout",
          "output_type": "stream",
          "text": [
            "[1, 2, 3, 4, 5, 6, 7]\n",
            "[7, 6, 5, 4, 3, 2, 1]\n",
            "[7, 6, 5, 4, 3, 2, 1]\n"
          ]
        }
      ],
      "source": [
        "# Lista de números enteros ordenda ascendente\n",
        "numeros = [1, 2, 3, 4, 5, 6, 7]\n",
        "print(numeros[:])\n",
        "\n",
        "# Lista de números enteros ordenada descendente, con método reverse\n",
        "numeros.reverse()\n",
        "print(numeros[:])\n",
        "\n",
        "# Lista de números enteros ordenada descendente, con lista[::-1]\n",
        "numeros = [1, 2, 3, 4, 5, 6, 7]\n",
        "print(numeros[::-1])"
      ]
    },
    {
      "cell_type": "markdown",
      "metadata": {
        "id": "H8z4tDrLnsw5"
      },
      "source": [
        "## Otros métodos de las listas\n",
        "\n",
        "Python ofrece varios métodos integradas que se pueden aplicar a las listas.\n",
        "\n",
        "Se tienen los métodos `min()` y `max()` que devuelven respectivamente el valor mínimo y el valor máximo de la lista:"
      ]
    },
    {
      "cell_type": "code",
      "execution_count": null,
      "metadata": {
        "colab": {
          "base_uri": "https://localhost:8080/"
        },
        "id": "WBFEK4vEoYdP",
        "outputId": "24dfb3cb-f10c-4190-e80c-ef2e8fd36478"
      },
      "outputs": [
        {
          "name": "stdout",
          "output_type": "stream",
          "text": [
            "Lista = [4, 2, 0, 1, 3]\n",
            "Elemento mínimo  0\n",
            "Elemento máximo  4\n"
          ]
        }
      ],
      "source": [
        "lista = [4, 2, 0, 1, 3]\n",
        "print(\"Lista =\", lista[:])\n",
        "\n",
        "minimo = min(lista)\n",
        "print(\"Elemento mínimo \", minimo)\n",
        "\n",
        "maximo = max(lista)\n",
        "print(\"Elemento máximo \", maximo)"
      ]
    },
    {
      "cell_type": "markdown",
      "metadata": {
        "id": "C-wO0bnAt0Op"
      },
      "source": [
        "Otro método es `copy()`, el cual devuelve una copia de la lista:"
      ]
    },
    {
      "cell_type": "code",
      "execution_count": null,
      "metadata": {
        "colab": {
          "base_uri": "https://localhost:8080/"
        },
        "id": "6T6FCNjTzQup",
        "outputId": "1c0bee58-a471-4492-b589-1b91cd4668ec"
      },
      "outputs": [
        {
          "name": "stdout",
          "output_type": "stream",
          "text": [
            "Lista = [4, 2, 0, 1, 3]\n"
          ]
        }
      ],
      "source": [
        "print(\"Lista =\", lista.copy())"
      ]
    },
    {
      "cell_type": "markdown",
      "metadata": {
        "id": "9cwnvhOmT9u4"
      },
      "source": [
        "# Parte 3.3 - Lectura y escritura de archivos\n",
        "---"
      ]
    },
    {
      "cell_type": "markdown",
      "source": [
        "Ahora aprenderemos sobre  el manejo de archivos en Python, desde como abrirlo hasta como escribir y leer información.\n",
        "\n",
        "La lectura y escritura en Python se refieren a las operaciones de entrada y salida (I/O) que involucran archivos. Estas operaciones permiten a los programas leer datos desde archivos y escribir datos en archivos, lo que es fundamental para muchas aplicaciones, desde el manejo de datos hasta el almacenamiento de resultados de procesamiento."
      ],
      "metadata": {
        "id": "lplkhV4mstLu"
      }
    },
    {
      "cell_type": "markdown",
      "source": [
        "## Apertura de Archivos"
      ],
      "metadata": {
        "id": "IVSMdJGwtPI5"
      }
    },
    {
      "cell_type": "markdown",
      "source": [
        "En Google Colab podemos subir archivos desde la computadora a Google Drive usando el módulo files de google.colab como se observa a continuación:"
      ],
      "metadata": {
        "id": "oHq5pcU9t9Hc"
      }
    },
    {
      "cell_type": "code",
      "source": [
        "from google.colab import files\n",
        "\n",
        "# Subir archivo\n",
        "archivoSubido = files.upload()"
      ],
      "metadata": {
        "colab": {
          "base_uri": "https://localhost:8080/",
          "height": 73
        },
        "id": "syp9F1xpuY4N",
        "outputId": "7929fc8f-8e20-4dc8-ca3a-4a15e6d0ca95"
      },
      "execution_count": null,
      "outputs": [
        {
          "output_type": "display_data",
          "data": {
            "text/plain": [
              "<IPython.core.display.HTML object>"
            ],
            "text/html": [
              "\n",
              "     <input type=\"file\" id=\"files-6a446156-aa66-4194-9bfb-6fcaf496568e\" name=\"files[]\" multiple disabled\n",
              "        style=\"border:none\" />\n",
              "     <output id=\"result-6a446156-aa66-4194-9bfb-6fcaf496568e\">\n",
              "      Upload widget is only available when the cell has been executed in the\n",
              "      current browser session. Please rerun this cell to enable.\n",
              "      </output>\n",
              "      <script>// Copyright 2017 Google LLC\n",
              "//\n",
              "// Licensed under the Apache License, Version 2.0 (the \"License\");\n",
              "// you may not use this file except in compliance with the License.\n",
              "// You may obtain a copy of the License at\n",
              "//\n",
              "//      http://www.apache.org/licenses/LICENSE-2.0\n",
              "//\n",
              "// Unless required by applicable law or agreed to in writing, software\n",
              "// distributed under the License is distributed on an \"AS IS\" BASIS,\n",
              "// WITHOUT WARRANTIES OR CONDITIONS OF ANY KIND, either express or implied.\n",
              "// See the License for the specific language governing permissions and\n",
              "// limitations under the License.\n",
              "\n",
              "/**\n",
              " * @fileoverview Helpers for google.colab Python module.\n",
              " */\n",
              "(function(scope) {\n",
              "function span(text, styleAttributes = {}) {\n",
              "  const element = document.createElement('span');\n",
              "  element.textContent = text;\n",
              "  for (const key of Object.keys(styleAttributes)) {\n",
              "    element.style[key] = styleAttributes[key];\n",
              "  }\n",
              "  return element;\n",
              "}\n",
              "\n",
              "// Max number of bytes which will be uploaded at a time.\n",
              "const MAX_PAYLOAD_SIZE = 100 * 1024;\n",
              "\n",
              "function _uploadFiles(inputId, outputId) {\n",
              "  const steps = uploadFilesStep(inputId, outputId);\n",
              "  const outputElement = document.getElementById(outputId);\n",
              "  // Cache steps on the outputElement to make it available for the next call\n",
              "  // to uploadFilesContinue from Python.\n",
              "  outputElement.steps = steps;\n",
              "\n",
              "  return _uploadFilesContinue(outputId);\n",
              "}\n",
              "\n",
              "// This is roughly an async generator (not supported in the browser yet),\n",
              "// where there are multiple asynchronous steps and the Python side is going\n",
              "// to poll for completion of each step.\n",
              "// This uses a Promise to block the python side on completion of each step,\n",
              "// then passes the result of the previous step as the input to the next step.\n",
              "function _uploadFilesContinue(outputId) {\n",
              "  const outputElement = document.getElementById(outputId);\n",
              "  const steps = outputElement.steps;\n",
              "\n",
              "  const next = steps.next(outputElement.lastPromiseValue);\n",
              "  return Promise.resolve(next.value.promise).then((value) => {\n",
              "    // Cache the last promise value to make it available to the next\n",
              "    // step of the generator.\n",
              "    outputElement.lastPromiseValue = value;\n",
              "    return next.value.response;\n",
              "  });\n",
              "}\n",
              "\n",
              "/**\n",
              " * Generator function which is called between each async step of the upload\n",
              " * process.\n",
              " * @param {string} inputId Element ID of the input file picker element.\n",
              " * @param {string} outputId Element ID of the output display.\n",
              " * @return {!Iterable<!Object>} Iterable of next steps.\n",
              " */\n",
              "function* uploadFilesStep(inputId, outputId) {\n",
              "  const inputElement = document.getElementById(inputId);\n",
              "  inputElement.disabled = false;\n",
              "\n",
              "  const outputElement = document.getElementById(outputId);\n",
              "  outputElement.innerHTML = '';\n",
              "\n",
              "  const pickedPromise = new Promise((resolve) => {\n",
              "    inputElement.addEventListener('change', (e) => {\n",
              "      resolve(e.target.files);\n",
              "    });\n",
              "  });\n",
              "\n",
              "  const cancel = document.createElement('button');\n",
              "  inputElement.parentElement.appendChild(cancel);\n",
              "  cancel.textContent = 'Cancel upload';\n",
              "  const cancelPromise = new Promise((resolve) => {\n",
              "    cancel.onclick = () => {\n",
              "      resolve(null);\n",
              "    };\n",
              "  });\n",
              "\n",
              "  // Wait for the user to pick the files.\n",
              "  const files = yield {\n",
              "    promise: Promise.race([pickedPromise, cancelPromise]),\n",
              "    response: {\n",
              "      action: 'starting',\n",
              "    }\n",
              "  };\n",
              "\n",
              "  cancel.remove();\n",
              "\n",
              "  // Disable the input element since further picks are not allowed.\n",
              "  inputElement.disabled = true;\n",
              "\n",
              "  if (!files) {\n",
              "    return {\n",
              "      response: {\n",
              "        action: 'complete',\n",
              "      }\n",
              "    };\n",
              "  }\n",
              "\n",
              "  for (const file of files) {\n",
              "    const li = document.createElement('li');\n",
              "    li.append(span(file.name, {fontWeight: 'bold'}));\n",
              "    li.append(span(\n",
              "        `(${file.type || 'n/a'}) - ${file.size} bytes, ` +\n",
              "        `last modified: ${\n",
              "            file.lastModifiedDate ? file.lastModifiedDate.toLocaleDateString() :\n",
              "                                    'n/a'} - `));\n",
              "    const percent = span('0% done');\n",
              "    li.appendChild(percent);\n",
              "\n",
              "    outputElement.appendChild(li);\n",
              "\n",
              "    const fileDataPromise = new Promise((resolve) => {\n",
              "      const reader = new FileReader();\n",
              "      reader.onload = (e) => {\n",
              "        resolve(e.target.result);\n",
              "      };\n",
              "      reader.readAsArrayBuffer(file);\n",
              "    });\n",
              "    // Wait for the data to be ready.\n",
              "    let fileData = yield {\n",
              "      promise: fileDataPromise,\n",
              "      response: {\n",
              "        action: 'continue',\n",
              "      }\n",
              "    };\n",
              "\n",
              "    // Use a chunked sending to avoid message size limits. See b/62115660.\n",
              "    let position = 0;\n",
              "    do {\n",
              "      const length = Math.min(fileData.byteLength - position, MAX_PAYLOAD_SIZE);\n",
              "      const chunk = new Uint8Array(fileData, position, length);\n",
              "      position += length;\n",
              "\n",
              "      const base64 = btoa(String.fromCharCode.apply(null, chunk));\n",
              "      yield {\n",
              "        response: {\n",
              "          action: 'append',\n",
              "          file: file.name,\n",
              "          data: base64,\n",
              "        },\n",
              "      };\n",
              "\n",
              "      let percentDone = fileData.byteLength === 0 ?\n",
              "          100 :\n",
              "          Math.round((position / fileData.byteLength) * 100);\n",
              "      percent.textContent = `${percentDone}% done`;\n",
              "\n",
              "    } while (position < fileData.byteLength);\n",
              "  }\n",
              "\n",
              "  // All done.\n",
              "  yield {\n",
              "    response: {\n",
              "      action: 'complete',\n",
              "    }\n",
              "  };\n",
              "}\n",
              "\n",
              "scope.google = scope.google || {};\n",
              "scope.google.colab = scope.google.colab || {};\n",
              "scope.google.colab._files = {\n",
              "  _uploadFiles,\n",
              "  _uploadFilesContinue,\n",
              "};\n",
              "})(self);\n",
              "</script> "
            ]
          },
          "metadata": {}
        },
        {
          "output_type": "stream",
          "name": "stdout",
          "text": [
            "Saving ejemplo.txt to ejemplo (2).txt\n"
          ]
        }
      ]
    },
    {
      "cell_type": "markdown",
      "source": [
        "Luego, podemos abrir el archivo que acabamos de subir utilizando alguno de los siguiente modos de apertura, según se necesita.\n",
        "\n",
        "Modos de apertura:\n",
        "* 'r': modo de lectura (read)\n",
        "* 'w': modo de escritura (write)\n",
        "* 'a': modo de añadir (append)\n",
        "* 'b': modo binario (binary)\n",
        "* 't': modo texto (text, predeterminado)\n",
        "* 'r+': modo escritura y lectura. No sobreescribe el archivo\n",
        "* 'w+': modo escritura y lectura. Sobreescribe el archivo\n",
        "\n",
        "Supongamos que el archivo subido se llama 'ejemplo.txt'"
      ],
      "metadata": {
        "id": "npL1jUuyvicr"
      }
    },
    {
      "cell_type": "code",
      "source": [
        "# Abrir archivo subido\n",
        "archivo = open('ejemplo.txt', 'w+')"
      ],
      "metadata": {
        "id": "5kWYQD1uviLR"
      },
      "execution_count": null,
      "outputs": []
    },
    {
      "cell_type": "markdown",
      "source": [
        "## Lectura de archivos"
      ],
      "metadata": {
        "id": "aVnn32IswMFs"
      }
    },
    {
      "cell_type": "markdown",
      "source": [
        "En Python, para leer información de un archivo usamos el método read()"
      ],
      "metadata": {
        "id": "kzunXu_8wTF1"
      }
    },
    {
      "cell_type": "code",
      "source": [
        "# Leer el archivo subido e imprimir su contenido\n",
        "data = archivo.read()\n",
        "print(data)"
      ],
      "metadata": {
        "colab": {
          "base_uri": "https://localhost:8080/"
        },
        "id": "nRDfDvWnwTVK",
        "outputId": "e2161d0a-fb8e-42a1-8d44-c3bb79b5fa36"
      },
      "execution_count": null,
      "outputs": [
        {
          "output_type": "stream",
          "name": "stdout",
          "text": [
            "\n"
          ]
        }
      ]
    },
    {
      "cell_type": "markdown",
      "source": [
        "## Escritura de archivos"
      ],
      "metadata": {
        "id": "D-n-IgDnx0L5"
      }
    },
    {
      "cell_type": "markdown",
      "source": [
        "En Python, para escribir información en un archivo usamos el método write()"
      ],
      "metadata": {
        "id": "2YfntEObx0MC"
      }
    },
    {
      "cell_type": "code",
      "source": [
        "# Creamos el mensaje que vamos a escribir en el archivo subido\n",
        "mensaje = \"Hola, estoy escribiendo en un archivo\"\n",
        "\n",
        "# Escribimos en el archivo\n",
        "archivo.write(mensaje)\n",
        "\n",
        "# Descargamos el archivo utilizando el módulo files para verificar resultados\n",
        "files.download(\"ejemplo.txt\")\n"
      ],
      "metadata": {
        "colab": {
          "base_uri": "https://localhost:8080/",
          "height": 34
        },
        "id": "hdPdb2Q8x0MC",
        "outputId": "870db261-da60-4985-b26e-6696dba238ec"
      },
      "execution_count": null,
      "outputs": [
        {
          "output_type": "display_data",
          "data": {
            "text/plain": [
              "<IPython.core.display.Javascript object>"
            ],
            "application/javascript": [
              "\n",
              "    async function download(id, filename, size) {\n",
              "      if (!google.colab.kernel.accessAllowed) {\n",
              "        return;\n",
              "      }\n",
              "      const div = document.createElement('div');\n",
              "      const label = document.createElement('label');\n",
              "      label.textContent = `Downloading \"${filename}\": `;\n",
              "      div.appendChild(label);\n",
              "      const progress = document.createElement('progress');\n",
              "      progress.max = size;\n",
              "      div.appendChild(progress);\n",
              "      document.body.appendChild(div);\n",
              "\n",
              "      const buffers = [];\n",
              "      let downloaded = 0;\n",
              "\n",
              "      const channel = await google.colab.kernel.comms.open(id);\n",
              "      // Send a message to notify the kernel that we're ready.\n",
              "      channel.send({})\n",
              "\n",
              "      for await (const message of channel.messages) {\n",
              "        // Send a message to notify the kernel that we're ready.\n",
              "        channel.send({})\n",
              "        if (message.buffers) {\n",
              "          for (const buffer of message.buffers) {\n",
              "            buffers.push(buffer);\n",
              "            downloaded += buffer.byteLength;\n",
              "            progress.value = downloaded;\n",
              "          }\n",
              "        }\n",
              "      }\n",
              "      const blob = new Blob(buffers, {type: 'application/binary'});\n",
              "      const a = document.createElement('a');\n",
              "      a.href = window.URL.createObjectURL(blob);\n",
              "      a.download = filename;\n",
              "      div.appendChild(a);\n",
              "      a.click();\n",
              "      div.remove();\n",
              "    }\n",
              "  "
            ]
          },
          "metadata": {}
        },
        {
          "output_type": "display_data",
          "data": {
            "text/plain": [
              "<IPython.core.display.Javascript object>"
            ],
            "application/javascript": [
              "download(\"download_6c143c9e-2519-45b8-a8c4-155146d6ee0d\", \"ejemplo.txt\", 0)"
            ]
          },
          "metadata": {}
        },
        {
          "output_type": "stream",
          "name": "stdout",
          "text": [
            "\n"
          ]
        }
      ]
    },
    {
      "cell_type": "markdown",
      "source": [
        "## Cerrar archivo"
      ],
      "metadata": {
        "id": "rH7TZHiD06wr"
      }
    },
    {
      "cell_type": "markdown",
      "source": [
        "Para cerrar un archivo usamos el método close(), el cual limpia cualquier información que no haya sido escrita y cierra el archivo. Después que este método es ejecutado no podemos ejecutar ninguna operación en el archivo."
      ],
      "metadata": {
        "id": "9K5ma_nK1Gfa"
      }
    },
    {
      "cell_type": "code",
      "source": [
        "# Cerramos el archivo\n",
        "archivo.close()"
      ],
      "metadata": {
        "id": "NHQUJIC-1Kjp"
      },
      "execution_count": null,
      "outputs": []
    },
    {
      "cell_type": "markdown",
      "source": [
        "## Ejercicio\n",
        "\n",
        "Tenemos un archivo con varios saludos y despedidas entre todos los saludos.\n"
      ],
      "metadata": {
        "id": "eMB8zLwUu5YD"
      }
    },
    {
      "cell_type": "code",
      "source": [
        "# Abrimos el archivo o lo creamos si aún no existe\n",
        "saludos = open(\"saludos.txt\",\"w+\")\n",
        "\n",
        "# Escribimos los saludos en el archivo\n",
        "interacciones = [\n",
        "    \"hola\",\n",
        "    \"buenos días\",\n",
        "    \"saludos\",\n",
        "    \"hola\",\n",
        "    \"adios\",\n",
        "    \"buenos días\",\n",
        "    \"adios\"\n",
        "]\n",
        "\n",
        "for interaccion in interacciones:\n",
        "  saludos.write(interaccion + '\\n')\n",
        "\n",
        "saludos.close()\n"
      ],
      "metadata": {
        "id": "yAtSRKnTxaP4"
      },
      "execution_count": null,
      "outputs": []
    },
    {
      "cell_type": "markdown",
      "source": [
        "Pero necesitamos un archivo que no contenga despedidas, solo saludos.\n",
        "Su trabajo es leer el archivo \"saludos.txt\" y crear otro archivo llamado \"soloSaludos.txt\" que contenga solamente los saludos del archivo \"saludos.txt\"."
      ],
      "metadata": {
        "id": "_DHmQIJmzqNF"
      }
    },
    {
      "cell_type": "code",
      "source": [
        "# su código aquí\n",
        "\n",
        "# ¡pista! Convertir la información de saludos en una lista\n",
        "saludosYdespedidas = []\n",
        "for saludo in saludos:\n",
        "    saludosYdespedidas.append(saludo.strip())\n",
        "\n",
        "# su código aquí"
      ],
      "metadata": {
        "id": "1Wxt3OxD447m"
      },
      "execution_count": null,
      "outputs": []
    },
    {
      "cell_type": "markdown",
      "source": [
        "Reto:\n",
        "\n",
        "Imprimir la cantidad de saludos y despedidas en el archivo saludos.txt\n",
        "\n",
        "Por ejemplo, en este ejercicio, fueron 5 saludos y dos despedidas"
      ],
      "metadata": {
        "id": "-rl7for96Y-p"
      }
    },
    {
      "cell_type": "markdown",
      "metadata": {
        "id": "CvYPmjYUf4f2"
      },
      "source": [
        "# Parte 4.1 - Funciones\n",
        "---"
      ]
    },
    {
      "cell_type": "markdown",
      "metadata": {
        "id": "Ij4vu3LG0Tr-"
      },
      "source": [
        "## Definición\n",
        "\n",
        "Una función es una estructura que permite agrupar código.\n",
        "\n",
        "Algunos beneficios de usar funciones:\n",
        "1. Evitar repetición de trozos de código en el programa.\n",
        "1. Reutilizar el código de las funciones para distintas situaciones.\n",
        "1. Estandarizar el programa haciendo funciones pequeñas con tareas muy específicas.\n",
        "\n",
        "La estructura de una función sera :\n",
        "\n",
        "- nombre de función\n",
        "- parámetros\n",
        "- valor de retorno\n",
        "\n",
        "```\n",
        "def nombre_de_funcion(parametros):\n",
        "    valor_retorno = procedimiento(parametros)\n",
        "    return valor_retorno\n",
        "\n",
        "```"
      ]
    },
    {
      "cell_type": "markdown",
      "metadata": {
        "id": "wR8FTqGeuWuK"
      },
      "source": [
        "## Declaración de una función\n",
        "\n",
        "Para declarar la función seguimos la estructura base que ya estudiamos. En este ambiente de `Notebooks` es necesario ejecutar la celda de código para instanciar la nueva función antes de poder utilizarla."
      ]
    },
    {
      "cell_type": "code",
      "execution_count": null,
      "metadata": {
        "id": "klR0jxC90q3U"
      },
      "outputs": [],
      "source": [
        "def mi_primer_funcion():\n",
        "    print (\"Hola Mundo desde una función\")\n"
      ]
    },
    {
      "cell_type": "markdown",
      "metadata": {
        "id": "rEiPUEPn00kS"
      },
      "source": [
        "Para utilizar la nueva función en nuestros programas solo debemos invocarla."
      ]
    },
    {
      "cell_type": "code",
      "execution_count": null,
      "metadata": {
        "id": "krsDkOlI03E0"
      },
      "outputs": [],
      "source": [
        "mi_primer_funcion()"
      ]
    },
    {
      "cell_type": "markdown",
      "metadata": {
        "id": "_nsXeSwJ1cX5"
      },
      "source": [
        "**Atención**\n",
        "\n",
        "¿Qué ocurre si invocamos una función antes de instanciarla?"
      ]
    },
    {
      "cell_type": "code",
      "execution_count": null,
      "metadata": {
        "id": "16gBuQIz1sXU"
      },
      "outputs": [],
      "source": [
        "mi_segunda_funcion()\n",
        "\n",
        "def mi_segunda_funcion():\n",
        "    print (\"Hola Mundo desde una función!\")"
      ]
    },
    {
      "cell_type": "markdown",
      "metadata": {
        "id": "IuODkYsk2E1f"
      },
      "source": [
        "## Argumentos y parámetros\n",
        "\n",
        "En la definición de una función, los valores que se reciben se denominan **parámetros**, pero durante la llamada los valores que se envían se denominan **argumentos**.\n",
        "\n",
        "Muchas veces estos términos se usan de manera intercambiable, pero es importante conocer la diferencia.\n",
        "\n",
        "Un parámetro es una variable en la definición de una función. Es sólamente un símbolo y por eso no tiene un valor concreto.\n",
        "\n",
        "Un argumento en cambio es un valor que se le pasa a la función en la invocación. Poro decirlo de este modo, un argumento llena el campo que tiene reservado para él un parámetro.\n",
        "\n",
        "```\n",
        "def sumar(x,y):     # x, y son parámetros\n",
        "  return x+y\n",
        "\n",
        "sumar(5+8)          # 5, 8 son argumentos\n",
        "```\n",
        "Veamos un ejemplo de una función parametrizable."
      ]
    },
    {
      "cell_type": "code",
      "execution_count": null,
      "metadata": {
        "id": "uNc1YjH03MJl"
      },
      "outputs": [],
      "source": [
        "def presentarse(nombre):\n",
        "    print(\"Hola! Soy {} y me siento feliz con el curso de hoy.\".format(nombre))\n",
        "\n",
        "presentarse(\"Ana\")"
      ]
    },
    {
      "cell_type": "markdown",
      "metadata": {
        "id": "WpN86GHS71dT"
      },
      "source": [
        "Y esta función la podemos utilizar con distintos argumentos."
      ]
    },
    {
      "cell_type": "code",
      "execution_count": null,
      "metadata": {
        "id": "ZcuAHkWe7y_Q"
      },
      "outputs": [],
      "source": [
        "presentarse(\"Ronny\")"
      ]
    },
    {
      "cell_type": "markdown",
      "metadata": {
        "id": "F3nbxhXk8J3e"
      },
      "source": [
        "Las funciones pueden tener múltiples parámetros. En este caso los separamos por comas."
      ]
    },
    {
      "cell_type": "code",
      "execution_count": null,
      "metadata": {
        "id": "dyJuJcfb8Kdf"
      },
      "outputs": [],
      "source": [
        "def presentarse(nombre, estado):\n",
        "    print(\"Hola! Soy {} y me siento {} con el curso de hoy.\".format(nombre, estado))\n",
        "\n",
        "presentarse(\"Ana\", \"feliz\")\n",
        "presentarse(\"Ronny\", \"motivado\")"
      ]
    },
    {
      "cell_type": "markdown",
      "metadata": {
        "id": "GklZgQun9Sn6"
      },
      "source": [
        "Ejemplo de una función para calcular el volúmen de un cilindro."
      ]
    },
    {
      "cell_type": "code",
      "execution_count": null,
      "metadata": {
        "id": "JnIDrCYc9RTM"
      },
      "outputs": [],
      "source": [
        "import math\n",
        "\n",
        "def volumenCilindro(radio, altura):\n",
        "  return math.pi * (pow(radio,2)) * altura\n",
        "\n",
        "print (volumenCilindro(1,1))\n",
        "print (volumenCilindro(1,10))\n",
        "print (volumenCilindro(10,1))"
      ]
    },
    {
      "cell_type": "markdown",
      "metadata": {
        "id": "VgIArVpHAdDA"
      },
      "source": [
        "Naturalmente, se puede invocar una función y guardar el resutado en una variable para posteriormente utilizar dicha variable en otra operación."
      ]
    },
    {
      "cell_type": "code",
      "execution_count": null,
      "metadata": {
        "id": "DWmXGBoPApQ0"
      },
      "outputs": [],
      "source": [
        "volumen1 = volumenCilindro(3,5)\n",
        "volumen2 = volumenCilindro(7,10)\n",
        "\n",
        "print(\"El volumen total que tenemos es: \", str(math.floor(volumen1 + volumen2)))"
      ]
    },
    {
      "cell_type": "markdown",
      "metadata": {
        "id": "8-oKuXWABqX1"
      },
      "source": [
        "## Alcance o ámbito de las variables\n",
        "\n",
        "En `Python` (y en general también en otros lenguajes de programación), las variables se encuentran confinadas dentro de un espacio. El término en inglés es _scope_ y en castellano se puede traducir como ámbito o alcance.\n",
        "\n",
        "Hay dos tipos de alcance, **global** y **local**."
      ]
    },
    {
      "cell_type": "markdown",
      "metadata": {
        "id": "F4QP4FjJD-wq"
      },
      "source": [
        "Una variable **global** se puede invocar en cualqueir parte del programa. Es decir, se puede invocar incluso desde adentro de muchas funciones."
      ]
    },
    {
      "cell_type": "code",
      "execution_count": null,
      "metadata": {
        "id": "fHvfw8hnD1TH"
      },
      "outputs": [],
      "source": [
        "varGlobal = \"Esta es una variable global\"\n",
        "\n",
        "def funcion1():     # declaración\n",
        "    print(varGlobal)\n",
        "\n",
        "funcion1()          # invocación\n",
        "\n",
        "def funcion2():     # declaración\n",
        "    print(varGlobal)\n",
        "\n",
        "funcion2()          # invocación\n",
        "\n",
        "\n",
        "print(varGlobal)            # uso de la variable global"
      ]
    },
    {
      "cell_type": "markdown",
      "metadata": {
        "id": "Z8teIJ0lEmNL"
      },
      "source": [
        "Una variable **local** únicamente existe dentro del cuerpo de la función donde esta se declara.\n",
        "\n"
      ]
    },
    {
      "cell_type": "code",
      "execution_count": null,
      "metadata": {
        "id": "uUovAy7gEwY9"
      },
      "outputs": [],
      "source": [
        "def funcion():\n",
        "  varLocal = \"Esta es una variable local\"\n",
        "  print(varLocal)\n",
        "\n",
        "funcion()\n"
      ]
    },
    {
      "cell_type": "markdown",
      "metadata": {
        "id": "6i6TpQuBFLv4"
      },
      "source": [
        "Si se invoca una variable local fuera de la función donde esta se declaró el sistema genera un error."
      ]
    },
    {
      "cell_type": "code",
      "execution_count": null,
      "metadata": {
        "id": "2Mw0RW4OFY6X"
      },
      "outputs": [],
      "source": [
        "print(varLocal)"
      ]
    },
    {
      "cell_type": "markdown",
      "metadata": {
        "id": "xxeuDv3nEwi9"
      },
      "source": [
        "Se puede crear una variable **local** con el mismo nombre de una variable **global**, pero `Python; lo verá como 2 variables distintas."
      ]
    },
    {
      "cell_type": "code",
      "execution_count": null,
      "metadata": {
        "id": "9TNsRukLFmAH"
      },
      "outputs": [],
      "source": [
        "miVariable = \"Esta es una variable global\"\n",
        "\n",
        "def funcion():\n",
        "  miVariable = \"Esta es una variable local\"\n",
        "  print(miVariable)\n",
        "\n",
        "funcion()             # utilizará la variable local\n",
        "\n",
        "print(miVariable)     # utilizará la variable global"
      ]
    },
    {
      "cell_type": "markdown",
      "metadata": {
        "id": "h1iVs8xcF9lv"
      },
      "source": [
        "🚫 Lo siguiente **NO** es una buena práctica de programación. 🚫\n",
        "\n",
        "Pero algunos lenguajes de programación permiten utilizar una variable global dentro del ámbito de una función.\n",
        "\n",
        "No se lo recomendamos pero en `Python` esto se puede hacer con la palabra reservada **`global`**"
      ]
    },
    {
      "cell_type": "code",
      "execution_count": null,
      "metadata": {
        "id": "Vsl0a6dNHqx_"
      },
      "outputs": [],
      "source": [
        "def funcion():\n",
        "    global var\n",
        "    var = 'Esta es una variable local que asignamos como global'\n",
        "\n",
        "funcion()\n",
        "\n",
        "print(var)"
      ]
    },
    {
      "cell_type": "markdown",
      "metadata": {
        "id": "aYL9W5r_H2NT"
      },
      "source": [
        "De la misma manera una función puede cambiar el valor de una variable que había sido declarada como global."
      ]
    },
    {
      "cell_type": "code",
      "execution_count": null,
      "metadata": {
        "id": "FS4EKW2xH9Ve"
      },
      "outputs": [],
      "source": [
        "var = \"Esta es una variable global\"\n",
        "\n",
        "def funcion():\n",
        "    global var\n",
        "    var = 'Ahora es una variable local'\n",
        "    print(var)\n",
        "\n",
        "print(var)\n",
        "\n",
        "funcion()\n",
        "\n",
        "print(var)"
      ]
    },
    {
      "cell_type": "markdown",
      "metadata": {
        "id": "xYs9xpfZT0EM"
      },
      "source": [
        "## Documentación de funciones\n",
        "\n",
        "Consiste en crear documentación, es decir, una explicación de aquello que hace una función. En algunos casos, es importante agregar más detalles que indiquen cómo es que la función realiza su tarea. Otras veces no es tan necesario si la función es considerada como simple.\n",
        "\n",
        "Para documentar en `Python` se utiliza el llamado `DOCSTRING` que consiste en cadenas texto literal que se colocan justo después de la definición de una función. Veamos un ejempo."
      ]
    },
    {
      "cell_type": "code",
      "execution_count": null,
      "metadata": {
        "id": "42xr-TI6UzXz"
      },
      "outputs": [],
      "source": [
        "def raiz_cuadrada(n):\n",
        "    '''Recibe un número n, retorna la raíz cuadrada de n'''\n",
        "    return n**2"
      ]
    },
    {
      "cell_type": "code",
      "execution_count": null,
      "metadata": {
        "id": "ATazt1AAUQSn"
      },
      "outputs": [],
      "source": [
        "def area_rectangulo(ancho,alto):\n",
        "    '''(number, number)-> number\n",
        "    Devuelve el área del réctangulo al pasarle su ancho y su alto\n",
        "    '''\n",
        "    area=ancho*alto\n",
        "    return area"
      ]
    },
    {
      "cell_type": "code",
      "execution_count": null,
      "metadata": {
        "id": "mulYw_cpU_QT"
      },
      "outputs": [],
      "source": [
        "help(raiz_cuadrada)\n",
        "help(area_rectangulo)"
      ]
    },
    {
      "cell_type": "markdown",
      "metadata": {
        "id": "yj8_qyE0VOd3"
      },
      "source": [
        "La documentación puede ser más detallada según se necesite. Por ejemplo, puede incluir una descripción y ejemplos de uso de la función."
      ]
    },
    {
      "cell_type": "code",
      "execution_count": null,
      "metadata": {
        "id": "HHabTddWVRk5"
      },
      "outputs": [],
      "source": [
        "def area_rectangulo(ancho,alto):\n",
        "    '''(number, number)-> number #Type Contract\n",
        "    Devuelve el área del réctangulo al pasarle su ancho y su alto\n",
        "    >>>area_rectangulo(5,7)\n",
        "    35\n",
        "    >>>area_rectangulo(3.5, 5.7)\n",
        "    19.95\n",
        "    '''\n",
        "    area=ancho*alto\n",
        "    return area"
      ]
    },
    {
      "cell_type": "code",
      "execution_count": null,
      "metadata": {
        "id": "jXC62gCmVjHh"
      },
      "outputs": [],
      "source": [
        "help(area_rectangulo)"
      ]
    },
    {
      "cell_type": "markdown",
      "metadata": {
        "id": "E7vSA4CwIibA"
      },
      "source": [
        "## Ejercicios\n",
        "\n",
        "Como práctica le recomendamos hacer estos ejercicios con funciones."
      ]
    },
    {
      "cell_type": "markdown",
      "metadata": {
        "id": "hWB5vZ4ORKHl"
      },
      "source": [
        "1. Teoréma de Pitágoras. Cree una función `hipotenusa` que calcule la medida de la hipotenusa de un triángulo rectángulo recibiendo el valor de los dos catetos.\n"
      ]
    },
    {
      "cell_type": "code",
      "execution_count": null,
      "metadata": {
        "id": "dfnsOiPcRuzO"
      },
      "outputs": [],
      "source": [
        "def hipotenusa(cateto1, cateto2):\n",
        "  return 0    # su código aquí"
      ]
    },
    {
      "cell_type": "markdown",
      "metadata": {
        "id": "-9SPpnMCRwLU"
      },
      "source": [
        "2. Email válido o inválido. Cree una función que capture el **email** de alguien, y buscando el carácter **\"@\"** identifique si la dirección es válida o no."
      ]
    },
    {
      "cell_type": "code",
      "execution_count": null,
      "metadata": {
        "id": "i5cM1_3BSIHL"
      },
      "outputs": [],
      "source": [
        "def validarEmail(email):\n",
        "  return True     # su código aquí"
      ]
    },
    {
      "cell_type": "markdown",
      "metadata": {
        "id": "clpWTVhmUMLb"
      },
      "source": [
        "3. Las siguientes son distancias aproximadas entre el planeta tierra y otros planetas del sistema solar. Cree una función que pregunte al usuario cuál distancia quiere conocer y le imprima el dato como respuesta. Si el usuario pregunta por un planeta no conocido la respuesta es algo como `\"Lo siento, no tengo ese planeta en la base de datos.\"`\n",
        "\n",
        "|Planeta | Distancia (Km)\n",
        "---|---\n",
        "mercurio| 91.690.000\n",
        "venus | 42.000.000\n",
        "marte | 69.000.000\n",
        "júpiter | 591.000.000\n",
        "saturno |1.200.000.000\n",
        "\n"
      ]
    },
    {
      "cell_type": "code",
      "execution_count": null,
      "metadata": {
        "id": "BnA_dRAXVzyj"
      },
      "outputs": [],
      "source": [
        "def distanciaConLaTierra():\n",
        "  distancia = 0\n",
        "  planeta = \"\"                # haga que el usuario ingrese el nombre del planeta\n",
        "  # su código aquí\n",
        "\n",
        "  return distancia\n",
        "\n",
        "distanciaConLaTierra()"
      ]
    },
    {
      "cell_type": "markdown",
      "metadata": {
        "id": "VsffWOxfWDUf"
      },
      "source": [
        "# Parte 4.2 - Uso de Bibliotecas\n",
        "---"
      ]
    },
    {
      "cell_type": "markdown",
      "metadata": {
        "id": "gbdAKcqFWKAd"
      },
      "source": [
        "Recordemos que una biblioteca es como una colección de herramientas y funciones que otras personas han creado y compartido para ayudar a los programadores a realizar tareas específicas de manera más fácil y eficiente. También existen bibliotecas que son parte del *core* de Python (como `math`).\n",
        "\n",
        "**¿Cómo o cuándo uso una biblioteca?**\n",
        "\n",
        "Imagine que está armando un rompecabezas. Normalmente, tendría que construir cada pieza por tu cuenta, pero con una biblioteca de Python, ya tiene muchas piezas predefinidas que puede usar directamente. Cada pieza de la biblioteca tiene una función específica y está diseñada para hacer una tarea particular. Por ejemplo, hay piezas para hacer cálculos matemáticos, manejar fechas y horarios, conectarse a bases de datos, leer archivos, crear gráficos y mucho más.\n",
        "\n",
        "La biblioteca está llena de ***funciones*** (las mismas que hemos mencionado en clases anteriores) y herramientas que ahorran tiempo y esfuerzo. En lugar de escribir todo el código desde cero, puede simplemente importar la biblioteca en su programa y usar esas funciones predefinidas para hacer lo que necesita. Es como tener un conjunto de herramientas listas para usar en su caja de herramientas.\n",
        "\n",
        "Además, las bibliotecas de Python a menudo vienen con documentación que explica cómo usar cada función y proporciona ejemplos de código. Esto ayuda a las personas principiantes a comprender cómo aplicar esas funciones en sus propios programas.\n"
      ]
    },
    {
      "cell_type": "markdown",
      "metadata": {
        "id": "fVqjuFXDXujO"
      },
      "source": [
        "### Ejemplo\n",
        "\n",
        "Supongamos que necesitamos ayudar que una persona que fue operada en los ojos y por tanto no podrá leer por un tiempo. Supongamos también que tenemos una forma de obtener los mensajes de texto que le mandan sus familiares y estos menssajes quedan guardados en una lista.\n",
        "\n",
        "Entonces necesitamos una biblioteca que tenga funciones que nos permitan convertir texto en audio. Si buscamos en internet, una de esas bibliotecas es `gTTS`.\n",
        "\n",
        "Por experiencia, sabemos que la mayoría de estas bibliotecas no está instalada en nuestro entorno de desarrollo (Google Colab en este caso). Hay varias formas de verificar eso."
      ]
    },
    {
      "cell_type": "code",
      "execution_count": null,
      "metadata": {
        "id": "ej8xtMMtc-by",
        "colab": {
          "base_uri": "https://localhost:8080/"
        },
        "outputId": "b18c76ea-e943-4836-913c-b259a8268e89"
      },
      "outputs": [
        {
          "output_type": "stream",
          "name": "stdout",
          "text": [
            "Biblioteca no está instalada\n"
          ]
        }
      ],
      "source": [
        "#Forma 1\n",
        "try:\n",
        "    import gtts\n",
        "except ImportError:\n",
        "    # Que hacer si el módulo no se puede importar\n",
        "    print(\"Biblioteca no está instalada\")"
      ]
    },
    {
      "cell_type": "code",
      "execution_count": null,
      "metadata": {
        "colab": {
          "base_uri": "https://localhost:8080/"
        },
        "id": "mVhnzySYdMid",
        "outputId": "61afcdcc-6f14-455e-e1ab-ce39218c840a"
      },
      "outputs": [
        {
          "output_type": "stream",
          "name": "stdout",
          "text": [
            "\u001b[33mWARNING: Package(s) not found: gtts\u001b[0m\u001b[33m\n",
            "\u001b[0m"
          ]
        }
      ],
      "source": [
        "#Forma 2\n",
        "!pip show gtts"
      ]
    },
    {
      "cell_type": "markdown",
      "metadata": {
        "id": "RZnNeXqQdX9o"
      },
      "source": [
        "Nota: pip es una herramienta que permite instalar y administrar bibliotecas o paquetes de Python de manera sencilla. La forma de usar la herramienta en Google Colab es escribiendo `!pip`, seguido de las instrucciones necesarias.\n",
        "\n",
        "Por ejemplo, para instalar la biblioteca gTTS:"
      ]
    },
    {
      "cell_type": "code",
      "execution_count": null,
      "metadata": {
        "colab": {
          "base_uri": "https://localhost:8080/"
        },
        "id": "J5w6EqsJfePI",
        "outputId": "4060e6c3-5586-4182-92fc-7a76db2d561d"
      },
      "outputs": [
        {
          "output_type": "stream",
          "name": "stdout",
          "text": [
            "Collecting gTTS\n",
            "  Downloading gTTS-2.5.1-py3-none-any.whl (29 kB)\n",
            "Requirement already satisfied: requests<3,>=2.27 in /usr/local/lib/python3.10/dist-packages (from gTTS) (2.31.0)\n",
            "Requirement already satisfied: click<8.2,>=7.1 in /usr/local/lib/python3.10/dist-packages (from gTTS) (8.1.7)\n",
            "Requirement already satisfied: charset-normalizer<4,>=2 in /usr/local/lib/python3.10/dist-packages (from requests<3,>=2.27->gTTS) (3.3.2)\n",
            "Requirement already satisfied: idna<4,>=2.5 in /usr/local/lib/python3.10/dist-packages (from requests<3,>=2.27->gTTS) (3.7)\n",
            "Requirement already satisfied: urllib3<3,>=1.21.1 in /usr/local/lib/python3.10/dist-packages (from requests<3,>=2.27->gTTS) (2.0.7)\n",
            "Requirement already satisfied: certifi>=2017.4.17 in /usr/local/lib/python3.10/dist-packages (from requests<3,>=2.27->gTTS) (2024.6.2)\n",
            "Installing collected packages: gTTS\n",
            "Successfully installed gTTS-2.5.1\n"
          ]
        }
      ],
      "source": [
        "!pip install gTTS"
      ]
    },
    {
      "cell_type": "markdown",
      "metadata": {
        "id": "cbE67qDjftu6"
      },
      "source": [
        "Una vez instalada la biblioteca y revisada la [documentación](https://gtts.readthedocs.io/en/latest/module.html) (usualmente podemos buscar como hacer un *hola mundo*), entonces hacemos una prueba sencilla."
      ]
    },
    {
      "cell_type": "code",
      "execution_count": 5,
      "metadata": {
        "id": "fROtnzCuglRt"
      },
      "outputs": [],
      "source": [
        "import gtts as gt\n",
        "\n",
        "texto = \"Hola. Este es un ejemplo.\" # texto que queremos que se transforme en audio\n",
        "idioma = \"es\" #código del idioma (ver documentación para más códigos)\n",
        "\n",
        "audio = gt.gTTS(text=texto, lang=idioma) #crea el audio\n",
        "\n",
        "audio.save(\"ejemplo.mp3\") #guarda el audio en el entorno virtual de Colab\n"
      ]
    },
    {
      "cell_type": "markdown",
      "metadata": {
        "id": "S0GH-vwEiqxy"
      },
      "source": [
        "## Ejercicio\n",
        "\n",
        "Dado el ejemplo de uso anterior de la biblioteca, escriba un programa que convierta una lista de textos en audios.\n",
        "\n",
        "Puede preguntarse antes:\n",
        "- ¿Debería hacer una función?\n",
        "\n",
        "\n",
        "> - Si sí, ¿cuál o cuáles serían sus parámetros?, ¿devuelve algo?\n",
        "- Si no, ¿por qué no debería ser función?\n",
        "\n"
      ]
    },
    {
      "cell_type": "markdown",
      "metadata": {
        "id": "A4PPEPvQf4f3"
      },
      "source": [
        "# Parte 4.3 - Depuración y manejos de errores\n",
        "---\n"
      ]
    },
    {
      "cell_type": "markdown",
      "metadata": {
        "id": "ypABPVU-QdU2"
      },
      "source": [
        "En un programa podemos encontrar al menos tres tipos de errores:\n",
        "1. **Errores de sintaxis**: Son los más fáciles de encontrar, ya que ocurren cuando escribimos mal alguna palabra del programa, como escribir mal un nombre reservado (e.g. `fore` en vez de `for`\n",
        ", o `fi` en vez e `if`, etc.) Normalmente el intérprete del programa en `Pyhton` lo detectará y nos presenta un error de tipo _`SyntaxError`_.\n",
        "1. **Errores semánticos**: Estos normalmente ocurren cuando estamos desarrollando el programa. Quizá el programa inicia y termina sin generar ningún mensaje de error, pero no produce el resultado que se espera. Por ejemplo, utilizamos un algoritmo incorrecto, omitimos alguna línea de código, cambiamos el valor de una variable equivocadamente, etc.\n",
        "1. **Errores de ejecución**: Este tipo de error es muy diverso. Básicamente incluye cualquier error que no es de los anteriores y que se evidencia, solamente, cuando el programa está en ejecución. Por ejemplo, en la siguiente operación de división,  $$resultado = \\frac{dividendo}{divisor}$$ si el valor de la variable `divisor` es igual a `0`, el sistema produce un error el tiempo de ejecución y se detiene. Otro caso podría ocurrir al acceder al décimo elemento de una lista que tiene solo 5 elementos.\n",
        "Los errores del primer tipo **Sintaxis** son fáciles de encontrar, ya que mientras estén presentes el programa normalmente no corre, es decir, ni tal siquiera lo podemos ejecutar.\n",
        "\n",
        "Los erroes **Semánticos** también suelen ser fáciles de detectar, ya que basta con correr el programa con un conjunto de entradas y validar que se produzca la salida esperada.\n",
        "\n",
        "Los errores de **ejecución**, sin embargo, debemos manejarlos mediante otras estrategias. Veamos algunas."
      ]
    },
    {
      "cell_type": "markdown",
      "metadata": {
        "id": "GHPMJw014s6V"
      },
      "source": [
        "## Manejo de Excepciones\n",
        "\n",
        "Los errores de ejecución son llamados comúnmente excepciones. Ocurren si dentro de una función surge una excepción y la función no la maneja, la excepción se propaga hacia la función que la invocó, si esta otra tampoco la maneja, la excepción continua propagándose hasta llegar a la función inicial del programa y si esta tampoco la maneja se interrumpe la ejecución del programa."
      ]
    },
    {
      "cell_type": "markdown",
      "metadata": {
        "id": "R5Hu4qUw5Dsj"
      },
      "source": [
        "En el caso de `Python`, el manejo de excepciones se hace mediante los bloques que utilizan las sentencias `try` y `except`."
      ]
    },
    {
      "cell_type": "code",
      "execution_count": null,
      "metadata": {
        "colab": {
          "base_uri": "https://localhost:8080/"
        },
        "id": "0LIKQ0CR5cV2",
        "outputId": "e760e3cb-e4a8-41e9-8235-875f56f61025"
      },
      "outputs": [
        {
          "output_type": "stream",
          "name": "stdout",
          "text": [
            "No se permite la división por cero\n"
          ]
        }
      ],
      "source": [
        "dividendo = 100\n",
        "divisor = 0\n",
        "\n",
        "try:\n",
        "  cociente = dividendo / divisor\n",
        "except:\n",
        "  print(\"No se permite la división por cero\")"
      ]
    },
    {
      "cell_type": "markdown",
      "metadata": {
        "id": "xoEHM_s45sJE"
      },
      "source": [
        "Dado que dentro de un mismo bloque `try` pueden producirse excepciones de distinto tipo, es posible utilizar varios bloques `except`, cada uno para capturar un tipo distinto de excepción"
      ]
    },
    {
      "cell_type": "markdown",
      "metadata": {
        "id": "Io3yvMN1517v"
      },
      "source": [
        "\n",
        "\n",
        "```\n",
        "try:\n",
        "    # aquí ponemos el código que puede lanzar excepciones\n",
        "except IOError:\n",
        "    # entrará aquí en caso que se haya producido\n",
        "    # una excepción IOError\n",
        "except ZeroDivisionError:\n",
        "    # entrará aquí en caso que se haya producido\n",
        "    # una excepción ZeroDivisionError\n",
        "\n",
        "```\n",
        "\n"
      ]
    },
    {
      "cell_type": "code",
      "execution_count": null,
      "metadata": {
        "colab": {
          "base_uri": "https://localhost:8080/"
        },
        "id": "1Rpe1Oty5vBE",
        "outputId": "82c820e5-9b81-4ee4-d74b-64c5d51cd336"
      },
      "outputs": [
        {
          "output_type": "stream",
          "name": "stdout",
          "text": [
            "Error de entrada/salida.\n"
          ]
        }
      ],
      "source": [
        "try:\n",
        "    # Posible error de ES\n",
        "    archivo = open(\"miarchivo.txt\")\n",
        "\n",
        "    # Posible error de división por cero\n",
        "    dividendo = 100\n",
        "    divisor = 10\n",
        "    cociente = dividendo / divisor\n",
        "except IOError:\n",
        "  print(\"Error de entrada/salida.\")\n",
        "except ZeroDivisionError:\n",
        "    # entrará aquí en caso que se haya producido\n",
        "    # una excepción ZeroDivisionError\n",
        "    print(\"No se permite la división por cero\")"
      ]
    },
    {
      "cell_type": "markdown",
      "metadata": {
        "id": "tEF48_GFrpOM"
      },
      "source": [
        "## Validación de entradas\n",
        "\n",
        "Las validaciones son técnicas que permiten asegurar que los valores con los que se vaya a operar estén dentro de determinado dominio.\n",
        "\n",
        "Estas técnicas son particularmente importantes al momento de utilizar entradas del usuario o de un archivo (o entradas externas en general) en nuestro código, y también se las utiliza para comprobar precondiciones. Al uso intensivo de estas técnicas se lo suele llamar programación defensiva."
      ]
    },
    {
      "cell_type": "markdown",
      "metadata": {
        "id": "P1rOxM0U0BrI"
      },
      "source": [
        "A modo de ejemplo, la siguiente función realiza una división para calcular el costo unitario de un producto.\n"
      ]
    },
    {
      "cell_type": "code",
      "execution_count": null,
      "metadata": {
        "id": "9UKYes4d0lm6"
      },
      "outputs": [],
      "source": [
        "def costo_unitario(costo_total, cantidad_productos):\n",
        "  return costo_total / cantidad_productos;\n"
      ]
    },
    {
      "cell_type": "markdown",
      "metadata": {
        "id": "4JDP-urM1TN8"
      },
      "source": [
        "El siguiente llamado se realiza con éxito."
      ]
    },
    {
      "cell_type": "code",
      "execution_count": null,
      "metadata": {
        "colab": {
          "base_uri": "https://localhost:8080/"
        },
        "id": "1QndJeio0z17",
        "outputId": "12f3c791-c5a2-44e2-b8ca-4d0d701ae815"
      },
      "outputs": [
        {
          "output_type": "stream",
          "name": "stdout",
          "text": [
            "El costo unitario es de:  10000.0\n"
          ]
        }
      ],
      "source": [
        "costo = 100000\n",
        "productos = 10\n",
        "\n",
        "print(\"El costo unitario es de: \", str(costo_unitario(costo, productos)))"
      ]
    },
    {
      "cell_type": "markdown",
      "metadata": {
        "id": "oPiOSOWq1ZZk"
      },
      "source": [
        "El siguiente llamado genera un error."
      ]
    },
    {
      "cell_type": "code",
      "execution_count": null,
      "metadata": {
        "colab": {
          "base_uri": "https://localhost:8080/",
          "height": 245
        },
        "id": "BixUuqgX1b3f",
        "outputId": "da8052f0-bf33-4baa-d9b5-99b24b27d6d9"
      },
      "outputs": [
        {
          "output_type": "error",
          "ename": "ZeroDivisionError",
          "evalue": "division by zero",
          "traceback": [
            "\u001b[0;31m---------------------------------------------------------------------------\u001b[0m",
            "\u001b[0;31mZeroDivisionError\u001b[0m                         Traceback (most recent call last)",
            "\u001b[0;32m<ipython-input-5-927d9fcda1e8>\u001b[0m in \u001b[0;36m<cell line: 4>\u001b[0;34m()\u001b[0m\n\u001b[1;32m      2\u001b[0m \u001b[0mproductos\u001b[0m \u001b[0;34m=\u001b[0m \u001b[0;36m0\u001b[0m\u001b[0;34m\u001b[0m\u001b[0;34m\u001b[0m\u001b[0m\n\u001b[1;32m      3\u001b[0m \u001b[0;34m\u001b[0m\u001b[0m\n\u001b[0;32m----> 4\u001b[0;31m \u001b[0mprint\u001b[0m\u001b[0;34m(\u001b[0m\u001b[0;34m\"El costo unitario es de: \"\u001b[0m\u001b[0;34m,\u001b[0m \u001b[0mstr\u001b[0m\u001b[0;34m(\u001b[0m\u001b[0mcosto_unitario\u001b[0m\u001b[0;34m(\u001b[0m\u001b[0mcosto\u001b[0m\u001b[0;34m,\u001b[0m \u001b[0mproductos\u001b[0m\u001b[0;34m)\u001b[0m\u001b[0;34m)\u001b[0m\u001b[0;34m)\u001b[0m\u001b[0;34m\u001b[0m\u001b[0;34m\u001b[0m\u001b[0m\n\u001b[0m",
            "\u001b[0;32m<ipython-input-3-847f338889c5>\u001b[0m in \u001b[0;36mcosto_unitario\u001b[0;34m(costo_total, cantidad_productos)\u001b[0m\n\u001b[1;32m      1\u001b[0m \u001b[0;32mdef\u001b[0m \u001b[0mcosto_unitario\u001b[0m\u001b[0;34m(\u001b[0m\u001b[0mcosto_total\u001b[0m\u001b[0;34m,\u001b[0m \u001b[0mcantidad_productos\u001b[0m\u001b[0;34m)\u001b[0m\u001b[0;34m:\u001b[0m\u001b[0;34m\u001b[0m\u001b[0;34m\u001b[0m\u001b[0m\n\u001b[0;32m----> 2\u001b[0;31m   \u001b[0;32mreturn\u001b[0m \u001b[0mcosto_total\u001b[0m \u001b[0;34m/\u001b[0m \u001b[0mcantidad_productos\u001b[0m\u001b[0;34m;\u001b[0m\u001b[0;34m\u001b[0m\u001b[0;34m\u001b[0m\u001b[0m\n\u001b[0m",
            "\u001b[0;31mZeroDivisionError\u001b[0m: division by zero"
          ]
        }
      ],
      "source": [
        "costo = 100000\n",
        "productos = 0\n",
        "\n",
        "print(\"El costo unitario es de: \", str(costo_unitario(costo, productos)))"
      ]
    },
    {
      "cell_type": "markdown",
      "metadata": {
        "id": "tL6c2oeC1zK-"
      },
      "source": [
        "Utilizamos la función `assert` para validar que el argumento es mayor que cero. Si esto no ocurre, la ejecución se detiene y se le muesta al usuario el mensaje informativo para que corrija la condición que va a generar un error."
      ]
    },
    {
      "cell_type": "code",
      "execution_count": null,
      "metadata": {
        "id": "M6Bi73691b_B"
      },
      "outputs": [],
      "source": [
        "def costo_unitario(costo_total, cantidad_productos):\n",
        "  assert cantidad_productos > 0, \"cantidad_productos debe ser mayor que 0\"\n",
        "  return costo_total / cantidad_productos;"
      ]
    },
    {
      "cell_type": "code",
      "execution_count": null,
      "metadata": {
        "id": "UBlMQGm61wxS"
      },
      "outputs": [],
      "source": [
        "costo = 100000\n",
        "productos = 0\n",
        "\n",
        "print(\"El costo unitario es de: \", str(costo_unitario(costo, productos)))"
      ]
    },
    {
      "cell_type": "markdown",
      "metadata": {
        "id": "fz7gJf_S2rP6"
      },
      "source": [
        "Esta otra función requiere que el usuario ingrese un número entero. Genera un error si el valor ingresado no es un número entero `int(valor)` fallaría en ese caso."
      ]
    },
    {
      "cell_type": "code",
      "execution_count": null,
      "metadata": {
        "id": "hu8C7vUy2vZM"
      },
      "outputs": [],
      "source": [
        "def lee_entero():\n",
        "    \"\"\" Solicita un valor entero y lo devuelve.\n",
        "        Si el valor ingresado no es entero, lanza una excepción. \"\"\"\n",
        "    valor = input(\"Ingrese un número entero: \")\n",
        "    return int(valor)"
      ]
    },
    {
      "cell_type": "code",
      "execution_count": null,
      "metadata": {
        "id": "UJ1QuXTP2xYE"
      },
      "outputs": [],
      "source": [
        "lee_entero()"
      ]
    },
    {
      "cell_type": "markdown",
      "metadata": {
        "id": "LmEXSAkY3pci"
      },
      "source": [
        "Esta otra versión corrije el problema, ya que genera un error si el valor ingresado es incorrecto. Además, le da al usuario la posibilidad de volver a ingresar el valor, en este caso 2 veces.\n",
        "\n",
        "> Indented block\n",
        "\n"
      ]
    },
    {
      "cell_type": "code",
      "execution_count": null,
      "metadata": {
        "id": "bI0QXJ0S3jQv"
      },
      "outputs": [],
      "source": [
        "def lee_entero():\n",
        "    \"\"\" Solicita un valor entero y lo devuelve.\n",
        "        Si el valor ingresado no es entero, da 2 intentos para ingresarlo\n",
        "        correctamente, y de no ser así, lanza una excepción. \"\"\"\n",
        "    intentos = 0\n",
        "    while intentos < 2:\n",
        "        valor = input(\"Ingrese un número entero: \")\n",
        "        try:\n",
        "            valor = int(valor)\n",
        "            return valor\n",
        "        except ValueError:\n",
        "            intentos += 1\n",
        "    raise ValueError(\"Valor incorrecto ingresado en 2 intentos\")"
      ]
    },
    {
      "cell_type": "code",
      "source": [],
      "metadata": {
        "id": "7DEsefKRwq6i"
      },
      "execution_count": null,
      "outputs": []
    },
    {
      "cell_type": "code",
      "execution_count": null,
      "metadata": {
        "id": "PqPLjJp-39hU"
      },
      "outputs": [],
      "source": [
        "lee_entero()"
      ]
    },
    {
      "cell_type": "markdown",
      "source": [
        "# Parte 5.1 - Manejo de datos y visualización\n",
        "---\n"
      ],
      "metadata": {
        "id": "McHiQHfgwmoT"
      }
    },
    {
      "cell_type": "markdown",
      "source": [
        "## Introducción\n",
        " Se refiere al proceso de transformar, limpiar, analizar y visualizar datos para extraer información útil y tomar decisiones informadas. Python ofrece una variedad de bibliotecas y herramientas que facilitan estas tareas.\n",
        "\n",
        "En esta sección, vamos a trabajar con datos usando la biblioteca `pandas`, que es una de las herramientas más poderosas y flexibles para el análisis y manipulación de datos en Python. Usaremos un archivo CSV con información de estudiantes.\n",
        "\n",
        "En total aprenderemos a:\n",
        "1. Cargar datos.\n",
        "2. Seleccionar y filtrar datos.\n",
        "3. Agrupar y resumir datos.\n",
        "4. Modificar o agregar datos.\n",
        "\n"
      ],
      "metadata": {
        "id": "qM5caWjYBKdy"
      }
    },
    {
      "cell_type": "markdown",
      "source": [
        "## Cargar Datos\n"
      ],
      "metadata": {
        "id": "EGsReJ1lBPo4"
      }
    },
    {
      "cell_type": "markdown",
      "source": [
        "Primero, vamos a cargar los datos de un archivo CSV que se encuentra dentro del ambiente de Google Colab."
      ],
      "metadata": {
        "id": "VgSa8hnZBUeO"
      }
    },
    {
      "cell_type": "code",
      "source": [
        "# Importar las bibliotecas necesarias\n",
        "import pandas as pd\n",
        "\n",
        "# Cargar los datos desde un archivo CSV\n",
        "ruta ='/content/sample_data/estudiantes_con_examenes.csv'\n",
        "\n",
        "# Con panda leemos el csv y para esto, le enviamos la ruta de que leer\n",
        "contenido = pd.read_csv(ruta)\n",
        "\n",
        "# Obtener tamaño del contenido\n",
        "contenido_tamanio = len(contenido)\n",
        "\n",
        "# Mostrar las primeras filas del DataFrame\n",
        "contenido.head(contenido_tamanio)\n"
      ],
      "metadata": {
        "id": "KVHUxszSBx8e"
      },
      "execution_count": null,
      "outputs": []
    },
    {
      "cell_type": "markdown",
      "source": [
        "Es importante recordar que algunos tipos de variables cuentan con funciones específicas, en este caso `contenido` es de tipo **data frame**, una estructura de datos bidimensional parecida a hojas de calculo.\n",
        "\n",
        "Para acceder a las funciones se usa el punto después del nombre de la variable. Vease `contenido.head()`, imprime las primeras 5 filas del excel; si deseamos ver más o menos, podemos colocar el número de filas que desamos ver entre los paréntesis."
      ],
      "metadata": {
        "id": "5CwBN0vbB0kK"
      }
    },
    {
      "cell_type": "markdown",
      "source": [
        "##Seleccionar y filtrar datos\n",
        "\n",
        "Para poder manejar la información más fácilmente, es necesario poder seleccionar los datos que necesitamos o filtrarlos empleando condiciones."
      ],
      "metadata": {
        "id": "eOMJUTPZB3tl"
      }
    },
    {
      "cell_type": "markdown",
      "source": [
        "###Seleccionar"
      ],
      "metadata": {
        "id": "NW3p-9bBCBBx"
      }
    },
    {
      "cell_type": "markdown",
      "source": [
        "En muchas ocasiones, solo necesitamos trabajar con una columna específica de nuestro DataFrame. Podemos seleccionar una columna específica utilizando corchetes y especificando el nombre de la columna que deseamos seleccionar. En este caso, estamos seleccionando la columna `Nombre` y almacenando los resultados en la variable `nombres`."
      ],
      "metadata": {
        "id": "neP2xmLzCDHQ"
      }
    },
    {
      "cell_type": "code",
      "source": [
        "# Seleccionar una columna\n",
        "nombres = contenido['Nombre']\n",
        "\n",
        "# Acceder al tamaño de nombres con len\n",
        "tamanio_nombres = len(nombres)\n",
        "\n",
        "# Mostrar\n",
        "nombres.head(tamanio_nombres)\n"
      ],
      "metadata": {
        "id": "1aPC0UyXCDrP"
      },
      "execution_count": null,
      "outputs": []
    },
    {
      "cell_type": "markdown",
      "source": [
        "También, si es necesario, podemos seleccionar dos columnas de nuestra información. Para esto, se hace igual que con una; pero agragamos dentro de los corchetes el otro valor a mostrar, en este caso `Edad`. Recuerda poner la coma.\n"
      ],
      "metadata": {
        "id": "NsYz70MqCHPc"
      }
    },
    {
      "cell_type": "code",
      "source": [
        "# Seleccionar múltiples columnas del DataFrame\n",
        "nombres_edades = contenido[['Nombre', 'Edad']]\n",
        "\n",
        "# Recordar que len me da el tamaño, o sea un número\n",
        "nombres_edades.head(len(nombres_edades))"
      ],
      "metadata": {
        "id": "bCyM-m0WCJsS"
      },
      "execution_count": null,
      "outputs": []
    },
    {
      "cell_type": "markdown",
      "source": [
        "###Filtrar"
      ],
      "metadata": {
        "id": "PIrjDrNTCMp6"
      }
    },
    {
      "cell_type": "markdown",
      "source": [
        "Por otro lado, a veces necesitamos filtrar nuestro DataFrame para seleccionar solo las filas que cumplen ciertas condiciones. Podemos hacer esto utilizando una expresión `booleana` (verdadero o falso) dentro de corchetes para filtrar las filas que cumplen una condición específica. En este ejemplo, estamos seleccionando solo las filas donde la edad es mayor a 20 años."
      ],
      "metadata": {
        "id": "GAGGLZnwCPsq"
      }
    },
    {
      "cell_type": "code",
      "source": [
        "# Filtrar filas donde la edad es mayor a 20\n",
        "mayores_20 = contenido[contenido['Edad'] > 20]\n",
        "# Accedemos al tamaño de la variable con len()\n",
        "tamanio_mayores_20 = len(mayores_20)\n",
        "\n",
        "# Mostrar\n",
        "mayores_20.head(tamanio_mayores_20)"
      ],
      "metadata": {
        "id": "C0I0lKn6CSqn"
      },
      "execution_count": null,
      "outputs": []
    },
    {
      "cell_type": "markdown",
      "source": [
        "Recordar que también podemos agregar otras condiciones con el `and` representado por `&` y el `or` representado por `|`."
      ],
      "metadata": {
        "id": "BQc6-czZCUal"
      }
    },
    {
      "cell_type": "code",
      "source": [
        "# Filtrar filas donde la edad es mayor a 20 o el grado es 'A'\n",
        "mayor_a_20_o_grado_A = contenido[(contenido['Edad'] > 20) | (contenido['Grado'] == 'A')]\n",
        "mayor_a_20_o_grado_A.head(len(mayor_a_20_o_grado_A))"
      ],
      "metadata": {
        "id": "AZFLSg_1CXYQ"
      },
      "execution_count": null,
      "outputs": []
    },
    {
      "cell_type": "code",
      "source": [
        "# Filtrar filas donde la edad es mayor a 20 y el grado es 'A'\n",
        "mayor_a_20_y_grado_A = contenido[(contenido['Edad'] > 20) & (contenido['Grado'] == 'A')]\n",
        "mayor_a_20_y_grado_A.head(len(mayor_a_20_y_grado_A))"
      ],
      "metadata": {
        "id": "9jj_IQ4mCZkr"
      },
      "execution_count": null,
      "outputs": []
    },
    {
      "cell_type": "markdown",
      "source": [
        "### Práctica"
      ],
      "metadata": {
        "id": "r_HJIxteCc5Y"
      }
    },
    {
      "cell_type": "markdown",
      "source": [
        "Como se observó, anteriormente, se filtró la información con el dato de `Edad`, donde solo se tomaron los mayores a 20. Ahora usted filtre la tabla para que **unicamente** se muestre las personas cuya nota del `Examen 1` sea **mayor a 85**. Pista:\n",
        "\n",
        " `contenido[contenido['NombreDeDato'] > NumeroAcomparar]`"
      ],
      "metadata": {
        "id": "1vxb0rLCCfOq"
      }
    },
    {
      "cell_type": "code",
      "source": [
        "# Filtrar filas donde el Examen 1 sea mayor a 85\n",
        "examen_1_mayor_80 =\n",
        "# Usamos len\n",
        "examen_1_mayor_80.head(len(examen_1_mayor_80))"
      ],
      "metadata": {
        "id": "Cl99lzO8Ciq0"
      },
      "execution_count": null,
      "outputs": []
    },
    {
      "cell_type": "markdown",
      "source": [
        "##Agrupar y resumir datos"
      ],
      "metadata": {
        "id": "6M5FNtEOClDG"
      }
    },
    {
      "cell_type": "markdown",
      "source": [
        "La agrupación y resumen de datos es una técnica fundamental en el análisis de datos que permite calcular estadísticas y ver resúmenes sobre subconjuntos de los datos. En Pandas, la función `groupby()` es muy poderosa para estas tareas, ya que nos permite efectuar **funciones de agregación**. Dichas funciones toman múltiples valores de datos y devuelve un solo valor resumido. Estas funciones son esenciales para resumir y analizar grandes conjuntos de datos al proporcionar información condensada sobre grupos de datos específicos."
      ],
      "metadata": {
        "id": "0Ve_-DFwCnXw"
      }
    },
    {
      "cell_type": "markdown",
      "source": [
        "###Agrupar datos"
      ],
      "metadata": {
        "id": "jiJuZSZHCrEZ"
      }
    },
    {
      "cell_type": "markdown",
      "source": [
        "Para agrupar datos en Pandas, usamos la función `groupby()`, que agrupa un DataFrame por una o más columnas. Por ejemplo, si queremos agrupar nuestros datos por la columna **Grado**, podemos hacer lo siguiente:"
      ],
      "metadata": {
        "id": "UyxemjqWCtiB"
      }
    },
    {
      "cell_type": "code",
      "source": [
        "# Agrupar por la columna 'Grado'\n",
        "grupo_por_grado = contenido.groupby('Grado')\n",
        "grupo_por_grado.head(len(grupo_por_grado))"
      ],
      "metadata": {
        "id": "YGJD7n1WCxWb"
      },
      "execution_count": null,
      "outputs": []
    },
    {
      "cell_type": "markdown",
      "source": [
        "Cuando se utiliza `groupby()` en un DataFrame de Pandas, no ves un resultado inmediato similar a otras operaciones como el de filtrar. En su lugar, `groupby()` devuelve un objeto `DataFrameGroupBy` que está listo para realizar operaciones de agregación."
      ],
      "metadata": {
        "id": "VqAXt7ryC0Ki"
      }
    },
    {
      "cell_type": "markdown",
      "source": [
        "###Aplicar funciones de agregación"
      ],
      "metadata": {
        "id": "_APMbBNIC259"
      }
    },
    {
      "cell_type": "markdown",
      "source": [
        "A continuación, se muestran diferentes funciones de agregación las cuales podemos aplicar para el grupo que hicimos anteriormente."
      ],
      "metadata": {
        "id": "FD23vOb1C5vy"
      }
    },
    {
      "cell_type": "markdown",
      "source": [
        "1. El siguiente código agrupa los datos por la columna `Grado` y luego calcula la **media** de la columna Edad para cada grupo."
      ],
      "metadata": {
        "id": "-zNHZZU_C88-"
      }
    },
    {
      "cell_type": "code",
      "source": [
        "# Calcular el promedio de edad por grado\n",
        "promedio_edad_por_grado = grupo_por_grado['Edad'].mean()\n",
        "print(promedio_edad_por_grado)"
      ],
      "metadata": {
        "id": "-OBdYpyjC-6m"
      },
      "execution_count": null,
      "outputs": []
    },
    {
      "cell_type": "markdown",
      "source": [
        "2. `sum()`: Calcula la suma de los valores."
      ],
      "metadata": {
        "id": "Z6UqumwpDA4y"
      }
    },
    {
      "cell_type": "code",
      "source": [
        "suma_examen_1_por_grado = grupo_por_grado['Examen 1'].sum()\n",
        "print(suma_examen_1_por_grado)"
      ],
      "metadata": {
        "id": "9l5n1084DDNR"
      },
      "execution_count": null,
      "outputs": []
    },
    {
      "cell_type": "markdown",
      "source": [
        "3. `count()`: Cuenta el número de valores no nulos."
      ],
      "metadata": {
        "id": "aU9Hy-4LDGyl"
      }
    },
    {
      "cell_type": "code",
      "source": [
        "no_nulos_en_calificacion_por_grado = grupo_por_grado['Calificacion Final'].count()\n",
        "print(no_nulos_en_calificacion_por_grado)"
      ],
      "metadata": {
        "id": "FQutIiU2DMei"
      },
      "execution_count": null,
      "outputs": []
    },
    {
      "cell_type": "markdown",
      "source": [
        "4. `median()`: Calcula la mediana de los valores."
      ],
      "metadata": {
        "id": "xBBJxSOEDPNQ"
      }
    },
    {
      "cell_type": "code",
      "source": [
        "media_examen_1_por_grado = grupo_por_grado['Examen 1'].median()\n",
        "print(media_examen_1_por_grado)"
      ],
      "metadata": {
        "id": "nCp658p1DR95"
      },
      "execution_count": null,
      "outputs": []
    },
    {
      "cell_type": "markdown",
      "source": [
        "5. `std()`: Calcula la desviación estándar de los valores.\n",
        "\n",
        "1.   List item\n",
        "2.   List item\n",
        "\n"
      ],
      "metadata": {
        "id": "ZSHJCb9eDU6e"
      }
    },
    {
      "cell_type": "code",
      "source": [
        "desviacion_examen_2_por_grado = grupo_por_grado['Examen 2'].std()\n",
        "print(desviacion_examen_2_por_grado)"
      ],
      "metadata": {
        "id": "Mqn1RfciDXli"
      },
      "execution_count": null,
      "outputs": []
    },
    {
      "cell_type": "markdown",
      "source": [
        "6. `min()`: Encuentra el valor mínimo.\n",
        "\n",
        "> Add blockquote\n",
        "\n"
      ],
      "metadata": {
        "id": "P7U-qYeLDa3d"
      }
    },
    {
      "cell_type": "code",
      "source": [
        "minimo_examen_1_por_grado = grupo_por_grado['Examen 1'].min()\n",
        "print(minimo_examen_1_por_grado)"
      ],
      "metadata": {
        "id": "AIYcxR9HDfpu"
      },
      "execution_count": null,
      "outputs": []
    },
    {
      "cell_type": "markdown",
      "source": [
        "7. `max()`: Encuentra el valor máximo."
      ],
      "metadata": {
        "id": "j-g1n_eYDiAG"
      }
    },
    {
      "cell_type": "code",
      "source": [
        "maximo_examen_1_por_grado = grupo_por_grado['Examen 1'].max()\n",
        "print(maximo_examen_1_por_grado)"
      ],
      "metadata": {
        "id": "5dSv1QyGDk60"
      },
      "execution_count": null,
      "outputs": []
    },
    {
      "cell_type": "markdown",
      "source": [
        "##Modificar datos\n",
        "\n",
        " En esta sección, veremos cómo modificar los datos dentro de nuestro DataFrame."
      ],
      "metadata": {
        "id": "N4mqrXp-DrXR"
      }
    },
    {
      "cell_type": "markdown",
      "source": [
        "**Aumentar edad con condición**\n",
        "\n",
        "El siguiente código modifica los valores existentes dentro de la fila Edad:\n",
        "\n"
      ],
      "metadata": {
        "id": "qpWhm4bMDyJq"
      }
    },
    {
      "cell_type": "code",
      "source": [
        "# Modificar valores basados en una condición\n",
        "contenido.loc[contenido['Edad'] > 20, 'Edad'] += 1\n",
        "\n",
        "# Ver después del cambio\n",
        "print(\"Después del cambio\")\n",
        "contenido.head(len(contenido))"
      ],
      "metadata": {
        "id": "VxGedNnmD3Sf"
      },
      "execution_count": null,
      "outputs": []
    },
    {
      "cell_type": "markdown",
      "source": [
        "**Calcular promedio final**\n",
        "\n",
        "El siguiente código calcula la nota final como el promedio de los tres exámenes y coloca la información en la columna \"Calificacion Final\". Para esto:\n",
        "1. Selecciona las columnas de los exámenes.\n",
        "\n",
        "\n",
        "2. Calcular el promedio de las columnas seleccionadas: La función `mean(axis=1)` se aplica al DataFrame que contiene las columnas de los exámenes. La opción `axis=1` indica que queremos calcular la media a **lo largo de las filas**, no de las columnas. Esto significa que para cada fila (es decir, cada estudiante), se calculará la media de los valores en \"Examen 1\", \"Examen 2\" y \"Examen 3\".\n",
        "\n",
        "\n",
        "3. Actualizar la columna \"Calificación Final\".\n"
      ],
      "metadata": {
        "id": "5wpg9XFQEFk1"
      }
    },
    {
      "cell_type": "code",
      "source": [
        "# Calcular la nota final como el promedio de los tres exámenes y actualizar la columna 'Calificacion Final'\n",
        "contenido['Calificacion Final'] = contenido[['Examen 1', 'Examen 2', 'Examen 3']].mean(axis=1)\n",
        "contenido.head(len(contenido))\n"
      ],
      "metadata": {
        "id": "uVNclnicEJxj"
      },
      "execution_count": null,
      "outputs": []
    },
    {
      "cell_type": "markdown",
      "source": [
        "## Gráficos y visualización\n",
        "\n",
        "---"
      ],
      "metadata": {
        "id": "-Vuc1C0QENLv"
      }
    },
    {
      "cell_type": "markdown",
      "source": [
        "### Introducción\n",
        " Se refiere al proceso de transformar, limpiar, analizar y visualizar datos para extraer información útil y tomar decisiones informadas. Python ofrece una variedad de bibliotecas y herramientas que facilitan estas tareas.\n",
        "\n",
        " En esta sección, exploraremos cómo crear diferentes tipos de gráficos y visualizaciones utilizando Matplotlib."
      ],
      "metadata": {
        "id": "_f2ZC3e1EVqw"
      }
    },
    {
      "cell_type": "markdown",
      "source": [
        "###Gráficos básicos\n",
        "\n",
        "Empecemos por visualizar algunos datos básicos para comprender cómo funciona Matplotlib. Vamos a graficar la edad de los estudiantes en un histograma para ver la distribución de edades en nuestro conjunto de datos."
      ],
      "metadata": {
        "id": "QUBYi0hHEaq0"
      }
    },
    {
      "cell_type": "code",
      "source": [
        "import matplotlib.pyplot as plt\n",
        "\n",
        "# Crear un histograma de las edades de los estudiantes\n",
        "plt.hist(contenido['Edad'], bins=10, color='skyblue', edgecolor='black')\n",
        "\n",
        "# Agregar título y etiquetas del eje \"Y\" y \"X\"\n",
        "plt.title('Distribución de Edades de los Estudiantes')\n",
        "plt.xlabel('Edad')\n",
        "plt.ylabel('Frecuencia')\n",
        "\n",
        "# Mostrar el histograma\n",
        "plt.show()\n"
      ],
      "metadata": {
        "id": "MgxCb2p3EgYx"
      },
      "execution_count": null,
      "outputs": []
    },
    {
      "cell_type": "markdown",
      "source": [
        "Expliquemos un poco más el comando `plt.hist(contenido['Edad'], bins=10, color='skyblue', edgecolor='black')`:\n",
        "1. plt.hist(): Es una función para hacer un gráfico de barras que muestra la distribución de datos.\n",
        "\n",
        "2. contenido['Edad']: Son los datos que queremos graficar, en este caso, las edades de los estudiantes.\n",
        "\n",
        "3. bins=10: Indica en cuántos grupos queremos dividir nuestras edades. En este caso, las edades se dividirán en 10 grupos o barras.\n",
        "\n",
        "4. color='skyblue': Es el color que queremos para las barras del gráfico. Aquí, las barras serán de color azul claro.\n",
        "\n",
        "5. edgecolor='black': Es el color del borde de las barras del gráfico. Aquí, los bordes serán de color negro."
      ],
      "metadata": {
        "id": "LbYYD_5OEiS6"
      }
    },
    {
      "cell_type": "markdown",
      "source": [
        "####Práctica\n",
        "\n",
        "Modifique el código anterior para poder graficar un dato diferente, recuerde que en el paso graficamos `Edad` con `contenido['Edad']`. Puede copiar y pegar el código pasado y modificar lo que crea necesario en la siguiente celda:"
      ],
      "metadata": {
        "id": "EYMgiM6EEmNE"
      }
    },
    {
      "cell_type": "code",
      "source": [],
      "metadata": {
        "id": "gzbhpY9mEqNc"
      },
      "execution_count": null,
      "outputs": []
    },
    {
      "cell_type": "markdown",
      "source": [
        "### Gráficos de dispersión\n",
        "\n",
        "Otro tipo común de gráfico es el gráfico de dispersión, que nos permite visualizar la relación entre dos variables. Por ejemplo, podríamos querer ver cómo se relaciona la edad de los estudiantes con sus calificaciones finales."
      ],
      "metadata": {
        "id": "DTlqVWkqFEtW"
      }
    },
    {
      "cell_type": "code",
      "source": [
        "# Crear un gráfico de dispersión de edad vs. calificación final\n",
        "plt.scatter(contenido['Edad'], contenido['Calificacion Final'], color='orange')\n",
        "\n",
        "# Agregar título y etiquetas\n",
        "plt.title('Edad vs. Calificación Final')\n",
        "plt.xlabel('Edad')\n",
        "plt.ylabel('Calificación Final')\n",
        "\n",
        "# Mostrar el gráfico de dispersión\n",
        "plt.show()\n"
      ],
      "metadata": {
        "id": "tOemN2FhFMwS"
      },
      "execution_count": null,
      "outputs": []
    },
    {
      "cell_type": "markdown",
      "source": [
        "Expliquemos un poco más el código `plt.scatter(contenido['Edad'], contenido['Calificacion Final'], color='orange')`:\n",
        "1. plt.scatter(): Esta es la función que se utiliza para crear un gráfico de dispersión en Matplotlib. Un gráfico de dispersión muestra la relación entre dos conjuntos de datos, colocando un punto para cada par de valores en los ejes X e Y.\n",
        "\n",
        "2. contenido['Edad']: Estos son los datos que se colocarán en el eje X del gráfico de dispersión. En este caso, estamos utilizando las edades de los estudiantes.\n",
        "\n",
        "3. contenido['Calificacion Final']: Estos son los datos que se colocarán en el eje Y del gráfico de dispersión. Aquí, estamos utilizando las calificaciones finales de los estudiantes.\n",
        "\n",
        "4. color='orange': Este argumento establece el color de los puntos en el gráfico de dispersión. En este caso, los puntos serán de color naranja."
      ],
      "metadata": {
        "id": "xVkS756OFOym"
      }
    },
    {
      "cell_type": "markdown",
      "source": [
        "###Gráficos de barras\n",
        "\n",
        "Los gráficos de barras son útiles para comparar diferentes categorías o grupos. Por ejemplo, podríamos querer comparar el número de estudiantes en cada grado."
      ],
      "metadata": {
        "id": "1dPiHnZ9FSKT"
      }
    },
    {
      "cell_type": "code",
      "source": [
        "# Crear un gráfico de barras del número de estudiantes por grado\n",
        "plt.bar(contenido['Grado'].unique(), contenido['Grado'].value_counts(), color='green')\n",
        "\n",
        "# Agregar título y etiquetas\n",
        "plt.title('Número de Estudiantes por Grado')\n",
        "plt.xlabel('Grado')\n",
        "plt.ylabel('Número de Estudiantes')\n",
        "\n",
        "# Mostrar el gráfico de barras\n",
        "plt.show()\n"
      ],
      "metadata": {
        "id": "lAKXQnf8FWLr"
      },
      "execution_count": null,
      "outputs": []
    },
    {
      "cell_type": "markdown",
      "source": [
        "Expliquemos un poco más el comando `plt.bar(contenido['Grado'].unique(), contenido['Grado'].value_counts(), color='green')`:\n",
        "1. plt.bar(): Esta es la función que se utiliza para crear un gráfico de barras en Matplotlib. Este tipo de gráfico es ideal para comparar diferentes categorías o grupos.\n",
        "\n",
        "2. contenido['Grado'].unique(): Aquí estamos seleccionando los valores únicos de la columna 'Grado' en nuestro conjunto de datos. Esto significa que cada barra en el gráfico representará un grado diferente, sin duplicados.\n",
        "\n",
        "3. contenido['Grado'].value_counts(): Este es el valor que se asignará a cada barra en el gráfico. value_counts() cuenta cuántas veces aparece cada valor único en la columna 'Grado'. Entonces, para cada grado, obtenemos el número de estudiantes que tienen ese grado.\n",
        "\n",
        "4. color='green': Este argumento establece el color de las barras en el gráfico. En este caso, las barras serán de color verde."
      ],
      "metadata": {
        "id": "0dpS2ippFYNC"
      }
    },
    {
      "cell_type": "markdown",
      "source": [
        "#### Práctica\n",
        "\n",
        "Crear un gráfico de barras del número de estudiantes por edad. Pista: `contenido['Edad'].unique(), contenido['Edad'].value_counts(), color='blue'`"
      ],
      "metadata": {
        "id": "uDnaaPqaFb1z"
      }
    },
    {
      "cell_type": "code",
      "source": [
        "# Crear un gráfico de barras del número de estudiantes por edad\n",
        "\n",
        "# Agregar título y etiquetas\n",
        "\n",
        "\n",
        "# Mostrar el gráfico de barras\n"
      ],
      "metadata": {
        "id": "LlbQYs7pFggv"
      },
      "execution_count": null,
      "outputs": []
    },
    {
      "cell_type": "markdown",
      "source": [
        "###Gráficos de línea\n",
        "\n",
        "Los gráficos de línea son ideales para visualizar tendencias a lo largo del tiempo o secuencias ordenadas. Por ejemplo, podríamos querer ver cómo cambian las calificaciones de los estudiantes a medida que avanzan en los grados."
      ],
      "metadata": {
        "id": "IxPt43d6FjCc"
      }
    },
    {
      "cell_type": "code",
      "source": [
        "# Crear un gráfico de línea de la evolución de las calificaciones a lo largo del tiempo (en este caso, los grados)\n",
        "plt.plot(contenido['Grado'], contenido['Calificacion Final'], marker='o', color='red')\n",
        "\n",
        "# Agregar título y etiquetas\n",
        "plt.title('Evolución de las Calificaciones a lo largo del Tiempo')\n",
        "plt.xlabel('Grado')\n",
        "plt.ylabel('Calificación Final')\n",
        "\n",
        "# Mostrar el gráfico de línea\n",
        "plt.show()\n"
      ],
      "metadata": {
        "id": "9ymOcN_rFoOK"
      },
      "execution_count": null,
      "outputs": []
    },
    {
      "cell_type": "markdown",
      "source": [
        "Veamos mejor el comando `plt.plot(contenido['Grado'], contenido['Calificación Final'], marker='o', color='red')`\n",
        "\n",
        "1. plt.plot(): Esta función se utiliza para crear un gráfico de líneas en Matplotlib. Un gráfico de líneas es útil para mostrar la relación y tendencia de datos a lo largo de una variable continua, en este caso, los grados de los estudiantes.\n",
        "\n",
        "2. contenido['Grado']: Estos son los datos que se colocarán en el eje X del gráfico de líneas. En este caso, estamos utilizando los grados de los estudiantes.\n",
        "\n",
        "3. contenido['Calificación Final']: Estos son los datos que se colocarán en el eje Y del gráfico de líneas. Aquí, estamos utilizando las calificaciones finales de los estudiantes.\n",
        "\n",
        "4. marker='o': Este argumento establece el marcador que se utilizará en el gráfico. En este caso, estamos utilizando círculos ('o') como marcadores para cada punto en el gráfico.\n",
        "\n",
        "5. color='red': Este argumento establece el color de la línea en el gráfico. En este caso, la línea será de color rojo."
      ],
      "metadata": {
        "id": "mH5pRVE5Fqs7"
      }
    },
    {
      "cell_type": "markdown",
      "source": [
        "# Parte 5.2 - Resolución de problemas\n",
        "---\n"
      ],
      "metadata": {
        "id": "MvoQIdWw_sYz"
      }
    },
    {
      "cell_type": "markdown",
      "source": [
        "\n",
        "En esta parte vamos a conocer algunos  principios que podremos aplicar cuando nos enfrentamos a problemas de programación.\n",
        "\n",
        "Cualquier problema de programación representa un reto. Cuando estamos aprendiendo a programar, es normal sentirse un poco abrumado(a) sino sabemos cómo comenzar a resolver un problema.\n",
        "\n",
        "Esta situación nos va a ocurrir a todos(as) en mayor o menor medida y no es motivo para desalentarse. Incluso personas experimentadas pueden sentirse abrumadas cuando se enfrentan a un problema nuevo.\n"
      ],
      "metadata": {
        "id": "v00UaoHH9PY2"
      }
    },
    {
      "cell_type": "markdown",
      "source": [
        "## Resolución de problemas con `Python`\n",
        "\n",
        "Esta sección se basa en material del sitio web [Python Wife](https://pythonwife.com/problem-solving-in-python/).\n",
        "\n",
        "\n",
        "La resolución de problemas es el proceso de identificar un problema, crear un **algoritmo** para resolverlo y, por último, aplicar el algoritmo para desarrollar un programa informático.\n",
        "\n",
        "Un **algoritmo** es un proceso o conjunto de reglas que deben seguirse al realizar cálculos u otras operaciones de resolución de problemas. Es simplemente un conjunto de pasos para realizar una determinada tarea.\n",
        "\n",
        "Vamos a estudiar 5 pasos muy útiles para la resolución eficiente de problemas. Estos pasos son\n",
        "\n",
        "1. Comprender el problema\n",
        "1. Explorar ejemplos\n",
        "1. Descomponer el problema\n",
        "1. Solución o simplificación\n",
        "1. Revisión y mejoras\n"
      ],
      "metadata": {
        "id": "rLUDw76m9Z8L"
      }
    },
    {
      "cell_type": "markdown",
      "source": [
        "### Paso 1 - Comprender el problema\n",
        "\n",
        "Primero tenemos que examinar de cerca el lenguaje de la pregunta y luego seguir adelante. Las siguientes preguntas pueden ser útiles para comprender el problema planteado.\n",
        "\n",
        "1. ¿Se puede formular el problema con nuestras propias palabras?\n",
        "1. ¿Cuáles son las entradas necesarias para el problema?\n",
        "1. ¿Cuáles son los resultados del problema?\n",
        "1. ¿Pueden determinarse los resultados a partir de las entradas? En otras palabras, ¿tenemos información suficiente para resolver el problema?\n",
        "1. ¿Cómo deberían etiquetarse los datos importantes?\n"
      ],
      "metadata": {
        "id": "QC1ctiIv9d0k"
      }
    },
    {
      "cell_type": "markdown",
      "source": [
        "**Ejemplo**:\n",
        "\n",
        "Escriba una función que tome dos números y devuelva su suma.\n",
        "\n",
        "- ¿Se puede plantear el problema con nuestras propias palabras?\n",
        "\n",
        "  ```Implementar la suma```\n",
        "\n",
        "- ¿Cuáles son las entradas necesarias para el problema?\n",
        "\n",
        "  ```Entero, flotante, etc.```\n",
        "\n",
        "- ¿Cuáles son las salidas del problema?\n",
        "\n",
        "  ```Entero, flotante, etc.```\n",
        "\n",
        "- ¿Se pueden determinar las salidas a partir de las entradas? En otras palabras, ¿tenemos suficiente información para resolver el problema?\n",
        "\n",
        "  ```Sí```\n",
        "\n",
        "- ¿Cómo deben etiquetarse los datos importantes?\n",
        "\n",
        "  ```Añadir, Sumar```"
      ],
      "metadata": {
        "id": "lYopbiG99gg6"
      }
    },
    {
      "cell_type": "markdown",
      "source": [
        "### Paso 2 - Explorar Ejemplos\n",
        "\n",
        "Una vez comprendido el problema, podemos buscar varios ejemplos relacionados con él. Los ejemplos deben abarcar todas las situaciones que pueden darse durante la aplicación.\n",
        "\n",
        "- Empiece con ejemplos sencillos.\n",
        "- Continúe con ejemplos más complejos.\n",
        "- Explora ejemplos con entradas vacías.\n",
        "- Explore ejemplos con entradas no válidas.\n"
      ],
      "metadata": {
        "id": "-a1_CtyX9j4J"
      }
    },
    {
      "cell_type": "markdown",
      "source": [
        "**Ejemplo** : Escriba una función `charCount(cadena)` que tome una cadena como entrada y devuelva la cuenta de cada carácter.\n",
        "\n",
        "*Empezar con ejemplos simples*\n",
        "\n",
        "```\n",
        "charCount(\"bbbb\")\n",
        "# {b: 4}\n",
        "charCount(\"hola\")\n",
        "# {h: 1, o: 1, l: 1, a: 1}\n",
        "```\n",
        "\n",
        "*Pasar a ejemplos más complejos*\n",
        "```\n",
        "charCount(\"Me llamo Raquel\")\n",
        "# ???\n",
        "```\n",
        "\n",
        "*Explorar ejemplos con entradas vacías*\n",
        "```\n",
        "charCount(\"\")\n",
        "# ???\n",
        "```\n",
        "\n",
        "*Explorar ejemplos con entradas no válidas*\n",
        "```\n",
        "charCount(10)\n",
        "# ???\n",
        "```"
      ],
      "metadata": {
        "id": "gT29e9h69mEF"
      }
    },
    {
      "cell_type": "markdown",
      "source": [
        "### Paso 3 - Descomponer el Problema en Partes\n",
        "\n",
        "Después de explorar ejemplos relacionados con el problema, tenemos que descomponerlo. Antes de la implementación, escribimos los pasos que hay que dar para resolver la cuestión.\n",
        "\n",
        "**Ejemplo** : Escribe una función que tome una cadena como entrada y devuelva la cuenta de cada carácter. Es decir, el número de veces que aparece cada caracter en la cadena.\n",
        "\n"
      ],
      "metadata": {
        "id": "bJiQR3Fq9o2u"
      }
    },
    {
      "cell_type": "code",
      "source": [
        "def contarCaracteres(cadenaTexto):\n",
        "  # Declara un objeto para retornar al final de la función\n",
        "  # Recorre la cadena de texto ingresada\n",
        "      # Si el carácter es una letra y está en nuestro objeto, añade uno al valor\n",
        "      # Si el char es una letra y no está en nuestro objeto\n",
        "      # añade esa letra a nuestro objeto con el valor de uno\n",
        "  # Retorne el objeto"
      ],
      "metadata": {
        "id": "yXvX5jcf9q9i"
      },
      "execution_count": null,
      "outputs": []
    },
    {
      "cell_type": "markdown",
      "source": [
        "### Paso 4 - Solución o Simplificación\n",
        "\n",
        "Una vez que hemos establecido los pasos para resolver el problema, intentamos encontrar la solución a la pregunta. Si no se puede encontrar la solución, se intenta simplificar el problema.\n",
        "\n",
        "Los pasos para simplificar un problema son los siguientes:\n",
        "\n",
        "1. Encontrar la dificultad central\n",
        "1. Ignorar temporalmente la dificultad\n",
        "1. Escribir una solución simplificada\n",
        "1. Luego incorporar esa dificultad\n",
        "\n",
        "**Ejemplo** : Escribe una función que tome una cadena como entrada y devuelva la cuenta de cada carácter. Es decir, el número de veces que aparece cada caracter en la cadena."
      ],
      "metadata": {
        "id": "gfIYa_8R9tBI"
      }
    },
    {
      "cell_type": "code",
      "source": [
        "def contarCaracteres1(cadenaTexto):\n",
        "  # Declara un objeto para retornar al final de la función\n",
        "  resultado = {}\n",
        "  # Recorre la cadena\n",
        "  for char in cadenaTexto:\n",
        "    # Si el carácter es una letra y está en nuestro objeto, añade uno al valor\n",
        "    if char in resultado:\n",
        "      resultado[char] += 1\n",
        "    # Si el carácter es una letra y no está en nuestro objeto,\n",
        "    # añade esa letra a nuestro objeto con el valor de uno\n",
        "    else:\n",
        "      resultado[char] = 1\n",
        "  # Devuelve el objeto\n",
        "  return resultado"
      ],
      "metadata": {
        "id": "gSdb9kzB9vt9"
      },
      "execution_count": null,
      "outputs": []
    },
    {
      "cell_type": "markdown",
      "source": [
        "Hagamos una prueba de la función"
      ],
      "metadata": {
        "id": "rsXLIrFf9x69"
      }
    },
    {
      "cell_type": "code",
      "source": [
        "print(contarCaracteres1(\"hola\"))"
      ],
      "metadata": {
        "id": "cp9mnKp-95Pd"
      },
      "execution_count": null,
      "outputs": []
    },
    {
      "cell_type": "markdown",
      "source": [
        "Debería darnos una salida como esta:\n",
        "\n",
        "```\n",
        "#Salida\n",
        "{'h': 1, 'o': 1, 'l': 1, 'a': 1}\n",
        "```"
      ],
      "metadata": {
        "id": "O4JCf8Qu99G1"
      }
    },
    {
      "cell_type": "markdown",
      "source": [
        "### Paso 5 - Revisión y Mejoras\n",
        "\n",
        "En la jerga de la programación, el proceso de revisión y mejora del código se le conoce con el término `Refactorización`\n",
        "\n",
        "Ya que hemos completado la implementación del problema, ahora revisamos el código y lo refactorizamos si es necesario. Refactorizar el código es un paso importante para mejorar la calidad de un programa.\n",
        "\n",
        "Las siguientes preguntas pueden ser útiles al revisar el código y refactorizarlo:\n",
        "\n",
        "1. ¿Podemos comprobar el resultado?\n",
        "1. ¿Podemos obtener el resultado de otra manera?\n",
        "1. ¿Podemos entenderlo de un vistazo?\n",
        "1. ¿Podemos utilizar el resultado o el método para algún otro problema?\n",
        "1. ¿Se puede mejorar el rendimiento de la solución?\n",
        "1. ¿Cómo resuelven el problema otras personas?"
      ],
      "metadata": {
        "id": "S316tk08-BEM"
      }
    },
    {
      "cell_type": "markdown",
      "source": [
        "**Ejemplo** : Escribe una función que tome una cadena como entrada y devuelva la cuenta de cada carácter. Es decir, el número de veces que aparece cada caracter en la cadena.\n"
      ],
      "metadata": {
        "id": "ZvWbOnUI-Exw"
      }
    },
    {
      "cell_type": "code",
      "source": [
        "def contarCaracteres2(cadenaTexto):\n",
        "  # Declara un objeto para retornar al final de la función\n",
        "  resultado = {}\n",
        "  # Recorre la cadena\n",
        "  for i in cadenaTexto.lower():\n",
        "    # Si el carácter es una letra minúscula y está en nuestro objeto, añade uno al valor\n",
        "    if isinstance(i, str) and not(i.isspace()):\n",
        "      if i in resultado:\n",
        "          resultado[i] += 1\n",
        "    # Si el carácter es una letra minúscula y no está en nuestro objeto,\n",
        "    # añade ese carácter a nuestro objeto con el valor de uno\n",
        "      else:\n",
        "        resultado[i] = 1\n",
        "  # Devuelve el objeto\n",
        "  return resultado"
      ],
      "metadata": {
        "id": "cep6DDjm-Gzs"
      },
      "execution_count": null,
      "outputs": []
    },
    {
      "cell_type": "markdown",
      "source": [
        "Probemos la nueva función"
      ],
      "metadata": {
        "id": "dT_X7MG1-KRa"
      }
    },
    {
      "cell_type": "code",
      "source": [
        "print(contarCaracteres2(\"hola mundo\"))"
      ],
      "metadata": {
        "id": "4R6dYeTa-RiX"
      },
      "execution_count": null,
      "outputs": []
    },
    {
      "cell_type": "markdown",
      "source": [
        "Debería darnos una salida como esta:\n",
        "\n",
        "```\n",
        "#Salida\n",
        "{'h': 1, 'o': 2, 'l': 1, 'a': 1, 'm': 1, 'u': 1, 'n': 1, 'd': 1}\n",
        "\n",
        "```"
      ],
      "metadata": {
        "id": "QMs-n7-g-T6U"
      }
    },
    {
      "cell_type": "markdown",
      "source": [
        "Pero además esta función evita contar caractéres en blanco como `\" \"` lo cual es conveniente cuando hay más de una palabra en la cadena de texto."
      ],
      "metadata": {
        "id": "PjmXcfk3-WC2"
      }
    },
    {
      "cell_type": "markdown",
      "source": [
        "# Parte 6.1 - Ejercicios Prácticos\n",
        "---\n"
      ],
      "metadata": {
        "id": "-bh3RGeA_zOv"
      }
    },
    {
      "cell_type": "markdown",
      "source": [
        "Algunos ejemplos de programación en `Python`\n",
        "https://aprendeconalf.es/docencia/python/ejercicios/"
      ],
      "metadata": {
        "id": "Y4j_jpsx-bGY"
      }
    },
    {
      "cell_type": "markdown",
      "source": [
        "En la clase de hoy estaremos trabajando con los ejercicios del cuaderno número 6. Por favor unirse a cualquiera de las salas de trabajo."
      ],
      "metadata": {
        "id": "kqxehsZd-e3D"
      }
    },
    {
      "cell_type": "markdown",
      "source": [
        "## Ejercicio 1\n",
        "Escribir una función a la que se le pase una cadena `nombre` y muestre por pantalla el saludo ¡hola `nombre`!"
      ],
      "metadata": {
        "id": "j60gbFfQ-gsT"
      }
    },
    {
      "cell_type": "code",
      "source": [
        "def greet():\n",
        "    \"\"\"Función que muestra un saludo por pantalla.\n",
        "    Parámetros\n",
        "    nombre: Nombre del usuario\n",
        "    Devuelve el saludo ¡Hola nombre!.\n",
        "    \"\"\"\n",
        "\n",
        "greet('Alf')\n",
        "greet('Python')"
      ],
      "metadata": {
        "id": "HrFM3ga2-iq0"
      },
      "execution_count": null,
      "outputs": []
    },
    {
      "cell_type": "markdown",
      "source": [
        "## Ejercicio 2\n",
        "Escribir una función que calcule el área de un círculo y otra que calcule el volumen de un cilindro usando la primera función."
      ],
      "metadata": {
        "id": "ouBhIhtH-lBp"
      }
    },
    {
      "cell_type": "code",
      "source": [
        "import math\n",
        "\n",
        "def circle_area(radius):\n",
        "  \"\"\"Función que calcula el area de un círculo.\n",
        "  Parámetros\n",
        "  radius: Es el radio del círculo.\n",
        "  Devuelve el área del círculo de radio radius.\n",
        "  \"\"\"\n",
        "  return math.pi * pow(radius,2)\n",
        "\n",
        "def cilinder_volume(radius, high):\n",
        "    \"\"\"Función que calcula el volumen de un cilindro.\n",
        "    Parámetros\n",
        "    radius: Es el radio de la base del cilindro.\n",
        "    high: Es la altura del cilindro.\n",
        "    Devuelve el volumen del clindro de radio radius y altura high.\n",
        "    \"\"\"\n",
        "\n",
        "print(circle_area(1))\n",
        "print(cilinder_volume(3,5))"
      ],
      "metadata": {
        "id": "5-w8jBRC-nBq"
      },
      "execution_count": null,
      "outputs": []
    },
    {
      "cell_type": "markdown",
      "source": [
        "## Ejercicio 3\n",
        "Escribir una función que reciba una muestra de números en una lista y devuelva su media."
      ],
      "metadata": {
        "id": "10qUr72o-pGM"
      }
    },
    {
      "cell_type": "code",
      "source": [
        "def mean(sample):\n",
        "    \"\"\"Función que calcula la media de una muestra de números.\n",
        "    Parámetros\n",
        "    sample: Es una lista de números\n",
        "    Devuelve la media de los números en sample.\n",
        "    \"\"\"\n",
        "\n",
        "print(mean([1, 2, 3, 4, 5]))\n",
        "print(mean([2.3, 5.7, 6.8, 9.7, 12.1, 15.6]))"
      ],
      "metadata": {
        "id": "wttmo_5L-qpr"
      },
      "execution_count": null,
      "outputs": []
    },
    {
      "cell_type": "markdown",
      "source": [
        "## Ejercicio 4\n",
        "Escribir una función que convierta un número decimal a string y otra que convierta un string a decimal."
      ],
      "metadata": {
        "id": "LPIGm3mX-uQx"
      }
    },
    {
      "cell_type": "code",
      "source": [
        "def to_decimal(n):\n",
        "    \"\"\"Función que convierte un string en decimal.\n",
        "    Parámetros:\n",
        "        - n: Es un string.\n",
        "    Devuelve:\n",
        "        El número decimal correspondiente a n.\n",
        "    \"\"\"\n",
        "\n",
        "def to_string(n):\n",
        "    \"\"\"Función que convierte un número decimal a string.\n",
        "    Parámetros:\n",
        "        - n: Es un número entero.\n",
        "    Devuelve:\n",
        "        El string correspondiente a n.\n",
        "    \"\"\"\n",
        "\n",
        "print(to_decimal('10110'))\n",
        "print(to_string(22))\n",
        "print(to_decimal(to_string(22)))\n",
        "print(to_string(to_decimal('10110')))"
      ],
      "metadata": {
        "id": "2-pmpwv1-yAl"
      },
      "execution_count": null,
      "outputs": []
    },
    {
      "cell_type": "markdown",
      "source": [
        "## Ejercicio 5\n",
        "\n",
        "Dado el ejemplo de uso anterior de la biblioteca, escriba un programa que convierta una lista de textos en audios.\n",
        "\n",
        "Puede preguntarse antes:\n",
        "- ¿Debería hacer una función?\n",
        "\n",
        "\n",
        "> - Si sí, ¿cuál o cuáles serían sus parámetros?, ¿devuelve algo?\n",
        "- Si no, ¿por qué no debería ser función?"
      ],
      "metadata": {
        "id": "yWSKQms--0Cs"
      }
    },
    {
      "cell_type": "code",
      "source": [
        "from google.colab import files\n",
        "\n",
        "files.download('ejemplo.mp3')"
      ],
      "metadata": {
        "id": "zYXXrOn9-2CA"
      },
      "execution_count": null,
      "outputs": []
    },
    {
      "cell_type": "markdown",
      "source": [
        "## Ejercicio 6 (depuración)\n",
        "Corregir los errores sintácticos del siguiente programa:"
      ],
      "metadata": {
        "id": "2O3u6VMj-3_C"
      }
    },
    {
      "cell_type": "code",
      "source": [
        "contraseña = input('Introduce la contraseña: \")\n",
        "if contraseña in ['sesamo'):\n",
        "  print('Pasa')\n",
        "else\n",
        "  print('No pasa')"
      ],
      "metadata": {
        "id": "2Okl8bsQ-5bX"
      },
      "execution_count": null,
      "outputs": []
    },
    {
      "cell_type": "markdown",
      "source": [
        "## Ejercicio 7 (depuración)\n",
        "Detectar y corregir los errores del siguiente programa que aplica el iva a una factura:"
      ],
      "metadata": {
        "id": "UwrA7a_g-7SN"
      }
    },
    {
      "cell_type": "code",
      "source": [
        "base = input('Introduce la base imponible de la factura: ')\n",
        "print(aplica_iva(base, iva))\n",
        "\n",
        "def aplica_iva(base, iva = 21):\n",
        "  base = base * iva\n",
        "  return base"
      ],
      "metadata": {
        "id": "jkdU37Rp-8w0"
      },
      "execution_count": null,
      "outputs": []
    },
    {
      "cell_type": "markdown",
      "source": [
        "# Parte 6.2 - Cierre del curso\n",
        "---\n",
        "¡Esperamos hayan disfrutado y aprendido del curso!"
      ],
      "metadata": {
        "id": "mbmCSzbQ-_BL"
      }
    }
  ],
  "metadata": {
    "colab": {
      "provenance": [],
      "collapsed_sections": [
        "_yUeefYQf4fZ",
        "sPlonvj8f4ff",
        "v7imx2DLf4fp",
        "U1A8kj8Lf4f2",
        "O-MDNx6OXuZc",
        "BCgMyEAVf4f2",
        "YeoaLfa9f4f2",
        "grgXFzLef4f2",
        "9cwnvhOmT9u4",
        "CvYPmjYUf4f2",
        "wR8FTqGeuWuK",
        "IuODkYsk2E1f",
        "8-oKuXWABqX1",
        "xYs9xpfZT0EM",
        "E7vSA4CwIibA",
        "VsffWOxfWDUf",
        "A4PPEPvQf4f3",
        "-bh3RGeA_zOv"
      ],
      "toc_visible": true
    },
    "kernelspec": {
      "display_name": "Python 3",
      "name": "python3"
    },
    "language_info": {
      "name": "python"
    }
  },
  "nbformat": 4,
  "nbformat_minor": 0
}