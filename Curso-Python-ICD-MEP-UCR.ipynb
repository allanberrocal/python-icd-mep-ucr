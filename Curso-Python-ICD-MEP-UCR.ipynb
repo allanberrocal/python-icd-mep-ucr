{
 "cells": [
  {
   "cell_type": "markdown",
   "metadata": {},
   "source": [
    "<!-- <img src=\"https://drive.google.com/uc?export=view&id=1WRHtVSntZidUl2yXqZHxpcF9JMyYr_HC\" alt=\"Intro\" style=\"height: 100px; width:100px;\"/>\n",
    "-->\n",
    "\n",
    "<img src=\"images/introPage.png\">"
   ]
  },
  {
   "cell_type": "markdown",
   "metadata": {},
   "source": [
    "### Descripción\n",
    "\n",
    "Creado para una capacitación a docentes del Ministerio de Educación Pública (MEP) en Costa Rica como parte un proyecto de acción social de la Universidad de Costa Rica con patrocinio del Instituto Costarricense sobre Drogas (ICD).\n",
    "\n",
    "### Responsables de la capacitación:\n",
    "\n",
    "- Kryscia Ramírez Benavides\n",
    "- Luis Quesada Quirós\n",
    "- Allan Berrocal Rojas\n",
    "\n",
    "### Créditos\n",
    "\n",
    "Esta presentación utiliza algunos materiales disponibles en internet. Se hace mención en general a los siguientes cursos:\n",
    "- [Curso básico de Python - Sergio Paredes](https://github.com/sergioparedesv/curso-basico-python)\n",
    "- [Python para principiantes - Lorena Ceballos](https://github.com/LceballosE/Python-para-Principiantes)\n",
    "- [Insituto Humai - Argentina](https://ihum.ai/)\n",
    "---"
   ]
  },
  {
   "cell_type": "markdown",
   "metadata": {},
   "source": [
    "# Agenda\n",
    "\n",
    "1. Preparación del entorno de desarrollo\n",
    "1. Introducción al lenguaje de programación \n",
    "1. Variables y tipos de datos\n",
    "1. Estructuras de datos: Listas\n",
    "1. Estructuras de control: condicionales y ciclos\n",
    "1. Operaciones aritméticas y lógicas\n",
    "1. Procesamiento de cadenas de texto\n",
    "1. Entradas y salidas\n",
    "1. Funciones\n",
    "1. Depuración y manejos de errores\n",
    "1. EV3 y Python\n",
    "\n",
    "---\n"
   ]
  },
  {
   "cell_type": "markdown",
   "metadata": {},
   "source": [
    "# Parte 1\n",
    "## Preparación del entorno de desarrollo\n",
    "---"
   ]
  },
  {
   "cell_type": "markdown",
   "metadata": {},
   "source": [
    "Para facilitar este curso vamos a utilizar algunas herramientas. Primero nos aseguraremos de que todos(as) las puedan instalar.\n",
    "\n",
    "#### Paso 1\n",
    "Obtener el archivo con el que vamos a trabajar. A este tipo de archivo se le llama `Notebook` o cuaderno. Lo puede objetner en esta dirección [TBD](). Descargue el archivo en su computadora.\n",
    "\n",
    "#### Paso 2 \n",
    "Debe tener una cuenta de Google y acceder al espacio de [Google Colaboratory](https://colab.research.google.com/) el cual nos permite crear y ejecutar código de `Python` desde el navegador web.\n",
    "\n",
    "#### Paso 3\n",
    "Ahora solo debemos cargar el cuaderno en la página de [Google Colaboratory](https://colab.research.google.com/). Para ello de clic en el menú de **Archivo/Upload notebook** \n",
    "\n",
    "_Es posible que en este punto el sistema le solicite iniciar sesión con su cuenta de Google, favor hacerlo en este momento._\n",
    "\n",
    "Una vez que inició sesión, le aparecerá un cuadro con opciones para subir un cuaderno. Utilice la opción **Upload**. Ahora puede cargar el cuaderno que descargó en el paso #1. \n",
    "\n",
    "#### Paso 4\n",
    "Ahora podemos comenzar a utilizar el cuaderno en Google Colab. \n"
   ]
  },
  {
   "cell_type": "markdown",
   "metadata": {},
   "source": [
    "# Parte 2\n",
    "## Introducción al lenguaje de programación\n",
    "---"
   ]
  },
  {
   "cell_type": "markdown",
   "metadata": {},
   "source": [
    "Para conocer un poco de la historia de `Python` puede consultar [esta página](https://es.wikipedia.org/wiki/Historia_de_Python). La creación del lenguaje de le atribuye a [Guido van Rossum](https://es.wikipedia.org/wiki/Guido_van_Rossum) un informático Holandés. \n",
    "\n",
    "Algunas características de `Python`\n",
    "- Es un lenguaje de programación interpretado. Es decir el código de un programa escrito en `Python` no es compilado sino que es leído o interpretado por otro programa (intérprete de `Python`) que se encarga de producir las instrucciones de más bajo nivel que debe realizar el computador. \n",
    "- Es dinámicamente tipado. Es decir, las variables pueden tomar valores de distintos tipos. \n",
    "- Como lenguaje pasó por la versión 1.x, 2.x, y actualmente se encuentra en la versión 3.10.x. \n",
    "- Es uno de los lenguajes de programación más utilizados en la actualidad para diversas aplicaciones. \n",
    "\n",
    "Se puede encontrar más información sobre el lenguaje en su página oficial [python.org](https://www.python.org/).\n",
    "\n",
    "Para propósitos de aprendizaje, puede utilizar este intérprete de `Python` que se encuentra el línea [Programiz.com](https://www.programiz.com/python-programming/online-compiler/)"
   ]
  },
  {
   "cell_type": "markdown",
   "metadata": {},
   "source": [
    "#### Reglas de Python\n",
    "- Evitar espacios blancos extras\n",
    "- Comentarios en una línea (#Comentario de una línea) \n",
    "- Comentarios en múltiples líneas  (\"\"\"Comentario multilínea líneas\"\"\")\n",
    "- Identación: La identación es un término que hace referencia en darle jerarquía al código."
   ]
  },
  {
   "cell_type": "markdown",
   "metadata": {},
   "source": [
    "#### Primer programa\n",
    "\n",
    "En la celda de abajo escriba lo siguiente:\n",
    "\n",
    "``print(\"Hola mundo\")``\n",
    "\n",
    "Luego dar clic en el ícono para ejecutar la celda."
   ]
  },
  {
   "cell_type": "code",
   "execution_count": null,
   "metadata": {},
   "outputs": [],
   "source": [
    "print(\"Hola Mundo\")"
   ]
  },
  {
   "cell_type": "code",
   "execution_count": null,
   "metadata": {},
   "outputs": [],
   "source": [
    "a = 5\n",
    "b = 4\n",
    "resultado = a+b\n",
    "print(resultado)"
   ]
  },
  {
   "cell_type": "markdown",
   "metadata": {
    "id": "tz9cBZUpdLVZ"
   },
   "source": [
    "<div class=\"alert alert-success\" role=\"alert\">\n",
    "  Perfecto, es hora de saludar a alguien, en mi caso a <b>Ana</b>\n",
    "</div>"
   ]
  },
  {
   "cell_type": "markdown",
   "metadata": {
    "id": "goKOjBHrdLVZ"
   },
   "source": [
    "### Ejemplo"
   ]
  },
  {
   "cell_type": "code",
   "execution_count": null,
   "metadata": {
    "id": "BJWq-U4QdLVZ",
    "outputId": "021b8fbb-5634-4343-a4b8-e35c00780ac0"
   },
   "outputs": [],
   "source": [
    "print(\"Hola Ana\") # Perfecto, da clic en Run y observa lo que ocurre."
   ]
  },
  {
   "cell_type": "markdown",
   "metadata": {
    "id": "428c85DGdLVZ"
   },
   "source": [
    "¿Por qué el contenido del (#Perfecto, haz clic en Run y observa lo que ocurre.) no aparece en la salida? \n",
    "\n",
    "Naturalmente los comentarios son solo para los programadores, los usuarios finales no pueden verlos."
   ]
  },
  {
   "cell_type": "code",
   "execution_count": null,
   "metadata": {
    "colab": {
     "base_uri": "https://localhost:8080/",
     "height": 52
    },
    "id": "0DsXI9sndLVa",
    "outputId": "5acb3778-a18c-46d3-d73c-01095821950a"
   },
   "outputs": [],
   "source": [
    "print(\"Hola Alberto\") \n",
    "'''Pero este sí?, realmente no aparece para el usuario final, solo para el programador'''"
   ]
  },
  {
   "cell_type": "markdown",
   "metadata": {
    "id": "PWiUtNH3dLVa"
   },
   "source": [
    "<div  id=\"d\" class=\"jumbotron jumbotron-fluid\">\n",
    "  <div class=\"container\">\n",
    "    <h5 class=\"display-4\">Operaciones aritméticas básicas</h5>\n",
    "      <p class=\"lead\">En las celdas de abajo, escriba en cada una operaciones que corresponde, luego presione<b> (shit+enter)</b> para ejecutar el script:</p>\n",
    "    <p class=\"lead\">1. Suma (2+2) </p>\n",
    "    <p class=\"lead\">2. Resta (2-2) </p>\n",
    "    <p class=\"lead\">3. Multiplicación (2*3) </p>\n",
    "    <p class=\"lead\">4. Divisiones (2/2) </p>\n",
    "    <p class=\"lead\">5. Potencia (2**3) </p>\n",
    "    <p class=\"lead\">6. Raiz (4**(1/2)) </p>\n",
    "    <p class=\"lead\">7. Operaciones: 2+5*3 </p>\n",
    "    <p class=\"lead\">8. Operaciones: 2+2**4 </p>\n",
    "  </div>\n",
    "</div>"
   ]
  },
  {
   "cell_type": "markdown",
   "metadata": {
    "id": "Kf0QW7wddLVa"
   },
   "source": [
    "2+2"
   ]
  },
  {
   "cell_type": "code",
   "execution_count": null,
   "metadata": {
    "id": "86mpgDKIdLVb",
    "outputId": "1eb66404-9b51-4f0d-b39b-265d0d2ea652"
   },
   "outputs": [],
   "source": []
  },
  {
   "cell_type": "markdown",
   "metadata": {
    "id": "joNNMmn1dLVb"
   },
   "source": [
    "2-2"
   ]
  },
  {
   "cell_type": "code",
   "execution_count": null,
   "metadata": {
    "colab": {
     "base_uri": "https://localhost:8080/"
    },
    "id": "ZoBuJK1ddLVb",
    "outputId": "83707ce1-6aba-4f02-847e-1647aa982d63"
   },
   "outputs": [],
   "source": []
  },
  {
   "cell_type": "markdown",
   "metadata": {
    "id": "w-a1aHsKdLVb"
   },
   "source": [
    "2*3"
   ]
  },
  {
   "cell_type": "code",
   "execution_count": null,
   "metadata": {
    "id": "7vYYgAzhdLVc"
   },
   "outputs": [],
   "source": []
  },
  {
   "cell_type": "markdown",
   "metadata": {
    "id": "RXeXJVeCdLVc"
   },
   "source": [
    "2/2"
   ]
  },
  {
   "cell_type": "code",
   "execution_count": null,
   "metadata": {
    "id": "fcpigpZwdLVc"
   },
   "outputs": [],
   "source": []
  },
  {
   "cell_type": "markdown",
   "metadata": {
    "id": "ISKKwlzndLVc"
   },
   "source": [
    "2**3"
   ]
  },
  {
   "cell_type": "code",
   "execution_count": null,
   "metadata": {
    "id": "Ai9rqtkWdLVc"
   },
   "outputs": [],
   "source": []
  },
  {
   "cell_type": "markdown",
   "metadata": {
    "id": "p25ks1IOdLVc"
   },
   "source": [
    "4**(1/2)"
   ]
  },
  {
   "cell_type": "code",
   "execution_count": null,
   "metadata": {
    "id": "4ISVqhkZdLVd"
   },
   "outputs": [],
   "source": []
  },
  {
   "cell_type": "markdown",
   "metadata": {
    "id": "NrOfkjukdLVd"
   },
   "source": [
    "2+5*3"
   ]
  },
  {
   "cell_type": "code",
   "execution_count": null,
   "metadata": {
    "id": "qsr3MP_FdLVd"
   },
   "outputs": [],
   "source": []
  },
  {
   "cell_type": "markdown",
   "metadata": {
    "id": "41jdiMRSdLVd"
   },
   "source": [
    "2+2**4"
   ]
  },
  {
   "cell_type": "code",
   "execution_count": null,
   "metadata": {
    "id": "yzejKe_zdLVd"
   },
   "outputs": [],
   "source": []
  },
  {
   "cell_type": "markdown",
   "metadata": {
    "id": "uNowKNpfdLVd"
   },
   "source": [
    "Si nota que las operaciones dan resultados que no esperaba, no se preocupe. No es un error de Python.\n",
    "Se nos enseña a hacer operaciones de derecha a izquierda, pero en realidad las operaciones van de más complejas a menos\n",
    "complejas. Por eso resuelve primero las potencias o raíces, luego multiplicaciones y finalmente las sumas y restas."
   ]
  },
  {
   "cell_type": "markdown",
   "metadata": {},
   "source": [
    "# Parte 3\n",
    "## Variables y tipos de datos\n",
    "---"
   ]
  },
  {
   "cell_type": "markdown",
   "metadata": {},
   "source": [
    "# Parte 4\n",
    "## Estructuras de datos: Listas\n",
    "---"
   ]
  },
  {
   "cell_type": "markdown",
   "metadata": {},
   "source": [
    "# Parte 5\n",
    "## Estructuras de control: condicionales y ciclos\n",
    "---"
   ]
  },
  {
   "cell_type": "markdown",
   "metadata": {},
   "source": [
    "# Parte 6\n",
    "## Operaciones aritméticas y lógicas\n",
    "---"
   ]
  },
  {
   "cell_type": "markdown",
   "metadata": {},
   "source": [
    "# Parte 7\n",
    "## Procesamiento de cadenas de texto\n",
    "---"
   ]
  },
  {
   "cell_type": "markdown",
   "metadata": {},
   "source": [
    "# Parte 8\n",
    "## Entradas y salidas\n",
    "---"
   ]
  },
  {
   "cell_type": "markdown",
   "metadata": {},
   "source": [
    "# Parte 9\n",
    "## Funciones\n",
    "---"
   ]
  },
  {
   "cell_type": "markdown",
   "metadata": {},
   "source": [
    "# Parte 10\n",
    "## Depuración y manejos de errores\n",
    "---"
   ]
  },
  {
   "cell_type": "code",
   "execution_count": null,
   "metadata": {},
   "outputs": [],
   "source": []
  }
 ],
 "metadata": {
  "kernelspec": {
   "display_name": "Python 3",
   "language": "python",
   "name": "python3"
  },
  "language_info": {
   "codemirror_mode": {
    "name": "ipython",
    "version": 3
   },
   "file_extension": ".py",
   "mimetype": "text/x-python",
   "name": "python",
   "nbconvert_exporter": "python",
   "pygments_lexer": "ipython3",
   "version": "3.8.5"
  }
 },
 "nbformat": 4,
 "nbformat_minor": 4
}
