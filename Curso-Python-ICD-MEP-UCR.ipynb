{
  "cells": [
    {
      "cell_type": "markdown",
      "metadata": {
        "id": "9VgSCTHXf4fI"
      },
      "source": [
        " <img src=\"https://drive.google.com/uc?export=view&id=1WRHtVSntZidUl2yXqZHxpcF9JMyYr_HC\" alt=\"Intro\" style=\"height: 100px; width:100px;\"/> \n",
        "\n",
        "<!--- <img src=\"images/introPage.png\"> --> \n",
        "\n"
      ]
    },
    {
      "cell_type": "markdown",
      "metadata": {
        "id": "wduphuUWf4fV"
      },
      "source": [
        "### Descripción\n",
        "\n",
        "Creado para una capacitación a docentes del Ministerio de Educación Pública (MEP) en Costa Rica como parte un proyecto de acción social de la Universidad de Costa Rica con patrocinio del Instituto Costarricense sobre Drogas (ICD).\n",
        "\n",
        "### Responsables de la capacitación:\n",
        "\n",
        "- Kryscia Ramírez Benavides\n",
        "- Luis Quesada Quirós\n",
        "- Allan Berrocal Rojas\n",
        "\n",
        "### Créditos\n",
        "\n",
        "Esta presentación utiliza algunos materiales disponibles en internet. Se hace mención en general a los siguientes cursos:\n",
        "- [Curso básico de Python - Sergio Paredes](https://github.com/sergioparedesv/curso-basico-python)\n",
        "- [Python para principiantes - Lorena Ceballos](https://github.com/LceballosE/Python-para-Principiantes)\n",
        "- [Introducción a Python - Insituto Humai, Argentina](https://github.com/institutohumai/cursos-python/tree/master/Introduccion)\n",
        "\n",
        "\n",
        "#### Otros recursos de consulta\n",
        "\n",
        "- [Python para principiantes](https://uniwebsidad.com/libros/python)\n",
        "- [Algoritmos de Programación con Python](https://uniwebsidad.com/libros/algoritmos-python)\n",
        "---"
      ]
    },
    {
      "cell_type": "markdown",
      "metadata": {
        "id": "UY6MfICPf4fW"
      },
      "source": [
        "# Agenda\n",
        "\n",
        "1. Preparación del entorno de desarrollo\n",
        "1. Introducción al lenguaje de programación \n",
        "1. Variables y tipos de datos\n",
        "1. Estructuras de datos: Listas\n",
        "1. Estructuras de control: condicionales y ciclos\n",
        "1. Operaciones aritméticas y lógicas\n",
        "1. Procesamiento de cadenas de texto\n",
        "1. Entradas y salidas\n",
        "1. Funciones\n",
        "1. Depuración y manejos de errores\n",
        "1. Programación en Python con EV3\n",
        "\n",
        "---\n"
      ]
    },
    {
      "cell_type": "markdown",
      "metadata": {
        "id": "ezrzWAK3f4fX"
      },
      "source": [
        "# Parte 1 - Entorno de desarrollo\n",
        "---"
      ]
    },
    {
      "cell_type": "markdown",
      "source": [
        "## Preparación de herramientas\n",
        "\n",
        "Para facilitar este curso vamos a utilizar algunas herramientas. Primero nos aseguraremos de que todos(as) las puedan instalar.\n"
      ],
      "metadata": {
        "id": "rzUksOqNyuhu"
      }
    },
    {
      "cell_type": "markdown",
      "metadata": {
        "id": "pS83xHucf4fY"
      },
      "source": [
        "\n",
        "### Paso 1\n",
        "Obtener el archivo con el que vamos a trabajar. A este tipo de archivo se le llama `Notebook` o cuaderno. Lo puede objetner en esta dirección [python-icd-mep-ucr](https://github.com/allanberrocal/python-icd-mep-ucr). Descargue el archivo en su computadora.\n"
      ]
    },
    {
      "cell_type": "markdown",
      "source": [
        "\n",
        "### Paso 2 \n",
        "Debe tener una cuenta de Google y acceder al espacio de [Google Colaboratory](https://colab.research.google.com/) el cual nos permite crear y ejecutar código de `Python` desde el navegador web."
      ],
      "metadata": {
        "id": "LmG2uT6jFGHl"
      }
    },
    {
      "cell_type": "markdown",
      "source": [
        "### Paso 3\n",
        "Ahora solo debemos cargar el cuaderno en la página de [Google Colaboratory](https://colab.research.google.com/). Para ello de clic en el menú de **Archivo/Upload notebook** \n",
        "\n",
        "_Es posible que en este punto el sistema le solicite iniciar sesión con su cuenta de Google, favor hacerlo en este momento._\n",
        "\n",
        "Una vez que inició sesión, le aparecerá un cuadro con opciones para subir un cuaderno. Utilice la opción **Upload**. Ahora puede cargar el cuaderno que descargó en el paso #1. "
      ],
      "metadata": {
        "id": "26WSB9OVFNxU"
      }
    },
    {
      "cell_type": "markdown",
      "source": [
        "### Paso 4\n",
        "Ahora podemos comenzar a utilizar el cuaderno en Google Colab. \n"
      ],
      "metadata": {
        "id": "PDgQnjSxFOOq"
      }
    },
    {
      "cell_type": "markdown",
      "metadata": {
        "id": "_yUeefYQf4fZ"
      },
      "source": [
        "# Parte 2 - El lenguaje de programación\n",
        "---"
      ]
    },
    {
      "cell_type": "markdown",
      "source": [
        "## Introducción"
      ],
      "metadata": {
        "id": "GDLOwrOty-vf"
      }
    },
    {
      "cell_type": "markdown",
      "metadata": {
        "jupyter": {
          "source_hidden": true
        },
        "id": "CTT2dnnOf4fa"
      },
      "source": [
        "Para conocer un poco de la historia de `Python` puede consultar [esta página](https://es.wikipedia.org/wiki/Historia_de_Python). La creación del lenguaje de le atribuye a [Guido van Rossum](https://es.wikipedia.org/wiki/Guido_van_Rossum) un informático Holandés. \n",
        "\n",
        "Algunas características de `Python`\n",
        "- Es un lenguaje de programación interpretado. Es decir el código de un programa escrito en `Python` no es compilado sino que es leído o interpretado por otro programa (intérprete de `Python`) que se encarga de producir las instrucciones de más bajo nivel que debe realizar el computador. \n",
        "- Es dinámicamente tipado. Es decir, las variables pueden tomar valores de distintos tipos. \n",
        "- Como lenguaje pasó por la versión 1.x, 2.x, y actualmente se encuentra en la versión 3.10.x. \n",
        "- Es uno de los lenguajes de programación más utilizados en la actualidad para diversas aplicaciones. \n",
        "\n",
        "Se puede encontrar más información sobre el lenguaje en su página oficial [python.org](https://www.python.org/).\n",
        "\n",
        "Para propósitos de aprendizaje, puede utilizar este intérprete de `Python` que se encuentra el línea [Programiz.com](https://www.programiz.com/python-programming/online-compiler/)"
      ]
    },
    {
      "cell_type": "markdown",
      "metadata": {
        "jupyter": {
          "source_hidden": true
        },
        "id": "RH5MiZ5tf4fb"
      },
      "source": [
        "## Reglas de Python\n",
        "- Evitar espacios blancos extras\n",
        "- Comentarios en una línea (#Comentario de una línea) \n",
        "- Comentarios en múltiples líneas  (\"\"\"Comentario multilínea líneas\"\"\")\n",
        "- Identación: La identación es un término que hace referencia en darle jerarquía al código."
      ]
    },
    {
      "cell_type": "markdown",
      "metadata": {
        "jupyter": {
          "source_hidden": true
        },
        "id": "sPlonvj8f4ff"
      },
      "source": [
        "## Primer programa\n",
        "\n",
        "En la celda de abajo escriba lo siguiente:\n",
        "\n",
        "``print(\"Hola mundo\")``\n",
        "\n",
        "Luego dar clic en el ícono para ejecutar la celda."
      ]
    },
    {
      "cell_type": "code",
      "execution_count": null,
      "metadata": {
        "jupyter": {
          "source_hidden": true
        },
        "id": "D1jr2M4uf4fh"
      },
      "outputs": [],
      "source": [
        "print(\"Hola Mundo\")"
      ]
    },
    {
      "cell_type": "code",
      "execution_count": null,
      "metadata": {
        "jupyter": {
          "source_hidden": true
        },
        "id": "EWIbdeOqf4fj"
      },
      "outputs": [],
      "source": [
        "a = 5\n",
        "b = 4\n",
        "resultado = a+b\n",
        "print(resultado)"
      ]
    },
    {
      "cell_type": "markdown",
      "metadata": {
        "id": "tz9cBZUpdLVZ",
        "jupyter": {
          "source_hidden": true
        }
      },
      "source": [
        "<div class=\"alert alert-success\" role=\"alert\">\n",
        "  Perfecto, es hora de saludar a alguien, en mi caso a <b>Ana</b>\n",
        "</div>"
      ]
    },
    {
      "cell_type": "markdown",
      "metadata": {
        "id": "goKOjBHrdLVZ",
        "jupyter": {
          "source_hidden": true
        }
      },
      "source": [
        "## Ejemplo"
      ]
    },
    {
      "cell_type": "code",
      "execution_count": null,
      "metadata": {
        "id": "BJWq-U4QdLVZ",
        "jupyter": {
          "source_hidden": true
        }
      },
      "outputs": [],
      "source": [
        "print(\"Hola Ana\") # Perfecto, da clic en Run y observa lo que ocurre."
      ]
    },
    {
      "cell_type": "markdown",
      "metadata": {
        "id": "428c85DGdLVZ",
        "jupyter": {
          "source_hidden": true
        }
      },
      "source": [
        "¿Por qué el contenido del (#Perfecto, haz clic en Run y observa lo que ocurre.) no aparece en la salida? \n",
        "\n",
        "Naturalmente los comentarios son solo para los programadores, los usuarios finales no pueden verlos."
      ]
    },
    {
      "cell_type": "code",
      "execution_count": null,
      "metadata": {
        "id": "0DsXI9sndLVa",
        "jupyter": {
          "source_hidden": true
        }
      },
      "outputs": [],
      "source": [
        "print(\"Hola Alberto\") \n",
        "'''Pero este sí?, realmente no aparece para el usuario final, solo para el programador'''"
      ]
    },
    {
      "cell_type": "markdown",
      "metadata": {
        "id": "PWiUtNH3dLVa",
        "jupyter": {
          "source_hidden": true
        }
      },
      "source": [
        "<div  id=\"d\" class=\"jumbotron jumbotron-fluid\">\n",
        "  <div class=\"container\">\n",
        "    <h5 class=\"display-4\">Operaciones aritméticas básicas</h5>\n",
        "      <p class=\"lead\">En las celdas de abajo, escriba en cada una operaciones que corresponde, luego presione<b> (shift+enter)</b> para ejecutar el script, o bien haga clic en el botón de ejecutar la celda.</p>\n",
        "  </div>\n",
        "</div>"
      ]
    },
    {
      "cell_type": "markdown",
      "metadata": {
        "id": "Kf0QW7wddLVa",
        "jupyter": {
          "source_hidden": true
        }
      },
      "source": [
        "<p class=\"lead\">1. Suma (2+2) </p>"
      ]
    },
    {
      "cell_type": "code",
      "execution_count": null,
      "metadata": {
        "id": "86mpgDKIdLVb",
        "jupyter": {
          "source_hidden": true
        }
      },
      "outputs": [],
      "source": []
    },
    {
      "cell_type": "markdown",
      "metadata": {
        "id": "joNNMmn1dLVb",
        "jupyter": {
          "source_hidden": true
        }
      },
      "source": [
        "<p class=\"lead\">2. Resta (2-2) </p>"
      ]
    },
    {
      "cell_type": "code",
      "execution_count": null,
      "metadata": {
        "id": "ZoBuJK1ddLVb",
        "jupyter": {
          "source_hidden": true
        }
      },
      "outputs": [],
      "source": []
    },
    {
      "cell_type": "markdown",
      "metadata": {
        "id": "w-a1aHsKdLVb",
        "jupyter": {
          "source_hidden": true
        }
      },
      "source": [
        "<p class=\"lead\">3. Multiplicación (2*3) </p>"
      ]
    },
    {
      "cell_type": "code",
      "execution_count": null,
      "metadata": {
        "id": "7vYYgAzhdLVc",
        "jupyter": {
          "source_hidden": true
        }
      },
      "outputs": [],
      "source": []
    },
    {
      "cell_type": "markdown",
      "metadata": {
        "id": "RXeXJVeCdLVc",
        "jupyter": {
          "source_hidden": true
        }
      },
      "source": [
        "<p class=\"lead\">4. Divisiones (2/2) </p>"
      ]
    },
    {
      "cell_type": "code",
      "execution_count": null,
      "metadata": {
        "id": "fcpigpZwdLVc",
        "jupyter": {
          "source_hidden": true
        }
      },
      "outputs": [],
      "source": []
    },
    {
      "cell_type": "markdown",
      "metadata": {
        "id": "ISKKwlzndLVc",
        "jupyter": {
          "source_hidden": true
        }
      },
      "source": [
        "<p class=\"lead\">5. Potencia (2**3) </p>"
      ]
    },
    {
      "cell_type": "code",
      "execution_count": null,
      "metadata": {
        "id": "Ai9rqtkWdLVc",
        "jupyter": {
          "source_hidden": true
        }
      },
      "outputs": [],
      "source": []
    },
    {
      "cell_type": "markdown",
      "metadata": {
        "id": "p25ks1IOdLVc",
        "jupyter": {
          "source_hidden": true
        }
      },
      "source": [
        "<p class=\"lead\">6. Raiz (4**(1/2)) </p>"
      ]
    },
    {
      "cell_type": "code",
      "execution_count": null,
      "metadata": {
        "id": "4ISVqhkZdLVd",
        "jupyter": {
          "source_hidden": true
        }
      },
      "outputs": [],
      "source": []
    },
    {
      "cell_type": "markdown",
      "metadata": {
        "id": "NrOfkjukdLVd",
        "jupyter": {
          "source_hidden": true
        }
      },
      "source": [
        "<p class=\"lead\">7. Operaciones: 2+5*3 </p>"
      ]
    },
    {
      "cell_type": "code",
      "execution_count": null,
      "metadata": {
        "id": "qsr3MP_FdLVd",
        "jupyter": {
          "source_hidden": true
        }
      },
      "outputs": [],
      "source": []
    },
    {
      "cell_type": "markdown",
      "metadata": {
        "id": "41jdiMRSdLVd",
        "jupyter": {
          "source_hidden": true
        }
      },
      "source": [
        "<p class=\"lead\">8. Operaciones: 2+2**4 </p>"
      ]
    },
    {
      "cell_type": "code",
      "execution_count": null,
      "metadata": {
        "id": "yzejKe_zdLVd",
        "jupyter": {
          "source_hidden": true
        }
      },
      "outputs": [],
      "source": []
    },
    {
      "cell_type": "markdown",
      "metadata": {
        "id": "uNowKNpfdLVd",
        "jupyter": {
          "source_hidden": true
        }
      },
      "source": [
        "Si nota que las operaciones dan resultados que no esperaba, no se preocupe. No es un error de Python.\n",
        "Se nos enseña a hacer operaciones de derecha a izquierda, pero en realidad las operaciones van de más complejas a menos\n",
        "complejas. Por eso resuelve primero las potencias o raíces, luego multiplicaciones y finalmente las sumas y restas."
      ]
    },
    {
      "cell_type": "markdown",
      "metadata": {
        "id": "v7imx2DLf4fp"
      },
      "source": [
        "# Parte 3 - Variables y tipos de datos\n",
        "---"
      ]
    },
    {
      "cell_type": "markdown",
      "source": [
        "## Definición\n",
        "\n",
        "En los lenguajes de programacón, una variable le permite hacer referencia a un valor con un nombre.\n",
        "Por ejemplo\n",
        "\n",
        "`x = 5`\n",
        "\n",
        "Ahora puede utilizar el nombre de la variable, `x` en lugar del valor real, `5`. Recuerde, el símbolo `=` en `Python` significa asignación, No prueba igualdad.\n"
      ],
      "metadata": {
        "id": "4XlHHk6mzViT"
      }
    },
    {
      "cell_type": "markdown",
      "metadata": {
        "id": "G2R-FZIMf4fp"
      },
      "source": [
        "## ¿Por qué variables?\n",
        "\n",
        "Imagine un programa para calcular el IMC (índice de masa corporal) de una persona. Este indicador se calcula a partir de las variables altura y peso. Si desea calcular el IMC para varias personas, simplemente puede cambiar el valor de las variables peso y altura y volver a realizar el cálculo. El IMC cambia en consecuencia, porque el valor del peso variable también ha cambiado."
      ]
    },
    {
      "cell_type": "code",
      "execution_count": null,
      "metadata": {
        "id": "wkNap12mf4fp"
      },
      "outputs": [],
      "source": [
        "altura = 170\n",
        "peso = 68.7\n",
        "imc = peso / altura *2\n",
        "\n",
        "print(imc)\n",
        "\n",
        "print(peso / altura *2)"
      ]
    },
    {
      "cell_type": "markdown",
      "metadata": {
        "id": "2UigBKJ5f4fq"
      },
      "source": [
        "## Nombres de variables \n",
        "\n",
        "Se recomienda utilizar nombres descriptivos y en minúsculas. Para nombres compuestos, es usual separar las palabras por guiones bajos (por ejemplo, `primer_nombre`), o juntar palabras utilizando mayúsculas para la primera letra de la segunda palabra en adelante (por ejemplo, `primerNombre`). \n",
        "\n",
        "En `Python` los nombres de variables no pueden comenzar con números, ni con muchos símbolos especiales como `/&*()#!>` entre otros. El uso de guión bajo `_` sí es permitido.\n",
        "\n",
        "Antes y después del signo `=` debe haber un (1) solo un espacio en blanco. Por ejemplo:\n",
        "\n",
        "`primerNombre = Marta`\n",
        "\n",
        "Los lenguajes de programación tienen restricciones en cuanto al nombre que puede tener una variable. A esto se le conoce como palabras reservadas, es decir, son reservadas para el lenguaje. Si se utilizan como nombres de variables el programa genera un error. En `Python`, algunas de estas palabras son las siguientes:\n",
        "\n",
        "```\n",
        "and \n",
        "continue \n",
        "else \n",
        "for \n",
        "import \n",
        "not \n",
        "raise\n",
        "assert \n",
        "def \n",
        "except \n",
        "from \n",
        "in \n",
        "or \n",
        "return\n",
        "break \n",
        "del \n",
        "exec \n",
        "global \n",
        "is \n",
        "pass \n",
        "try\n",
        "class \n",
        "elif \n",
        "finally \n",
        "if \n",
        "lambda \n",
        "print\n",
        "```\n",
        "\n",
        "Intente utilizar una palabra reservada como nombre de una variable. "
      ]
    },
    {
      "cell_type": "code",
      "execution_count": null,
      "metadata": {
        "id": "H-B8GyNlf4fq"
      },
      "outputs": [],
      "source": [
        "class = 2"
      ]
    },
    {
      "cell_type": "markdown",
      "metadata": {
        "id": "L_QsE_e6f4fq"
      },
      "source": [
        "Note que las palabras reservadas generalmente cambian de color cuando estamos escribiendo código fuente en un editor de texto que reconoce el lenguaje de programación.\n",
        "\n",
        "La variable anterior `class` está en verde, pero la siguiente no lo está. Eso nos ayuda a saber si un nombre es un palabra reservada del lenguaje. "
      ]
    },
    {
      "cell_type": "code",
      "execution_count": null,
      "metadata": {
        "id": "_ffV5UIyf4fq"
      },
      "outputs": [],
      "source": [
        "clase = 2"
      ]
    },
    {
      "cell_type": "markdown",
      "metadata": {
        "id": "vHPnesFcf4fq"
      },
      "source": [
        "## Tipos de variables \n",
        "\n",
        "Existen distintos tipos de variables. El tipo de una variable nos da una idea de los posibles valores que esta puede tomar. Veamos algunas. \n",
        "\n",
        "- `int`: entero\n",
        "- `float`: punto flotante\n",
        "- `str`: cadena de caracteres\n",
        "- `bool`: booleano, 0, 1, True o False\n",
        "\n",
        "Y estructuras de datos, como:\n",
        "\n",
        "- `list`: lista de elementos (de cualquier tipo, incluida otra lista)\n",
        "- `dict`: \"diccionario\", conjunto de pares llave:valor\n",
        "\n",
        "Algunos ejemplos:"
      ]
    },
    {
      "cell_type": "code",
      "execution_count": null,
      "metadata": {
        "id": "rA03p4Pcf4fq"
      },
      "outputs": [],
      "source": [
        "edad = 40\n",
        "peso = 3.4\n",
        "saludo ='Hola mundo!'\n",
        "condicion = True\n",
        "\n",
        "print(variableInt)"
      ]
    },
    {
      "cell_type": "markdown",
      "metadata": {
        "id": "u2my6qXYf4fr"
      },
      "source": [
        "A continuación utilice la función `print(X)` para imprimir el contenido de las variables que creó anteriormente. "
      ]
    },
    {
      "cell_type": "code",
      "execution_count": null,
      "metadata": {
        "id": "zIcHxmeRf4fr"
      },
      "outputs": [],
      "source": [
        "# imprimir distintos tipos de variables\n",
        "print(edad)"
      ]
    },
    {
      "cell_type": "markdown",
      "metadata": {
        "id": "HFYzdXwFf4fr"
      },
      "source": [
        "La función `type()` nos permite conocer el tipo de una variable. Ejemplo:"
      ]
    },
    {
      "cell_type": "code",
      "execution_count": null,
      "metadata": {
        "id": "Ixtb5-T8f4fy"
      },
      "outputs": [],
      "source": [
        "type(saludo)"
      ]
    },
    {
      "cell_type": "markdown",
      "metadata": {
        "id": "HaGJ2oDWf4fz"
      },
      "source": [
        "A continuación utilice la función `type(X)` para imprimir el tipo de las variables que creó anteriormente."
      ]
    },
    {
      "cell_type": "code",
      "execution_count": null,
      "metadata": {
        "id": "mkfzP35Lf4fz"
      },
      "outputs": [],
      "source": []
    },
    {
      "cell_type": "markdown",
      "metadata": {
        "id": "o37BedFaf4fz"
      },
      "source": [
        "## Conversión de variables \n",
        "\n",
        "Algunas variables pueden cambiar de tipo. A esto le llamamos convertir una variable de su tipo original a otro tipo destino. Veamos ejemplos"
      ]
    },
    {
      "cell_type": "code",
      "execution_count": null,
      "metadata": {
        "id": "R80N5HuRf4fz"
      },
      "outputs": [],
      "source": [
        "edad = 20         # tipo int e.g. años\n",
        "peso = 65.8       # tipo float e.g. kilogramos\n",
        "mes = \"agosto\"    # tipo string e.g. mes\n",
        "esDeNoche = False # tipo bool "
      ]
    },
    {
      "cell_type": "code",
      "execution_count": null,
      "metadata": {
        "id": "0MsrDnFAf4fz"
      },
      "outputs": [],
      "source": [
        "type(edad)"
      ]
    },
    {
      "cell_type": "markdown",
      "metadata": {
        "id": "Xe5rFXAhf4f0"
      },
      "source": [
        "Es posible cambiar el tipo de una variable. Por ejemplo, convertir una una variable `float` a `int`, etc. \n",
        "El lenjuage dispone de ciertas funciones para realizar la conversión. Algunos ejemplos:\n",
        "\n",
        "- `int()` Convierte a entero\n",
        "- `float()` Convierte a flotante\n",
        "- `str()` Convierte a string\n",
        "\n"
      ]
    },
    {
      "cell_type": "code",
      "execution_count": null,
      "metadata": {
        "id": "k6PE2-0Ff4f0"
      },
      "outputs": [],
      "source": [
        "edad = float(edad)\n",
        "type(edad)"
      ]
    },
    {
      "cell_type": "code",
      "execution_count": null,
      "metadata": {
        "id": "KZe-0juif4f0"
      },
      "outputs": [],
      "source": [
        "peso = int(peso)\n",
        "type(peso)"
      ]
    },
    {
      "cell_type": "code",
      "execution_count": null,
      "metadata": {
        "id": "1DvQ9A-tf4f0"
      },
      "outputs": [],
      "source": [
        "mes = str(edad)\n",
        "type(mes)"
      ]
    },
    {
      "cell_type": "markdown",
      "metadata": {
        "id": "JPFxPa-zf4f1"
      },
      "source": [
        "Note que ahora la variable `peso` es de tipo `int`, por ende, no puede almacenar un número con decimales. Anteriormente la variable `peso` tenía el valor `65.8`. Imprima la variable `peso` después de convertirla a `int` y note como su valor a cambiado. "
      ]
    },
    {
      "cell_type": "code",
      "execution_count": null,
      "metadata": {
        "id": "DUCTBDrVf4f1"
      },
      "outputs": [],
      "source": [
        "print(peso)"
      ]
    },
    {
      "cell_type": "markdown",
      "metadata": {
        "id": "YnYaL_VQf4f1"
      },
      "source": [
        "En programación se debe tener cuidado con la transformación de variables para evitar errores en los programas. "
      ]
    },
    {
      "cell_type": "markdown",
      "metadata": {
        "id": "l_gKs2qif4f1"
      },
      "source": [
        "La siguiente función de conversión se comporta de manera especial.\n",
        "\n",
        "- `bool()`\n",
        "\n",
        "Por ejemplo, en esta línea\n",
        "\n",
        "`edad = bool(edad)`\n",
        "\n",
        "Convierte la variable `edad` a tipo `bool`. \n",
        "\n",
        "Y en esta línea\n",
        "\n",
        "`bool(edad)`\n",
        "\n",
        "Examina el valor de la variable `edad` y retorna `False` si su valor es cero, y retorna `True` en cualquier otros caso. \n",
        "\n"
      ]
    },
    {
      "cell_type": "code",
      "execution_count": null,
      "metadata": {
        "id": "K7E3tP3zf4f1"
      },
      "outputs": [],
      "source": [
        "bool(edad)"
      ]
    },
    {
      "cell_type": "markdown",
      "metadata": {
        "id": "grgXFzLef4f2"
      },
      "source": [
        "# Parte 4 - Estructuras de datos: Listas\n",
        "---"
      ]
    },
    {
      "cell_type": "markdown",
      "source": [
        "Las listas en Python son un tipo contenedor, compuesto, que se usan para almacenar conjuntos de elementos relacionados del mismo tipo o de tipos distintos.\n",
        "\n",
        "Las lista son mutables, ya que permiten modificar los datos una vez creados. Su característica principal reside en que el orden de sus elementos se mantiene en todo momento. Las listas usan corchetes (`[]`) para encerrar a sus elementos, y comas (`,`) para separarlos."
      ],
      "metadata": {
        "id": "PQwq1n7bhbxp"
      }
    },
    {
      "cell_type": "code",
      "source": [
        "# Lista que almacena elementos del mismo tipo: strings\n",
        "mi_lista_strings = ['uno', 'dos', 'tres']\n",
        "mi_lista_strings\n",
        "\n",
        "# Lista que almacena elementos de diferentes tipos: un string, un entero y un flotante\n",
        "mi_lista = ['uno', 2, 3.14159]\n",
        "mi_lista"
      ],
      "metadata": {
        "id": "gdGq8dgGLKFA"
      },
      "execution_count": null,
      "outputs": []
    },
    {
      "cell_type": "markdown",
      "source": [
        "Las listas también se pueden crear usando el constructor de la clase, `list(iterable)`. En este caso, el constructor crea una lista cuyos elementos son los mismos y están en el mismo orden que los ítems del iterable. El objeto iterable puede ser o una secuencia, un contenedor que soporte la iteración o un objeto iterador.\n",
        "\n",
        "Por ejemplo, el tipo `str` también es un tipo secuencia. Si pasamos un string al constructor `list()` creará una lista cuyos elementos son cada uno de los caracteres de la cadena:"
      ],
      "metadata": {
        "id": "MR4OqDGkT9Ko"
      }
    },
    {
      "cell_type": "code",
      "source": [
        "vocales = list('aeiou')\n",
        "vocales"
      ],
      "metadata": {
        "id": "VlZ_19kLUNpZ"
      },
      "execution_count": null,
      "outputs": []
    },
    {
      "cell_type": "markdown",
      "source": [
        "Además, se puede crear una lista vacía con dos alternativas:"
      ],
      "metadata": {
        "id": "ZJooehRuU0Yr"
      }
    },
    {
      "cell_type": "code",
      "source": [
        "lista_1 = []  # Opción 1\n",
        "lista_2 = list()  # Opción 2"
      ],
      "metadata": {
        "id": "JoWn5jw0U-db"
      },
      "execution_count": null,
      "outputs": []
    },
    {
      "cell_type": "markdown",
      "source": [
        "## Acceder a los elementos de una lista\n",
        "\n",
        "A las listas se acceden por su número de índice:"
      ],
      "metadata": {
        "id": "tyoglIu_VQWi"
      }
    },
    {
      "cell_type": "code",
      "source": [
        "print(mi_lista_strings[:]) # Imprime toda la lista\n",
        "print(mi_lista_strings[0]) # Salida: 'uno'\n",
        "\n",
        "print(mi_lista[:]) # Imprime toda la lista\n",
        "print(mi_lista[2]) # Devuelve: 3.14159"
      ],
      "metadata": {
        "id": "nIvMzj0ZMATZ"
      },
      "execution_count": null,
      "outputs": []
    },
    {
      "cell_type": "markdown",
      "source": [
        "Si se intenta acceder a un índice que está fuera del rango de la lista, el intérprete lanzará la excepción `IndexError`. De igual modo, si se utiliza un índice que no es un número entero, se lanzará la excepción `TypeError`:"
      ],
      "metadata": {
        "id": "wCX7UrhzVdTg"
      }
    },
    {
      "cell_type": "code",
      "source": [
        "lista = [1, 2, 3]  # Los índices válidos son 0, 1 y 2\n",
        "lista[8]"
      ],
      "metadata": {
        "id": "6fgrcbSBV9tT"
      },
      "execution_count": null,
      "outputs": []
    },
    {
      "cell_type": "code",
      "source": [
        "lista[1.0]"
      ],
      "metadata": {
        "id": "CxWFm5wYWRPY"
      },
      "execution_count": null,
      "outputs": []
    },
    {
      "cell_type": "markdown",
      "source": [
        "**Acceso a los elementos usando un índice negativo**\n",
        "\n",
        "En Python está permitido usar índices negativos para acceder a los elementos de una secuencia. En este caso, el índice -1 hace referencia al último elemento de la secuencia, el -2 al penúltimo y así, sucesivamente:"
      ],
      "metadata": {
        "id": "BgqDIwGnWWwJ"
      }
    },
    {
      "cell_type": "code",
      "source": [
        "vocales = ['a', 'e', 'i', 'o', 'u']\n",
        "print(vocales[-1]) # Imprime 'u'\n",
        "print(vocales[-4]) # Imprime 'e'"
      ],
      "metadata": {
        "id": "5RG-dF-7WnDg"
      },
      "execution_count": null,
      "outputs": []
    },
    {
      "cell_type": "markdown",
      "source": [
        "**Acceso a un subconjunto de elementos**\n",
        "\n",
        "También es posible acceder a un subconjunto de elementos de una lista utilizando rangos en los índices. Esto es usando el operador `[:]`:"
      ],
      "metadata": {
        "id": "F8L1JJvoW4Jp"
      }
    },
    {
      "cell_type": "code",
      "source": [
        "print(vocales[2:3])  # Elementos desde el índice 2 hasta el índice 3-1: ['i']\n",
        "print(vocales[2:4])  # Elementos desde el 2 hasta el índice 4-1: ['i', 'o']\n",
        "print(vocales[:])  # Todos los elementos: ['a', 'e', 'i', 'o', 'u']\n",
        "print(vocales[1:])  # Elementos desde el índice 1: ['e', 'i', 'o', 'u']\n",
        "print(vocales[:3])  # Elementos hasta el índice 3-1: ['a', 'e', 'i']"
      ],
      "metadata": {
        "id": "flToxU_HWp2B"
      },
      "execution_count": null,
      "outputs": []
    },
    {
      "cell_type": "markdown",
      "source": [
        "También es posible acceder a los elementos de una lista indicando un paso con el operador `[::]`:"
      ],
      "metadata": {
        "id": "Ul7351yDbNqF"
      }
    },
    {
      "cell_type": "code",
      "source": [
        "letras = ['a', 'b', 'c', 'd', 'e', 'f', 'g', 'h', 'i', 'j', 'k']\n",
        "print(letras[::2]) # Acceso a los elementos de 2 en 2: ['a', 'c', 'e', 'g', 'i', 'k']\n",
        "print(letras[1:5:2]) # Elementos del índice 1 al 4 de 2 en 2: ['b', 'd']\n",
        "print(letras[1:8:3]) # Elementos del índice 1 al 7 de 3 en 3: ['b', 'e', 'h']"
      ],
      "metadata": {
        "id": "ygN5yod8bRdV"
      },
      "execution_count": null,
      "outputs": []
    },
    {
      "cell_type": "markdown",
      "source": [
        "## Recorrer una lista\n",
        "\n",
        "Se puede usar el bucle `for` para recorrer los elementos de una secuencia, como se muestra a continuación:"
      ],
      "metadata": {
        "id": "cRTiYjmtbQQF"
      }
    },
    {
      "cell_type": "code",
      "source": [
        "colores = ['azul', 'blanco', 'negro']\n",
        "\n",
        "for color in colores:\n",
        "        print(color)"
      ],
      "metadata": {
        "id": "6Ru-zjJ6cYkV"
      },
      "execution_count": null,
      "outputs": []
    },
    {
      "cell_type": "markdown",
      "source": [
        "## Añadir elementos a una lista\n",
        "\n",
        "Las listas son secuencias mutables, es decir, sus elementos pueden ser modificados (se pueden añadir nuevos ítems, actualizar o eliminar).\n",
        "\n",
        "Para añadir un nuevo elemento a una lista se utiliza el método `append()` y para añadir varios elementos, el método `extend()`:"
      ],
      "metadata": {
        "id": "mkS-JjHSciFd"
      }
    },
    {
      "cell_type": "code",
      "source": [
        "vocales = ['a']\n",
        "\n",
        "vocales.append('e')  # Añade un elemento\n",
        "print(vocales[:])\n",
        "\n",
        "vocales.extend(['i', 'o', 'u'])  # Añade un grupo de elementos\n",
        "print(vocales[:])"
      ],
      "metadata": {
        "id": "lUpVQmITc1zm"
      },
      "execution_count": null,
      "outputs": []
    },
    {
      "cell_type": "markdown",
      "source": [
        "También es posible añadir un elemento en una posición concreta de una lista con el método `insert(índice, elemento)`. Los elementos cuyo índice sea mayor a índice se desplazan una posición a la derecha:"
      ],
      "metadata": {
        "id": "gSuYuShReX4s"
      }
    },
    {
      "cell_type": "code",
      "source": [
        "vocales = ['a', 'e', 'u']\n",
        "print(vocales[:])\n",
        "vocales.insert(2, 'i')\n",
        "vocales.insert(3, 'o')\n",
        "print(vocales[:])"
      ],
      "metadata": {
        "id": "J1rYCRMfelhj"
      },
      "execution_count": null,
      "outputs": []
    },
    {
      "cell_type": "markdown",
      "source": [
        "**Concatenar listas** \n",
        "\n",
        "Dos listas pueden concatenarse en una de sola mediante el signo más (`+`). El resultado es una nueva lista con los elementos de las dos listas en el mismo orden de la concatenación:\n"
      ],
      "metadata": {
        "id": "F2sxSCL_dMDF"
      }
    },
    {
      "cell_type": "code",
      "source": [
        "lista_1 = [1, 2, 3]\n",
        "lista_2 = [4, 5, 6]\n",
        "numeros = lista_1 + lista_2\n",
        "print(numeros[:])"
      ],
      "metadata": {
        "id": "bp6BWoGEdLs9"
      },
      "execution_count": null,
      "outputs": []
    },
    {
      "cell_type": "markdown",
      "source": [
        "**Replicar listas**\n",
        "\n",
        "Otra operación que admiten las listas es la de réplica, que se realiza mediante el signo de multiplicación (`*`). Esta operación es equivalente a concatenarle a una lista sus mismos elementos *n* veces:"
      ],
      "metadata": {
        "id": "ybG3B9Txdt4-"
      }
    },
    {
      "cell_type": "code",
      "source": [
        "numeros = [1, 2, 3]\n",
        "numeros *= 3\n",
        "print(numeros[:])"
      ],
      "metadata": {
        "id": "i7DWP0bJeGUk"
      },
      "execution_count": null,
      "outputs": []
    },
    {
      "cell_type": "markdown",
      "source": [
        "## Modificar elementos de una lista\n",
        "\n",
        "Es posible modificar un elemento de una lista con el operador de asignación `=`, Para ello, lo único que se necesita conocer es el índice del elemento que se quiere modificar o el rango de índices:"
      ],
      "metadata": {
        "id": "PRYzz9OSe9t1"
      }
    },
    {
      "cell_type": "code",
      "source": [
        "vocales = ['o', 'o', 'o', 'o', 'u']\n",
        "\n",
        "# Actualiza el elemento del índice 0\n",
        "vocales[0] = 'a'\n",
        "print(vocales[:])\n",
        "\n",
        "# Actualiza los elementos entre las posiciones 1 y 2\n",
        "vocales[1:3] = ['e', 'i']\n",
        "print(vocales[:])"
      ],
      "metadata": {
        "id": "T9PlS60XeXX3"
      },
      "execution_count": null,
      "outputs": []
    },
    {
      "cell_type": "markdown",
      "source": [
        "## Eliminar elementos de una lista\n",
        "\n",
        "Se puede eliminar un elemento de una lista de varias formas.\n",
        "\n",
        "Con la sentencia `del` se puede eliminar un elemento a partir de su índice:"
      ],
      "metadata": {
        "id": "1vJ3Fo0KfhVb"
      }
    },
    {
      "cell_type": "code",
      "source": [
        "# Elimina el elemento del índice 1\n",
        "vocales = ['a', 'e', 'i', 'o', 'u']\n",
        "del vocales[1]\n",
        "print(vocales[:])\n",
        "\n",
        "# Elimina los elementos con índices 2 y 3\n",
        "vocales = ['a', 'e', 'i', 'o', 'u']\n",
        "del vocales[2:4]\n",
        "print(vocales[:])\n",
        "\n",
        "# Elimina todos los elementos\n",
        "del vocales[:]\n",
        "print(vocales[:])"
      ],
      "metadata": {
        "id": "OVe8sI1Ufv1d"
      },
      "execution_count": null,
      "outputs": []
    },
    {
      "cell_type": "markdown",
      "source": [
        "Otros métodos que se pueden usar son `remove()` y `pop([i])`:\n",
        "*   **Método `remove()`.** Elimina la primera ocurrencia que se encuentre del elemento en una lista.\n",
        "*   **Método `pop([i])`.** Obtiene el elemento cuyo índice sea igual a *i* y lo elimina de la lista. Si no se especifica ningún índice, recupera y elimina el último elemento."
      ],
      "metadata": {
        "id": "Tr2BGPcHgir1"
      }
    },
    {
      "cell_type": "code",
      "source": [
        "letras = ['a', 'b', 'k', 'a', 'v']\n",
        "\n",
        "# Elimina la primera ocurrencia del carácter a\n",
        "letras.remove('a')\n",
        "print(letras[:])\n",
        "\n",
        "# Obtiene y elimina el segundo elemento\n",
        "letras.pop(1)\n",
        "print(letras[:])\n",
        "\n",
        "# Obtiene y elimina el último elemento\n",
        "letras.pop()\n",
        "print(letras[:])"
      ],
      "metadata": {
        "id": "J0_yS4rNgjZ8"
      },
      "execution_count": null,
      "outputs": []
    },
    {
      "cell_type": "markdown",
      "source": [
        "Finalmente, es posible eliminar todos los elementos de una lista a través del método `clear()`:"
      ],
      "metadata": {
        "id": "UEcM56rBhm4r"
      }
    },
    {
      "cell_type": "code",
      "source": [
        "letras = ['a', 'b', 'c']\n",
        "letras.clear()\n",
        "print(letras[:])"
      ],
      "metadata": {
        "id": "7MTpnecchp7T"
      },
      "execution_count": null,
      "outputs": []
    },
    {
      "cell_type": "markdown",
      "source": [
        "El código anterior sería equivalente a `del letras[:]`."
      ],
      "metadata": {
        "id": "x3dH6EfJh1MK"
      }
    },
    {
      "cell_type": "markdown",
      "source": [
        "## Obtener la longitud de una lista\n",
        "\n",
        "Como cualquier tipo secuencia, para conocer la longitud de una lista en Python se hace uso de la función `len()`. Esta función devuelve el número de elementos de una lista:\n"
      ],
      "metadata": {
        "id": "-_gZQUtqh_vq"
      }
    },
    {
      "cell_type": "code",
      "source": [
        "vocales = ['a', 'e', 'i', 'o', 'u']\n",
        "len(vocales)"
      ],
      "metadata": {
        "id": "dYcag15xiHMZ"
      },
      "execution_count": null,
      "outputs": []
    },
    {
      "cell_type": "markdown",
      "source": [
        "Además, se tiene el método `count(elemento)` que devuelve el número de ocurrencias del elemento en la lista:"
      ],
      "metadata": {
        "id": "2AmIle9Dmpfo"
      }
    },
    {
      "cell_type": "code",
      "source": [
        "letras = ['a','b','a','b','c','a','b','c','d']\n",
        "letras.count('a') # Cuenta las veces que está el elemento 'a' en la lista"
      ],
      "metadata": {
        "id": "yDpCFeoKm6zk"
      },
      "execution_count": null,
      "outputs": []
    },
    {
      "cell_type": "markdown",
      "source": [
        "## Encontrar elementos de una lista\n",
        "\n",
        "Para saber si un elemento está contenido en una lista, se utiliza el operador de pertenencia `in`:"
      ],
      "metadata": {
        "id": "z_YhRVg5iT5Z"
      }
    },
    {
      "cell_type": "code",
      "source": [
        "vocales = ['a', 'e', 'i', 'o', 'u']\n",
        "if 'a' in vocales:\n",
        "  print('Sí')\n",
        "\n",
        "if 'b' not in vocales:\n",
        "  print('No')"
      ],
      "metadata": {
        "id": "u_6GPanmidYU"
      },
      "execution_count": null,
      "outputs": []
    },
    {
      "cell_type": "markdown",
      "source": [
        "## Ordenar una lista\n",
        "\n",
        "Las listas son secuencias ordenadas. Esto quiere decir que sus elementos siempre se devuelven en el mismo orden en que fueron añadidos.\n",
        "\n",
        "No obstante, es posible ordenar los elementos de una lista con el método `sort()`, el cual ordena los elementos de la lista utilizando únicamente el operador < y modifica la lista actual (no se obtiene una nueva lista):"
      ],
      "metadata": {
        "id": "DCMr5fA-kbmQ"
      }
    },
    {
      "cell_type": "code",
      "source": [
        "# Lista desordenada de números enteros\n",
        "numeros = [3, 5, 2, 6, 1, 7, 4]\n",
        "print(numeros[:])\n",
        "\n",
        "# Identidad del objeto numeros\n",
        "print(id(numeros))\n",
        "\n",
        "# Se llama al método sort() para ordenar los elementos de la lista\n",
        "numeros.sort()\n",
        "print(numeros[:])\n",
        "\n",
        "# Se comprueba que la identidad del objeto numeros es la misma\n",
        "print(id(numeros))"
      ],
      "metadata": {
        "id": "jtl9p54qkvWD"
      },
      "execution_count": null,
      "outputs": []
    },
    {
      "cell_type": "markdown",
      "source": [
        "Por su parte, se tiene el método `reverse()` invierte el orden de los elementos de una lista. Este método es equivalente a aplicar `lista[::-1]`."
      ],
      "metadata": {
        "id": "khGJNmoklTYx"
      }
    },
    {
      "cell_type": "code",
      "source": [
        "# Lista de números enteros ordenda ascendente\n",
        "numeros = [1, 2, 3, 4, 5, 6, 7]\n",
        "print(numeros[:])\n",
        "\n",
        "# Lista de números enteros ordenada descendente, con método reverse\n",
        "numeros.reverse()\n",
        "print(numeros[:])\n",
        "\n",
        "# Lista de números enteros ordenada descendente, con lista[::-1]\n",
        "numeros = [1, 2, 3, 4, 5, 6, 7]\n",
        "print(numeros[::-1])"
      ],
      "metadata": {
        "id": "A1D_9Eb_lgc3"
      },
      "execution_count": null,
      "outputs": []
    },
    {
      "cell_type": "markdown",
      "source": [
        "## Otros métodos de las listas\n",
        "\n",
        "Python ofrece varios métodos integradas que se pueden aplicar a las listas.\n",
        "\n",
        "Se tienen los métodos `min()` y `max()` que devuelven respectivamente el valor mínimo y el valor máximo de la lista:"
      ],
      "metadata": {
        "id": "H8z4tDrLnsw5"
      }
    },
    {
      "cell_type": "code",
      "source": [
        "lista = [4, 2, 0, 1, 3]\n",
        "print(\"Lista =\", lista[:])\n",
        "\n",
        "minimo = min(lista)\n",
        "print(\"Elemento mínimo \", minimo)\n",
        "\n",
        "maximo = max(lista)\n",
        "print(\"Elemento máximo \", maximo)"
      ],
      "metadata": {
        "id": "WBFEK4vEoYdP"
      },
      "execution_count": null,
      "outputs": []
    },
    {
      "cell_type": "markdown",
      "source": [
        "Otro método es `copy()`, el cual devuelve una copia de la lista:"
      ],
      "metadata": {
        "id": "C-wO0bnAt0Op"
      }
    },
    {
      "cell_type": "code",
      "source": [
        "print(\"Lista =\", lista.copy())"
      ],
      "metadata": {
        "id": "6T6FCNjTzQup"
      },
      "execution_count": null,
      "outputs": []
    },
    {
      "cell_type": "markdown",
      "metadata": {
        "id": "YeoaLfa9f4f2"
      },
      "source": [
        "# Parte 5 - Estructuras de control: condicionales y ciclos\n",
        "---"
      ]
    },
    {
      "cell_type": "markdown",
      "source": [
        "Una estructura de control, es un bloque de código que permite agrupar instrucciones de manera controlada. Se pueden distinguir tres tipos básicos de control de flujo:\n",
        "\n",
        "*   Secuencial\n",
        "*   Selección (Selectivas) (Condicionales)\n",
        "*   Repetición (Repetitivas) (Ciclos )\n",
        "\n",
        "## Secuencial\n",
        "\n",
        "En el control secuencial las instrucciones se ejecutan de manera secuencial desde el inicio hasta el fin del programa.\n",
        "\n",
        "<img src=\"https://drive.google.com/uc?export=view&id=1I5qwzIPMlSsCy9YDaT9hBCaWOJPeg6Ap\" alt=\"Secuencial\" height=\"500px\" width=\"150px\" aling=\"middle\" />"
      ],
      "metadata": {
        "id": "qDAmhJ4i-U79"
      }
    },
    {
      "cell_type": "markdown",
      "source": [
        "## Selección (condicionales)\n",
        "\n",
        "En el control de selección se tiene una condición que puede ser falsa o verdadera, dependiendo de esto se ejecutará uno u otro bloque de instrucciones.\n",
        "\n",
        "<img src=\"https://drive.google.com/uc?export=view&id=15zvQglTNi_84o8Sk-JrsbVEKHBz0fSA5\" alt=\"Selectiva\" height=\"500px\" width=\"350px\" aling=\"middle\" />\n",
        "\n",
        "Estrcturas de control condicionales:\n",
        "\n",
        "*   Si-entonces (if-then)\n",
        "*   Si-entonces-sino (if-then-else)\n",
        "*   En el caso de (switch-case)\n",
        "\n",
        "Estas estructuras de control permiten evaluar si una o más condiciones se cumplen, para decir qué acción se va a ejecutar. La evaluación de condiciones, solo puede arrojar 1 de 2 resultados: **verdadero** o **falso** (`True` o `False`).\n",
        "\n",
        "Para describir la evaluación a realizar sobre una condición, se utilizan **operadores relacionales** (o de comparación):\n",
        "\n",
        "<img src=\"https://drive.google.com/uc?export=view&id=1mIuVHIbQNErG42WcrCrn7kxzw5GI5vvI\" alt=\"Operadores Relacionales\" height=\"320px\" width=\"400px\" aling=\"middle\" />\n",
        "\n",
        "Y para evaluar más de una condición simultáneamente, se utilizan **operadores lógicos**:\n",
        "\n",
        "<img src=\"https://drive.google.com/uc?export=view&id=1VuE5CTb0t599boV1BFtHJ2tCVD15d6r0\" alt=\"Operadores Lógicos\" height=\"350px\" width=\"450px\" aling=\"middle\" />\n",
        "\n",
        "Las estructuras de control de flujo condicionales, en Python, se definen mediante el uso de tres palabras claves reservadas del lenguaje: `if` (si), `elif` (sino, si) y `else` (sino).\n",
        "\n"
      ],
      "metadata": {
        "id": "TDw5mL8S_Ltk"
      }
    },
    {
      "cell_type": "markdown",
      "source": [
        "### Estructura de control de selección `if-elif-else`\n",
        "\n",
        "El condicional `if-elif-else` es una estructura de control de selección que sirve para tomar decisiones, basándose en la evaluación de condiciones y/o comparaciones, en el flujo del programa.\n",
        "\n",
        "Ejemplo con `if`:"
      ],
      "metadata": {
        "id": "QfAVgeC2A7Oi"
      }
    },
    {
      "cell_type": "code",
      "source": [
        "# Cumple la condición\n",
        "semaforo = \"verde\"\n",
        "if semaforo == \"verde\": \n",
        "    print(\"Cruzar la calle\")\n",
        "\n",
        "# No cumple la condición\n",
        "semaforo = \"rojo\"\n",
        "if semaforo == \"verde\": \n",
        "    print(\"Cruzar la calle\")"
      ],
      "metadata": {
        "id": "fMN59pxlEvcq"
      },
      "execution_count": null,
      "outputs": []
    },
    {
      "cell_type": "markdown",
      "source": [
        "Ejemplo con `if-else`:"
      ],
      "metadata": {
        "id": "jC-XBOhtFeSt"
      }
    },
    {
      "cell_type": "code",
      "source": [
        "semaforo = \"verde\"\n",
        "if semaforo == \"verde\": \n",
        "    print(\"Cruzar la calle\") # Cumple la condición\n",
        "else: \n",
        "    print(\"No cruzar la calle\") # No cumple la condición\n",
        "\n",
        "semaforo = \"rojo\"\n",
        "if semaforo == \"verde\": \n",
        "    print(\"Cruzar la calle\") # Cumple la condición\n",
        "else: \n",
        "    print(\"No cruzar la calle\") # No cumple la condición"
      ],
      "metadata": {
        "id": "COgWfE_mF_zA"
      },
      "execution_count": null,
      "outputs": []
    },
    {
      "cell_type": "markdown",
      "source": [
        "Ejemplo con `if-elif-else`:"
      ],
      "metadata": {
        "id": "QsbX9X0KGXU8"
      }
    },
    {
      "cell_type": "code",
      "source": [
        "a = 10\n",
        "b = 30\n",
        "\n",
        "if a > b:\n",
        "    print(\"a es mayor que b\")\n",
        "elif a < b:\n",
        "    print(\"a es menor que b\")\n",
        "else:\n",
        "    print(\"a es igual a b\")"
      ],
      "metadata": {
        "id": "O_rNyRC_GfpZ"
      },
      "execution_count": null,
      "outputs": []
    },
    {
      "cell_type": "markdown",
      "source": [
        "## Repetición (ciclos)\n",
        "\n",
        "En el control de repetición, un bloque de instrucciones se ejecuta de manera repetitiva mientras una condición sea verdadera, en caso contrario el flujo de ejecución se pasará a otro conjunto de instrucciones.\n",
        "\n",
        "<img src=\"https://drive.google.com/uc?export=view&id=1E5FBNhM39hYyNopPokzQRNeeG-hSD7g-\" alt=\"Repetitiva\" height=\"600px\" width=\"200px\" aling=\"middle\" />\n",
        "\n",
        "Estructuras de control cíclicas:\n",
        "\n",
        "*   Mientras (while)\n",
        "*   Hasta que (do-while)\n",
        "*   Número de veces (for)\n",
        "\n",
        "A diferencia de las estructuras de control condicionales, las iterativas (también llamadas cíclicas o bucles), nos permiten ejecutar un mismo código, de manera repetida, mientras se cumpla una condición.\n",
        "\n",
        "En Python se dispone de dos estructuras cíclicas el bucle `while` y el bucle `for`."
      ],
      "metadata": {
        "id": "gy7oUOIi_Ow0"
      }
    },
    {
      "cell_type": "markdown",
      "source": [
        "### Estructura de control de repetición `while`\n",
        "\n",
        "Este bucle se encarga de ejecutar una misma acción \"mientras que\" una determinada condición se cumpla. \n",
        "\n",
        "La sintaxis de `while` es:"
      ],
      "metadata": {
        "id": "yFmU7QtoHZ4o"
      }
    },
    {
      "cell_type": "code",
      "source": [
        "while cond:\n",
        "    # Hacer algo ..."
      ],
      "metadata": {
        "id": "fHz0omIwKPQO"
      },
      "execution_count": null,
      "outputs": []
    },
    {
      "cell_type": "markdown",
      "source": [
        "Donde `cond` es un valor de tipo booleano que usualmente resulta de realizar una comparación; mientras `cond` sea un valor booleano `True` entonces el bloque de instrucciones contenidas en while se ejecutarán.\n",
        "\n",
        "Ejemplo: Mientras que año sea menor o igual a 2022, imprimir la frase \"Informes del Año XXXX\"."
      ],
      "metadata": {
        "id": "9qoglD8tKUkW"
      }
    },
    {
      "cell_type": "code",
      "source": [
        "anio = 2000\n",
        "while anio <= 2022: \n",
        "    print(\"Informes del Año\", str(anio))\n",
        "    anio += 1 # Incrementa el año por cada iteración"
      ],
      "metadata": {
        "id": "yjNrvqH5H-H8"
      },
      "execution_count": null,
      "outputs": []
    },
    {
      "cell_type": "markdown",
      "source": [
        "**Atención** \n",
        "\n",
        "¿Qué sucede si el valor que condiciona la iteración no es numérico y no puede incrementarse? \n",
        "\n",
        "En ese caso, se puede utilizar una estructura de control condicional, anidada dentro del bucle, y frenar la ejecución cuando el condicional deje de cumplirse, con la palabra clave reservada `break`:"
      ],
      "metadata": {
        "id": "M1DZW1XoIImx"
      }
    },
    {
      "cell_type": "code",
      "source": [
        "while True:\n",
        "    nombre = input(\"Indique su nombre: \")\n",
        "    if nombre:\n",
        "      print(\"Mi nombree es:\", nombre)\n",
        "      break"
      ],
      "metadata": {
        "id": "QFVq1Ae_Id5X"
      },
      "execution_count": null,
      "outputs": []
    },
    {
      "cell_type": "markdown",
      "source": [
        "Las instrucciones anteriores, incluye un condicional anidado que verifica si la variable nombre es verdadera (solo será verdadera si el usuario ingresaea un texto en pantalla cuando el nombre le es solicitado). Si es verdadera, el bucle imprime el nombre y para (`break`). Sino, seguirá ejecutándose hasta que el usuario, ingrese un texto en pantalla.\n",
        "\n",
        "Aunque es menos común y poco práctico, con `while` podríamos iterar, como con `for`, sobre una secuencia:"
      ],
      "metadata": {
        "id": "Bde37l1VJQMH"
      }
    },
    {
      "cell_type": "code",
      "source": [
        "nombre = \"Pablo\"\n",
        "k = 0\n",
        "while k < len(nombre):\n",
        "    print(nombre[k])\n",
        "    k += 1"
      ],
      "metadata": {
        "id": "QNT1dQlMK7ut"
      },
      "execution_count": null,
      "outputs": []
    },
    {
      "cell_type": "markdown",
      "source": [
        "### Estructura de control de repetición `for`\n",
        "\n",
        "Este bucle es una estructura de control de repetición, en la cual se conocen *a priori* el número de iteraciones a realizar. En Python, el ciclo `for` recorre una secuencia y en la *k-ésima* iteración la variable de ciclo adopta el valor del elemento en la *k-ésima* posición del iterable. O sea, permite iterar sobre una variable compleja, del tipo lista o tupla.\n",
        "\n",
        "La sintaxis de `for` es:"
      ],
      "metadata": {
        "id": "DiHLSbrPJg6H"
      }
    },
    {
      "cell_type": "code",
      "source": [
        "for var in secuencia:\n",
        "    # Hacer algo ..."
      ],
      "metadata": {
        "id": "mX_ZYz0QLZBl"
      },
      "execution_count": null,
      "outputs": []
    },
    {
      "cell_type": "markdown",
      "source": [
        "Donde `var` es la variable de ciclo o variable de control y `secuencia` la secuencia de valores que deberá iterarse. Es necesario remarcar la importancia de los dos puntos al final de esta primera línea y en indentar el bloque de código subsecuente que definirá el cuerpo del ciclo `for`.\n",
        "\n",
        "Por ejemplo, se quiere recorrer una lista de números e imprimirlos:"
      ],
      "metadata": {
        "id": "YpYz268RLb_o"
      }
    },
    {
      "cell_type": "code",
      "source": [
        "numeros = [18,50,90,-20,100,80,37]\n",
        "for n in numeros:\n",
        "    print(n)"
      ],
      "metadata": {
        "id": "hA72pqoRLvS9"
      },
      "execution_count": null,
      "outputs": []
    },
    {
      "cell_type": "markdown",
      "source": [
        "Observar que en cada iteración la variable de ciclo `n` adopta el valor de cada uno de los elementos de la lista `numeros`.\n",
        "\n",
        "Como ya se mencionó, en Python la variable de ciclo no necesariamente adopta valores numéricos enteros secuenciales, si no valores dentro de una secuencia. Esta secuencia podría ser también una cadena de caracteres, por ejemplo:"
      ],
      "metadata": {
        "id": "-oJaTsbEL1Kb"
      }
    },
    {
      "cell_type": "code",
      "source": [
        "palabra = \"Python\"\n",
        "for letra in palabra:\n",
        "    print(letra)"
      ],
      "metadata": {
        "id": "3gEZrou8L9oN"
      },
      "execution_count": null,
      "outputs": []
    },
    {
      "cell_type": "markdown",
      "source": [
        "Dentro de un ciclo `for` se puede colocar cualquier otra instrucción de control de flujo. Un caso muy común es el de incluir otro ciclo `for`, algo que habitualmente se denota como *ciclos anidados*.\n",
        "\n",
        "Por ejemplo, se requieren mostrar por consola todos los elementos de algunas listas contenidas dentro de otra lista principal, en ese caso se hace necesario primero iterar sobre la lista principal y enseguida hacerlo sobre las listas contenidas:"
      ],
      "metadata": {
        "id": "tprTXNsLMJIm"
      }
    },
    {
      "cell_type": "code",
      "source": [
        "matriz = [[-5,2,0], [9,5,6], [1,7,15]]\n",
        "for fila in matriz:\n",
        "    for elemento in fila:\n",
        "        print(elemento)"
      ],
      "metadata": {
        "id": "JF9d11mZMXeT"
      },
      "execution_count": null,
      "outputs": []
    },
    {
      "cell_type": "markdown",
      "metadata": {
        "id": "U1A8kj8Lf4f2"
      },
      "source": [
        "# Parte 6 - Operaciones aritméticas y lógicas\n",
        "---"
      ]
    },
    {
      "cell_type": "markdown",
      "source": [
        "## Operadores aritméticos\n",
        "\n",
        "Adicional a las operaciones aritméticas básicas usadas en la Parte 1 (suma, resta, multiplicación, división, etc.), hay otros operadores que también pueden ser útiles para responder ciertos problemas. \n",
        "\n",
        "\n"
      ],
      "metadata": {
        "id": "sqEeIE_f9GFP"
      }
    },
    {
      "cell_type": "code",
      "source": [
        "#Calcular el módulo (residuo de una división entera)\n",
        "a = 10%3\n",
        "print (a)"
      ],
      "metadata": {
        "id": "fzG_lQFu-vEz"
      },
      "execution_count": null,
      "outputs": []
    },
    {
      "cell_type": "code",
      "source": [
        "#Calcular xˆn (forma 1)\n",
        "a = 2**2\n",
        "print (a)"
      ],
      "metadata": {
        "id": "HsqJUoFQ-FAm"
      },
      "execution_count": null,
      "outputs": []
    },
    {
      "cell_type": "code",
      "source": [
        "#Calcular resultado entero de una división\n",
        "\n",
        "a = 15//2\n",
        "print (a)"
      ],
      "metadata": {
        "id": "eN1x4ST4gN0a"
      },
      "execution_count": null,
      "outputs": []
    },
    {
      "cell_type": "markdown",
      "source": [
        "Los operadores conocidos hasta ahora pueden usarse con el operador de asignación para simplificar las instrucciones. \n",
        "\n",
        "Se usa de la siguiente forma:\n",
        "\n",
        "variable [operador]= valor \n",
        "\n",
        "Aquí se aplica el operador a la variable involucrada. Por ejemplo,\n",
        "\n",
        "**a += 5** \n",
        "\n",
        "es equivalente a la instrucción\n",
        "\n",
        "a = a + 5\n"
      ],
      "metadata": {
        "id": "9Hx6pa4FhYMP"
      }
    },
    {
      "cell_type": "code",
      "source": [
        "#Ejemplo\n",
        "\n",
        "a = 10\n",
        "a /= 2 # --> a = a / 2\n",
        "\n",
        "print (a)"
      ],
      "metadata": {
        "id": "GH--a5dZhXQQ"
      },
      "execution_count": null,
      "outputs": []
    },
    {
      "cell_type": "markdown",
      "source": [
        "## Uso de bibliotecas\n",
        "\n",
        "También pueden usarse bibliotecas para hacer cálculos artiméticos más complejos. \n",
        "\n",
        "Tres bibliotecas comunes son math y numpy.\n",
        "\n",
        "Debe considerar que muchas de estas funciones tienen limitaciones. Por ejemplo, la función sqrt (para calcular la raíz cuadrada) solo aceptar números positivos como argumento. "
      ],
      "metadata": {
        "id": "0AhlNuLe_aGt"
      }
    },
    {
      "cell_type": "code",
      "source": [
        "#Distintas formas de calcular raíz cuadrada\n",
        "\n",
        "#Cargar bibliotecas\n",
        "import math as ma\n",
        "import numpy as np\n",
        "\n",
        "a = ma.sqrt (4)\n",
        "print (a)\n",
        "\n",
        "#No necesariamente hay que guardar en una variable el resultado si lo único que queremos es imprimir el resultado en pantalla. \n",
        "print (np.sqrt (4))"
      ],
      "metadata": {
        "id": "9rYMeHitAIQ7"
      },
      "execution_count": null,
      "outputs": []
    },
    {
      "cell_type": "markdown",
      "source": [
        "Otras operaciones incluidas en las bibliotecas pueden ser consultadas en la documentación oficial. Por ejemplo, la lista completa de las funciones de math puede consultarse [aquí](https://docs.python.org/es/3/library/math.html). "
      ],
      "metadata": {
        "id": "0GZwro0qBOzx"
      }
    },
    {
      "cell_type": "code",
      "source": [
        "#Ejemplos de funciones\n",
        "#Recordar que si la biblioteca no ha sido cargada, debe hacerse en este momento.\n",
        "\n",
        "#Valor absoluto\n",
        "print (ma.fabs(-5))\n",
        "\n",
        "#Parte entera de un número flotante - función piso\n",
        "print (ma.floor(5.9))\n",
        "\n",
        "#Siguiente número entero más próximo a un flotante - función techo\n",
        "print (ma.ceil (3.4))"
      ],
      "metadata": {
        "id": "Fx65D2SvBOIw"
      },
      "execution_count": null,
      "outputs": []
    },
    {
      "cell_type": "code",
      "source": [
        "#Ejemplos de funciones trigonométricas\n",
        "\n",
        "#Retorna el arcocoseno en radianes\n",
        "print (ma.acos(0.03))\n",
        "\n",
        "#Retorna el seno en radiones\n",
        "print (ma.sin(0.2))\n"
      ],
      "metadata": {
        "id": "gnHlSF4cTwz2"
      },
      "execution_count": null,
      "outputs": []
    },
    {
      "cell_type": "code",
      "source": [
        "#También pueden usarse las bibliotecas para obtener valores de números especiales\n",
        "\n",
        "#Aproximación de pi\n",
        "print (ma.pi)\n",
        "\n",
        "#Aproximación de e\n",
        "print (ma.e)"
      ],
      "metadata": {
        "id": "soEEeY1sW_k2"
      },
      "execution_count": null,
      "outputs": []
    },
    {
      "cell_type": "markdown",
      "source": [
        "Al hacer invocar funciones que realizan operaciones matemáticas hay que considerar el tipo de datos que devuelven. \n",
        "\n",
        "Existen funciones para hacer conversión entre tipos. Por ejemplo:\n",
        "\n",
        "\n",
        "* int() Convierte a entero\n",
        "* float() Convierte a flotante\n",
        "* bool() Devuelve False si es cero y True en el resto\n",
        "* str() Convierte a string\n",
        "\n",
        "\n"
      ],
      "metadata": {
        "id": "8RnYysUVX5MI"
      }
    },
    {
      "cell_type": "code",
      "source": [
        "#Ejemplo de conversión de tipos\n",
        "\n",
        "#Si calculamos el seno de 0.1 y lo imprimimos no hay problema\n",
        "a = 0.1\n",
        "print(ma.sin(a))\n",
        "\n",
        "\n"
      ],
      "metadata": {
        "id": "48_FbWmcb__6"
      },
      "execution_count": null,
      "outputs": []
    },
    {
      "cell_type": "code",
      "source": [
        "#... pero si intentamos ponerle una etiqueta, dará errores\n",
        "\n",
        "print (\"El seno de \" + a + \" es \" + ma.sin(a))"
      ],
      "metadata": {
        "id": "ORxu8UIUeKTS"
      },
      "execution_count": null,
      "outputs": []
    },
    {
      "cell_type": "code",
      "source": [
        "#... Para corregir el error basta con hacer la conversión a cadenas (strings) usando str\n",
        "print (\"El seno de \" + str(a) + \" es \" + str(ma.sin(a)))"
      ],
      "metadata": {
        "id": "DjNNVpdregti"
      },
      "execution_count": null,
      "outputs": []
    },
    {
      "cell_type": "markdown",
      "source": [
        "## Operadores lógicos\n",
        "\n",
        "Además de los operadores aritméticos (y las funciones trigonométricas), se pueden usar operadores lógicos. Estos se usan para tomar decisiones basados en múltiples condiciones. \n",
        "\n",
        "Los operadores son:\n",
        "\n",
        "* and: si ambas condiciones son verdaderas devuelve un Verdadero (True), sino devuelve Falso (False). \n",
        "* or: si al menos una de las condiciones es verdadera devuelve un Verdadero (True), sino devuelve Falso (False). \n",
        "* not: niega la condición (Verdadero lo convierte en Falso y viceversa)\n",
        "\n",
        "Usualmente se usan con intrucciones como el *if*, mencionado anteriormente. \n"
      ],
      "metadata": {
        "id": "PWnSMyg7k1LH"
      }
    },
    {
      "cell_type": "code",
      "source": [
        "#Ejemplo con \"and\"\n",
        "\n",
        "a = 5\n",
        "b = 0\n",
        "c = 10\n",
        "\n",
        "if (a < c) and (b < c):\n",
        "  print (\"Ambas condiciones son verdaderas\")\n",
        "else:\n",
        "  print (\"Al menos una de las condiciones es falsa\")"
      ],
      "metadata": {
        "id": "LQCMlwVtmxLY"
      },
      "execution_count": null,
      "outputs": []
    },
    {
      "cell_type": "code",
      "source": [
        "#Ejemplo con \"or\"\n",
        "\n",
        "a = 5\n",
        "b = 0\n",
        "c = 10\n",
        "\n",
        "if (a < c) or (b < c):\n",
        "  print (\"Ambas condiciones son verdaderas\")\n",
        "else:\n",
        "  print (\"Al menos una de las condiciones es falsa\")\n",
        "\n",
        "#Note que el resultado es igual al anterior"
      ],
      "metadata": {
        "id": "1o7qgn3WngUu"
      },
      "execution_count": null,
      "outputs": []
    },
    {
      "cell_type": "code",
      "source": [
        "#Ejemplo con \"and\"\n",
        "\n",
        "a = 5\n",
        "b = 0\n",
        "c = 10\n",
        "\n",
        "if (a > c) and (b < c):\n",
        "  print (\"Ambas condiciones son verdaderas\")\n",
        "else:\n",
        "  print (\"Al menos una de las condiciones es falsa\")"
      ],
      "metadata": {
        "id": "rM3LqhgTntwj"
      },
      "execution_count": null,
      "outputs": []
    },
    {
      "cell_type": "markdown",
      "source": [
        "## Ejercicio\n",
        "\n",
        "Suponga que deseamos hacer un programa que indique el porcentaje que una persona debe pagar de impuestos sobre su salario. \n",
        "\n",
        "Los porcentajes de impuestos según el monto son: \n",
        "\n",
        "* Hasta ₡ 863.000,00 --> No paga impuestos\n",
        "\n",
        "* De ₡ 863.000,00 a ₡1.267.000,00 --> 10%\n",
        "\n",
        "* De ₡ 1.267.000,00 a ₡ 2.223.000,00 --> 15%\n",
        "\n",
        "* De ₡ 2.223.000,00 a ₡ 4.445.000,00 --> 20%\n",
        "\n",
        "* Sobre el exceso de ₡ 4.445.000,00 --> 25%\n",
        "\n",
        "Usando las instrucciones vistas hasta el momento, utilice el siguiente espacio para programar lo solicitado.  "
      ],
      "metadata": {
        "id": "SxuLHuZgofUc"
      }
    },
    {
      "cell_type": "code",
      "source": [
        "#Programa su ejercicio aquí\n",
        "\n",
        "#Puede suponer la siguiente variable:\n",
        "salario = 760000.0\n",
        "\n",
        "#Agregar su código a partir de aquí..."
      ],
      "metadata": {
        "id": "gtelwFfEq2gh"
      },
      "execution_count": null,
      "outputs": []
    },
    {
      "cell_type": "markdown",
      "source": [
        "\n",
        "# Parte 7 - Procesamiento de cadenas de texto\n",
        "---"
      ],
      "metadata": {
        "id": "O-MDNx6OXuZc"
      }
    },
    {
      "cell_type": "markdown",
      "source": [
        "## Introducción\n",
        "\n",
        "Procesar una cadena de texto (*strings*) en Python puede realizarse de múltiples formas. Aquí vamos a hacer un repaso por una de esas formas. \n",
        "\n",
        "Para representar cadenas de texto se pueden usar tanto comillas simples, como comillas dobles:\n",
        "\n",
        "* 'hola'\n",
        "* \"hola\"\n",
        "\n",
        "También pueden definirse cadenas de más de una línea usando triple comilla simple:\n",
        "\n",
        "'''hola\n",
        "\n",
        "de nuevo'''\n",
        "\n"
      ],
      "metadata": {
        "id": "k88wCK796sHx"
      }
    },
    {
      "cell_type": "code",
      "source": [
        "#Asignación de cadenas de caracteres a variables\n",
        "a = \"hola\"\n",
        "b = \"mundo\"\n",
        "\n",
        "print (a+b)\n",
        "\n",
        "a = '''uno, \n",
        "dos, \n",
        "tres, \n",
        "...'''\n",
        "\n",
        "print (a)"
      ],
      "metadata": {
        "id": "3VHZrGOQ71-X"
      },
      "execution_count": null,
      "outputs": []
    },
    {
      "cell_type": "code",
      "source": [
        "#Conocer si una subcadena está presente en una cadena\n",
        "\n",
        "a = \"La casa es roja y el portón azul.\"\n",
        "\n",
        "#Forma 1:\n",
        "print(\"roja\" in a)\n",
        "\n",
        "#Forma 2:\n",
        "if \"roja\" in a:\n",
        "  print(\"Sí, la palabra 'roja' está en la frase.\")\n",
        "\n",
        "if \"verde\" not in a:\n",
        "  print(\"Sí, la palabra 'verde' NO está en la frase.\")"
      ],
      "metadata": {
        "id": "TzICPDvN73X0"
      },
      "execution_count": null,
      "outputs": []
    },
    {
      "cell_type": "markdown",
      "source": [
        "Las cadenas de caracteres se representan internamente en Python como listas (las mismas que se mencionaron en la Parte 5). "
      ],
      "metadata": {
        "id": "oiU5O0eK90Lz"
      }
    },
    {
      "cell_type": "code",
      "source": [
        "#Ejemplo para obtener nos caracteres entre el 2 y el 6 (comenzando a contar en cero)\n",
        "a = \"Hola mundo!\"\n",
        "print(a[2:6])"
      ],
      "metadata": {
        "id": "1BUAFfPv9rsb"
      },
      "execution_count": null,
      "outputs": []
    },
    {
      "cell_type": "code",
      "source": [
        "#Ejemplo para obtener todos los caracteres desde el inicio hasta el sexto\n",
        "a = \"Hola mundo!\"\n",
        "print(a[:6])\n",
        "\n",
        "#Ejemplo para obtener desde el segundo caracter hasta el final\n",
        "print(a[2:])"
      ],
      "metadata": {
        "id": "fQjE_cIO-Z3C"
      },
      "execution_count": null,
      "outputs": []
    },
    {
      "cell_type": "markdown",
      "source": [
        "## Funciones\n",
        "\n",
        "Se pueden invocar distintas funciones para transformar las cadenas de caracteres. Una lista detallada con más funciones puede encontrarla [aquí](https://www.w3schools.com/python/python_strings_methods.asp)"
      ],
      "metadata": {
        "id": "ueQPw8Jt-5Wm"
      }
    },
    {
      "cell_type": "code",
      "source": [
        "#Convertir todo a minúscula\n",
        "a = \"Hola Mundo!\"\n",
        "print(a.lower())\n",
        "\n",
        "#Note que la variable \"a\" no fue modificada. Si la volvemos a imprimir, las mayúsculas siguen existiendo\n",
        "print(a)\n",
        "\n",
        "#Esto cambiaría la variable a minúscula\n",
        "a = a.lower()\n",
        "print(a)"
      ],
      "metadata": {
        "id": "M8-jdvd9_yK6"
      },
      "execution_count": null,
      "outputs": []
    },
    {
      "cell_type": "code",
      "source": [
        "#Convertir a mayúscula\n",
        "a = \"Hola mundo!\"\n",
        "print(a.upper())\n",
        "\n",
        "#Estas funciones se pueden combinar con las facilidades de listas que mencionamos anteriormente\n",
        "print(a[:6].upper())\n",
        "\n",
        "#Convertir a mayúscula solo la primera letra\n",
        "a = \"hoy es miércoles.\"\n",
        "print(a.capitalize())"
      ],
      "metadata": {
        "id": "v_BIQoeXAVMu"
      },
      "execution_count": null,
      "outputs": []
    },
    {
      "cell_type": "code",
      "source": [
        "#La función strip elimina espacios al inicio de una cadena\n",
        "a = \"      Hola mundo! \"\n",
        "print(a)\n",
        "print(a.strip())"
      ],
      "metadata": {
        "id": "58QkCTGyAw5-"
      },
      "execution_count": null,
      "outputs": []
    },
    {
      "cell_type": "code",
      "source": [
        "#Reemplazo de subcadenas dentro de otra\n",
        "\n",
        "a = \"Hola mundo!\"\n",
        "print(a.replace(\"Hola\", \"Hello\"))"
      ],
      "metadata": {
        "id": "aS7sFq8yBP85"
      },
      "execution_count": null,
      "outputs": []
    },
    {
      "cell_type": "code",
      "source": [
        "#Puede separarse la cadena de caracteres en una lista de palabras, usando un separador definido por el programador. \n",
        "\n",
        "a = \"La casa es roja y el portón azul.\"\n",
        "print(a.split(\" \")) # Si no se agrega ningún parámetro, por omisión será el espacio en blanco"
      ],
      "metadata": {
        "id": "yE9AXN_aBjNe"
      },
      "execution_count": null,
      "outputs": []
    },
    {
      "cell_type": "markdown",
      "source": [
        "No es posible combinar variables de tipo numérico con cadenas de caracteres (tal y como lo hemos descrito). "
      ],
      "metadata": {
        "id": "5ArlkcDOCJ7O"
      }
    },
    {
      "cell_type": "code",
      "source": [
        "dia = 21\n",
        "\n",
        "#frase = \"hoy es miércoles \" + dia #esta línea produce un error. \n",
        "\n",
        "#podemos arreglarla usando la función de conversión que mencionamos antes (str)\n",
        "frase = \"hoy es miércoles \" + str(dia)\n",
        "print(frase)"
      ],
      "metadata": {
        "id": "c2Vff8tBCVx5"
      },
      "execution_count": null,
      "outputs": []
    },
    {
      "cell_type": "code",
      "source": [
        "#... pero también podemos usar la función format\n",
        "día = 21\n",
        "mes = \"octubre\"\n",
        "año = 2022\n",
        "frase = \"Hoy es miércoles {} de {} del año {}.\"\n",
        "\n",
        "print(frase.format(día,mes,año))"
      ],
      "metadata": {
        "id": "k093T7kNC50F"
      },
      "execution_count": null,
      "outputs": []
    },
    {
      "cell_type": "code",
      "source": [
        "#Uso de caracteres especiales: al igual que en otros lenguajes de programación, se pueden \"escapar\" caracteres especiales. \n",
        "\n",
        "#frase = \"Qué \"bonita\" fiesta!\" #si deseo entrecomillar \"bonita\" así me da error\n",
        "\n",
        "#Para solucionarlo podemos escapar las comillas\n",
        "frase = \"Qué \\\"bonita\\\" fiesta!\" \n",
        "print(frase)\n",
        "\n",
        "#Un caracter múy útil es el cambio de línea \\n\n",
        "print(\"Inicio\\n\" + frase + \"\\nFin\")"
      ],
      "metadata": {
        "id": "aj8v1KXTDtOi"
      },
      "execution_count": null,
      "outputs": []
    },
    {
      "cell_type": "markdown",
      "source": [
        "## Ejercicio\n",
        " \n",
        "Usando las operaciones, instrucciones y funciones de cadenas de caracteres que vimos, haga lo siguiente\n",
        "* guarde en una variable su nombre completo con apellidos, todo en minúscula, \n",
        "* cambie la primera letra de cada palabra a mayúscula, \n",
        "* imprima su nombre. \n",
        "\n",
        "Ejemplo, si la variable es\n",
        "\n",
        "nombre = \"maría soto aguilar\"\n",
        "\n",
        "Después de ejecutar las instrucciones apropiadas deberá imprimirse:\n",
        "\n",
        "\"María Soto Aguilar\""
      ],
      "metadata": {
        "id": "oKNIjE6FGUQn"
      }
    },
    {
      "cell_type": "code",
      "source": [
        "\n",
        "nombre = \"...\"\n",
        "\n",
        "#Su código aquí\n",
        "\n",
        "\n",
        "print(nombre)"
      ],
      "metadata": {
        "id": "Hsi5kOxYIsCR"
      },
      "execution_count": null,
      "outputs": []
    },
    {
      "cell_type": "markdown",
      "metadata": {
        "id": "BCgMyEAVf4f2"
      },
      "source": [
        "# Parte 8 - Entradas y salidas\n",
        "---"
      ]
    },
    {
      "cell_type": "markdown",
      "source": [
        "\n",
        "\n",
        "Para solicitar datos al usuario se utiliza la función input. \n",
        "\n",
        "Para mostrar datos en consola se usa print, la función que hemos venido usando en esta práctica. "
      ],
      "metadata": {
        "id": "r4CV5MPULMjm"
      }
    },
    {
      "cell_type": "code",
      "source": [
        "nombre = input (\"Escriba su nombre: \")\n",
        "número = input (\"Digite su número favorito: \")\n",
        "\n",
        "print (\"Su nombre es \" + nombre + \" y su número favorito es el \" + número)"
      ],
      "metadata": {
        "id": "cMH7_n4-LVKb"
      },
      "execution_count": null,
      "outputs": []
    },
    {
      "cell_type": "code",
      "source": [
        "#... también puede usarse la función format que aprendimos antes\n",
        "nombre = input (\"Escriba su nombre: \")\n",
        "número = input (\"Digite su número favorito: \")\n",
        "\n",
        "frase = \"Su nombre es {} y su número favorito es el {}\"\n",
        "\n",
        "print (frase.format(nombre, número))\n"
      ],
      "metadata": {
        "id": "-X3ASZ73MlAV"
      },
      "execution_count": null,
      "outputs": []
    },
    {
      "cell_type": "code",
      "source": [
        "#Forma alternativa de armar la frase usando format\n",
        "nombre = input (\"Escriba su nombre: \")\n",
        "número = input (\"Digite su número favorito: \")\n",
        "\n",
        "frase = \"Su nombre es {nom} y su número favorito es el {num}\".format(nom = nombre, num = número)\n",
        "\n",
        "print (frase)"
      ],
      "metadata": {
        "id": "BWwphXVeNVzB"
      },
      "execution_count": null,
      "outputs": []
    },
    {
      "cell_type": "code",
      "source": [
        "#format puede usarse también para el formato de los números\n",
        "\n",
        "#Por definición, cualquier valor que se lea usando input, siempre será una cadena de caracteres\n",
        "#Si se desea almacenar como número, se debe usar la función que convierta al tipo de número respectivo. \n",
        "precio = float(input (\"Digite un monto entero: \"))\n",
        "\n",
        "#Una vez que se ha definido como número, se puede formatear para que, por ejemplo, se imprima con dos valores decimales. \n",
        "print (\"El monto es {p:.2f}\".format(p=precio))"
      ],
      "metadata": {
        "id": "fVMb6CieOk6J"
      },
      "execution_count": null,
      "outputs": []
    },
    {
      "cell_type": "code",
      "source": [
        "#Es posible leer valores para varias variables usando input\n",
        "\n",
        "nombre, apellido = input(\"Digite su nombre y apellido: \").split() #la separación entre variables siempre será el espacio\n",
        "print (\"Soy {} {}\".format(nombre, apellido))"
      ],
      "metadata": {
        "id": "AJZg9AHdQOGJ"
      },
      "execution_count": null,
      "outputs": []
    },
    {
      "cell_type": "code",
      "source": [
        "#Con print también se pueden imprimir varias variables usando un separador definido por el programador\n",
        "\n",
        "nombre, apellido = input(\"Digite su nombre y apellido: \").split() #la separación entre variables siempre será el espacio\n",
        "print (nombre, apellido, sep=\"*\")"
      ],
      "metadata": {
        "id": "wSchk_uVReAm"
      },
      "execution_count": null,
      "outputs": []
    },
    {
      "cell_type": "code",
      "source": [
        "#Es posible escribir texto justificándolo a la derecha, izquierda o centro respecto a una cantidad específica de \n",
        "#caracteres (20 en este ejemplo)\n",
        "\n",
        "nombre = input (\"Digite su nombre: \")\n",
        "\n",
        "#\\n agrega un cambio de línea\n",
        "print(\"Justificación a la izquierda\\n\", nombre.ljust(20, \"*\"))\n",
        "print(\"Justificación a la derecha\\n\", nombre.rjust(20, \"*\"))\n",
        "print(\"justificación centrada\\n\", nombre.center(20, \"*\"))"
      ],
      "metadata": {
        "id": "IhRL1BAnSCpg"
      },
      "execution_count": null,
      "outputs": []
    },
    {
      "cell_type": "markdown",
      "metadata": {
        "id": "CvYPmjYUf4f2"
      },
      "source": [
        "# Parte 9 - Funciones\n",
        "---"
      ]
    },
    {
      "cell_type": "markdown",
      "source": [
        "## Definición\n",
        "\n",
        "Una función es una estructura que permite agrupar código.\n",
        "\n",
        "Algunos beneficios de usar funciones:\n",
        "1. Evitar repetición de trozos de código en el programa.\n",
        "1. Reutilizar el código de las funciones para distintas situaciones.\n",
        "1. Estandarizar el programa haciendo funciones pequeñas con tareas muy específicas. \n",
        "\n",
        "La estructura de una función sera :\n",
        "\n",
        "- nombre de función\n",
        "- parámetros\n",
        "- valor de retorno\n",
        "\n",
        "```\n",
        "def nombre_de_funcion(parametros):\n",
        "    valor_retorno = procedimiento(parametros)\n",
        "    return valor_retorno\n",
        "\n",
        "```"
      ],
      "metadata": {
        "id": "Ij4vu3LG0Tr-"
      }
    },
    {
      "cell_type": "markdown",
      "source": [
        "## Declaración de una función\n",
        "\n",
        "Para declarar la función seguimos la estructura base que ya estudiamos. En este ambiente de `Notebooks` es necesario ejecutar la celda de código para instanciar la nueva función antes de poder utilizarla."
      ],
      "metadata": {
        "id": "wR8FTqGeuWuK"
      }
    },
    {
      "cell_type": "code",
      "source": [
        "def mi_primer_funcion():    \n",
        "    print (\"Hola Mundo desde una función\") \n",
        "    "
      ],
      "metadata": {
        "id": "klR0jxC90q3U"
      },
      "execution_count": null,
      "outputs": []
    },
    {
      "cell_type": "markdown",
      "source": [
        "Para utilizar la nueva función en nuestros programas solo debemos invocarla."
      ],
      "metadata": {
        "id": "rEiPUEPn00kS"
      }
    },
    {
      "cell_type": "code",
      "source": [
        "mi_primer_funcion()"
      ],
      "metadata": {
        "id": "krsDkOlI03E0"
      },
      "execution_count": null,
      "outputs": []
    },
    {
      "cell_type": "markdown",
      "source": [
        "**Atención**\n",
        "\n",
        "¿Qué ocurre si invocamos una función antes de instanciarla?"
      ],
      "metadata": {
        "id": "_nsXeSwJ1cX5"
      }
    },
    {
      "cell_type": "code",
      "source": [
        "mi_segunda_funcion() \n",
        "\n",
        "def mi_segunda_funcion():\n",
        "    print (\"Hola Mundo desde una función!\")"
      ],
      "metadata": {
        "id": "16gBuQIz1sXU"
      },
      "execution_count": null,
      "outputs": []
    },
    {
      "cell_type": "markdown",
      "source": [
        "## Argumentos y parámetros\n",
        "\n",
        "En la definición de una función, los valores que se reciben se denominan **parámetros**, pero durante la llamada los valores que se envían se denominan **argumentos**.\n",
        "\n",
        "Muchas veces estos términos se usan de manera intercambiable, pero es importante conocer la diferencia.\n",
        "\n",
        "Un parámetro es una variable en la definición de una función. Es sólamente un símbolo y por eso no tiene un valor concreto. \n",
        "\n",
        "Un argumento en cambio es un valor que se le pasa a la función en la invocación. Poro decirlo de este modo, un argumento llena el campo que tiene reservado para él un parámetro. \n",
        "\n",
        "```\n",
        "def sumar(x,y):     # x, y son parámetros\n",
        "  return x+y\n",
        "\n",
        "sumar(5+8)          # 5, 8 son argumentos\n",
        "```\n",
        "Veamos un ejemplo de una función parametrizable."
      ],
      "metadata": {
        "id": "IuODkYsk2E1f"
      }
    },
    {
      "cell_type": "code",
      "source": [
        "def presentarse(nombre):\n",
        "    print(\"Hola! Soy {} y me siento feliz con el curso de hoy.\".format(nombre))\n",
        "\n",
        "presentarse(\"Ana\")"
      ],
      "metadata": {
        "id": "uNc1YjH03MJl"
      },
      "execution_count": null,
      "outputs": []
    },
    {
      "cell_type": "markdown",
      "source": [
        "Y esta función la podemos utilizar con distintos argumentos. "
      ],
      "metadata": {
        "id": "WpN86GHS71dT"
      }
    },
    {
      "cell_type": "code",
      "source": [
        "presentarse(\"Ronny\")"
      ],
      "metadata": {
        "id": "ZcuAHkWe7y_Q"
      },
      "execution_count": null,
      "outputs": []
    },
    {
      "cell_type": "markdown",
      "source": [
        "Las funciones pueden tener múltiples parámetros. En este caso los separamos por comas."
      ],
      "metadata": {
        "id": "F3nbxhXk8J3e"
      }
    },
    {
      "cell_type": "code",
      "source": [
        "def presentarse(nombre, estado):\n",
        "    print(\"Hola! Soy {} y me siento {} con el curso de hoy.\".format(nombre, estado))\n",
        "\n",
        "presentarse(\"Ana\", \"feliz\")\n",
        "presentarse(\"Ronny\", \"motivado\")"
      ],
      "metadata": {
        "id": "dyJuJcfb8Kdf"
      },
      "execution_count": null,
      "outputs": []
    },
    {
      "cell_type": "markdown",
      "source": [
        "Ejemplo de una función para calcular el volúmen de un cilindro."
      ],
      "metadata": {
        "id": "GklZgQun9Sn6"
      }
    },
    {
      "cell_type": "code",
      "source": [
        "import math\n",
        "\n",
        "def volumenCilindro(radio, altura):\n",
        "  return math.pi * (pow(radio,2)) * altura\n",
        "\n",
        "print (volumenCilindro(1,1))\n",
        "print (volumenCilindro(1,10))\n",
        "print (volumenCilindro(10,1))"
      ],
      "metadata": {
        "id": "JnIDrCYc9RTM"
      },
      "execution_count": null,
      "outputs": []
    },
    {
      "cell_type": "markdown",
      "source": [
        "Naturalmente, se puede invocar una función y guardar el resutado en una variable para posteriormente utilizar dicha variable en otra operación. "
      ],
      "metadata": {
        "id": "VgIArVpHAdDA"
      }
    },
    {
      "cell_type": "code",
      "source": [
        "volumen1 = volumenCilindro(3,5)\n",
        "volumen2 = volumenCilindro(7,10)\n",
        "\n",
        "print(\"El volumen total que tenemos es: \", str(math.floor(volumen1 + volumen2)))"
      ],
      "metadata": {
        "id": "DWmXGBoPApQ0"
      },
      "execution_count": null,
      "outputs": []
    },
    {
      "cell_type": "markdown",
      "source": [
        "## Alcance o ámbito de las variables\n",
        "\n",
        "En `Python` (y en general también en otros lenguajes de programación), las variables se encuentran confinadas dentro de un espacio. El término en inglés es _scope_ y en castellano se puede traducir como ámbito o alcance. \n",
        "\n",
        "Hay dos tipos de alcance, **global** y **local**. "
      ],
      "metadata": {
        "id": "8-oKuXWABqX1"
      }
    },
    {
      "cell_type": "markdown",
      "source": [
        "Una variable **global** se puede invocar en cualqueir parte del programa. Es decir, se puede invocar incluso desde adentro de muchas funciones. "
      ],
      "metadata": {
        "id": "F4QP4FjJD-wq"
      }
    },
    {
      "cell_type": "code",
      "source": [
        "varGlobal = \"Esta es una variable global\" \n",
        "\n",
        "def funcion1():     # declaración\n",
        "    print(varGlobal)\n",
        "\n",
        "funcion1()          # invocación\n",
        "\n",
        "def funcion2():     # declaración\n",
        "    print(varGlobal)\n",
        "\n",
        "funcion2()          # invocación\n",
        "\n",
        "\n",
        "print(varGlobal)            # uso de la variable global  "
      ],
      "metadata": {
        "id": "fHvfw8hnD1TH"
      },
      "execution_count": null,
      "outputs": []
    },
    {
      "cell_type": "markdown",
      "source": [
        "Una variable **local** únicamente existe dentro del cuerpo de la función donde esta se declara. \n",
        "\n"
      ],
      "metadata": {
        "id": "Z8teIJ0lEmNL"
      }
    },
    {
      "cell_type": "code",
      "source": [
        "def funcion():\n",
        "  varLocal = \"Esta es una variable local\"      \n",
        "  print(varLocal)\n",
        "\n",
        "funcion()\n"
      ],
      "metadata": {
        "id": "uUovAy7gEwY9"
      },
      "execution_count": null,
      "outputs": []
    },
    {
      "cell_type": "markdown",
      "source": [
        "Si se invoca una variable local fuera de la función donde esta se declaró el sistema genera un error."
      ],
      "metadata": {
        "id": "6i6TpQuBFLv4"
      }
    },
    {
      "cell_type": "code",
      "source": [
        "print(varLocal)"
      ],
      "metadata": {
        "id": "2Mw0RW4OFY6X"
      },
      "execution_count": null,
      "outputs": []
    },
    {
      "cell_type": "markdown",
      "source": [
        "Se puede crear una variable **local** con el mismo nombre de una variable **global**, pero `Python; lo verá como 2 variables distintas."
      ],
      "metadata": {
        "id": "xxeuDv3nEwi9"
      }
    },
    {
      "cell_type": "code",
      "source": [
        "miVariable = \"Esta es una variable global\" \n",
        "\n",
        "def funcion():\n",
        "  miVariable = \"Esta es una variable local\"      \n",
        "  print(miVariable)\n",
        "\n",
        "funcion()             # utilizará la variable local \n",
        "\n",
        "print(miVariable)     # utilizará la variable global"
      ],
      "metadata": {
        "id": "9TNsRukLFmAH"
      },
      "execution_count": null,
      "outputs": []
    },
    {
      "cell_type": "markdown",
      "source": [
        "🚫 Lo siguiente **NO** es una buena práctica de programación. 🚫\n",
        "\n",
        "Pero algunos lenguajes de programación permiten utilizar una variable global dentro del ámbito de una función. \n",
        "\n",
        "No se lo recomendamos pero en `Python` esto se puede hacer con la palabra reservada **`global`**"
      ],
      "metadata": {
        "id": "h1iVs8xcF9lv"
      }
    },
    {
      "cell_type": "code",
      "source": [
        "def funcion():\n",
        "    global var\n",
        "    var = 'Esta es una variable local que asignamos como global'\n",
        "    \n",
        "funcion()\n",
        "\n",
        "print(var)"
      ],
      "metadata": {
        "id": "Vsl0a6dNHqx_"
      },
      "execution_count": null,
      "outputs": []
    },
    {
      "cell_type": "markdown",
      "source": [
        "De la misma manera una función puede cambiar el valor de una variable que había sido declarada como global."
      ],
      "metadata": {
        "id": "aYL9W5r_H2NT"
      }
    },
    {
      "cell_type": "code",
      "source": [
        "var = \"Esta es una variable global\" \n",
        "\n",
        "def funcion():\n",
        "    global var\n",
        "    var = 'Ahora es una variable local'\n",
        "    print(var)\n",
        "\n",
        "print(var)\n",
        "    \n",
        "funcion()\n",
        "\n",
        "print(var)"
      ],
      "metadata": {
        "id": "FS4EKW2xH9Ve"
      },
      "execution_count": null,
      "outputs": []
    },
    {
      "cell_type": "markdown",
      "source": [
        "## Documentación de funciones\n",
        "\n",
        "Consiste en crear documentación, es decir, una explicación de aquello que hace una función. En algunos casos, es importante agregar más detalles que indiquen cómo es que la función realiza su tarea. Otras veces no es tan necesario si la función es considerada como simple.\n",
        "\n",
        "Para documentar en `Python` se utiliza el llamado `DOCSTRING` que consiste en cadenas texto literal que se colocan justo después de la definición de una función. Veamos un ejempo."
      ],
      "metadata": {
        "id": "xYs9xpfZT0EM"
      }
    },
    {
      "cell_type": "code",
      "source": [
        "def raiz_cuadrada(n):\n",
        "    '''Recibe un número n, retorna la raíz cuadrada de n'''\n",
        "    return n**2"
      ],
      "metadata": {
        "id": "42xr-TI6UzXz"
      },
      "execution_count": null,
      "outputs": []
    },
    {
      "cell_type": "code",
      "source": [
        "def area_rectangulo(ancho,alto):\n",
        "    '''(number, number)-> number\n",
        "    Devuelve el área del réctangulo al pasarle su ancho y su alto\n",
        "    '''\n",
        "    area=ancho*alto\n",
        "    return area"
      ],
      "metadata": {
        "id": "ATazt1AAUQSn"
      },
      "execution_count": null,
      "outputs": []
    },
    {
      "cell_type": "code",
      "source": [
        "help(raiz_cuadrada)\n",
        "help(area_rectangulo)"
      ],
      "metadata": {
        "id": "mulYw_cpU_QT"
      },
      "execution_count": null,
      "outputs": []
    },
    {
      "cell_type": "markdown",
      "source": [
        "La documentación puede ser más detallada según se necesite. Por ejemplo, puede incluir una descripción y ejemplos de uso de la función. "
      ],
      "metadata": {
        "id": "yj8_qyE0VOd3"
      }
    },
    {
      "cell_type": "code",
      "source": [
        "def area_rectangulo(ancho,alto):    \n",
        "    '''(number, number)-> number #Type Contract\n",
        "    Devuelve el área del réctangulo al pasarle su ancho y su alto \n",
        "    >>>area_rectangulo(5,7)\n",
        "    35   \n",
        "    >>>area_rectangulo(3.5, 5.7)\n",
        "    19.95   \n",
        "    ''' \n",
        "    area=ancho*alto \n",
        "    return area"
      ],
      "metadata": {
        "id": "HHabTddWVRk5"
      },
      "execution_count": null,
      "outputs": []
    },
    {
      "cell_type": "code",
      "source": [
        "help(area_rectangulo)"
      ],
      "metadata": {
        "id": "jXC62gCmVjHh"
      },
      "execution_count": null,
      "outputs": []
    },
    {
      "cell_type": "markdown",
      "source": [
        "## Ejercicios\n",
        "\n",
        "Como práctica le recomendamos hacer estos ejercicios con funciones."
      ],
      "metadata": {
        "id": "E7vSA4CwIibA"
      }
    },
    {
      "cell_type": "markdown",
      "source": [
        "1. Teoréma de Pitágoras. Cree una función `hipotenusa` que calcule la medida de la hipotenusa de un triángulo rectángulo recibiendo el valor de los dos catetos. \n"
      ],
      "metadata": {
        "id": "hWB5vZ4ORKHl"
      }
    },
    {
      "cell_type": "code",
      "source": [
        "def hipotenusa(cateto1, cateto2):\n",
        "  return 0    # su código aquí"
      ],
      "metadata": {
        "id": "dfnsOiPcRuzO"
      },
      "execution_count": null,
      "outputs": []
    },
    {
      "cell_type": "markdown",
      "source": [
        "2. Email válido o inválido. Cree una función que capture el **email** de alguien, y buscando el carácter **\"@\"** identifique si la dirección es válida o no."
      ],
      "metadata": {
        "id": "-9SPpnMCRwLU"
      }
    },
    {
      "cell_type": "code",
      "source": [
        "def validarEmail(email):\n",
        "  return True     # su código aquí"
      ],
      "metadata": {
        "id": "i5cM1_3BSIHL"
      },
      "execution_count": null,
      "outputs": []
    },
    {
      "cell_type": "markdown",
      "source": [
        "3. Las siguientes son distancias aproximadas entre el planeta tierra y otros planetas del sistema solar. Cree una función que pregunte al usuario cuál distancia quiere conocer y le imprima el dato como respuesta. Si el usuario pregunta por un planeta no conocido la respuesta es algo como `\"Lo siento, no tengo ese planeta en la base de datos.\"` \n",
        "\n",
        "|Planeta | Distancia (Km)\n",
        "---|---\n",
        "mercurio| 91.690.000\n",
        "venus | 42.000.000\n",
        "marte | 69.000.000\n",
        "júpiter | 591.000.000\n",
        "saturno |1.200.000.000\n",
        "\n"
      ],
      "metadata": {
        "id": "clpWTVhmUMLb"
      }
    },
    {
      "cell_type": "code",
      "source": [
        "def distanciaConLaTierra():\n",
        "  distancia = 0\n",
        "  planeta = \"\"                # haga que el usuario ingrese el nombre del planeta\n",
        "  # su código aquí\n",
        "\n",
        "  return distancia\n",
        "\n",
        "distanciaConLaTierra()"
      ],
      "metadata": {
        "id": "BnA_dRAXVzyj"
      },
      "execution_count": null,
      "outputs": []
    },
    {
      "cell_type": "markdown",
      "metadata": {
        "id": "A4PPEPvQf4f3"
      },
      "source": [
        "# Parte 10 - Depuración y manejos de errores\n",
        "---\n",
        "\n",
        "En un programa podemos encontrar al menos tres tipos de errores: \n",
        "1. **Errores de sintaxis**: Son los más fáciles de encontrar ya que ocurren cuando escribimos mal alguna palabra del programa, como escribir mal un nombre reservado (e.g. `fore` en vez de `for`\n",
        ", o `fi` en vez e `if`, etc.) Normalmente el intérprete del programa en `Pyhton` lo detectará y nos presenta un error de tipo _`SyntaxError`_.\n",
        "1. **Errores semánticos**: Estos normalmente ocurren cuando estamos desarrollando el programa. Quizá el programa inicia y termina sin generar ningún mensaje de error, pero no produce el resultado que se espera. Por ejemplo, utilizamos un algoritmo incorrecto, omitimos alguna línea de código, cambiamos el valor de una variable equivocadamente, etc. \n",
        "1. **Errores de ejecución**: Este tipo de error es muy muy diverso. Básicamente incluye cualquier error que no es de los anteriores y que se evidencia solamente cuando el programa está en ejecución. Por ejemplo, en la siguiente operación de división,  $$resultado = \\frac{dividendo}{divisor}$$ si el valor de la variable `divisor` es igual a `0`, el sistema produce un error el tiempo de ejecución y se detiene. Otro caso podría ocurrir al acceder al décimo elemento de una lista que tiene solo 5 elementos. "
      ]
    },
    {
      "cell_type": "markdown",
      "source": [
        "Los errores del primer tipo **Sintaxis** son fáciles de encontrar ya que mientras estén presentes el programa normalmente no corre, es decir, ni tal siquiera lo podemos ejecutar.\n",
        "\n",
        "Los erroes **Semánticos** también suelen ser fáciles de detectar, ya que basta con correr el programa con un conjunto de entradas y validar que se produzca la salida esperada. \n",
        "\n",
        "Los errores de **ejecución** sin embargo debemos manejarlos mediante otras estrategias. Veamos algunas."
      ],
      "metadata": {
        "id": "ypABPVU-QdU2"
      }
    },
    {
      "cell_type": "markdown",
      "source": [
        "## Manejo de Excepciones\n",
        "\n",
        "Los errores de ejecución son llamados comúnmente excepciones. Ocurren si dentro de una función surge una excepción y la función no la maneja, la excepción se propaga hacia la función que la invocó, si esta otra tampoco la maneja, la excepción continua propagándose hasta llegar a la función inicial del programa y si esta tampoco la maneja se interrumpe la ejecución del programa. "
      ],
      "metadata": {
        "id": "GHPMJw014s6V"
      }
    },
    {
      "cell_type": "markdown",
      "source": [
        "En el caso de `Python`, el manejo de excepciones se hace mediante los bloques que utilizan las sentencias `try` y `except`."
      ],
      "metadata": {
        "id": "R5Hu4qUw5Dsj"
      }
    },
    {
      "cell_type": "code",
      "source": [
        "dividendo = 100\n",
        "divisor = 0\n",
        "\n",
        "try:\n",
        "  cociente = dividendo / divisor\n",
        "except:\n",
        "  print(\"No se permite la división por cero\")"
      ],
      "metadata": {
        "id": "0LIKQ0CR5cV2"
      },
      "execution_count": null,
      "outputs": []
    },
    {
      "cell_type": "markdown",
      "source": [
        "Dado que dentro de un mismo bloque `try` pueden producirse excepciones de distinto tipo, es posible utilizar varios bloques `except`, cada uno para capturar un tipo distinto de excepción"
      ],
      "metadata": {
        "id": "xoEHM_s45sJE"
      }
    },
    {
      "cell_type": "markdown",
      "source": [
        "\n",
        "\n",
        "```\n",
        "try:\n",
        "    # aquí ponemos el código que puede lanzar excepciones\n",
        "except IOError:\n",
        "    # entrará aquí en caso que se haya producido\n",
        "    # una excepción IOError\n",
        "except ZeroDivisionError:\n",
        "    # entrará aquí en caso que se haya producido\n",
        "    # una excepción ZeroDivisionError\n",
        "    \n",
        "```\n",
        "\n"
      ],
      "metadata": {
        "id": "Io3yvMN1517v"
      }
    },
    {
      "cell_type": "code",
      "source": [
        "try:\n",
        "    # Posible error de ES\n",
        "    archivo = open(\"miarchivo.txt\")\n",
        "    \n",
        "    # Posible error de división por cero\n",
        "    dividendo = 100\n",
        "    divisor = 10\n",
        "    cociente = dividendo / divisor\n",
        "except IOError:\n",
        "  print(\"Error de entrada/salida.\")\n",
        "except ZeroDivisionError:\n",
        "    # entrará aquí en caso que se haya producido\n",
        "    # una excepción ZeroDivisionError\n",
        "    print(\"No se permite la división por cero\")"
      ],
      "metadata": {
        "id": "1Rpe1Oty5vBE"
      },
      "execution_count": null,
      "outputs": []
    },
    {
      "cell_type": "markdown",
      "source": [
        "## Validación de entradas\n",
        "\n",
        "Las validaciones son técnicas que permiten asegurar que los valores con los que se vaya a operar estén dentro de determinado dominio.\n",
        "\n",
        "Estas técnicas son particularmente importantes al momento de utilizar entradas del usuario o de un archivo (o entradas externas en general) en nuestro código, y también se las utiliza para comprobar precondiciones. Al uso intensivo de estas técnicas se lo suele llamar programación defensiva."
      ],
      "metadata": {
        "id": "tEF48_GFrpOM"
      }
    },
    {
      "cell_type": "markdown",
      "source": [
        "A modo de ejemplo, la siguiente función realiza una división para calcular el costo unitario de un producto. \n"
      ],
      "metadata": {
        "id": "P1rOxM0U0BrI"
      }
    },
    {
      "cell_type": "code",
      "source": [
        "def costo_unitario(costo_total, cantidad_productos):\n",
        "  return costo_total / cantidad_productos;\n"
      ],
      "metadata": {
        "id": "9UKYes4d0lm6"
      },
      "execution_count": null,
      "outputs": []
    },
    {
      "cell_type": "markdown",
      "source": [
        "El siguiente llamado se realiza con éxito."
      ],
      "metadata": {
        "id": "4JDP-urM1TN8"
      }
    },
    {
      "cell_type": "code",
      "source": [
        "costo = 100000\n",
        "productos = 10\n",
        "\n",
        "print(\"El costo unitario es de: \", str(costo_unitario(costo, productos)))"
      ],
      "metadata": {
        "id": "1QndJeio0z17"
      },
      "execution_count": null,
      "outputs": []
    },
    {
      "cell_type": "markdown",
      "source": [
        "El siguiente llamado genera un error. "
      ],
      "metadata": {
        "id": "oPiOSOWq1ZZk"
      }
    },
    {
      "cell_type": "code",
      "source": [
        "costo = 100000\n",
        "productos = 0\n",
        "\n",
        "print(\"El costo unitario es de: \", str(costo_unitario(costo, productos)))"
      ],
      "metadata": {
        "id": "BixUuqgX1b3f"
      },
      "execution_count": null,
      "outputs": []
    },
    {
      "cell_type": "markdown",
      "source": [
        "Utilizamos la función `assert` para validar que el argumento es mayor que cero. Si esto no ocurre, la ejecución se detiene y se le muesta al usuario el mensaje informativo para que corrija la condición que va a generar un error. "
      ],
      "metadata": {
        "id": "tL6c2oeC1zK-"
      }
    },
    {
      "cell_type": "code",
      "source": [
        "def costo_unitario(costo_total, cantidad_productos):\n",
        "  assert cantidad_productos > 0, \"cantidad_productos debe ser mayor que 0\"\n",
        "  return costo_total / cantidad_productos;"
      ],
      "metadata": {
        "id": "M6Bi73691b_B"
      },
      "execution_count": null,
      "outputs": []
    },
    {
      "cell_type": "code",
      "source": [
        "costo = 100000\n",
        "productos = 0\n",
        "\n",
        "print(\"El costo unitario es de: \", str(costo_unitario(costo, productos)))"
      ],
      "metadata": {
        "id": "UBlMQGm61wxS"
      },
      "execution_count": null,
      "outputs": []
    },
    {
      "cell_type": "markdown",
      "source": [
        "Esta otra función requiere que el usuario ingrese un número entero. Genera un error si el valor ingresado no es un número entero `int(valor)` fallaría en ese caso. "
      ],
      "metadata": {
        "id": "fz7gJf_S2rP6"
      }
    },
    {
      "cell_type": "code",
      "source": [
        "def lee_entero():\n",
        "    \"\"\" Solicita un valor entero y lo devuelve.\n",
        "        Si el valor ingresado no es entero, lanza una excepción. \"\"\"\n",
        "    valor = input(\"Ingrese un número entero: \")\n",
        "    return int(valor)"
      ],
      "metadata": {
        "id": "hu8C7vUy2vZM"
      },
      "execution_count": null,
      "outputs": []
    },
    {
      "cell_type": "code",
      "source": [
        "lee_entero()"
      ],
      "metadata": {
        "id": "UJ1QuXTP2xYE"
      },
      "execution_count": null,
      "outputs": []
    },
    {
      "cell_type": "markdown",
      "source": [
        "Esta otra versión corrije el problema ya que genera un error si el valor ingresado es incorrecto. Además, le da al usuario la posibilidad de volver a ingresar el valor, en este caso 2 veces. "
      ],
      "metadata": {
        "id": "LmEXSAkY3pci"
      }
    },
    {
      "cell_type": "code",
      "source": [
        "def lee_entero():\n",
        "    \"\"\" Solicita un valor entero y lo devuelve.\n",
        "        Si el valor ingresado no es entero, da 2 intentos para ingresarlo\n",
        "        correctamente, y de no ser así, lanza una excepción. \"\"\"\n",
        "    intentos = 0\n",
        "    while intentos < 2:\n",
        "        valor = input(\"Ingrese un número entero: \")\n",
        "        try:\n",
        "            valor = int(valor)\n",
        "            return valor\n",
        "        except ValueError:\n",
        "            intentos += 1\n",
        "    raise ValueError(\"Valor incorrecto ingresado en 2 intentos\")"
      ],
      "metadata": {
        "id": "bI0QXJ0S3jQv"
      },
      "execution_count": null,
      "outputs": []
    },
    {
      "cell_type": "code",
      "source": [
        "lee_entero()"
      ],
      "metadata": {
        "id": "PqPLjJp-39hU"
      },
      "execution_count": null,
      "outputs": []
    },
    {
      "cell_type": "markdown",
      "source": [],
      "metadata": {
        "id": "xVlOEh1PrrFX"
      }
    },
    {
      "cell_type": "markdown",
      "source": [
        "# Parte 11 - Programación en Python con EV3\n",
        "---"
      ],
      "metadata": {
        "id": "r-UyuHp2kuJS"
      }
    },
    {
      "cell_type": "markdown",
      "source": [
        "El **kit de LEGO MINDSTORMS EV3** se puede programar con Python usando **MicroPython**. LEGO MINDSTORMS proporciona la documentación completa y el código API de muestra para poder comenzar a programar con Python.\n",
        "\n",
        "Es muy fácil, solo se debe instalar la imagen **EV3 MicroPython** en cualquier **tarjeta micro SD** e iniciar el Bloque (ladrillo) EV3 desde allí para comenzar a programar de inmediato. Volver al firmware estándar de LEGO® MINDSTORMS® EV3 es igual de sencillo, solo se debe retirar del Bloque EV3 la tarjeta micro SD. \n",
        "\n",
        "\n",
        "**Pasos:**\n",
        "\n",
        "1.   Descargar y actualizar la imagen EV3 MicroPython en una tarjeta micro SD.\n",
        "2.   Insertar la tarjeta micro SD en la ranura de la tarjeta SD en el Bloque EV3 y encenderlo.\n",
        "3.   Descargar, instalar e iniciar el editor gratuito de Visual Studio Code en su computadora.\n",
        "4.   Instalar y activar la extensión LEGO Education EV3.\n",
        "5.   Conectar el Bloque EV3 a la computadora y comenzar a programar.\n",
        " \n",
        "**Documentación y firmware de MINDSTORMS EV3 Python:**\n",
        "*   [EV3 MicroPython Getting Started Guide](https://education.lego.com/v3/assets/blt293eea581807678a/bltb470b9ea6e38f8d4/5f8802fc4376310c19e33714/getting-started-with-micropython-v2_enus.pdf)\n",
        "*   [EV3 MicroPython micro SD card image](https://education.lego.com/v3/assets/blt293eea581807678a/blt9df409c9a182ab9c/5f88191a6ffd1b42dc42b8af/ev3micropythonv200sdcardimage.zip)\n",
        "*   [Documentación y programas de ejemplo en línea](https://pybricks.github.io/ev3-micropython/)\n",
        "\n",
        "\n",
        "**Fuente:**\n",
        "\n",
        "LEGO® MINDSTORMS® Education EV3. URL: https://education.lego.com/en-us/product-resources/mindstorms-ev3/teacher-resources/python-for-ev3."
      ],
      "metadata": {
        "id": "J89F1xfdk3j5"
      }
    }
  ],
  "metadata": {
    "kernelspec": {
      "display_name": "Python 3",
      "language": "python",
      "name": "python3"
    },
    "language_info": {
      "codemirror_mode": {
        "name": "ipython",
        "version": 3
      },
      "file_extension": ".py",
      "mimetype": "text/x-python",
      "name": "python",
      "nbconvert_exporter": "python",
      "pygments_lexer": "ipython3",
      "version": "3.8.5"
    },
    "colab": {
      "provenance": [],
      "collapsed_sections": [],
      "toc_visible": true
    }
  },
  "nbformat": 4,
  "nbformat_minor": 0
}