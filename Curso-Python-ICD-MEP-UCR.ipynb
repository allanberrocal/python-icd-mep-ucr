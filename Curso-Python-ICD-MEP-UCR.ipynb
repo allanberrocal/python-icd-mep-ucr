{
 "cells": [
  {
   "cell_type": "markdown",
   "metadata": {
    "id": "9VgSCTHXf4fI"
   },
   "source": [
    "<!--- <img src=\"https://drive.google.com/uc?export=view&id=1WRHtVSntZidUl2yXqZHxpcF9JMyYr_HC\" alt=\"Intro\" style=\"height: 100px; width:100px;\"/> -->\n",
    "\n",
    "<img src=\"images/introPage.png\">"
   ]
  },
  {
   "cell_type": "markdown",
   "metadata": {
    "id": "wduphuUWf4fV"
   },
   "source": [
    "### Descripción\n",
    "\n",
    "Creado para una capacitación a docentes del Ministerio de Educación Pública (MEP) en Costa Rica como parte un proyecto de acción social de la Universidad de Costa Rica con patrocinio del Instituto Costarricense sobre Drogas (ICD).\n",
    "\n",
    "### Responsables de la capacitación:\n",
    "\n",
    "- Kryscia Ramírez Benavides\n",
    "- Luis Quesada Quirós\n",
    "- Allan Berrocal Rojas\n",
    "\n",
    "### Créditos\n",
    "\n",
    "Esta presentación utiliza algunos materiales disponibles en internet. Se hace mención en general a los siguientes cursos:\n",
    "- [Curso básico de Python - Sergio Paredes](https://github.com/sergioparedesv/curso-basico-python)\n",
    "- [Python para principiantes - Lorena Ceballos](https://github.com/LceballosE/Python-para-Principiantes)\n",
    "- [Insituto Humai - Argentina](https://ihum.ai/)\n",
    "\n",
    "#### Otros recursos de consulta\n",
    "\n",
    "- [Python para principiantes](https://uniwebsidad.com/libros/python)\n",
    "- [Algoritmos de Programación con Python](https://uniwebsidad.com/libros/algoritmos-python)\n",
    "---"
   ]
  },
  {
   "cell_type": "markdown",
   "metadata": {
    "id": "UY6MfICPf4fW"
   },
   "source": [
    "# Agenda\n",
    "\n",
    "1. Preparación del entorno de desarrollo\n",
    "1. Introducción al lenguaje de programación \n",
    "1. Variables y tipos de datos\n",
    "1. Estructuras de datos: Listas\n",
    "1. Estructuras de control: condicionales y ciclos\n",
    "1. Operaciones aritméticas y lógicas\n",
    "1. Procesamiento de cadenas de texto\n",
    "1. Entradas y salidas\n",
    "1. Funciones\n",
    "1. Depuración y manejos de errores\n",
    "1. EV3 y Python\n",
    "\n",
    "---\n"
   ]
  },
  {
   "cell_type": "markdown",
   "metadata": {
    "id": "ezrzWAK3f4fX"
   },
   "source": [
    "# Parte 1 - Entorno de desarrollo\n",
    "---"
   ]
  },
  {
   "cell_type": "markdown",
   "metadata": {
    "id": "rzUksOqNyuhu"
   },
   "source": [
    "## Preparación de herramientas\n",
    "\n",
    "Para facilitar este curso vamos a utilizar algunas herramientas. Primero nos aseguraremos de que todos(as) las puedan instalar.\n"
   ]
  },
  {
   "cell_type": "markdown",
   "metadata": {
    "id": "pS83xHucf4fY"
   },
   "source": [
    "\n",
    "### Paso 1\n",
    "Obtener el archivo con el que vamos a trabajar. A este tipo de archivo se le llama `Notebook` o cuaderno. Lo puede objetner en esta dirección [python-icd-mep-ucr](https://github.com/allanberrocal/python-icd-mep-ucr). Descargue el archivo en su computadora.\n"
   ]
  },
  {
   "cell_type": "markdown",
   "metadata": {
    "id": "LmG2uT6jFGHl"
   },
   "source": [
    "\n",
    "### Paso 2 \n",
    "Debe tener una cuenta de Google y acceder al espacio de [Google Colaboratory](https://colab.research.google.com/) el cual nos permite crear y ejecutar código de `Python` desde el navegador web."
   ]
  },
  {
   "cell_type": "markdown",
   "metadata": {
    "id": "26WSB9OVFNxU"
   },
   "source": [
    "### Paso 3\n",
    "Ahora solo debemos cargar el cuaderno en la página de [Google Colaboratory](https://colab.research.google.com/). Para ello de clic en el menú de **Archivo/Upload notebook** \n",
    "\n",
    "_Es posible que en este punto el sistema le solicite iniciar sesión con su cuenta de Google, favor hacerlo en este momento._\n",
    "\n",
    "Una vez que inició sesión, le aparecerá un cuadro con opciones para subir un cuaderno. Utilice la opción **Upload**. Ahora puede cargar el cuaderno que descargó en el paso #1. "
   ]
  },
  {
   "cell_type": "markdown",
   "metadata": {
    "id": "PDgQnjSxFOOq"
   },
   "source": [
    "### Paso 4\n",
    "Ahora podemos comenzar a utilizar el cuaderno en Google Colab. \n"
   ]
  },
  {
   "cell_type": "markdown",
   "metadata": {
    "id": "_yUeefYQf4fZ"
   },
   "source": [
    "# Parte 2 - El lenguaje de programación\n",
    "---"
   ]
  },
  {
   "cell_type": "markdown",
   "metadata": {
    "id": "GDLOwrOty-vf"
   },
   "source": [
    "## Introducción"
   ]
  },
  {
   "cell_type": "markdown",
   "metadata": {
    "id": "CTT2dnnOf4fa",
    "jupyter": {
     "source_hidden": true
    }
   },
   "source": [
    "Para conocer un poco de la historia de `Python` puede consultar [esta página](https://es.wikipedia.org/wiki/Historia_de_Python). La creación del lenguaje de le atribuye a [Guido van Rossum](https://es.wikipedia.org/wiki/Guido_van_Rossum) un informático Holandés. \n",
    "\n",
    "Algunas características de `Python`\n",
    "- Es un lenguaje de programación interpretado. Es decir el código de un programa escrito en `Python` no es compilado sino que es leído o interpretado por otro programa (intérprete de `Python`) que se encarga de producir las instrucciones de más bajo nivel que debe realizar el computador. \n",
    "- Es dinámicamente tipado. Es decir, las variables pueden tomar valores de distintos tipos. \n",
    "- Como lenguaje pasó por la versión 1.x, 2.x, y actualmente se encuentra en la versión 3.10.x. \n",
    "- Es uno de los lenguajes de programación más utilizados en la actualidad para diversas aplicaciones. \n",
    "\n",
    "Se puede encontrar más información sobre el lenguaje en su página oficial [python.org](https://www.python.org/).\n",
    "\n",
    "Para propósitos de aprendizaje, puede utilizar este intérprete de `Python` que se encuentra el línea [Programiz.com](https://www.programiz.com/python-programming/online-compiler/)"
   ]
  },
  {
   "cell_type": "markdown",
   "metadata": {
    "id": "RH5MiZ5tf4fb",
    "jupyter": {
     "source_hidden": true
    }
   },
   "source": [
    "## Reglas de Python\n",
    "- Evitar espacios blancos extras\n",
    "- Comentarios en una línea (#Comentario de una línea) \n",
    "- Comentarios en múltiples líneas  (\"\"\"Comentario multilínea líneas\"\"\")\n",
    "- Identación: La identación es un término que hace referencia en darle jerarquía al código."
   ]
  },
  {
   "cell_type": "markdown",
   "metadata": {
    "id": "sPlonvj8f4ff",
    "jupyter": {
     "source_hidden": true
    }
   },
   "source": [
    "## Primer programa\n",
    "\n",
    "En la celda de abajo escriba lo siguiente:\n",
    "\n",
    "``print(\"Hola mundo\")``\n",
    "\n",
    "Luego dar clic en el ícono para ejecutar la celda."
   ]
  },
  {
   "cell_type": "code",
   "execution_count": null,
   "metadata": {
    "id": "D1jr2M4uf4fh",
    "jupyter": {
     "source_hidden": true
    }
   },
   "outputs": [],
   "source": [
    "print(\"Hola Mundo\")"
   ]
  },
  {
   "cell_type": "code",
   "execution_count": null,
   "metadata": {
    "id": "EWIbdeOqf4fj",
    "jupyter": {
     "source_hidden": true
    }
   },
   "outputs": [],
   "source": [
    "a = 5\n",
    "b = 4\n",
    "resultado = a+b\n",
    "print(resultado)"
   ]
  },
  {
   "cell_type": "markdown",
   "metadata": {
    "id": "tz9cBZUpdLVZ",
    "jupyter": {
     "source_hidden": true
    }
   },
   "source": [
    "<div class=\"alert alert-success\" role=\"alert\">\n",
    "  Perfecto, es hora de saludar a alguien, en mi caso a <b>Ana</b>\n",
    "</div>"
   ]
  },
  {
   "cell_type": "markdown",
   "metadata": {
    "id": "goKOjBHrdLVZ",
    "jupyter": {
     "source_hidden": true
    }
   },
   "source": [
    "## Ejemplo"
   ]
  },
  {
   "cell_type": "code",
   "execution_count": null,
   "metadata": {
    "id": "BJWq-U4QdLVZ",
    "jupyter": {
     "source_hidden": true
    }
   },
   "outputs": [],
   "source": [
    "print(\"Hola Ana\") # Perfecto, da clic en Run y observa lo que ocurre."
   ]
  },
  {
   "cell_type": "markdown",
   "metadata": {
    "id": "428c85DGdLVZ",
    "jupyter": {
     "source_hidden": true
    }
   },
   "source": [
    "¿Por qué el contenido del (#Perfecto, haz clic en Run y observa lo que ocurre.) no aparece en la salida? \n",
    "\n",
    "Naturalmente los comentarios son solo para los programadores, los usuarios finales no pueden verlos."
   ]
  },
  {
   "cell_type": "code",
   "execution_count": null,
   "metadata": {
    "id": "0DsXI9sndLVa",
    "jupyter": {
     "source_hidden": true
    }
   },
   "outputs": [],
   "source": [
    "print(\"Hola Alberto\") \n",
    "'''Pero este sí?, realmente no aparece para el usuario final, solo para el programador'''"
   ]
  },
  {
   "cell_type": "markdown",
   "metadata": {
    "id": "PWiUtNH3dLVa",
    "jupyter": {
     "source_hidden": true
    }
   },
   "source": [
    "<div  id=\"d\" class=\"jumbotron jumbotron-fluid\">\n",
    "  <div class=\"container\">\n",
    "    <h5 class=\"display-4\">Operaciones aritméticas básicas</h5>\n",
    "      <p class=\"lead\">En las celdas de abajo, escriba en cada una operaciones que corresponde, luego presione<b> (shit+enter)</b> para ejecutar el script:</p>\n",
    "  </div>\n",
    "</div>"
   ]
  },
  {
   "cell_type": "markdown",
   "metadata": {
    "id": "Kf0QW7wddLVa",
    "jupyter": {
     "source_hidden": true
    }
   },
   "source": [
    "<p class=\"lead\">1. Suma (2+2) </p>"
   ]
  },
  {
   "cell_type": "code",
   "execution_count": null,
   "metadata": {
    "id": "86mpgDKIdLVb",
    "jupyter": {
     "source_hidden": true
    }
   },
   "outputs": [],
   "source": []
  },
  {
   "cell_type": "markdown",
   "metadata": {
    "id": "joNNMmn1dLVb",
    "jupyter": {
     "source_hidden": true
    }
   },
   "source": [
    "<p class=\"lead\">2. Resta (2-2) </p>"
   ]
  },
  {
   "cell_type": "code",
   "execution_count": null,
   "metadata": {
    "id": "ZoBuJK1ddLVb",
    "jupyter": {
     "source_hidden": true
    }
   },
   "outputs": [],
   "source": []
  },
  {
   "cell_type": "markdown",
   "metadata": {
    "id": "w-a1aHsKdLVb",
    "jupyter": {
     "source_hidden": true
    }
   },
   "source": [
    "<p class=\"lead\">3. Multiplicación (2*3) </p>"
   ]
  },
  {
   "cell_type": "code",
   "execution_count": null,
   "metadata": {
    "id": "7vYYgAzhdLVc",
    "jupyter": {
     "source_hidden": true
    }
   },
   "outputs": [],
   "source": []
  },
  {
   "cell_type": "markdown",
   "metadata": {
    "id": "RXeXJVeCdLVc",
    "jupyter": {
     "source_hidden": true
    }
   },
   "source": [
    "<p class=\"lead\">4. Divisiones (2/2) </p>"
   ]
  },
  {
   "cell_type": "code",
   "execution_count": null,
   "metadata": {
    "id": "fcpigpZwdLVc",
    "jupyter": {
     "source_hidden": true
    }
   },
   "outputs": [],
   "source": []
  },
  {
   "cell_type": "markdown",
   "metadata": {
    "id": "ISKKwlzndLVc",
    "jupyter": {
     "source_hidden": true
    }
   },
   "source": [
    "<p class=\"lead\">5. Potencia (2**3) </p>"
   ]
  },
  {
   "cell_type": "code",
   "execution_count": null,
   "metadata": {
    "id": "Ai9rqtkWdLVc",
    "jupyter": {
     "source_hidden": true
    }
   },
   "outputs": [],
   "source": []
  },
  {
   "cell_type": "markdown",
   "metadata": {
    "id": "p25ks1IOdLVc",
    "jupyter": {
     "source_hidden": true
    }
   },
   "source": [
    "<p class=\"lead\">6. Raiz (4**(1/2)) </p>"
   ]
  },
  {
   "cell_type": "code",
   "execution_count": null,
   "metadata": {
    "id": "4ISVqhkZdLVd",
    "jupyter": {
     "source_hidden": true
    }
   },
   "outputs": [],
   "source": []
  },
  {
   "cell_type": "markdown",
   "metadata": {
    "id": "NrOfkjukdLVd",
    "jupyter": {
     "source_hidden": true
    }
   },
   "source": [
    "<p class=\"lead\">7. Operaciones: 2+5*3 </p>"
   ]
  },
  {
   "cell_type": "code",
   "execution_count": null,
   "metadata": {
    "id": "qsr3MP_FdLVd",
    "jupyter": {
     "source_hidden": true
    }
   },
   "outputs": [],
   "source": []
  },
  {
   "cell_type": "markdown",
   "metadata": {
    "id": "41jdiMRSdLVd",
    "jupyter": {
     "source_hidden": true
    }
   },
   "source": [
    "<p class=\"lead\">8. Operaciones: 2+2**4 </p>"
   ]
  },
  {
   "cell_type": "code",
   "execution_count": null,
   "metadata": {
    "id": "yzejKe_zdLVd",
    "jupyter": {
     "source_hidden": true
    }
   },
   "outputs": [],
   "source": []
  },
  {
   "cell_type": "markdown",
   "metadata": {
    "id": "uNowKNpfdLVd",
    "jupyter": {
     "source_hidden": true
    }
   },
   "source": [
    "Si nota que las operaciones dan resultados que no esperaba, no se preocupe. No es un error de Python.\n",
    "Se nos enseña a hacer operaciones de derecha a izquierda, pero en realidad las operaciones van de más complejas a menos\n",
    "complejas. Por eso resuelve primero las potencias o raíces, luego multiplicaciones y finalmente las sumas y restas."
   ]
  },
  {
   "cell_type": "markdown",
   "metadata": {
    "id": "v7imx2DLf4fp"
   },
   "source": [
    "# Parte 3 - Variables y tipos de datos\n",
    "---"
   ]
  },
  {
   "cell_type": "markdown",
   "metadata": {
    "id": "4XlHHk6mzViT"
   },
   "source": [
    "## Definición\n",
    "\n",
    "En los lenguajes de programacón, una variable le permite hacer referencia a un valor con un nombre.\n",
    "Por ejemplo\n",
    "\n",
    "`x = 5`\n",
    "\n",
    "Ahora puede utilizar el nombre de la variable, `x` en lugar del valor real, `5`. Recuerde, el símbolo `=` en `Python` significa asignación, No prueba igualdad.\n"
   ]
  },
  {
   "cell_type": "markdown",
   "metadata": {
    "id": "G2R-FZIMf4fp"
   },
   "source": [
    "## ¿Por qué variables?\n",
    "\n",
    "Imagine un programa para calcular el IMC (índice de masa corporal) de una persona. Este indicador se calcula a partir de las variables altura y peso. Si desea calcular el IMC para varias personas, simplemente puede cambiar el valor de las variables peso y altura y volver a realizar el cálculo. El IMC cambia en consecuencia, porque el valor del peso variable también ha cambiado."
   ]
  },
  {
   "cell_type": "code",
   "execution_count": null,
   "metadata": {
    "id": "wkNap12mf4fp"
   },
   "outputs": [],
   "source": [
    "altura = 170\n",
    "peso = 68.7\n",
    "imc = peso / altura *2\n",
    "\n",
    "print(imc)\n",
    "\n",
    "print(peso / altura *2)"
   ]
  },
  {
   "cell_type": "markdown",
   "metadata": {
    "id": "2UigBKJ5f4fq"
   },
   "source": [
    "## Nombres de variables \n",
    "\n",
    "Se recomienda utilizar nombres descriptivos y en minúsculas. Para nombres compuestos, es usual separar las palabras por guiones bajos (por ejemplo, `primer_nombre`), o juntar palabras utilizando mayúsculas para la primera letra de la segunda palabra en adelante (por ejemplo, `primerNombre`). \n",
    "\n",
    "En `Python` los nombres de variables no pueden comenzar con números, ni con muchos símbolos especiales como `/&*()#!>` entre otros. El uso de guión bajo `_` sí es permitido.\n",
    "\n",
    "Antes y después del signo `=` debe haber un (1) solo un espacio en blanco. Por ejemplo:\n",
    "\n",
    "`primerNombre = Marta`\n",
    "\n",
    "Los lenguajes de programación tienen restricciones en cuanto al nombre que puede tener una variable. A esto se le conoce como palabras reservadas, es decir, son reservadas para el lenguaje. Si se utilizan como nombres de variables el programa genera un error. En `Python`, algunas de estas palabras son las siguientes:\n",
    "\n",
    "```\n",
    "and \n",
    "continue \n",
    "else \n",
    "for \n",
    "import \n",
    "not \n",
    "raise\n",
    "assert \n",
    "def \n",
    "except \n",
    "from \n",
    "in \n",
    "or \n",
    "return\n",
    "break \n",
    "del \n",
    "exec \n",
    "global \n",
    "is \n",
    "pass \n",
    "try\n",
    "class \n",
    "elif \n",
    "finally \n",
    "if \n",
    "lambda \n",
    "print\n",
    "```\n",
    "\n",
    "Intente utilizar una palabra reservada como nombre de una variable. "
   ]
  },
  {
   "cell_type": "code",
   "execution_count": null,
   "metadata": {
    "id": "H-B8GyNlf4fq"
   },
   "outputs": [],
   "source": [
    "class = 2"
   ]
  },
  {
   "cell_type": "markdown",
   "metadata": {
    "id": "L_QsE_e6f4fq"
   },
   "source": [
    "Note que las palabras reservadas generalmente cambian de color cuando estamos escribiendo código fuente en un editor de texto que reconoce el lenguaje de programación.\n",
    "\n",
    "La variable anterior `class` está en verde, pero la siguiente no lo está. Eso nos ayuda a saber si un nombre es un palabra reservada del lenguaje. "
   ]
  },
  {
   "cell_type": "code",
   "execution_count": null,
   "metadata": {
    "id": "_ffV5UIyf4fq"
   },
   "outputs": [],
   "source": [
    "clase = 2"
   ]
  },
  {
   "cell_type": "markdown",
   "metadata": {
    "id": "vHPnesFcf4fq"
   },
   "source": [
    "## Tipos de variables \n",
    "\n",
    "Existen distintos tipos de variables. El tipo de una variable nos da una idea de los posibles valores que esta puede tomar. Veamos algunas. \n",
    "\n",
    "- `int`: entero\n",
    "- `float`: punto flotante\n",
    "- `str`: cadena de caracteres\n",
    "- `bool`: booleano, 0, 1, True o False\n",
    "\n",
    "Y estructuras de datos, como:\n",
    "\n",
    "- `list`: lista de elementos (de cualquier tipo, incluida otra lista)\n",
    "- `dict`: \"diccionario\", conjunto de pares llave:valor\n",
    "\n",
    "Algunos ejemplos:"
   ]
  },
  {
   "cell_type": "code",
   "execution_count": null,
   "metadata": {
    "id": "rA03p4Pcf4fq"
   },
   "outputs": [],
   "source": [
    "edad = 40\n",
    "peso = 3.4\n",
    "saludo ='Hola mundo!'\n",
    "condicion = True\n",
    "\n",
    "print(variableInt)"
   ]
  },
  {
   "cell_type": "markdown",
   "metadata": {
    "id": "u2my6qXYf4fr"
   },
   "source": [
    "A continuación utilice la función `print(X)` para imprimir el contenido de las variables que creó anteriormente. "
   ]
  },
  {
   "cell_type": "code",
   "execution_count": null,
   "metadata": {
    "id": "zIcHxmeRf4fr"
   },
   "outputs": [],
   "source": [
    "# imprimir distintos tipos de variables\n",
    "print(edad)"
   ]
  },
  {
   "cell_type": "markdown",
   "metadata": {
    "id": "HFYzdXwFf4fr"
   },
   "source": [
    "La función `type()` nos permite conocer el tipo de una variable. Ejemplo:"
   ]
  },
  {
   "cell_type": "code",
   "execution_count": null,
   "metadata": {
    "id": "Ixtb5-T8f4fy"
   },
   "outputs": [],
   "source": [
    "type(saludo)"
   ]
  },
  {
   "cell_type": "markdown",
   "metadata": {
    "id": "HaGJ2oDWf4fz"
   },
   "source": [
    "A continuación utilice la función `type(X)` para imprimir el tipo de las variables que creó anteriormente."
   ]
  },
  {
   "cell_type": "code",
   "execution_count": null,
   "metadata": {
    "id": "mkfzP35Lf4fz"
   },
   "outputs": [],
   "source": []
  },
  {
   "cell_type": "markdown",
   "metadata": {
    "id": "o37BedFaf4fz"
   },
   "source": [
    "## Conversión de variables \n",
    "\n",
    "Algunas variables pueden cambiar de tipo. A esto le llamamos convertir una variable de su tipo original a otro tipo destino. Veamos ejemplos"
   ]
  },
  {
   "cell_type": "code",
   "execution_count": null,
   "metadata": {
    "id": "R80N5HuRf4fz"
   },
   "outputs": [],
   "source": [
    "edad = 20         # tipo int e.g. años\n",
    "peso = 65.8       # tipo float e.g. kilogramos\n",
    "mes = \"agosto\"    # tipo string e.g. mes\n",
    "esDeNoche = False # tipo bool "
   ]
  },
  {
   "cell_type": "code",
   "execution_count": null,
   "metadata": {
    "id": "0MsrDnFAf4fz"
   },
   "outputs": [],
   "source": [
    "type(edad)"
   ]
  },
  {
   "cell_type": "markdown",
   "metadata": {
    "id": "Xe5rFXAhf4f0"
   },
   "source": [
    "Es posible cambiar el tipo de una variable. Por ejemplo, convertir una una variable `float` a `int`, etc. \n",
    "El lenjuage dispone de ciertas funciones para realizar la conversión. Algunos ejemplos:\n",
    "\n",
    "- `int()` Convierte a entero\n",
    "- `float()` Convierte a flotante\n",
    "- `str()` Convierte a string\n",
    "\n"
   ]
  },
  {
   "cell_type": "code",
   "execution_count": null,
   "metadata": {
    "id": "k6PE2-0Ff4f0"
   },
   "outputs": [],
   "source": [
    "edad = float(edad)\n",
    "type(edad)"
   ]
  },
  {
   "cell_type": "code",
   "execution_count": null,
   "metadata": {
    "id": "KZe-0juif4f0"
   },
   "outputs": [],
   "source": [
    "peso = int(peso)\n",
    "type(peso)"
   ]
  },
  {
   "cell_type": "code",
   "execution_count": null,
   "metadata": {
    "id": "1DvQ9A-tf4f0"
   },
   "outputs": [],
   "source": [
    "mes = str(edad)\n",
    "type(mes)"
   ]
  },
  {
   "cell_type": "markdown",
   "metadata": {
    "id": "JPFxPa-zf4f1"
   },
   "source": [
    "Note que ahora la variable `peso` es de tipo `int`, por ende, no puede almacenar un número con decimales. Anteriormente la variable `peso` tenía el valor `65.8`. Imprima la variable `peso` después de convertirla a `int` y note como su valor a cambiado. "
   ]
  },
  {
   "cell_type": "code",
   "execution_count": null,
   "metadata": {
    "id": "DUCTBDrVf4f1"
   },
   "outputs": [],
   "source": [
    "print(peso)"
   ]
  },
  {
   "cell_type": "markdown",
   "metadata": {
    "id": "YnYaL_VQf4f1"
   },
   "source": [
    "En programación se debe tener cuidado con la transformación de variables para evitar errores en los programas. "
   ]
  },
  {
   "cell_type": "markdown",
   "metadata": {
    "id": "l_gKs2qif4f1"
   },
   "source": [
    "La siguiente función de conversión se comporta de manera especial.\n",
    "\n",
    "- `bool()`\n",
    "\n",
    "Por ejemplo, en esta línea\n",
    "\n",
    "`edad = bool(edad)`\n",
    "\n",
    "Convierte la variable `edad` a tipo `bool`. \n",
    "\n",
    "Y en esta línea\n",
    "\n",
    "`bool(edad)`\n",
    "\n",
    "Examina el valor de la variable `edad` y retorna `False` si su valor es cero, y retorna `True` en cualquier otros caso. \n",
    "\n"
   ]
  },
  {
   "cell_type": "code",
   "execution_count": null,
   "metadata": {
    "id": "K7E3tP3zf4f1"
   },
   "outputs": [],
   "source": [
    "bool(edad)"
   ]
  },
  {
   "cell_type": "markdown",
   "metadata": {
    "id": "grgXFzLef4f2"
   },
   "source": [
    "# Parte 4 - Estructuras de datos: Listas\n",
    "---"
   ]
  },
  {
   "cell_type": "markdown",
   "metadata": {
    "id": "PQwq1n7bhbxp"
   },
   "source": [
    "KRYSCIA"
   ]
  },
  {
   "cell_type": "markdown",
   "metadata": {
    "id": "YeoaLfa9f4f2"
   },
   "source": [
    "# Parte 5 - Estructuras de control: condicionales y ciclos\n",
    "---"
   ]
  },
  {
   "cell_type": "markdown",
   "metadata": {
    "id": "ONi1Qfszj28h"
   },
   "source": [
    "KRYSCIA"
   ]
  },
  {
   "cell_type": "markdown",
   "metadata": {
    "id": "U1A8kj8Lf4f2"
   },
   "source": [
    "# Parte 6 - Operaciones aritméticas y lógicas\n",
    "---"
   ]
  },
  {
   "cell_type": "markdown",
   "metadata": {
    "id": "HhRgjOAHf4f2"
   },
   "source": [
    "# Parte 7 - Procesamiento de cadenas de texto\n",
    "---"
   ]
  },
  {
   "cell_type": "markdown",
   "metadata": {
    "id": "BCgMyEAVf4f2"
   },
   "source": [
    "# Parte 8 - Entradas y salidas\n",
    "---"
   ]
  },
  {
   "cell_type": "markdown",
   "metadata": {
    "id": "CvYPmjYUf4f2"
   },
   "source": [
    "# Parte 9 - Funciones\n",
    "---"
   ]
  },
  {
   "cell_type": "markdown",
   "metadata": {
    "id": "Ij4vu3LG0Tr-"
   },
   "source": [
    "## Definición\n",
    "\n",
    "Una función es una estructura que permite agrupar código.\n",
    "\n",
    "Algunos beneficios de usar funciones:\n",
    "1. Evitar repetición de trozos de código en el programa.\n",
    "1. Reutilizar el código de las funciones para distintas situaciones.\n",
    "1. Estandarizar el programa haciendo funciones pequeñas con tareas muy específicas. \n",
    "\n",
    "La estructura de una función sera :\n",
    "\n",
    "- nombre de función\n",
    "- parámetros\n",
    "- valor de retorno\n",
    "\n",
    "```\n",
    "def nombre_de_funcion(parametros):\n",
    "    valor_retorno = procedimiento(parametros)\n",
    "    return valor_retorno\n",
    "\n",
    "```"
   ]
  },
  {
   "cell_type": "markdown",
   "metadata": {
    "id": "wR8FTqGeuWuK"
   },
   "source": [
    "## Declaración de una función\n",
    "\n",
    "Para declarar la función seguimos la estructura base que ya estudiamos. En este ambiente de `Notebooks` es necesario ejecutar la celda de código para instanciar la nueva función antes de poder utilizarla."
   ]
  },
  {
   "cell_type": "code",
   "execution_count": null,
   "metadata": {
    "id": "klR0jxC90q3U"
   },
   "outputs": [],
   "source": [
    "def mi_primer_funcion():    \n",
    "    print (\"Hola Mundo desde una función\") \n",
    "    "
   ]
  },
  {
   "cell_type": "markdown",
   "metadata": {
    "id": "rEiPUEPn00kS"
   },
   "source": [
    "Para utilizar la nueva función en nuestros programas solo debemos invocarla."
   ]
  },
  {
   "cell_type": "code",
   "execution_count": null,
   "metadata": {
    "id": "krsDkOlI03E0"
   },
   "outputs": [],
   "source": [
    "mi_primer_funcion()"
   ]
  },
  {
   "cell_type": "markdown",
   "metadata": {
    "id": "_nsXeSwJ1cX5"
   },
   "source": [
    "**Atención**\n",
    "\n",
    "¿Qué ocurre si invocamos una función antes de instanciarla?"
   ]
  },
  {
   "cell_type": "code",
   "execution_count": null,
   "metadata": {
    "id": "16gBuQIz1sXU"
   },
   "outputs": [],
   "source": [
    "mi_segunda_funcion() \n",
    "\n",
    "def mi_segunda_funcion():\n",
    "    print (\"Hola Mundo desde una función!\")"
   ]
  },
  {
   "cell_type": "markdown",
   "metadata": {
    "id": "IuODkYsk2E1f"
   },
   "source": [
    "## Argumentos y parámetros\n",
    "\n",
    "En la definición de una función, los valores que se reciben se denominan **parámetros**, pero durante la llamada los valores que se envían se denominan **argumentos**.\n",
    "\n",
    "Muchas veces estos términos se usan de manera intercambiable, pero es importante conocer la diferencia.\n",
    "\n",
    "Un parámetro es una variable en la definición de una función. Es sólamente un símbolo y por eso no tiene un valor concreto. \n",
    "\n",
    "Un argumento en cambio es un valor que se le pasa a la función en la invocación. Poro decirlo de este modo, un argumento llena el campo que tiene reservado para él un parámetro. \n",
    "\n",
    "```\n",
    "def sumar(x,y):     # x, y son parámetros\n",
    "  return x+y\n",
    "\n",
    "sumar(5+8)          # 5, 8 son argumentos\n",
    "```\n",
    "Veamos un ejemplo de una función parametrizable."
   ]
  },
  {
   "cell_type": "code",
   "execution_count": null,
   "metadata": {
    "id": "uNc1YjH03MJl"
   },
   "outputs": [],
   "source": [
    "def presentarse(nombre):\n",
    "    print(\"Hola! Soy {} y me siento feliz con el curso de hoy.\".format(nombre))\n",
    "\n",
    "presentarse(\"Ana\")"
   ]
  },
  {
   "cell_type": "markdown",
   "metadata": {
    "id": "WpN86GHS71dT"
   },
   "source": [
    "Y esta función la podemos utilizar con distintos argumentos. "
   ]
  },
  {
   "cell_type": "code",
   "execution_count": null,
   "metadata": {
    "id": "ZcuAHkWe7y_Q"
   },
   "outputs": [],
   "source": [
    "presentarse(\"Ronny\")"
   ]
  },
  {
   "cell_type": "markdown",
   "metadata": {
    "id": "F3nbxhXk8J3e"
   },
   "source": [
    "Las funciones pueden tener múltiples parámetros. En este caso los separamos por comas."
   ]
  },
  {
   "cell_type": "code",
   "execution_count": null,
   "metadata": {
    "id": "dyJuJcfb8Kdf"
   },
   "outputs": [],
   "source": [
    "def presentarse(nombre, estado):\n",
    "    print(\"Hola! Soy {} y me siento {} con el curso de hoy.\".format(nombre, estado))\n",
    "\n",
    "presentarse(\"Ana\", \"feliz\")\n",
    "presentarse(\"Ronny\", \"motivado\")"
   ]
  },
  {
   "cell_type": "markdown",
   "metadata": {
    "id": "GklZgQun9Sn6"
   },
   "source": [
    "Ejemplo de una función para calcular el volúmen de un cilindro."
   ]
  },
  {
   "cell_type": "code",
   "execution_count": null,
   "metadata": {
    "id": "JnIDrCYc9RTM"
   },
   "outputs": [],
   "source": [
    "import math\n",
    "\n",
    "def volumenCilindro(radio, altura):\n",
    "  return math.pi * (pow(radio,2)) * altura\n",
    "\n",
    "print (volumenCilindro(1,1))\n",
    "print (volumenCilindro(1,10))\n",
    "print (volumenCilindro(10,1))"
   ]
  },
  {
   "cell_type": "markdown",
   "metadata": {
    "id": "VgIArVpHAdDA"
   },
   "source": [
    "Naturalmente, se puede invocar una función y guardar el resutado en una variable para posteriormente utilizar dicha variable en otra operación. "
   ]
  },
  {
   "cell_type": "code",
   "execution_count": null,
   "metadata": {
    "id": "DWmXGBoPApQ0"
   },
   "outputs": [],
   "source": [
    "volumen1 = volumenCilindro(3,5)\n",
    "volumen2 = volumenCilindro(7,10)\n",
    "\n",
    "print(\"El volumen total que tenemos es: \", str(math.floor(volumen1 + volumen2)))"
   ]
  },
  {
   "cell_type": "markdown",
   "metadata": {
    "id": "8-oKuXWABqX1"
   },
   "source": [
    "## Alcance o ámbito de las variables\n",
    "\n",
    "En `Python` (y en general también en otros lenguajes de programación), las variables se encuentran confinadas dentro de un espacio. El término en inglés es _scope_ y en castellano se puede traducir como ámbito o alcance. \n",
    "\n",
    "Hay dos tipos de alcance, **global** y **local**. "
   ]
  },
  {
   "cell_type": "markdown",
   "metadata": {
    "id": "F4QP4FjJD-wq"
   },
   "source": [
    "Una variable **global** se puede invocar en cualqueir parte del programa. Es decir, se puede invocar incluso desde adentro de muchas funciones. "
   ]
  },
  {
   "cell_type": "code",
   "execution_count": null,
   "metadata": {
    "id": "fHvfw8hnD1TH"
   },
   "outputs": [],
   "source": [
    "varGlobal = \"Esta es una variable global\" \n",
    "\n",
    "def funcion1():     # declaración\n",
    "    print(varGlobal)\n",
    "\n",
    "funcion1()          # invocación\n",
    "\n",
    "def funcion2():     # declaración\n",
    "    print(varGlobal)\n",
    "\n",
    "funcion2()          # invocación\n",
    "\n",
    "\n",
    "print(varGlobal)            # uso de la variable global  "
   ]
  },
  {
   "cell_type": "markdown",
   "metadata": {
    "id": "Z8teIJ0lEmNL"
   },
   "source": [
    "Una variable **local** únicamente existe dentro del cuerpo de la función donde esta se declara. \n",
    "\n"
   ]
  },
  {
   "cell_type": "code",
   "execution_count": null,
   "metadata": {
    "id": "uUovAy7gEwY9"
   },
   "outputs": [],
   "source": [
    "def funcion():\n",
    "  varLocal = \"Esta es una variable local\"      \n",
    "  print(varLocal)\n",
    "\n",
    "funcion()\n"
   ]
  },
  {
   "cell_type": "markdown",
   "metadata": {
    "id": "6i6TpQuBFLv4"
   },
   "source": [
    "Si se invoca una variable local fuera de la función donde esta se declaró el sistema genera un error."
   ]
  },
  {
   "cell_type": "code",
   "execution_count": null,
   "metadata": {
    "id": "2Mw0RW4OFY6X"
   },
   "outputs": [],
   "source": [
    "print(varLocal)"
   ]
  },
  {
   "cell_type": "markdown",
   "metadata": {
    "id": "xxeuDv3nEwi9"
   },
   "source": [
    "Se puede crear una variable **local** con el mismo nombre de una variable **global**, pero `Python; lo verá como 2 variables distintas."
   ]
  },
  {
   "cell_type": "code",
   "execution_count": null,
   "metadata": {
    "id": "9TNsRukLFmAH"
   },
   "outputs": [],
   "source": [
    "miVariable = \"Esta es una variable global\" \n",
    "\n",
    "def funcion():\n",
    "  miVariable = \"Esta es una variable local\"      \n",
    "  print(miVariable)\n",
    "\n",
    "funcion()             # utilizará la variable local \n",
    "\n",
    "print(miVariable)     # utilizará la variable global"
   ]
  },
  {
   "cell_type": "markdown",
   "metadata": {
    "id": "h1iVs8xcF9lv"
   },
   "source": [
    "🚫 Lo siguiente **NO** es una buena práctica de programación. 🚫\n",
    "\n",
    "Pero algunos lenguajes de programación permiten utilizar una variable global dentro del ámbito de una función. \n",
    "\n",
    "No se lo recomendamos pero en `Python` esto se puede hacer con la palabra reservada **`global`**"
   ]
  },
  {
   "cell_type": "code",
   "execution_count": null,
   "metadata": {
    "id": "Vsl0a6dNHqx_"
   },
   "outputs": [],
   "source": [
    "def funcion():\n",
    "    global var\n",
    "    var = 'Esta es una variable local que asignamos como global'\n",
    "    \n",
    "funcion()\n",
    "\n",
    "print(var)"
   ]
  },
  {
   "cell_type": "markdown",
   "metadata": {
    "id": "aYL9W5r_H2NT"
   },
   "source": [
    "De la misma manera una función puede cambiar el valor de una variable que había sido declarada como global."
   ]
  },
  {
   "cell_type": "code",
   "execution_count": null,
   "metadata": {
    "id": "FS4EKW2xH9Ve"
   },
   "outputs": [],
   "source": [
    "var = \"Esta es una variable global\" \n",
    "\n",
    "def funcion():\n",
    "    global var\n",
    "    var = 'Ahora es una variable local'\n",
    "    print(var)\n",
    "\n",
    "print(var)\n",
    "    \n",
    "funcion()\n",
    "\n",
    "print(var)"
   ]
  },
  {
   "cell_type": "markdown",
   "metadata": {
    "id": "E7vSA4CwIibA"
   },
   "source": [
    "## Ejercicios\n",
    "\n",
    "Como práctica le recomendamos hacer estos ejercicios con funciones."
   ]
  },
  {
   "cell_type": "markdown",
   "metadata": {
    "id": "hWB5vZ4ORKHl"
   },
   "source": [
    "1. Teoréma de Pitágoras. Cree una función `hipotenusa` que calcule la medida de la hipotenusa de un triángulo rectángulo recibiendo el valor de los dos catetos. \n"
   ]
  },
  {
   "cell_type": "code",
   "execution_count": null,
   "metadata": {
    "id": "dfnsOiPcRuzO"
   },
   "outputs": [],
   "source": [
    "def hipotenusa(cateto1, cateto2):\n",
    "  return 0    # su código aquí"
   ]
  },
  {
   "cell_type": "markdown",
   "metadata": {
    "id": "-9SPpnMCRwLU"
   },
   "source": [
    "2. Email válido o inválido. Cree una función que capture el **email** de alguien, y buscando el carácter **\"@\"** identifique si la dirección es válida o no."
   ]
  },
  {
   "cell_type": "code",
   "execution_count": null,
   "metadata": {
    "id": "i5cM1_3BSIHL"
   },
   "outputs": [],
   "source": [
    "def validarEmail(email):\n",
    "  return True     # su código aquí"
   ]
  },
  {
   "cell_type": "markdown",
   "metadata": {
    "id": "clpWTVhmUMLb"
   },
   "source": [
    "3. Las siguientes son distancias aproximadas entre el planeta tierra y otros planetas del sistema solar. Cree una función que pregunte al usuario cuál distancia quiere conocer y le imprima el dato como respuesta. Si el usuario pregunta por un planeta no conocido la respuesta es algo como `\"Lo siento, no tengo ese planeta en la base de datos.\"` \n",
    "\n",
    "|Planeta | Distancia (Km)\n",
    "---|---\n",
    "mercurio| 91.690.000\n",
    "venus | 42.000.000\n",
    "marte | 69.000.000\n",
    "júpiter | 591.000.000\n",
    "saturno |1.200.000.000\n",
    "\n"
   ]
  },
  {
   "cell_type": "code",
   "execution_count": null,
   "metadata": {
    "id": "BnA_dRAXVzyj"
   },
   "outputs": [],
   "source": [
    "def distanciaConLaTierra():\n",
    "  distancia = 0\n",
    "  planeta = \"\"                # haga que el usuario ingrese el nombre del planeta\n",
    "  # su código aquí\n",
    "\n",
    "  return distancia\n",
    "\n",
    "distanciaConLaTierra()"
   ]
  },
  {
   "cell_type": "markdown",
   "metadata": {
    "id": "A4PPEPvQf4f3"
   },
   "source": [
    "# Parte 10\n",
    "## Depuración y manejos de errores\n",
    "---"
   ]
  },
  {
   "cell_type": "markdown",
   "metadata": {
    "id": "r-UyuHp2kuJS"
   },
   "source": [
    "# Parte 11\n",
    "## Programación en Python con EV3\n",
    "---"
   ]
  },
  {
   "cell_type": "markdown",
   "metadata": {
    "id": "J89F1xfdk3j5"
   },
   "source": [
    "El **kit de LEGO MINDSTORMS EV3** se puede programar con Python usando **MicroPython**. LEGO MINDSTORMS proporciona la documentación completa y el código API de muestra para poder comenzar a programar con Python.\n",
    "\n",
    "Es muy fácil, solo se debe instalar la imagen **EV3 MicroPython** en cualquier **tarjeta micro SD** e iniciar el Bloque (ladrillo) EV3 desde allí para comenzar a programar de inmediato. Volver al firmware estándar de LEGO® MINDSTORMS® EV3 es igual de sencillo, solo se debe retirar del Bloque EV3 la tarjeta micro SD. \n",
    "\n",
    "\n",
    "**Pasos:**\n",
    "\n",
    "1.   Descargar y actualizar la imagen EV3 MicroPython en una tarjeta micro SD.\n",
    "2.   Insertar la tarjeta micro SD en la ranura de la tarjeta SD en el Bloque EV3 y encenderlo.\n",
    "3.   Descargar, instalar e iniciar el editor gratuito de Visual Studio Code en su computadora.\n",
    "4.   Instalar y activar la extensión LEGO Education EV3.\n",
    "5.   Conectar el Bloque EV3 a la computadora y comenzar a programar.\n",
    " \n",
    "**Documentación y firmware de MINDSTORMS EV3 Python:**\n",
    "*   [EV3 MicroPython Getting Started Guide](https://education.lego.com/v3/assets/blt293eea581807678a/bltb470b9ea6e38f8d4/5f8802fc4376310c19e33714/getting-started-with-micropython-v2_enus.pdf)\n",
    "*   [EV3 MicroPython micro SD card image](https://education.lego.com/v3/assets/blt293eea581807678a/blt9df409c9a182ab9c/5f88191a6ffd1b42dc42b8af/ev3micropythonv200sdcardimage.zip)\n",
    "*   [Documentación y programas de ejemplo en línea](https://pybricks.github.io/ev3-micropython/)\n",
    "\n",
    "\n",
    "**Fuente:**\n",
    "\n",
    "LEGO® MINDSTORMS® Education EV3. URL: https://education.lego.com/en-us/product-resources/mindstorms-ev3/teacher-resources/python-for-ev3."
   ]
  }
 ],
 "metadata": {
  "colab": {
   "collapsed_sections": [
    "o37BedFaf4fz"
   ],
   "provenance": [],
   "toc_visible": true
  },
  "kernelspec": {
   "display_name": "Python 3",
   "language": "python",
   "name": "python3"
  },
  "language_info": {
   "codemirror_mode": {
    "name": "ipython",
    "version": 3
   },
   "file_extension": ".py",
   "mimetype": "text/x-python",
   "name": "python",
   "nbconvert_exporter": "python",
   "pygments_lexer": "ipython3",
   "version": "3.8.5"
  }
 },
 "nbformat": 4,
 "nbformat_minor": 4
}
