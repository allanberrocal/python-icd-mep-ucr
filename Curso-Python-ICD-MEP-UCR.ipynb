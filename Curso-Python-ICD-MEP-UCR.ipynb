{
 "cells": [
  {
   "cell_type": "markdown",
   "metadata": {},
   "source": [
    "<!-- <img src=\"https://drive.google.com/uc?export=view&id=1WRHtVSntZidUl2yXqZHxpcF9JMyYr_HC\" alt=\"Intro\" style=\"height: 100px; width:100px;\"/>\n",
    "-->\n",
    "\n",
    "<img src=\"images/introPage.png\">"
   ]
  },
  {
   "cell_type": "markdown",
   "metadata": {},
   "source": [
    "### Descripción\n",
    "\n",
    "Creado para una capacitación a docentes del Ministerio de Educación Pública (MEP) en Costa Rica como parte un proyecto de acción social de la Universidad de Costa Rica con patrocinio del Instituto Costarricense sobre Drogas (ICD).\n",
    "\n",
    "### Responsables de la capacitación:\n",
    "\n",
    "- Kryscia Ramírez Benavides\n",
    "- Luis Quesada Quirós\n",
    "- Allan Berrocal Rojas\n",
    "\n",
    "### Créditos\n",
    "\n",
    "Esta presentación utiliza algunos materiales disponibles en internet. Se hace mención en general a los siguientes cursos:\n",
    "- [Curso básico de Python - Sergio Paredes](https://github.com/sergioparedesv/curso-basico-python)\n",
    "- [Python para principiantes - Lorena Ceballos](https://github.com/LceballosE/Python-para-Principiantes)\n",
    "- [Insituto Humai - Argentina](https://ihum.ai/)\n",
    "\n",
    "#### Otros recursos de consulta\n",
    "\n",
    "- [Python para principiantes](https://uniwebsidad.com/libros/python)\n",
    "- [Algoritmos de Programación con Python](https://uniwebsidad.com/libros/algoritmos-python)\n",
    "---"
   ]
  },
  {
   "cell_type": "markdown",
   "metadata": {},
   "source": [
    "# Agenda\n",
    "\n",
    "1. Preparación del entorno de desarrollo\n",
    "1. Introducción al lenguaje de programación \n",
    "1. Variables y tipos de datos\n",
    "1. Estructuras de datos: Listas\n",
    "1. Estructuras de control: condicionales y ciclos\n",
    "1. Operaciones aritméticas y lógicas\n",
    "1. Procesamiento de cadenas de texto\n",
    "1. Entradas y salidas\n",
    "1. Funciones\n",
    "1. Depuración y manejos de errores\n",
    "1. EV3 y Python\n",
    "\n",
    "---\n"
   ]
  },
  {
   "cell_type": "markdown",
   "metadata": {},
   "source": [
    "# Parte 1\n",
    "## Preparación del entorno de desarrollo\n",
    "---"
   ]
  },
  {
   "cell_type": "markdown",
   "metadata": {
    "jupyter": {
     "source_hidden": true
    }
   },
   "source": [
    "Para facilitar este curso vamos a utilizar algunas herramientas. Primero nos aseguraremos de que todos(as) las puedan instalar.\n",
    "\n",
    "#### Paso 1\n",
    "Obtener el archivo con el que vamos a trabajar. A este tipo de archivo se le llama `Notebook` o cuaderno. Lo puede objetner en esta dirección [python-icd-mep-ucr](https://github.com/allanberrocal/python-icd-mep-ucr). Descargue el archivo en su computadora.\n",
    "\n",
    "#### Paso 2 \n",
    "Debe tener una cuenta de Google y acceder al espacio de [Google Colaboratory](https://colab.research.google.com/) el cual nos permite crear y ejecutar código de `Python` desde el navegador web.\n",
    "\n",
    "#### Paso 3\n",
    "Ahora solo debemos cargar el cuaderno en la página de [Google Colaboratory](https://colab.research.google.com/). Para ello de clic en el menú de **Archivo/Upload notebook** \n",
    "\n",
    "_Es posible que en este punto el sistema le solicite iniciar sesión con su cuenta de Google, favor hacerlo en este momento._\n",
    "\n",
    "Una vez que inició sesión, le aparecerá un cuadro con opciones para subir un cuaderno. Utilice la opción **Upload**. Ahora puede cargar el cuaderno que descargó en el paso #1. \n",
    "\n",
    "#### Paso 4\n",
    "Ahora podemos comenzar a utilizar el cuaderno en Google Colab. \n"
   ]
  },
  {
   "cell_type": "markdown",
   "metadata": {},
   "source": [
    "# Parte 2\n",
    "## Introducción al lenguaje de programación\n",
    "---"
   ]
  },
  {
   "cell_type": "markdown",
   "metadata": {
    "jupyter": {
     "source_hidden": true
    }
   },
   "source": [
    "Para conocer un poco de la historia de `Python` puede consultar [esta página](https://es.wikipedia.org/wiki/Historia_de_Python). La creación del lenguaje de le atribuye a [Guido van Rossum](https://es.wikipedia.org/wiki/Guido_van_Rossum) un informático Holandés. \n",
    "\n",
    "Algunas características de `Python`\n",
    "- Es un lenguaje de programación interpretado. Es decir el código de un programa escrito en `Python` no es compilado sino que es leído o interpretado por otro programa (intérprete de `Python`) que se encarga de producir las instrucciones de más bajo nivel que debe realizar el computador. \n",
    "- Es dinámicamente tipado. Es decir, las variables pueden tomar valores de distintos tipos. \n",
    "- Como lenguaje pasó por la versión 1.x, 2.x, y actualmente se encuentra en la versión 3.10.x. \n",
    "- Es uno de los lenguajes de programación más utilizados en la actualidad para diversas aplicaciones. \n",
    "\n",
    "Se puede encontrar más información sobre el lenguaje en su página oficial [python.org](https://www.python.org/).\n",
    "\n",
    "Para propósitos de aprendizaje, puede utilizar este intérprete de `Python` que se encuentra el línea [Programiz.com](https://www.programiz.com/python-programming/online-compiler/)"
   ]
  },
  {
   "cell_type": "markdown",
   "metadata": {
    "jupyter": {
     "source_hidden": true
    }
   },
   "source": [
    "#### Reglas de Python\n",
    "- Evitar espacios blancos extras\n",
    "- Comentarios en una línea (#Comentario de una línea) \n",
    "- Comentarios en múltiples líneas  (\"\"\"Comentario multilínea líneas\"\"\")\n",
    "- Identación: La identación es un término que hace referencia en darle jerarquía al código."
   ]
  },
  {
   "cell_type": "markdown",
   "metadata": {
    "jupyter": {
     "source_hidden": true
    }
   },
   "source": [
    "#### Primer programa\n",
    "\n",
    "En la celda de abajo escriba lo siguiente:\n",
    "\n",
    "``print(\"Hola mundo\")``\n",
    "\n",
    "Luego dar clic en el ícono para ejecutar la celda."
   ]
  },
  {
   "cell_type": "code",
   "execution_count": null,
   "metadata": {
    "jupyter": {
     "source_hidden": true
    }
   },
   "outputs": [],
   "source": [
    "print(\"Hola Mundo\")"
   ]
  },
  {
   "cell_type": "code",
   "execution_count": null,
   "metadata": {
    "jupyter": {
     "source_hidden": true
    }
   },
   "outputs": [],
   "source": [
    "a = 5\n",
    "b = 4\n",
    "resultado = a+b\n",
    "print(resultado)"
   ]
  },
  {
   "cell_type": "markdown",
   "metadata": {
    "id": "tz9cBZUpdLVZ",
    "jupyter": {
     "source_hidden": true
    }
   },
   "source": [
    "<div class=\"alert alert-success\" role=\"alert\">\n",
    "  Perfecto, es hora de saludar a alguien, en mi caso a <b>Ana</b>\n",
    "</div>"
   ]
  },
  {
   "cell_type": "markdown",
   "metadata": {
    "id": "goKOjBHrdLVZ",
    "jupyter": {
     "source_hidden": true
    }
   },
   "source": [
    "### Ejemplo"
   ]
  },
  {
   "cell_type": "code",
   "execution_count": null,
   "metadata": {
    "id": "BJWq-U4QdLVZ",
    "jupyter": {
     "source_hidden": true
    },
    "outputId": "021b8fbb-5634-4343-a4b8-e35c00780ac0"
   },
   "outputs": [],
   "source": [
    "print(\"Hola Ana\") # Perfecto, da clic en Run y observa lo que ocurre."
   ]
  },
  {
   "cell_type": "markdown",
   "metadata": {
    "id": "428c85DGdLVZ",
    "jupyter": {
     "source_hidden": true
    }
   },
   "source": [
    "¿Por qué el contenido del (#Perfecto, haz clic en Run y observa lo que ocurre.) no aparece en la salida? \n",
    "\n",
    "Naturalmente los comentarios son solo para los programadores, los usuarios finales no pueden verlos."
   ]
  },
  {
   "cell_type": "code",
   "execution_count": null,
   "metadata": {
    "colab": {
     "base_uri": "https://localhost:8080/",
     "height": 52
    },
    "id": "0DsXI9sndLVa",
    "jupyter": {
     "source_hidden": true
    },
    "outputId": "5acb3778-a18c-46d3-d73c-01095821950a"
   },
   "outputs": [],
   "source": [
    "print(\"Hola Alberto\") \n",
    "'''Pero este sí?, realmente no aparece para el usuario final, solo para el programador'''"
   ]
  },
  {
   "cell_type": "markdown",
   "metadata": {
    "id": "PWiUtNH3dLVa",
    "jupyter": {
     "source_hidden": true
    }
   },
   "source": [
    "<div  id=\"d\" class=\"jumbotron jumbotron-fluid\">\n",
    "  <div class=\"container\">\n",
    "    <h5 class=\"display-4\">Operaciones aritméticas básicas</h5>\n",
    "      <p class=\"lead\">En las celdas de abajo, escriba en cada una operaciones que corresponde, luego presione<b> (shit+enter)</b> para ejecutar el script:</p>\n",
    "  </div>\n",
    "</div>"
   ]
  },
  {
   "cell_type": "markdown",
   "metadata": {
    "id": "Kf0QW7wddLVa",
    "jupyter": {
     "source_hidden": true
    }
   },
   "source": [
    "<p class=\"lead\">1. Suma (2+2) </p>"
   ]
  },
  {
   "cell_type": "code",
   "execution_count": null,
   "metadata": {
    "id": "86mpgDKIdLVb",
    "jupyter": {
     "source_hidden": true
    },
    "outputId": "1eb66404-9b51-4f0d-b39b-265d0d2ea652"
   },
   "outputs": [],
   "source": []
  },
  {
   "cell_type": "markdown",
   "metadata": {
    "id": "joNNMmn1dLVb",
    "jupyter": {
     "source_hidden": true
    }
   },
   "source": [
    "<p class=\"lead\">2. Resta (2-2) </p>"
   ]
  },
  {
   "cell_type": "code",
   "execution_count": null,
   "metadata": {
    "colab": {
     "base_uri": "https://localhost:8080/"
    },
    "id": "ZoBuJK1ddLVb",
    "jupyter": {
     "source_hidden": true
    },
    "outputId": "83707ce1-6aba-4f02-847e-1647aa982d63"
   },
   "outputs": [],
   "source": []
  },
  {
   "cell_type": "markdown",
   "metadata": {
    "id": "w-a1aHsKdLVb",
    "jupyter": {
     "source_hidden": true
    }
   },
   "source": [
    "<p class=\"lead\">3. Multiplicación (2*3) </p>"
   ]
  },
  {
   "cell_type": "code",
   "execution_count": null,
   "metadata": {
    "id": "7vYYgAzhdLVc",
    "jupyter": {
     "source_hidden": true
    }
   },
   "outputs": [],
   "source": []
  },
  {
   "cell_type": "markdown",
   "metadata": {
    "id": "RXeXJVeCdLVc",
    "jupyter": {
     "source_hidden": true
    }
   },
   "source": [
    "<p class=\"lead\">4. Divisiones (2/2) </p>"
   ]
  },
  {
   "cell_type": "code",
   "execution_count": null,
   "metadata": {
    "id": "fcpigpZwdLVc",
    "jupyter": {
     "source_hidden": true
    }
   },
   "outputs": [],
   "source": []
  },
  {
   "cell_type": "markdown",
   "metadata": {
    "id": "ISKKwlzndLVc",
    "jupyter": {
     "source_hidden": true
    }
   },
   "source": [
    "<p class=\"lead\">5. Potencia (2**3) </p>"
   ]
  },
  {
   "cell_type": "code",
   "execution_count": null,
   "metadata": {
    "id": "Ai9rqtkWdLVc",
    "jupyter": {
     "source_hidden": true
    }
   },
   "outputs": [],
   "source": []
  },
  {
   "cell_type": "markdown",
   "metadata": {
    "id": "p25ks1IOdLVc",
    "jupyter": {
     "source_hidden": true
    }
   },
   "source": [
    "<p class=\"lead\">6. Raiz (4**(1/2)) </p>"
   ]
  },
  {
   "cell_type": "code",
   "execution_count": null,
   "metadata": {
    "id": "4ISVqhkZdLVd",
    "jupyter": {
     "source_hidden": true
    }
   },
   "outputs": [],
   "source": []
  },
  {
   "cell_type": "markdown",
   "metadata": {
    "id": "NrOfkjukdLVd",
    "jupyter": {
     "source_hidden": true
    }
   },
   "source": [
    "<p class=\"lead\">7. Operaciones: 2+5*3 </p>"
   ]
  },
  {
   "cell_type": "code",
   "execution_count": null,
   "metadata": {
    "id": "qsr3MP_FdLVd",
    "jupyter": {
     "source_hidden": true
    }
   },
   "outputs": [],
   "source": []
  },
  {
   "cell_type": "markdown",
   "metadata": {
    "id": "41jdiMRSdLVd",
    "jupyter": {
     "source_hidden": true
    }
   },
   "source": [
    "<p class=\"lead\">8. Operaciones: 2+2**4 </p>"
   ]
  },
  {
   "cell_type": "code",
   "execution_count": null,
   "metadata": {
    "id": "yzejKe_zdLVd",
    "jupyter": {
     "source_hidden": true
    }
   },
   "outputs": [],
   "source": []
  },
  {
   "cell_type": "markdown",
   "metadata": {
    "id": "uNowKNpfdLVd",
    "jupyter": {
     "source_hidden": true
    }
   },
   "source": [
    "Si nota que las operaciones dan resultados que no esperaba, no se preocupe. No es un error de Python.\n",
    "Se nos enseña a hacer operaciones de derecha a izquierda, pero en realidad las operaciones van de más complejas a menos\n",
    "complejas. Por eso resuelve primero las potencias o raíces, luego multiplicaciones y finalmente las sumas y restas."
   ]
  },
  {
   "cell_type": "markdown",
   "metadata": {},
   "source": [
    "# Parte 3\n",
    "## Variables y tipos de datos\n",
    "---"
   ]
  },
  {
   "cell_type": "markdown",
   "metadata": {},
   "source": [
    "En los lenguajes de programacón, una variable le permite hacer referencia a un valor con un nombre.\n",
    "Por ejemplo\n",
    "\n",
    "`x = 5`\n",
    "\n",
    "Ahora puede utilizar el nombre de la variable, `x` en lugar del valor real, `5`. Recuerde, el símbolo `=` en `Python` significa asignación, No prueba igualdad.\n",
    "\n",
    "### ¿Por qué variables?\n",
    "\n",
    "Imagine un programa para calcular el IMC (índice de masa corporal) de una persona. Este indicador se calcula a partir de las variables altura y peso. Si desea calcular el IMC para varias personas, simplemente puede cambiar el valor de las variables peso y altura y volver a realizar el cálculo. El IMC cambia en consecuencia, porque el valor del peso variable también ha cambiado."
   ]
  },
  {
   "cell_type": "code",
   "execution_count": null,
   "metadata": {},
   "outputs": [],
   "source": [
    "altura = 170\n",
    "peso = 68.7\n",
    "imc = peso / altura *2\n",
    "\n",
    "print(imc)\n",
    "\n",
    "print(peso / altura *2)"
   ]
  },
  {
   "cell_type": "markdown",
   "metadata": {},
   "source": [
    "### Nombres de variables \n",
    "\n",
    "Se recomienda utilizar nombres descriptivos y en minúsculas. Para nombres compuestos, es usual separar las palabras por guiones bajos (por ejemplo, `primer_nombre`), o juntar palabras utilizando mayúsculas para la primera letra de la segunda palabra en adelante (por ejemplo, `primerNombre`). \n",
    "\n",
    "En `Python` los nombres de variables no pueden comenzar con números, ni con muchos símbolos especiales como `/&*()#!>` entre otros. El uso de guión bajo `_` sí es permitido.\n",
    "\n",
    "Antes y después del signo `=` debe haber un (1) solo un espacio en blanco. Por ejemplo:\n",
    "\n",
    "`primerNombre = Marta`\n",
    "\n",
    "Los lenguajes de programación tienen restricciones en cuanto al nombre que puede tener una variable. A esto se le conoce como palabras reservadas, es decir, son reservadas para el lenguaje. Si se utilizan como nombres de variables el programa genera un error. En `Python`, algunas de estas palabras son las siguientes:\n",
    "\n",
    "```\n",
    "and \n",
    "continue \n",
    "else \n",
    "for \n",
    "import \n",
    "not \n",
    "raise\n",
    "assert \n",
    "def \n",
    "except \n",
    "from \n",
    "in \n",
    "or \n",
    "return\n",
    "break \n",
    "del \n",
    "exec \n",
    "global \n",
    "is \n",
    "pass \n",
    "try\n",
    "class \n",
    "elif \n",
    "finally \n",
    "if \n",
    "lambda \n",
    "print\n",
    "```\n",
    "\n",
    "Intente utilizar una palabra reservada como nombre de una variable. "
   ]
  },
  {
   "cell_type": "code",
   "execution_count": null,
   "metadata": {},
   "outputs": [],
   "source": [
    "class = 2"
   ]
  },
  {
   "cell_type": "markdown",
   "metadata": {},
   "source": [
    "Note que las palabras reservadas generalmente cambian de color cuando estamos escribiendo código fuente en un editor de texto que reconoce el lenguaje de programación.\n",
    "\n",
    "La variable anterior `class` está en verde, pero la siguiente no lo está. Eso nos ayuda a saber si un nombre es un palabra reservada del lenguaje. "
   ]
  },
  {
   "cell_type": "code",
   "execution_count": null,
   "metadata": {},
   "outputs": [],
   "source": [
    "clase = 2"
   ]
  },
  {
   "cell_type": "markdown",
   "metadata": {},
   "source": [
    "### Tipos de variables \n",
    "\n",
    "Existen distintos tipos de variables. El tipo de una variable nos da una idea de los posibles valores que esta puede tomar. Veamos algunas. \n",
    "\n",
    "- `int`: entero\n",
    "- `float`: punto flotante\n",
    "- `str`: cadena de caracteres\n",
    "- `bool`: booleano, 0, 1, True o False\n",
    "\n",
    "Y estructuras de datos, como:\n",
    "\n",
    "- `list`: lista de elementos (de cualquier tipo, incluida otra lista)\n",
    "- `dict`: \"diccionario\", conjunto de pares llave:valor\n",
    "\n",
    "Algunos ejemplos:"
   ]
  },
  {
   "cell_type": "code",
   "execution_count": null,
   "metadata": {},
   "outputs": [],
   "source": [
    "edad = 40\n",
    "peso = 3.4\n",
    "saludo ='Hola mundo!'\n",
    "condicion = True\n",
    "\n",
    "print(variableInt)"
   ]
  },
  {
   "cell_type": "markdown",
   "metadata": {},
   "source": [
    "A continuación utilice la función `print(X)` para imprimir el contenido de las variables que creó anteriormente. "
   ]
  },
  {
   "cell_type": "code",
   "execution_count": null,
   "metadata": {},
   "outputs": [],
   "source": [
    "# imprimir distintos tipos de variables\n",
    "print(edad)"
   ]
  },
  {
   "cell_type": "markdown",
   "metadata": {},
   "source": [
    "La función `type()` nos permite conocer el tipo de una variable. Ejemplo:"
   ]
  },
  {
   "cell_type": "code",
   "execution_count": null,
   "metadata": {},
   "outputs": [],
   "source": [
    "type(saludo)"
   ]
  },
  {
   "cell_type": "markdown",
   "metadata": {},
   "source": [
    "A continuación utilice la función `type(X)` para imprimir el tipo de las variables que creó anteriormente."
   ]
  },
  {
   "cell_type": "code",
   "execution_count": null,
   "metadata": {},
   "outputs": [],
   "source": []
  },
  {
   "cell_type": "markdown",
   "metadata": {},
   "source": [
    "### Conversión de variables \n",
    "\n",
    "Algunas variables pueden cambiar de tipo. A esto le llamamos convertir una variable de su tipo original a otro tipo destino. Veamos ejemplos"
   ]
  },
  {
   "cell_type": "code",
   "execution_count": null,
   "metadata": {},
   "outputs": [],
   "source": [
    "edad = 20         # tipo int e.g. años\n",
    "peso = 65.8       # tipo float e.g. kilogramos\n",
    "mes = \"agosto\"    # tipo string e.g. mes\n",
    "esDeNoche = False # tipo bool "
   ]
  },
  {
   "cell_type": "code",
   "execution_count": null,
   "metadata": {},
   "outputs": [],
   "source": [
    "type(edad)"
   ]
  },
  {
   "cell_type": "markdown",
   "metadata": {},
   "source": [
    "Es posible cambiar el tipo de una variable. Por ejemplo, convertir una una variable `float` a `int`, etc. \n",
    "El lenjuage dispone de ciertas funciones para realizar la conversión. Algunos ejemplos:\n",
    "\n",
    "- `int()` Convierte a entero\n",
    "- `float()` Convierte a flotante\n",
    "- `str()` Convierte a string\n",
    "\n"
   ]
  },
  {
   "cell_type": "code",
   "execution_count": null,
   "metadata": {},
   "outputs": [],
   "source": [
    "edad = float(edad)\n",
    "type(edad)"
   ]
  },
  {
   "cell_type": "code",
   "execution_count": null,
   "metadata": {},
   "outputs": [],
   "source": [
    "peso = int(peso)\n",
    "type(peso)"
   ]
  },
  {
   "cell_type": "code",
   "execution_count": null,
   "metadata": {},
   "outputs": [],
   "source": [
    "mes = str(edad)\n",
    "type(mes)"
   ]
  },
  {
   "cell_type": "markdown",
   "metadata": {},
   "source": [
    "Note que ahora la variable `peso` es de tipo `int`, por ende, no puede almacenar un número con decimales. Anteriormente la variable `peso` tenía el valor `65.8`. Imprima la variable `peso` después de convertirla a `int` y note como su valor a cambiado. "
   ]
  },
  {
   "cell_type": "code",
   "execution_count": null,
   "metadata": {},
   "outputs": [],
   "source": [
    "print(peso)"
   ]
  },
  {
   "cell_type": "markdown",
   "metadata": {},
   "source": [
    "En programación se debe tener cuidado con la transformación de variables para evitar errores en los programas. "
   ]
  },
  {
   "cell_type": "markdown",
   "metadata": {},
   "source": [
    "La siguiente función de conversión se comporta de manera especial.\n",
    "\n",
    "- `bool()`\n",
    "\n",
    "Por ejemplo, en esta línea\n",
    "\n",
    "`edad = bool(edad)`\n",
    "\n",
    "Convierte la variable `edad` a tipo `bool`. \n",
    "\n",
    "Y en esta línea\n",
    "\n",
    "`bool(edad)`\n",
    "\n",
    "Examina el valor de la variable `edad` y retorna `False` si su valor es cero, y retorna `True` en cualquier otros caso. \n",
    "\n"
   ]
  },
  {
   "cell_type": "code",
   "execution_count": null,
   "metadata": {},
   "outputs": [],
   "source": [
    "bool(edad)"
   ]
  },
  {
   "cell_type": "markdown",
   "metadata": {},
   "source": [
    "# Parte 4\n",
    "## Estructuras de datos: Listas\n",
    "---"
   ]
  },
  {
   "cell_type": "markdown",
   "metadata": {},
   "source": [
    "# Parte 5\n",
    "## Estructuras de control: condicionales y ciclos\n",
    "---"
   ]
  },
  {
   "cell_type": "markdown",
   "metadata": {},
   "source": [
    "# Parte 6\n",
    "## Operaciones aritméticas y lógicas\n",
    "---"
   ]
  },
  {
   "cell_type": "markdown",
   "metadata": {},
   "source": [
    "# Parte 7\n",
    "## Procesamiento de cadenas de texto\n",
    "---"
   ]
  },
  {
   "cell_type": "markdown",
   "metadata": {},
   "source": [
    "# Parte 8\n",
    "## Entradas y salidas\n",
    "---"
   ]
  },
  {
   "cell_type": "markdown",
   "metadata": {},
   "source": [
    "# Parte 9\n",
    "## Funciones\n",
    "---"
   ]
  },
  {
   "cell_type": "markdown",
   "metadata": {},
   "source": [
    "# Parte 10\n",
    "## Depuración y manejos de errores\n",
    "---"
   ]
  },
  {
   "cell_type": "code",
   "execution_count": null,
   "metadata": {},
   "outputs": [],
   "source": []
  }
 ],
 "metadata": {
  "kernelspec": {
   "display_name": "Python 3",
   "language": "python",
   "name": "python3"
  },
  "language_info": {
   "codemirror_mode": {
    "name": "ipython",
    "version": 3
   },
   "file_extension": ".py",
   "mimetype": "text/x-python",
   "name": "python",
   "nbconvert_exporter": "python",
   "pygments_lexer": "ipython3",
   "version": "3.8.5"
  }
 },
 "nbformat": 4,
 "nbformat_minor": 4
}
